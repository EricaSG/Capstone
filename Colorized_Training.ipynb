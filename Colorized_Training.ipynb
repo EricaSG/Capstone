{
 "cells": [
  {
   "cell_type": "markdown",
   "metadata": {},
   "source": [
    "## Import Necessary Librairies"
   ]
  },
  {
   "cell_type": "code",
   "execution_count": 1,
   "metadata": {},
   "outputs": [
    {
     "name": "stderr",
     "output_type": "stream",
     "text": [
      "Using TensorFlow backend.\n",
      "\n",
      "Bad key \"text.kerning_factor\" on line 4 in\n",
      "/Applications/anaconda3/envs/learn-env/lib/python3.6/site-packages/matplotlib/mpl-data/stylelib/_classic_test_patch.mplstyle.\n",
      "You probably need to get an updated matplotlibrc file from\n",
      "https://github.com/matplotlib/matplotlib/blob/v3.1.3/matplotlibrc.template\n",
      "or from the matplotlib source distribution\n"
     ]
    }
   ],
   "source": [
    "import warnings\n",
    "warnings.filterwarnings('ignore')\n",
    "from keras.preprocessing.image import ImageDataGenerator, array_to_img, img_to_array, load_img\n",
    "import numpy as np\n",
    "import os\n",
    "import matplotlib.pyplot as plt\n",
    "%matplotlib inline\n",
    "import keras\n",
    "from keras import layers\n",
    "from keras.models import Sequential\n",
    "from keras.layers import Dense\n",
    "from sklearn.model_selection import train_test_split\n",
    "from sklearn.metrics import mean_squared_error\n",
    "from sklearn.model_selection import cross_val_predict\n",
    "from keras import regularizers\n",
    "from keras.wrappers.scikit_learn import KerasRegressor\n",
    "from keras.layers import Convolution2D\n",
    "from keras.layers import MaxPooling2D\n",
    "from keras.layers import Flatten\n",
    "from keras.layers import Dense\n",
    "from keras.callbacks import EarlyStopping, ModelCheckpoint\n",
    "from keras import regularizers\n",
    "from sklearn.metrics import classification_report\n",
    "from sklearn.metrics import confusion_matrix\n",
    "import itertools\n",
    "from keras.applications.vgg16 import preprocess_input\n",
    "from keras.applications.vgg16 import VGG16\n",
    "from keras.optimizers import Adam, Adadelta, Adagrad, SGD, RMSprop\n",
    "from keras import initializers\n",
    "from keras.layers import Dropout\n",
    "from keras.constraints import unit_norm, min_max_norm\n",
    "from keras.applications.inception_v3 import InceptionV3"
   ]
  },
  {
   "cell_type": "markdown",
   "metadata": {},
   "source": [
    "# Add Colorized Images to Colorized_Images Directory"
   ]
  },
  {
   "cell_type": "markdown",
   "metadata": {},
   "source": [
    "## List Directories"
   ]
  },
  {
   "cell_type": "code",
   "execution_count": 2,
   "metadata": {},
   "outputs": [],
   "source": [
    "# Get the Directory Path of the Train, Validation, and Test Images\n",
    "train_color = 'Colorized_Images/c_train/'\n",
    "val_color = 'Colorized_Images/c_val/'\n",
    "test_color = 'Colorized_Images/c_test/'"
   ]
  },
  {
   "cell_type": "code",
   "execution_count": 64,
   "metadata": {},
   "outputs": [],
   "source": [
    "ctrain_norm = 'Colorized_Images/c_train/NORMAL/'\n",
    "ctrain_pneu = 'Colorized_Images/c_train/PNEUMONIA/'\n",
    "ctest_norm = 'Colorized_Images/c_test/NORMAL/'\n",
    "ctest_pneu = 'Colorized_Images/c_test/PNEUMONIA/'"
   ]
  },
  {
   "cell_type": "code",
   "execution_count": 3,
   "metadata": {},
   "outputs": [],
   "source": [
    "# Establish the criteria for data augementation\n",
    "datagen = ImageDataGenerator(\n",
    "            rotation_range = 0,\n",
    "            width_shift_range = 0,\n",
    "            height_shift_range = 0,\n",
    "            rescale = None,\n",
    "            shear_range = 0,\n",
    "            zoom_range = 0,\n",
    "            horizontal_flip = False,\n",
    "            fill_mode = 'nearest')"
   ]
  },
  {
   "cell_type": "markdown",
   "metadata": {},
   "source": [
    "## Increase Train Normal Images to 7600"
   ]
  },
  {
   "cell_type": "code",
   "execution_count": 92,
   "metadata": {},
   "outputs": [],
   "source": [
    "# Select a random normal image to duplicate. Put the image path into load_img\n",
    "ctrain_normimg = load_img('Colorized_Images/c_train/NORMAL/normal2_1.jpeg')"
   ]
  },
  {
   "cell_type": "code",
   "execution_count": 93,
   "metadata": {},
   "outputs": [
    {
     "data": {
      "text/plain": [
       "<bound method Image.getpixel of <PIL.PngImagePlugin.PngImageFile image mode=RGB size=1805x1421 at 0x7F7FCE04B0F0>>"
      ]
     },
     "execution_count": 93,
     "metadata": {},
     "output_type": "execute_result"
    }
   ],
   "source": [
    "# Get the size of the image\n",
    "ctrain_normimg.getpixel"
   ]
  },
  {
   "cell_type": "code",
   "execution_count": 94,
   "metadata": {},
   "outputs": [],
   "source": [
    "ctrain_normarr = img_to_array(ctrain_normimg)"
   ]
  },
  {
   "cell_type": "code",
   "execution_count": 95,
   "metadata": {},
   "outputs": [
    {
     "data": {
      "text/plain": [
       "(1421, 1805, 3)"
      ]
     },
     "execution_count": 95,
     "metadata": {},
     "output_type": "execute_result"
    }
   ],
   "source": [
    "ctrain_normarr.shape"
   ]
  },
  {
   "cell_type": "code",
   "execution_count": 96,
   "metadata": {},
   "outputs": [
    {
     "data": {
      "text/plain": [
       "(1, 1421, 1805, 3)"
      ]
     },
     "execution_count": 96,
     "metadata": {},
     "output_type": "execute_result"
    }
   ],
   "source": [
    "# Reshape to a (1 X ) array\n",
    "ctrain_normarr = ctrain_normarr.reshape((1,) + ctrain_normarr.shape)\n",
    "ctrain_normarr.shape"
   ]
  },
  {
   "cell_type": "code",
   "execution_count": 112,
   "metadata": {},
   "outputs": [
    {
     "name": "stdout",
     "output_type": "stream",
     "text": [
      "1520 duplicates of normal2_1 have been generated at Colorized_Images/c_train/NORMAL/\n"
     ]
    }
   ],
   "source": [
    "count = 0\n",
    "for batch in datagen.flow(ctrain_normarr, batch_size=76, save_to_dir=ctrain_norm, save_prefix='IM', save_format='jpeg'):\n",
    "    count += 1\n",
    "    if count == 760:\n",
    "        break\n",
    "        \n",
    "print('1520 duplicates of normal2_1 have been generated at', ctrain_norm)"
   ]
  },
  {
   "cell_type": "code",
   "execution_count": 99,
   "metadata": {},
   "outputs": [],
   "source": [
    "# Select a random normal image to duplicate. Put the image path into load_img\n",
    "ctrain_normimg1 = load_img('Colorized_Images/c_train/NORMAL/normal9.jpeg')"
   ]
  },
  {
   "cell_type": "code",
   "execution_count": 100,
   "metadata": {},
   "outputs": [
    {
     "data": {
      "text/plain": [
       "<bound method Image.getpixel of <PIL.PngImagePlugin.PngImageFile image mode=RGB size=2340x2431 at 0x7F7F94E04A20>>"
      ]
     },
     "execution_count": 100,
     "metadata": {},
     "output_type": "execute_result"
    }
   ],
   "source": [
    "# Get the size of the image\n",
    "ctrain_normimg1.getpixel"
   ]
  },
  {
   "cell_type": "code",
   "execution_count": 101,
   "metadata": {},
   "outputs": [],
   "source": [
    "ctrain_normarr1 = img_to_array(ctrain_normimg1)"
   ]
  },
  {
   "cell_type": "code",
   "execution_count": 102,
   "metadata": {},
   "outputs": [
    {
     "data": {
      "text/plain": [
       "(2431, 2340, 3)"
      ]
     },
     "execution_count": 102,
     "metadata": {},
     "output_type": "execute_result"
    }
   ],
   "source": [
    "ctrain_normarr1.shape"
   ]
  },
  {
   "cell_type": "code",
   "execution_count": 103,
   "metadata": {},
   "outputs": [
    {
     "data": {
      "text/plain": [
       "(1, 2431, 2340, 3)"
      ]
     },
     "execution_count": 103,
     "metadata": {},
     "output_type": "execute_result"
    }
   ],
   "source": [
    "# Reshape to a (1 X ) array\n",
    "ctrain_normarr1 = ctrain_normarr1.reshape((1,) + ctrain_normarr1.shape)\n",
    "ctrain_normarr1.shape"
   ]
  },
  {
   "cell_type": "code",
   "execution_count": 113,
   "metadata": {
    "scrolled": true
   },
   "outputs": [
    {
     "name": "stdout",
     "output_type": "stream",
     "text": [
      "1520 duplicates of normal9 have been generated at Colorized_Images/c_train/NORMAL/\n"
     ]
    }
   ],
   "source": [
    "count = 0\n",
    "for batch in datagen.flow(ctrain_normarr1, batch_size=76, save_to_dir=ctrain_norm, save_prefix='IM', save_format='jpeg'):\n",
    "    count += 1\n",
    "    if count == 760:\n",
    "        break\n",
    "        \n",
    "print('1520 duplicates of normal9 have been generated at', ctrain_norm)"
   ]
  },
  {
   "cell_type": "code",
   "execution_count": 106,
   "metadata": {},
   "outputs": [],
   "source": [
    "# Select a random normal image to duplicate. Put the image path into load_img\n",
    "ctrain_normimg2 = load_img('Colorized_Images/c_train/NORMAL/normal6.jpeg')"
   ]
  },
  {
   "cell_type": "code",
   "execution_count": 107,
   "metadata": {},
   "outputs": [
    {
     "data": {
      "text/plain": [
       "<bound method Image.getpixel of <PIL.PngImagePlugin.PngImageFile image mode=RGB size=1400x1125 at 0x7F7FCE323550>>"
      ]
     },
     "execution_count": 107,
     "metadata": {},
     "output_type": "execute_result"
    }
   ],
   "source": [
    "# Get the size of the image\n",
    "ctrain_normimg2.getpixel"
   ]
  },
  {
   "cell_type": "code",
   "execution_count": 108,
   "metadata": {},
   "outputs": [],
   "source": [
    "ctrain_normarr2 = img_to_array(ctrain_normimg2)"
   ]
  },
  {
   "cell_type": "code",
   "execution_count": 109,
   "metadata": {},
   "outputs": [
    {
     "data": {
      "text/plain": [
       "(1125, 1400, 3)"
      ]
     },
     "execution_count": 109,
     "metadata": {},
     "output_type": "execute_result"
    }
   ],
   "source": [
    "ctrain_normarr2.shape"
   ]
  },
  {
   "cell_type": "code",
   "execution_count": 110,
   "metadata": {},
   "outputs": [
    {
     "data": {
      "text/plain": [
       "(1, 1125, 1400, 3)"
      ]
     },
     "execution_count": 110,
     "metadata": {},
     "output_type": "execute_result"
    }
   ],
   "source": [
    "# Reshape to a (1 X ) array\n",
    "ctrain_normarr2 = ctrain_normarr2.reshape((1,) + ctrain_normarr2.shape)\n",
    "ctrain_normarr2.shape"
   ]
  },
  {
   "cell_type": "code",
   "execution_count": 114,
   "metadata": {},
   "outputs": [
    {
     "name": "stdout",
     "output_type": "stream",
     "text": [
      "1520 duplicates of normal6 have been generated at Colorized_Images/c_train/NORMAL/\n"
     ]
    }
   ],
   "source": [
    "count = 0\n",
    "for batch in datagen.flow(ctrain_normarr2, batch_size=76, save_to_dir=ctrain_norm, save_prefix='IM', save_format='jpeg'):\n",
    "    count += 1\n",
    "    if count == 760:\n",
    "        break\n",
    "        \n",
    "print('1520 duplicates of normal6 have been generated at', ctrain_norm)"
   ]
  },
  {
   "cell_type": "code",
   "execution_count": 122,
   "metadata": {},
   "outputs": [],
   "source": [
    "# Select a random normal image to duplicate. Put the image path into load_img\n",
    "ctrain_normimg3 = load_img('Colorized_Images/c_train/NORMAL/normal7.jpeg')"
   ]
  },
  {
   "cell_type": "code",
   "execution_count": 123,
   "metadata": {},
   "outputs": [
    {
     "data": {
      "text/plain": [
       "<bound method Image.getpixel of <PIL.PngImagePlugin.PngImageFile image mode=RGB size=1805x1421 at 0x7F7FCE5FBDD8>>"
      ]
     },
     "execution_count": 123,
     "metadata": {},
     "output_type": "execute_result"
    }
   ],
   "source": [
    "# Get the size of the image\n",
    "ctrain_normimg3.getpixel"
   ]
  },
  {
   "cell_type": "code",
   "execution_count": 124,
   "metadata": {},
   "outputs": [
    {
     "data": {
      "text/plain": [
       "(1421, 1805, 3)"
      ]
     },
     "execution_count": 124,
     "metadata": {},
     "output_type": "execute_result"
    }
   ],
   "source": [
    "ctrain_normarr3 = img_to_array(ctrain_normimg3)\n",
    "ctrain_normarr3.shape"
   ]
  },
  {
   "cell_type": "code",
   "execution_count": 126,
   "metadata": {},
   "outputs": [
    {
     "data": {
      "text/plain": [
       "(1, 1421, 1805, 3)"
      ]
     },
     "execution_count": 126,
     "metadata": {},
     "output_type": "execute_result"
    }
   ],
   "source": [
    "# Reshape to a (1 X ) array\n",
    "ctrain_normarr3 = ctrain_normarr3.reshape((1,) + ctrain_normarr3.shape)\n",
    "ctrain_normarr3.shape"
   ]
  },
  {
   "cell_type": "code",
   "execution_count": 127,
   "metadata": {},
   "outputs": [
    {
     "name": "stdout",
     "output_type": "stream",
     "text": [
      "1520 duplicates of normal7 have been generated at Colorized_Images/c_train/NORMAL/\n"
     ]
    }
   ],
   "source": [
    "count = 0\n",
    "for batch in datagen.flow(ctrain_normarr3, batch_size=304, save_to_dir=ctrain_norm, save_prefix='IM', save_format='jpeg'):\n",
    "    count += 1\n",
    "    if count == 1520:\n",
    "        break\n",
    "        \n",
    "print('1520 duplicates of normal7 have been generated at', ctrain_norm)"
   ]
  },
  {
   "cell_type": "code",
   "execution_count": 128,
   "metadata": {},
   "outputs": [],
   "source": [
    "# Select a random normal image to duplicate. Put the image path into load_img\n",
    "ctrain_normimg4 = load_img('Colorized_Images/c_train/NORMAL/normal4.jpeg')"
   ]
  },
  {
   "cell_type": "code",
   "execution_count": 129,
   "metadata": {
    "scrolled": true
   },
   "outputs": [
    {
     "data": {
      "text/plain": [
       "<bound method Image.getpixel of <PIL.PngImagePlugin.PngImageFile image mode=RGB size=1778x1473 at 0x7F7F988DA4A8>>"
      ]
     },
     "execution_count": 129,
     "metadata": {},
     "output_type": "execute_result"
    }
   ],
   "source": [
    "# Get the size of the image\n",
    "ctrain_normimg4.getpixel"
   ]
  },
  {
   "cell_type": "code",
   "execution_count": 130,
   "metadata": {},
   "outputs": [
    {
     "data": {
      "text/plain": [
       "(1473, 1778, 3)"
      ]
     },
     "execution_count": 130,
     "metadata": {},
     "output_type": "execute_result"
    }
   ],
   "source": [
    "ctrain_normarr4 = img_to_array(ctrain_normimg4)\n",
    "ctrain_normarr4.shape"
   ]
  },
  {
   "cell_type": "code",
   "execution_count": 131,
   "metadata": {},
   "outputs": [
    {
     "data": {
      "text/plain": [
       "(1, 1473, 1778, 3)"
      ]
     },
     "execution_count": 131,
     "metadata": {},
     "output_type": "execute_result"
    }
   ],
   "source": [
    "# Reshape to a (1 X ) array\n",
    "ctrain_normarr4 = ctrain_normarr4.reshape((1,) + ctrain_normarr4.shape)\n",
    "ctrain_normarr4.shape"
   ]
  },
  {
   "cell_type": "code",
   "execution_count": 133,
   "metadata": {},
   "outputs": [
    {
     "name": "stdout",
     "output_type": "stream",
     "text": [
      "1520 duplicates of normal4 have been generated at Colorized_Images/c_train/NORMAL/\n"
     ]
    }
   ],
   "source": [
    "count = 0\n",
    "for batch in datagen.flow(ctrain_normarr4, batch_size=340, save_to_dir=ctrain_norm, save_prefix='IM', save_format='jpeg'):\n",
    "    count += 1\n",
    "    if count == 1520:\n",
    "        break\n",
    "        \n",
    "print('1520 duplicates of normal4 have been generated at', ctrain_norm)"
   ]
  },
  {
   "cell_type": "code",
   "execution_count": 134,
   "metadata": {},
   "outputs": [],
   "source": [
    "# Select a random normal image to duplicate. Put the image path into load_img\n",
    "ctrain_normimg5 = load_img('Colorized_Images/c_train/NORMAL/normal5.jpeg')"
   ]
  },
  {
   "cell_type": "code",
   "execution_count": 135,
   "metadata": {},
   "outputs": [
    {
     "data": {
      "text/plain": [
       "<bound method Image.getpixel of <PIL.PngImagePlugin.PngImageFile image mode=RGB size=2056x1793 at 0x7F7F98910550>>"
      ]
     },
     "execution_count": 135,
     "metadata": {},
     "output_type": "execute_result"
    }
   ],
   "source": [
    "# Get the size of the image\n",
    "ctrain_normimg5.getpixel"
   ]
  },
  {
   "cell_type": "code",
   "execution_count": 136,
   "metadata": {},
   "outputs": [
    {
     "data": {
      "text/plain": [
       "(1793, 2056, 3)"
      ]
     },
     "execution_count": 136,
     "metadata": {},
     "output_type": "execute_result"
    }
   ],
   "source": [
    "ctrain_normarr5 = img_to_array(ctrain_normimg5)\n",
    "ctrain_normarr5.shape"
   ]
  },
  {
   "cell_type": "code",
   "execution_count": 137,
   "metadata": {},
   "outputs": [
    {
     "data": {
      "text/plain": [
       "(1, 1793, 2056, 3)"
      ]
     },
     "execution_count": 137,
     "metadata": {},
     "output_type": "execute_result"
    }
   ],
   "source": [
    "# Reshape to a (1 X ) array\n",
    "ctrain_normarr5 = ctrain_normarr5.reshape((1,) + ctrain_normarr5.shape)\n",
    "ctrain_normarr5.shape"
   ]
  },
  {
   "cell_type": "code",
   "execution_count": 138,
   "metadata": {},
   "outputs": [
    {
     "name": "stdout",
     "output_type": "stream",
     "text": [
      "1520 duplicates of normal5 have been generated at Colorized_Images/c_train/NORMAL/\n"
     ]
    }
   ],
   "source": [
    "count = 0\n",
    "for batch in datagen.flow(ctrain_normarr5, batch_size=340, save_to_dir=ctrain_norm, save_prefix='IM', save_format='jpeg'):\n",
    "    count += 1\n",
    "    if count == 1520:\n",
    "        break\n",
    "        \n",
    "print('1520 duplicates of normal5 have been generated at', ctrain_norm)"
   ]
  },
  {
   "cell_type": "code",
   "execution_count": 141,
   "metadata": {},
   "outputs": [],
   "source": [
    "# Select a random normal image to duplicate. Put the image path into load_img\n",
    "ctrain_normimg6 = load_img('Colorized_Images/c_train/NORMAL/normal1_2.jpeg')"
   ]
  },
  {
   "cell_type": "code",
   "execution_count": 142,
   "metadata": {},
   "outputs": [
    {
     "data": {
      "text/plain": [
       "<bound method Image.getpixel of <PIL.PngImagePlugin.PngImageFile image mode=RGB size=1500x1194 at 0x7F7F989334E0>>"
      ]
     },
     "execution_count": 142,
     "metadata": {},
     "output_type": "execute_result"
    }
   ],
   "source": [
    "# Get the size of the image\n",
    "ctrain_normimg6.getpixel"
   ]
  },
  {
   "cell_type": "code",
   "execution_count": 144,
   "metadata": {},
   "outputs": [
    {
     "data": {
      "text/plain": [
       "(1194, 1500, 3)"
      ]
     },
     "execution_count": 144,
     "metadata": {},
     "output_type": "execute_result"
    }
   ],
   "source": [
    "ctrain_normarr6 = img_to_array(ctrain_normimg6)\n",
    "ctrain_normarr6.shape"
   ]
  },
  {
   "cell_type": "code",
   "execution_count": 145,
   "metadata": {},
   "outputs": [
    {
     "data": {
      "text/plain": [
       "(1, 1194, 1500, 3)"
      ]
     },
     "execution_count": 145,
     "metadata": {},
     "output_type": "execute_result"
    }
   ],
   "source": [
    "# Reshape to a (1 X ) array\n",
    "ctrain_normarr6 = ctrain_normarr6.reshape((1,) + ctrain_normarr6.shape)\n",
    "ctrain_normarr6.shape"
   ]
  },
  {
   "cell_type": "code",
   "execution_count": 147,
   "metadata": {},
   "outputs": [
    {
     "name": "stdout",
     "output_type": "stream",
     "text": [
      "1520 duplicates of normal1_2 have been generated at Colorized_Images/c_train/NORMAL/\n"
     ]
    }
   ],
   "source": [
    "count = 0\n",
    "for batch in datagen.flow(ctrain_normarr6, batch_size=340, save_to_dir=ctrain_norm, save_prefix='IM', save_format='jpeg'):\n",
    "    count += 1\n",
    "    if count == 1520:\n",
    "        break\n",
    "        \n",
    "print('1520 duplicates of normal1_2 have been generated at', ctrain_norm)"
   ]
  },
  {
   "cell_type": "code",
   "execution_count": 148,
   "metadata": {},
   "outputs": [],
   "source": [
    "# Select a random normal image to duplicate. Put the image path into load_img\n",
    "ctrain_normimg7 = load_img('Colorized_Images/c_train/NORMAL/normal11.jpeg')"
   ]
  },
  {
   "cell_type": "code",
   "execution_count": 149,
   "metadata": {},
   "outputs": [
    {
     "data": {
      "text/plain": [
       "<bound method Image.getpixel of <PIL.PngImagePlugin.PngImageFile image mode=RGB size=1778x1473 at 0x7F7F94F7D2E8>>"
      ]
     },
     "execution_count": 149,
     "metadata": {},
     "output_type": "execute_result"
    }
   ],
   "source": [
    "# Get the size of the image\n",
    "ctrain_normimg7.getpixel"
   ]
  },
  {
   "cell_type": "code",
   "execution_count": 150,
   "metadata": {},
   "outputs": [
    {
     "data": {
      "text/plain": [
       "(1473, 1778, 3)"
      ]
     },
     "execution_count": 150,
     "metadata": {},
     "output_type": "execute_result"
    }
   ],
   "source": [
    "ctrain_normarr7 = img_to_array(ctrain_normimg7)\n",
    "ctrain_normarr7.shape"
   ]
  },
  {
   "cell_type": "code",
   "execution_count": 151,
   "metadata": {},
   "outputs": [
    {
     "data": {
      "text/plain": [
       "(1, 1473, 1778, 3)"
      ]
     },
     "execution_count": 151,
     "metadata": {},
     "output_type": "execute_result"
    }
   ],
   "source": [
    "# Reshape to a (1 X ) array\n",
    "ctrain_normarr7 = ctrain_normarr7.reshape((1,) + ctrain_normarr7.shape)\n",
    "ctrain_normarr7.shape"
   ]
  },
  {
   "cell_type": "code",
   "execution_count": 175,
   "metadata": {},
   "outputs": [
    {
     "name": "stdout",
     "output_type": "stream",
     "text": [
      "600 duplicates of normal11 have been generated at Colorized_Images/c_train/NORMAL/\n"
     ]
    }
   ],
   "source": [
    "count = 0\n",
    "for batch in datagen.flow(ctrain_normarr7, batch_size=10, save_to_dir=ctrain_norm, save_prefix='IM', save_format='jpeg'):\n",
    "    count += 1\n",
    "    if count == 50:\n",
    "        break\n",
    "        \n",
    "print('600 duplicates of normal11 have been generated at', ctrain_norm)"
   ]
  },
  {
   "cell_type": "markdown",
   "metadata": {},
   "source": [
    "## Increase Train Pneumonia Images to 7600"
   ]
  },
  {
   "cell_type": "code",
   "execution_count": 154,
   "metadata": {},
   "outputs": [],
   "source": [
    "# Select a random pneumonia image to duplicate. Put the image path into load_img\n",
    "ctrain_pneuimg = load_img('Colorized_Images/c_train/PNEUMONIA/cpneu21.jpeg')"
   ]
  },
  {
   "cell_type": "code",
   "execution_count": 155,
   "metadata": {},
   "outputs": [
    {
     "data": {
      "text/plain": [
       "<bound method Image.getpixel of <PIL.PngImagePlugin.PngImageFile image mode=RGB size=1160x752 at 0x7F7FCE5B4588>>"
      ]
     },
     "execution_count": 155,
     "metadata": {},
     "output_type": "execute_result"
    }
   ],
   "source": [
    "# Get the size of the image\n",
    "ctrain_pneuimg.getpixel"
   ]
  },
  {
   "cell_type": "code",
   "execution_count": 156,
   "metadata": {},
   "outputs": [
    {
     "data": {
      "text/plain": [
       "(752, 1160, 3)"
      ]
     },
     "execution_count": 156,
     "metadata": {},
     "output_type": "execute_result"
    }
   ],
   "source": [
    "ctrain_pneuarr = img_to_array(ctrain_pneuimg)\n",
    "ctrain_pneuarr.shape"
   ]
  },
  {
   "cell_type": "code",
   "execution_count": 157,
   "metadata": {},
   "outputs": [
    {
     "data": {
      "text/plain": [
       "(1, 752, 1160, 3)"
      ]
     },
     "execution_count": 157,
     "metadata": {},
     "output_type": "execute_result"
    }
   ],
   "source": [
    "# Reshape to a (1 X ) array\n",
    "ctrain_pneuarr = ctrain_pneuarr.reshape((1,) + ctrain_pneuarr.shape)\n",
    "ctrain_pneuarr.shape"
   ]
  },
  {
   "cell_type": "code",
   "execution_count": 158,
   "metadata": {},
   "outputs": [
    {
     "name": "stdout",
     "output_type": "stream",
     "text": [
      "1520 duplicates of cpneu21 have been generated at Colorized_Images/c_train/PNEUMONIA/\n"
     ]
    }
   ],
   "source": [
    "count = 0\n",
    "for batch in datagen.flow(ctrain_pneuarr, batch_size=500, save_to_dir=ctrain_pneu, save_prefix='IM', save_format='jpeg'):\n",
    "    count += 1\n",
    "    if count == 2000:\n",
    "        break\n",
    "        \n",
    "print('1520 duplicates of cpneu21 have been generated at', ctrain_pneu)"
   ]
  },
  {
   "cell_type": "code",
   "execution_count": 159,
   "metadata": {},
   "outputs": [],
   "source": [
    "# Select a random pneumonia image to duplicate. Put the image path into load_img\n",
    "ctrain_pneuimg1 = load_img('Colorized_Images/c_train/PNEUMONIA/cpneu1.jpeg')"
   ]
  },
  {
   "cell_type": "code",
   "execution_count": 160,
   "metadata": {},
   "outputs": [
    {
     "data": {
      "text/plain": [
       "<bound method Image.getpixel of <PIL.PngImagePlugin.PngImageFile image mode=RGB size=1040x664 at 0x7F7F988F3438>>"
      ]
     },
     "execution_count": 160,
     "metadata": {},
     "output_type": "execute_result"
    }
   ],
   "source": [
    "# Get the size of the image\n",
    "ctrain_pneuimg1.getpixel"
   ]
  },
  {
   "cell_type": "code",
   "execution_count": 161,
   "metadata": {},
   "outputs": [
    {
     "data": {
      "text/plain": [
       "(664, 1040, 3)"
      ]
     },
     "execution_count": 161,
     "metadata": {},
     "output_type": "execute_result"
    }
   ],
   "source": [
    "ctrain_pneuarr1 = img_to_array(ctrain_pneuimg1)\n",
    "ctrain_pneuarr1.shape"
   ]
  },
  {
   "cell_type": "code",
   "execution_count": 162,
   "metadata": {},
   "outputs": [
    {
     "data": {
      "text/plain": [
       "(1, 664, 1040, 3)"
      ]
     },
     "execution_count": 162,
     "metadata": {},
     "output_type": "execute_result"
    }
   ],
   "source": [
    "# Reshape to a (1 X ) array\n",
    "ctrain_pneuarr1 = ctrain_pneuarr1.reshape((1,) + ctrain_pneuarr1.shape)\n",
    "ctrain_pneuarr1.shape"
   ]
  },
  {
   "cell_type": "code",
   "execution_count": 163,
   "metadata": {},
   "outputs": [
    {
     "name": "stdout",
     "output_type": "stream",
     "text": [
      "1520 duplicates of cpneu1 have been generated at Colorized_Images/c_train/PNEUMONIA/\n"
     ]
    }
   ],
   "source": [
    "count = 0\n",
    "for batch in datagen.flow(ctrain_pneuarr1, batch_size=500, save_to_dir=ctrain_pneu, save_prefix='IM', save_format='jpeg'):\n",
    "    count += 1\n",
    "    if count == 2000:\n",
    "        break\n",
    "        \n",
    "print('1520 duplicates of cpneu1 have been generated at', ctrain_pneu)"
   ]
  },
  {
   "cell_type": "code",
   "execution_count": 164,
   "metadata": {},
   "outputs": [],
   "source": [
    "# Select a random pneumonia image to duplicate. Put the image path into load_img\n",
    "ctrain_pneuimg2 = load_img('Colorized_Images/c_train/PNEUMONIA/cpneu3.jpeg')"
   ]
  },
  {
   "cell_type": "code",
   "execution_count": 165,
   "metadata": {},
   "outputs": [
    {
     "data": {
      "text/plain": [
       "<bound method Image.getpixel of <PIL.PngImagePlugin.PngImageFile image mode=RGB size=1000x560 at 0x7F7FCE5B4320>>"
      ]
     },
     "execution_count": 165,
     "metadata": {},
     "output_type": "execute_result"
    }
   ],
   "source": [
    "# Get the size of the image\n",
    "ctrain_pneuimg2.getpixel"
   ]
  },
  {
   "cell_type": "code",
   "execution_count": 166,
   "metadata": {},
   "outputs": [
    {
     "data": {
      "text/plain": [
       "(560, 1000, 3)"
      ]
     },
     "execution_count": 166,
     "metadata": {},
     "output_type": "execute_result"
    }
   ],
   "source": [
    "ctrain_pneuarr2 = img_to_array(ctrain_pneuimg2)\n",
    "ctrain_pneuarr2.shape"
   ]
  },
  {
   "cell_type": "code",
   "execution_count": 167,
   "metadata": {},
   "outputs": [
    {
     "data": {
      "text/plain": [
       "(1, 560, 1000, 3)"
      ]
     },
     "execution_count": 167,
     "metadata": {},
     "output_type": "execute_result"
    }
   ],
   "source": [
    "# Reshape to a (1 X ) array\n",
    "ctrain_pneuarr2 = ctrain_pneuarr2.reshape((1,) + ctrain_pneuarr2.shape)\n",
    "ctrain_pneuarr2.shape"
   ]
  },
  {
   "cell_type": "code",
   "execution_count": 168,
   "metadata": {},
   "outputs": [
    {
     "name": "stdout",
     "output_type": "stream",
     "text": [
      "1520 duplicates of cpneu3 have been generated at Colorized_Images/c_train/PNEUMONIA/\n"
     ]
    }
   ],
   "source": [
    "count = 0\n",
    "for batch in datagen.flow(ctrain_pneuarr2, batch_size=500, save_to_dir=ctrain_pneu, save_prefix='IM', save_format='jpeg'):\n",
    "    count += 1\n",
    "    if count == 2000:\n",
    "        break\n",
    "        \n",
    "print('1520 duplicates of cpneu3 have been generated at', ctrain_pneu)"
   ]
  },
  {
   "cell_type": "code",
   "execution_count": 169,
   "metadata": {},
   "outputs": [],
   "source": [
    "# Select a random pneumonia image to duplicate. Put the image path into load_img\n",
    "ctrain_pneuimg3 = load_img('Colorized_Images/c_train/PNEUMONIA/cpneu4.jpeg')"
   ]
  },
  {
   "cell_type": "code",
   "execution_count": 170,
   "metadata": {},
   "outputs": [
    {
     "data": {
      "text/plain": [
       "<bound method Image.getpixel of <PIL.PngImagePlugin.PngImageFile image mode=RGB size=1048x704 at 0x7F7FCE5B4CF8>>"
      ]
     },
     "execution_count": 170,
     "metadata": {},
     "output_type": "execute_result"
    }
   ],
   "source": [
    "# Get the size of the image\n",
    "ctrain_pneuimg3.getpixel"
   ]
  },
  {
   "cell_type": "code",
   "execution_count": 171,
   "metadata": {},
   "outputs": [
    {
     "data": {
      "text/plain": [
       "(704, 1048, 3)"
      ]
     },
     "execution_count": 171,
     "metadata": {},
     "output_type": "execute_result"
    }
   ],
   "source": [
    "ctrain_pneuarr3 = img_to_array(ctrain_pneuimg3)\n",
    "ctrain_pneuarr3.shape"
   ]
  },
  {
   "cell_type": "code",
   "execution_count": 172,
   "metadata": {},
   "outputs": [
    {
     "data": {
      "text/plain": [
       "(1, 704, 1048, 3)"
      ]
     },
     "execution_count": 172,
     "metadata": {},
     "output_type": "execute_result"
    }
   ],
   "source": [
    "# Reshape to a (1 X ) array\n",
    "ctrain_pneuarr3 = ctrain_pneuarr3.reshape((1,) + ctrain_pneuarr3.shape)\n",
    "ctrain_pneuarr3.shape"
   ]
  },
  {
   "cell_type": "code",
   "execution_count": 173,
   "metadata": {
    "scrolled": true
   },
   "outputs": [
    {
     "name": "stdout",
     "output_type": "stream",
     "text": [
      "1520 duplicates of cpneu4 have been generated at Colorized_Images/c_train/PNEUMONIA/\n"
     ]
    }
   ],
   "source": [
    "count = 0\n",
    "for batch in datagen.flow(ctrain_pneuarr3, batch_size=500, save_to_dir=ctrain_pneu, save_prefix='IM', save_format='jpeg'):\n",
    "    count += 1\n",
    "    if count == 2000:\n",
    "        break\n",
    "        \n",
    "print('1520 duplicates of cpneu4 have been generated at', ctrain_pneu)"
   ]
  },
  {
   "cell_type": "code",
   "execution_count": 176,
   "metadata": {},
   "outputs": [],
   "source": [
    "# Select a random pneumonia image to duplicate. Put the image path into load_img\n",
    "ctrain_pneuimg4 = load_img('Colorized_Images/c_train/PNEUMONIA/cpneu5.jpeg')"
   ]
  },
  {
   "cell_type": "code",
   "execution_count": 177,
   "metadata": {},
   "outputs": [
    {
     "data": {
      "text/plain": [
       "<bound method Image.getpixel of <PIL.PngImagePlugin.PngImageFile image mode=RGB size=1656x1320 at 0x7F7FCE5B4860>>"
      ]
     },
     "execution_count": 177,
     "metadata": {},
     "output_type": "execute_result"
    }
   ],
   "source": [
    "# Get the size of the image\n",
    "ctrain_pneuimg4.getpixel"
   ]
  },
  {
   "cell_type": "code",
   "execution_count": 178,
   "metadata": {},
   "outputs": [
    {
     "data": {
      "text/plain": [
       "(1320, 1656, 3)"
      ]
     },
     "execution_count": 178,
     "metadata": {},
     "output_type": "execute_result"
    }
   ],
   "source": [
    "ctrain_pneuarr4 = img_to_array(ctrain_pneuimg4)\n",
    "ctrain_pneuarr4.shape"
   ]
  },
  {
   "cell_type": "code",
   "execution_count": 179,
   "metadata": {},
   "outputs": [
    {
     "data": {
      "text/plain": [
       "(1, 1320, 1656, 3)"
      ]
     },
     "execution_count": 179,
     "metadata": {},
     "output_type": "execute_result"
    }
   ],
   "source": [
    "# Reshape to a (1 X ) array\n",
    "ctrain_pneuarr4 = ctrain_pneuarr4.reshape((1,) + ctrain_pneuarr4.shape)\n",
    "ctrain_pneuarr4.shape"
   ]
  },
  {
   "cell_type": "code",
   "execution_count": 180,
   "metadata": {},
   "outputs": [
    {
     "name": "stdout",
     "output_type": "stream",
     "text": [
      "1520 duplicates of cpneu5 have been generated at Colorized_Images/c_train/PNEUMONIA/\n"
     ]
    }
   ],
   "source": [
    "count = 0\n",
    "for batch in datagen.flow(ctrain_pneuarr4, batch_size=500, save_to_dir=ctrain_pneu, save_prefix='IM', save_format='jpeg'):\n",
    "    count += 1\n",
    "    if count == 2000:\n",
    "        break\n",
    "        \n",
    "print('1520 duplicates of cpneu5 have been generated at', ctrain_pneu)"
   ]
  },
  {
   "cell_type": "code",
   "execution_count": 181,
   "metadata": {},
   "outputs": [],
   "source": [
    "# Select a random pneumonia image to duplicate. Put the image path into load_img\n",
    "ctrain_pneuimg5 = load_img('Colorized_Images/c_train/PNEUMONIA/cpneu6.jpeg')"
   ]
  },
  {
   "cell_type": "code",
   "execution_count": 182,
   "metadata": {},
   "outputs": [
    {
     "data": {
      "text/plain": [
       "<bound method Image.getpixel of <PIL.PngImagePlugin.PngImageFile image mode=RGB size=928x392 at 0x7F7FCE5B4080>>"
      ]
     },
     "execution_count": 182,
     "metadata": {},
     "output_type": "execute_result"
    }
   ],
   "source": [
    "# Get the size of the image\n",
    "ctrain_pneuimg5.getpixel"
   ]
  },
  {
   "cell_type": "code",
   "execution_count": 183,
   "metadata": {},
   "outputs": [
    {
     "data": {
      "text/plain": [
       "(392, 928, 3)"
      ]
     },
     "execution_count": 183,
     "metadata": {},
     "output_type": "execute_result"
    }
   ],
   "source": [
    "ctrain_pneuarr5 = img_to_array(ctrain_pneuimg5)\n",
    "ctrain_pneuarr5.shape"
   ]
  },
  {
   "cell_type": "code",
   "execution_count": 184,
   "metadata": {},
   "outputs": [
    {
     "data": {
      "text/plain": [
       "(1, 392, 928, 3)"
      ]
     },
     "execution_count": 184,
     "metadata": {},
     "output_type": "execute_result"
    }
   ],
   "source": [
    "# Reshape to a (1 X ) array\n",
    "ctrain_pneuarr5 = ctrain_pneuarr5.reshape((1,) + ctrain_pneuarr5.shape)\n",
    "ctrain_pneuarr5.shape"
   ]
  },
  {
   "cell_type": "code",
   "execution_count": 185,
   "metadata": {},
   "outputs": [
    {
     "name": "stdout",
     "output_type": "stream",
     "text": [
      "1520 duplicates of cpneu6 have been generated at Colorized_Images/c_train/PNEUMONIA/\n"
     ]
    }
   ],
   "source": [
    "count = 0\n",
    "for batch in datagen.flow(ctrain_pneuarr5, batch_size=500, save_to_dir=ctrain_pneu, save_prefix='IM', save_format='jpeg'):\n",
    "    count += 1\n",
    "    if count == 2000:\n",
    "        break\n",
    "        \n",
    "print('1520 duplicates of cpneu6 have been generated at', ctrain_pneu)"
   ]
  },
  {
   "cell_type": "code",
   "execution_count": 186,
   "metadata": {},
   "outputs": [],
   "source": [
    "# Select a random pneumonia image to duplicate. Put the image path into load_img\n",
    "ctrain_pneuimg6 = load_img('Colorized_Images/c_train/PNEUMONIA/cpneu7.jpeg')"
   ]
  },
  {
   "cell_type": "code",
   "execution_count": 187,
   "metadata": {},
   "outputs": [
    {
     "data": {
      "text/plain": [
       "<bound method Image.getpixel of <PIL.PngImagePlugin.PngImageFile image mode=RGB size=1160x752 at 0x7F7F98906780>>"
      ]
     },
     "execution_count": 187,
     "metadata": {},
     "output_type": "execute_result"
    }
   ],
   "source": [
    "# Get the size of the image\n",
    "ctrain_pneuimg6.getpixel"
   ]
  },
  {
   "cell_type": "code",
   "execution_count": 188,
   "metadata": {},
   "outputs": [
    {
     "data": {
      "text/plain": [
       "(752, 1160, 3)"
      ]
     },
     "execution_count": 188,
     "metadata": {},
     "output_type": "execute_result"
    }
   ],
   "source": [
    "ctrain_pneuarr6 = img_to_array(ctrain_pneuimg6)\n",
    "ctrain_pneuarr6.shape"
   ]
  },
  {
   "cell_type": "code",
   "execution_count": 189,
   "metadata": {},
   "outputs": [
    {
     "data": {
      "text/plain": [
       "(1, 752, 1160, 3)"
      ]
     },
     "execution_count": 189,
     "metadata": {},
     "output_type": "execute_result"
    }
   ],
   "source": [
    "# Reshape to a (1 X ) array\n",
    "ctrain_pneuarr6 = ctrain_pneuarr6.reshape((1,) + ctrain_pneuarr6.shape)\n",
    "ctrain_pneuarr6.shape"
   ]
  },
  {
   "cell_type": "code",
   "execution_count": 195,
   "metadata": {},
   "outputs": [
    {
     "name": "stdout",
     "output_type": "stream",
     "text": [
      "1520 duplicates of cpneu6 have been generated at Colorized_Images/c_train/PNEUMONIA/\n"
     ]
    }
   ],
   "source": [
    "count = 0\n",
    "for batch in datagen.flow(ctrain_pneuarr6, batch_size=20, save_to_dir=ctrain_pneu, save_prefix='IM', save_format='jpeg'):\n",
    "    count += 1\n",
    "    if count == 100:\n",
    "        break\n",
    "        \n",
    "print('1520 duplicates of cpneu6 have been generated at', ctrain_pneu)"
   ]
  },
  {
   "cell_type": "code",
   "execution_count": null,
   "metadata": {},
   "outputs": [],
   "source": []
  },
  {
   "cell_type": "markdown",
   "metadata": {},
   "source": [
    "## Increase Test Normal Images to 234"
   ]
  },
  {
   "cell_type": "code",
   "execution_count": 31,
   "metadata": {},
   "outputs": [],
   "source": [
    "# Select a random normal image to duplicate. Put the image path into load_img\n",
    "ctest_normimg = load_img('Colorized_Images/c_test/NORMAL/cIM1.jpeg')"
   ]
  },
  {
   "cell_type": "code",
   "execution_count": 32,
   "metadata": {},
   "outputs": [
    {
     "data": {
      "text/plain": [
       "<bound method Image.getpixel of <PIL.PngImagePlugin.PngImageFile image mode=RGB size=1720x1568 at 0x7F7FCE099D30>>"
      ]
     },
     "execution_count": 32,
     "metadata": {},
     "output_type": "execute_result"
    }
   ],
   "source": [
    "# Get the size of the image\n",
    "ctest_normimg.getpixel"
   ]
  },
  {
   "cell_type": "code",
   "execution_count": 33,
   "metadata": {},
   "outputs": [],
   "source": [
    "ctest_normarr = img_to_array(ctest_normimg)"
   ]
  },
  {
   "cell_type": "code",
   "execution_count": 34,
   "metadata": {},
   "outputs": [
    {
     "data": {
      "text/plain": [
       "(1568, 1720, 3)"
      ]
     },
     "execution_count": 34,
     "metadata": {},
     "output_type": "execute_result"
    }
   ],
   "source": [
    "ctest_normarr.shape"
   ]
  },
  {
   "cell_type": "code",
   "execution_count": 35,
   "metadata": {},
   "outputs": [
    {
     "data": {
      "text/plain": [
       "(1, 1568, 1720, 3)"
      ]
     },
     "execution_count": 35,
     "metadata": {},
     "output_type": "execute_result"
    }
   ],
   "source": [
    "# Reshape to a (1 X ) array\n",
    "ctest_normarr = ctest_normarr.reshape((1,) + ctest_normarr.shape)\n",
    "ctest_normarr.shape"
   ]
  },
  {
   "cell_type": "code",
   "execution_count": 46,
   "metadata": {},
   "outputs": [
    {
     "name": "stdout",
     "output_type": "stream",
     "text": [
      "52 duplicates of cIM1 have been generated at Colorized_Images/c_test/NORMAL/\n"
     ]
    }
   ],
   "source": [
    "count = 0\n",
    "for batch in datagen.flow(ctest_normarr, batch_size=13, save_to_dir=ctest_norm, save_prefix='IM', save_format='jpeg'):\n",
    "    count += 1\n",
    "    if count == 26:\n",
    "        break\n",
    "        \n",
    "print('52 duplicates of cIM1 have been generated at', ctest_norm)"
   ]
  },
  {
   "cell_type": "code",
   "execution_count": 25,
   "metadata": {},
   "outputs": [],
   "source": [
    "ctest_normimg1 = load_img('Colorized_Images/c_test/NORMAL/cIM2.jpeg')"
   ]
  },
  {
   "cell_type": "code",
   "execution_count": 26,
   "metadata": {},
   "outputs": [
    {
     "data": {
      "text/plain": [
       "<bound method Image.getpixel of <PIL.PngImagePlugin.PngImageFile image mode=RGB size=2028x1742 at 0x7F7FCE365B70>>"
      ]
     },
     "execution_count": 26,
     "metadata": {},
     "output_type": "execute_result"
    }
   ],
   "source": [
    "ctest_normimg1.getpixel"
   ]
  },
  {
   "cell_type": "code",
   "execution_count": 27,
   "metadata": {},
   "outputs": [],
   "source": [
    "ctest_normarr1 = img_to_array(ctest_normimg1)"
   ]
  },
  {
   "cell_type": "code",
   "execution_count": 28,
   "metadata": {},
   "outputs": [
    {
     "data": {
      "text/plain": [
       "(1742, 2028, 3)"
      ]
     },
     "execution_count": 28,
     "metadata": {},
     "output_type": "execute_result"
    }
   ],
   "source": [
    "ctest_normarr1.shape"
   ]
  },
  {
   "cell_type": "code",
   "execution_count": 29,
   "metadata": {},
   "outputs": [
    {
     "data": {
      "text/plain": [
       "(1, 1742, 2028, 3)"
      ]
     },
     "execution_count": 29,
     "metadata": {},
     "output_type": "execute_result"
    }
   ],
   "source": [
    "ctest_normarr1 = ctest_normarr1.reshape((1,) + ctest_normarr1.shape)\n",
    "ctest_normarr1.shape"
   ]
  },
  {
   "cell_type": "code",
   "execution_count": 44,
   "metadata": {},
   "outputs": [
    {
     "name": "stdout",
     "output_type": "stream",
     "text": [
      "52 duplicates of cIM2 have been generated at Colorized_Images/c_test/NORMAL/\n"
     ]
    }
   ],
   "source": [
    "count = 0\n",
    "for batch in datagen.flow(ctest_normarr1, batch_size=13, save_to_dir=ctest_norm, save_prefix='IM', save_format='jpeg'):\n",
    "    count += 1\n",
    "    if count == 26:\n",
    "        break\n",
    "        \n",
    "print('52 duplicates of cIM2 have been generated at', ctest_norm)"
   ]
  },
  {
   "cell_type": "code",
   "execution_count": 37,
   "metadata": {},
   "outputs": [],
   "source": [
    "ctest_normimg2 = load_img('Colorized_Images/c_test/NORMAL/cIM3.jpeg')"
   ]
  },
  {
   "cell_type": "code",
   "execution_count": 38,
   "metadata": {},
   "outputs": [
    {
     "data": {
      "text/plain": [
       "<bound method Image.getpixel of <PIL.PngImagePlugin.PngImageFile image mode=RGB size=1774x1230 at 0x7F7FCE3906D8>>"
      ]
     },
     "execution_count": 38,
     "metadata": {},
     "output_type": "execute_result"
    }
   ],
   "source": [
    "ctest_normimg2.getpixel"
   ]
  },
  {
   "cell_type": "code",
   "execution_count": 39,
   "metadata": {},
   "outputs": [],
   "source": [
    "ctest_normarr2 = img_to_array(ctest_normimg2)"
   ]
  },
  {
   "cell_type": "code",
   "execution_count": 40,
   "metadata": {},
   "outputs": [
    {
     "data": {
      "text/plain": [
       "(1230, 1774, 3)"
      ]
     },
     "execution_count": 40,
     "metadata": {},
     "output_type": "execute_result"
    }
   ],
   "source": [
    "ctest_normarr2.shape"
   ]
  },
  {
   "cell_type": "code",
   "execution_count": 41,
   "metadata": {},
   "outputs": [
    {
     "data": {
      "text/plain": [
       "(1, 1230, 1774, 3)"
      ]
     },
     "execution_count": 41,
     "metadata": {},
     "output_type": "execute_result"
    }
   ],
   "source": [
    "ctest_normarr2 = ctest_normarr2.reshape((1,) + ctest_normarr2.shape)\n",
    "ctest_normarr2.shape"
   ]
  },
  {
   "cell_type": "code",
   "execution_count": 45,
   "metadata": {},
   "outputs": [
    {
     "name": "stdout",
     "output_type": "stream",
     "text": [
      "52 duplicates of cIM3 have been generated at Colorized_Images/c_test/NORMAL/\n"
     ]
    }
   ],
   "source": [
    "count = 0\n",
    "for batch in datagen.flow(ctest_normarr2, batch_size=13, save_to_dir=ctest_norm, save_prefix='IM', save_format='jpeg'):\n",
    "    count += 1\n",
    "    if count == 26:\n",
    "        break\n",
    "        \n",
    "print('52 duplicates of cIM3 have been generated at', ctest_norm)"
   ]
  },
  {
   "cell_type": "code",
   "execution_count": 48,
   "metadata": {},
   "outputs": [],
   "source": [
    "ctest_normimg3 = load_img('Colorized_Images/c_test/NORMAL/cIM4.jpeg')"
   ]
  },
  {
   "cell_type": "code",
   "execution_count": 49,
   "metadata": {},
   "outputs": [
    {
     "data": {
      "text/plain": [
       "<bound method Image.getpixel of <PIL.PngImagePlugin.PngImageFile image mode=RGB size=1890x1357 at 0x7F7FCE390048>>"
      ]
     },
     "execution_count": 49,
     "metadata": {},
     "output_type": "execute_result"
    }
   ],
   "source": [
    "ctest_normimg3.getpixel"
   ]
  },
  {
   "cell_type": "code",
   "execution_count": 50,
   "metadata": {},
   "outputs": [],
   "source": [
    "ctest_normarr3 = img_to_array(ctest_normimg3)"
   ]
  },
  {
   "cell_type": "code",
   "execution_count": 51,
   "metadata": {},
   "outputs": [
    {
     "data": {
      "text/plain": [
       "(1357, 1890, 3)"
      ]
     },
     "execution_count": 51,
     "metadata": {},
     "output_type": "execute_result"
    }
   ],
   "source": [
    "ctest_normarr3.shape"
   ]
  },
  {
   "cell_type": "code",
   "execution_count": 52,
   "metadata": {},
   "outputs": [
    {
     "data": {
      "text/plain": [
       "(1, 1357, 1890, 3)"
      ]
     },
     "execution_count": 52,
     "metadata": {},
     "output_type": "execute_result"
    }
   ],
   "source": [
    "ctest_normarr3 = ctest_normarr3.reshape((1,) + ctest_normarr3.shape)\n",
    "ctest_normarr3.shape"
   ]
  },
  {
   "cell_type": "code",
   "execution_count": 65,
   "metadata": {},
   "outputs": [
    {
     "name": "stdout",
     "output_type": "stream",
     "text": [
      "4 duplicates of cIM4 have been generated at Colorized_Images/c_test/NORMAL/\n"
     ]
    }
   ],
   "source": [
    "count = 0\n",
    "for batch in datagen.flow(ctest_normarr3, batch_size=2, save_to_dir=ctest_norm, save_prefix='IM', save_format='jpeg'):\n",
    "    count += 1\n",
    "    if count == 4:\n",
    "        break\n",
    "        \n",
    "print('4 duplicates of cIM4 have been generated at', ctest_norm)"
   ]
  },
  {
   "cell_type": "markdown",
   "metadata": {},
   "source": [
    "## Increase Test Pneumonia Images to 390"
   ]
  },
  {
   "cell_type": "code",
   "execution_count": 57,
   "metadata": {},
   "outputs": [],
   "source": [
    "# Select a random normal image to duplicate. Put the image path into load_img\n",
    "ctest_pneuimg = load_img('Colorized_Images/c_test/PNEUMONIA/cperson_bacteria.jpeg')"
   ]
  },
  {
   "cell_type": "code",
   "execution_count": 58,
   "metadata": {},
   "outputs": [
    {
     "data": {
      "text/plain": [
       "<bound method Image.getpixel of <PIL.PngImagePlugin.PngImageFile image mode=RGB size=864x464 at 0x7F7F98667278>>"
      ]
     },
     "execution_count": 58,
     "metadata": {},
     "output_type": "execute_result"
    }
   ],
   "source": [
    "ctest_pneuimg.getpixel"
   ]
  },
  {
   "cell_type": "code",
   "execution_count": 59,
   "metadata": {},
   "outputs": [],
   "source": [
    "ctest_pneuarr = img_to_array(ctest_pneuimg)"
   ]
  },
  {
   "cell_type": "code",
   "execution_count": 60,
   "metadata": {},
   "outputs": [
    {
     "data": {
      "text/plain": [
       "(464, 864, 3)"
      ]
     },
     "execution_count": 60,
     "metadata": {},
     "output_type": "execute_result"
    }
   ],
   "source": [
    "ctest_pneuarr.shape"
   ]
  },
  {
   "cell_type": "code",
   "execution_count": 61,
   "metadata": {},
   "outputs": [
    {
     "data": {
      "text/plain": [
       "(1, 464, 864, 3)"
      ]
     },
     "execution_count": 61,
     "metadata": {},
     "output_type": "execute_result"
    }
   ],
   "source": [
    "ctest_pneuarr = ctest_pneuarr.reshape((1,) + ctest_pneuarr.shape)\n",
    "ctest_pneuarr.shape"
   ]
  },
  {
   "cell_type": "code",
   "execution_count": 66,
   "metadata": {},
   "outputs": [
    {
     "name": "stdout",
     "output_type": "stream",
     "text": [
      "78 duplicates of cperson_bacteria have been generated at Colorized_Images/c_test/PNEUMONIA/\n"
     ]
    }
   ],
   "source": [
    "count = 0\n",
    "for batch in datagen.flow(ctest_pneuarr, batch_size=13, save_to_dir=ctest_pneu, save_prefix='IM', save_format='jpeg'):\n",
    "    count += 1\n",
    "    if count == 78:\n",
    "        break\n",
    "        \n",
    "print('78 duplicates of cperson_bacteria have been generated at', ctest_pneu)"
   ]
  },
  {
   "cell_type": "code",
   "execution_count": 68,
   "metadata": {},
   "outputs": [],
   "source": [
    "# Select a random normal image to duplicate. Put the image path into load_img\n",
    "ctest_pneuimg1 = load_img('Colorized_Images/c_test/PNEUMONIA/cperson80_bacteria.jpeg')"
   ]
  },
  {
   "cell_type": "code",
   "execution_count": 69,
   "metadata": {},
   "outputs": [
    {
     "data": {
      "text/plain": [
       "<bound method Image.getpixel of <PIL.PngImagePlugin.PngImageFile image mode=RGB size=1104x640 at 0x7F7FCE5FBD30>>"
      ]
     },
     "execution_count": 69,
     "metadata": {},
     "output_type": "execute_result"
    }
   ],
   "source": [
    "ctest_pneuimg1.getpixel"
   ]
  },
  {
   "cell_type": "code",
   "execution_count": 70,
   "metadata": {},
   "outputs": [],
   "source": [
    "ctest_pneuarr1 = img_to_array(ctest_pneuimg1)"
   ]
  },
  {
   "cell_type": "code",
   "execution_count": 71,
   "metadata": {},
   "outputs": [
    {
     "data": {
      "text/plain": [
       "(640, 1104, 3)"
      ]
     },
     "execution_count": 71,
     "metadata": {},
     "output_type": "execute_result"
    }
   ],
   "source": [
    "ctest_pneuarr1.shape"
   ]
  },
  {
   "cell_type": "code",
   "execution_count": 72,
   "metadata": {},
   "outputs": [
    {
     "data": {
      "text/plain": [
       "(1, 640, 1104, 3)"
      ]
     },
     "execution_count": 72,
     "metadata": {},
     "output_type": "execute_result"
    }
   ],
   "source": [
    "ctest_pneuarr1 = ctest_pneuarr1.reshape((1,) + ctest_pneuarr1.shape)\n",
    "ctest_pneuarr1.shape"
   ]
  },
  {
   "cell_type": "code",
   "execution_count": 73,
   "metadata": {},
   "outputs": [
    {
     "name": "stdout",
     "output_type": "stream",
     "text": [
      "78 duplicates of cperson80_bacteria have been generated at Colorized_Images/c_test/PNEUMONIA/\n"
     ]
    }
   ],
   "source": [
    "count = 0\n",
    "for batch in datagen.flow(ctest_pneuarr1, batch_size=13, save_to_dir=ctest_pneu, save_prefix='IM', save_format='jpeg'):\n",
    "    count += 1\n",
    "    if count == 78:\n",
    "        break\n",
    "        \n",
    "print('78 duplicates of cperson80_bacteria have been generated at', ctest_pneu)"
   ]
  },
  {
   "cell_type": "code",
   "execution_count": 74,
   "metadata": {},
   "outputs": [],
   "source": [
    "# Select a random normal image to duplicate. Put the image path into load_img\n",
    "ctest_pneuimg2 = load_img('Colorized_Images/c_test/PNEUMONIA/cperson79_virus.jpeg')"
   ]
  },
  {
   "cell_type": "code",
   "execution_count": 75,
   "metadata": {},
   "outputs": [
    {
     "data": {
      "text/plain": [
       "<bound method Image.getpixel of <PIL.PngImagePlugin.PngImageFile image mode=RGB size=1632x1312 at 0x7F7F988E5BE0>>"
      ]
     },
     "execution_count": 75,
     "metadata": {},
     "output_type": "execute_result"
    }
   ],
   "source": [
    "ctest_pneuimg2.getpixel"
   ]
  },
  {
   "cell_type": "code",
   "execution_count": 76,
   "metadata": {},
   "outputs": [],
   "source": [
    "ctest_pneuarr2 = img_to_array(ctest_pneuimg2)"
   ]
  },
  {
   "cell_type": "code",
   "execution_count": 77,
   "metadata": {},
   "outputs": [
    {
     "data": {
      "text/plain": [
       "(1312, 1632, 3)"
      ]
     },
     "execution_count": 77,
     "metadata": {},
     "output_type": "execute_result"
    }
   ],
   "source": [
    "ctest_pneuarr2.shape"
   ]
  },
  {
   "cell_type": "code",
   "execution_count": 78,
   "metadata": {},
   "outputs": [
    {
     "data": {
      "text/plain": [
       "(1, 1312, 1632, 3)"
      ]
     },
     "execution_count": 78,
     "metadata": {},
     "output_type": "execute_result"
    }
   ],
   "source": [
    "ctest_pneuarr2 = ctest_pneuarr2.reshape((1,) + ctest_pneuarr2.shape)\n",
    "ctest_pneuarr2.shape"
   ]
  },
  {
   "cell_type": "code",
   "execution_count": 79,
   "metadata": {},
   "outputs": [
    {
     "name": "stdout",
     "output_type": "stream",
     "text": [
      "78 duplicates of cperson79_bacteria have been generated at Colorized_Images/c_test/PNEUMONIA/\n"
     ]
    }
   ],
   "source": [
    "count = 0\n",
    "for batch in datagen.flow(ctest_pneuarr2, batch_size=13, save_to_dir=ctest_pneu, save_prefix='IM', save_format='jpeg'):\n",
    "    count += 1\n",
    "    if count == 78:\n",
    "        break\n",
    "        \n",
    "print('78 duplicates of cperson79_bacteria have been generated at', ctest_pneu)"
   ]
  },
  {
   "cell_type": "code",
   "execution_count": 80,
   "metadata": {},
   "outputs": [],
   "source": [
    "# Select a random normal image to duplicate. Put the image path into load_img\n",
    "ctest_pneuimg3 = load_img('Colorized_Images/c_test/PNEUMONIA/cperson65_virus.jpeg')"
   ]
  },
  {
   "cell_type": "code",
   "execution_count": 81,
   "metadata": {},
   "outputs": [
    {
     "data": {
      "text/plain": [
       "<bound method Image.getpixel of <PIL.PngImagePlugin.PngImageFile image mode=RGB size=1320x768 at 0x7F7FCE3280B8>>"
      ]
     },
     "execution_count": 81,
     "metadata": {},
     "output_type": "execute_result"
    }
   ],
   "source": [
    "ctest_pneuimg3.getpixel"
   ]
  },
  {
   "cell_type": "code",
   "execution_count": 82,
   "metadata": {},
   "outputs": [],
   "source": [
    "ctest_pneuarr3 = img_to_array(ctest_pneuimg3)"
   ]
  },
  {
   "cell_type": "code",
   "execution_count": 83,
   "metadata": {},
   "outputs": [
    {
     "data": {
      "text/plain": [
       "(768, 1320, 3)"
      ]
     },
     "execution_count": 83,
     "metadata": {},
     "output_type": "execute_result"
    }
   ],
   "source": [
    "ctest_pneuarr3.shape"
   ]
  },
  {
   "cell_type": "code",
   "execution_count": 84,
   "metadata": {},
   "outputs": [
    {
     "data": {
      "text/plain": [
       "(1, 768, 1320, 3)"
      ]
     },
     "execution_count": 84,
     "metadata": {},
     "output_type": "execute_result"
    }
   ],
   "source": [
    "ctest_pneuarr3 = ctest_pneuarr3.reshape((1,) + ctest_pneuarr3.shape)\n",
    "ctest_pneuarr3.shape"
   ]
  },
  {
   "cell_type": "code",
   "execution_count": 85,
   "metadata": {},
   "outputs": [
    {
     "name": "stdout",
     "output_type": "stream",
     "text": [
      "78 duplicates of cperson65_bacteria have been generated at Colorized_Images/c_test/PNEUMONIA/\n"
     ]
    }
   ],
   "source": [
    "count = 0\n",
    "for batch in datagen.flow(ctest_pneuarr3, batch_size=13, save_to_dir=ctest_pneu, save_prefix='IM', save_format='jpeg'):\n",
    "    count += 1\n",
    "    if count == 78:\n",
    "        break\n",
    "        \n",
    "print('78 duplicates of cperson65_bacteria have been generated at', ctest_pneu)"
   ]
  },
  {
   "cell_type": "code",
   "execution_count": 86,
   "metadata": {},
   "outputs": [],
   "source": [
    "# Select a random normal image to duplicate. Put the image path into load_img\n",
    "ctest_pneuimg4 = load_img('Colorized_Images/c_test/PNEUMONIA/cperson2_bacteria.jpeg')"
   ]
  },
  {
   "cell_type": "code",
   "execution_count": 87,
   "metadata": {},
   "outputs": [
    {
     "data": {
      "text/plain": [
       "<bound method Image.getpixel of <PIL.PngImagePlugin.PngImageFile image mode=RGB size=1632x1312 at 0x7F7F98910400>>"
      ]
     },
     "execution_count": 87,
     "metadata": {},
     "output_type": "execute_result"
    }
   ],
   "source": [
    "ctest_pneuimg4.getpixel"
   ]
  },
  {
   "cell_type": "code",
   "execution_count": 88,
   "metadata": {},
   "outputs": [],
   "source": [
    "ctest_pneuarr4 = img_to_array(ctest_pneuimg4)"
   ]
  },
  {
   "cell_type": "code",
   "execution_count": 89,
   "metadata": {
    "scrolled": true
   },
   "outputs": [
    {
     "data": {
      "text/plain": [
       "(1312, 1632, 3)"
      ]
     },
     "execution_count": 89,
     "metadata": {},
     "output_type": "execute_result"
    }
   ],
   "source": [
    "ctest_pneuarr4.shape"
   ]
  },
  {
   "cell_type": "code",
   "execution_count": 90,
   "metadata": {},
   "outputs": [
    {
     "data": {
      "text/plain": [
       "(1, 1312, 1632, 3)"
      ]
     },
     "execution_count": 90,
     "metadata": {},
     "output_type": "execute_result"
    }
   ],
   "source": [
    "ctest_pneuarr4 = ctest_pneuarr4.reshape((1,) + ctest_pneuarr4.shape)\n",
    "ctest_pneuarr4.shape"
   ]
  },
  {
   "cell_type": "code",
   "execution_count": 91,
   "metadata": {},
   "outputs": [
    {
     "name": "stdout",
     "output_type": "stream",
     "text": [
      "78 duplicates of cperson65_bacteria have been generated at Colorized_Images/c_test/PNEUMONIA/\n"
     ]
    }
   ],
   "source": [
    "count = 0\n",
    "for batch in datagen.flow(ctest_pneuarr4, batch_size=13, save_to_dir=ctest_pneu, save_prefix='IM', save_format='jpeg'):\n",
    "    count += 1\n",
    "    if count == 78:\n",
    "        break\n",
    "        \n",
    "print('78 duplicates of cperson2_bacteria have been generated at', ctest_pneu)"
   ]
  },
  {
   "cell_type": "markdown",
   "metadata": {},
   "source": [
    "### Val was Manually Increased"
   ]
  },
  {
   "cell_type": "code",
   "execution_count": null,
   "metadata": {},
   "outputs": [],
   "source": []
  }
 ],
 "metadata": {
  "kernelspec": {
   "display_name": "learn-env",
   "language": "python",
   "name": "learn-env"
  },
  "language_info": {
   "codemirror_mode": {
    "name": "ipython",
    "version": 3
   },
   "file_extension": ".py",
   "mimetype": "text/x-python",
   "name": "python",
   "nbconvert_exporter": "python",
   "pygments_lexer": "ipython3",
   "version": "3.6.9"
  }
 },
 "nbformat": 4,
 "nbformat_minor": 2
}
