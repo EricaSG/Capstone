{
  "nbformat": 4,
  "nbformat_minor": 0,
  "metadata": {
    "colab": {
      "name": "Primary_Capstone_Colorized",
      "provenance": [],
      "authorship_tag": "ABX9TyMEb4g9FbuuDA1mW2peYS4v",
      "include_colab_link": true
    },
    "kernelspec": {
      "name": "python3",
      "display_name": "Python 3"
    },
    "accelerator": "GPU"
  },
  "cells": [
    {
      "cell_type": "markdown",
      "metadata": {
        "id": "view-in-github",
        "colab_type": "text"
      },
      "source": [
        "<a href=\"https://colab.research.google.com/github/EricaSG/Capstone/blob/master/Primary_Capstone_Colorized.ipynb\" target=\"_parent\"><img src=\"https://colab.research.google.com/assets/colab-badge.svg\" alt=\"Open In Colab\"/></a>"
      ]
    },
    {
      "cell_type": "markdown",
      "metadata": {
        "id": "CJup4YF-IZz4",
        "colab_type": "text"
      },
      "source": [
        "# Import Necessary Libraries and Data"
      ]
    },
    {
      "cell_type": "code",
      "metadata": {
        "id": "Y6kPSz6BH1JK",
        "colab_type": "code",
        "colab": {
          "base_uri": "https://localhost:8080/",
          "height": 35
        },
        "outputId": "ba663eef-e8bd-49ec-a74d-8d88ed77f2f8"
      },
      "source": [
        "import tensorflow as tf\n",
        "tf.test.gpu_device_name()"
      ],
      "execution_count": 2,
      "outputs": [
        {
          "output_type": "execute_result",
          "data": {
            "application/vnd.google.colaboratory.intrinsic+json": {
              "type": "string"
            },
            "text/plain": [
              "'/device:GPU:0'"
            ]
          },
          "metadata": {
            "tags": []
          },
          "execution_count": 2
        }
      ]
    },
    {
      "cell_type": "code",
      "metadata": {
        "id": "EJGKGgGtafnP",
        "colab_type": "code",
        "colab": {
          "base_uri": "https://localhost:8080/",
          "height": 496
        },
        "outputId": "f3f8cfaa-c775-4b71-adc7-b62a1356804f"
      },
      "source": [
        "from tensorflow.python.client import device_lib\n",
        "\n",
        "device_lib.list_local_devices()"
      ],
      "execution_count": 4,
      "outputs": [
        {
          "output_type": "execute_result",
          "data": {
            "text/plain": [
              "[name: \"/device:CPU:0\"\n",
              " device_type: \"CPU\"\n",
              " memory_limit: 268435456\n",
              " locality {\n",
              " }\n",
              " incarnation: 5581207742763521329, name: \"/device:XLA_CPU:0\"\n",
              " device_type: \"XLA_CPU\"\n",
              " memory_limit: 17179869184\n",
              " locality {\n",
              " }\n",
              " incarnation: 6692571032904563026\n",
              " physical_device_desc: \"device: XLA_CPU device\", name: \"/device:XLA_GPU:0\"\n",
              " device_type: \"XLA_GPU\"\n",
              " memory_limit: 17179869184\n",
              " locality {\n",
              " }\n",
              " incarnation: 17631277438788123580\n",
              " physical_device_desc: \"device: XLA_GPU device\", name: \"/device:GPU:0\"\n",
              " device_type: \"GPU\"\n",
              " memory_limit: 15695549568\n",
              " locality {\n",
              "   bus_id: 1\n",
              "   links {\n",
              "   }\n",
              " }\n",
              " incarnation: 4914487711676303422\n",
              " physical_device_desc: \"device: 0, name: Tesla P100-PCIE-16GB, pci bus id: 0000:00:04.0, compute capability: 6.0\"]"
            ]
          },
          "metadata": {
            "tags": []
          },
          "execution_count": 4
        }
      ]
    },
    {
      "cell_type": "code",
      "metadata": {
        "id": "tkpFMCFAII2i",
        "colab_type": "code",
        "colab": {
          "base_uri": "https://localhost:8080/",
          "height": 54
        },
        "outputId": "bc81c7ae-5636-4641-a3c3-9ae4b268a7d0"
      },
      "source": [
        "from google.colab import drive\n",
        "drive.mount('/content/drive')"
      ],
      "execution_count": 5,
      "outputs": [
        {
          "output_type": "stream",
          "text": [
            "Drive already mounted at /content/drive; to attempt to forcibly remount, call drive.mount(\"/content/drive\", force_remount=True).\n"
          ],
          "name": "stdout"
        }
      ]
    },
    {
      "cell_type": "code",
      "metadata": {
        "id": "dPL487CsbD-X",
        "colab_type": "code",
        "colab": {}
      },
      "source": [
        "# Use the TensorFlow backend\n",
        "from tensorflow import keras"
      ],
      "execution_count": 6,
      "outputs": []
    },
    {
      "cell_type": "code",
      "metadata": {
        "id": "kCnxf9umISkb",
        "colab_type": "code",
        "colab": {}
      },
      "source": [
        "import warnings\n",
        "warnings.filterwarnings('ignore')\n",
        "import random \n",
        "from keras.preprocessing.image import ImageDataGenerator, array_to_img, img_to_array, load_img\n",
        "import numpy as np\n",
        "import os\n",
        "import matplotlib.pyplot as plt\n",
        "%matplotlib inline\n",
        "\n",
        "from keras import layers\n",
        "from keras.models import Sequential\n",
        "from sklearn.model_selection import train_test_split, cross_val_predict\n",
        "from keras import regularizers\n",
        "from keras.wrappers.scikit_learn import KerasRegressor\n",
        "from keras.layers import Convolution2D, MaxPooling2D, Flatten, Dense, Dropout\n",
        "from keras.callbacks import EarlyStopping, ModelCheckpoint\n",
        "from sklearn.metrics import classification_report, confusion_matrix, mean_squared_error\n",
        "import itertools\n",
        "from keras.applications.vgg16 import preprocess_input, VGG16\n",
        "from keras.optimizers import Adam, Adadelta, Adagrad, SGD, RMSprop\n",
        "from keras import initializers\n",
        "from keras.constraints import unit_norm, min_max_norm\n",
        "from keras.applications.inception_v3 import InceptionV3"
      ],
      "execution_count": 18,
      "outputs": []
    },
    {
      "cell_type": "code",
      "metadata": {
        "id": "wbDlPFmtfwdm",
        "colab_type": "code",
        "colab": {}
      },
      "source": [
        "!unzip -uq \"/content/drive/My Drive/Colorized_Images.zip\" -d \"/content/drive/My Drive/\""
      ],
      "execution_count": 9,
      "outputs": []
    },
    {
      "cell_type": "code",
      "metadata": {
        "id": "wKnTH7zhIoh1",
        "colab_type": "code",
        "colab": {}
      },
      "source": [
        "# Use if downloading from a local machine\n",
        "# train_color = 'Colorized_Images/c_train/'\n",
        "# val_color = 'Colorized_Images/c_val/'\n",
        "# test_color = 'Colorized_Images/c_test/'"
      ],
      "execution_count": null,
      "outputs": []
    },
    {
      "cell_type": "code",
      "metadata": {
        "id": "Tg3PBW66I5ee",
        "colab_type": "code",
        "colab": {}
      },
      "source": [
        "# Use if downloading from the cloud\n",
        "train_color = '/content/drive/My Drive/Colorized_Images/c_train/'\n",
        "val_color = '/content/drive/My Drive/Colorized_Images/c_val/'\n",
        "test_color = '/content/drive/My Drive/Colorized_Images/c_test/'"
      ],
      "execution_count": 20,
      "outputs": []
    },
    {
      "cell_type": "markdown",
      "metadata": {
        "id": "pSieFD0SJZlG",
        "colab_type": "text"
      },
      "source": [
        "# Preprocessing"
      ]
    },
    {
      "cell_type": "markdown",
      "metadata": {
        "id": "bQWTp2KZJeTI",
        "colab_type": "text"
      },
      "source": [
        "## Read in & Normalize Images"
      ]
    },
    {
      "cell_type": "code",
      "metadata": {
        "id": "4uP52g1_JVho",
        "colab_type": "code",
        "colab": {
          "base_uri": "https://localhost:8080/",
          "height": 34
        },
        "outputId": "04a5fcdc-0914-4e1d-cec3-9257ec75e954"
      },
      "source": [
        "# Resize all 15,200 images in the train directory\n",
        "train_gen = ImageDataGenerator(rescale=1./255).flow_from_directory(train_color,\n",
        "                                                     target_size=(128,128), batch_size=15200)"
      ],
      "execution_count": 21,
      "outputs": [
        {
          "output_type": "stream",
          "text": [
            "Found 15198 images belonging to 2 classes.\n"
          ],
          "name": "stdout"
        }
      ]
    },
    {
      "cell_type": "code",
      "metadata": {
        "id": "SvgB9_4OJ_8I",
        "colab_type": "code",
        "colab": {
          "base_uri": "https://localhost:8080/",
          "height": 34
        },
        "outputId": "a3a33ebe-f0ff-4cd8-b927-821ebd151b25"
      },
      "source": [
        "val_gen = ImageDataGenerator(rescale=1./255).flow_from_directory(val_color,\n",
        "                                                     target_size=(128,128), batch_size=16)"
      ],
      "execution_count": 22,
      "outputs": [
        {
          "output_type": "stream",
          "text": [
            "Found 16 images belonging to 2 classes.\n"
          ],
          "name": "stdout"
        }
      ]
    },
    {
      "cell_type": "code",
      "metadata": {
        "id": "iefZEuwtKG08",
        "colab_type": "code",
        "colab": {
          "base_uri": "https://localhost:8080/",
          "height": 34
        },
        "outputId": "31f61303-c534-4347-ca1d-f28c2735b9a3"
      },
      "source": [
        "test_gen = ImageDataGenerator(rescale=1./255).flow_from_directory(test_color,\n",
        "                                                     target_size=(128,128), batch_size=624)"
      ],
      "execution_count": 23,
      "outputs": [
        {
          "output_type": "stream",
          "text": [
            "Found 622 images belonging to 2 classes.\n"
          ],
          "name": "stdout"
        }
      ]
    },
    {
      "cell_type": "markdown",
      "metadata": {
        "id": "JbIl6SfpYLch",
        "colab_type": "text"
      },
      "source": [
        "## Generate Image & Label Sets"
      ]
    },
    {
      "cell_type": "code",
      "metadata": {
        "id": "yU5nJss6YKyL",
        "colab_type": "code",
        "colab": {}
      },
      "source": [
        "# Iterate through all of the images and create image-label datasets\n",
        "train_images, train_labels = next(train_gen)"
      ],
      "execution_count": 24,
      "outputs": []
    },
    {
      "cell_type": "code",
      "metadata": {
        "id": "AMRotw7TYvrQ",
        "colab_type": "code",
        "colab": {}
      },
      "source": [
        "val_images, val_labels = next(val_gen)"
      ],
      "execution_count": 25,
      "outputs": []
    },
    {
      "cell_type": "code",
      "metadata": {
        "id": "Z-SWrBlvY04q",
        "colab_type": "code",
        "colab": {}
      },
      "source": [
        "test_images, test_labels = next(test_gen)"
      ],
      "execution_count": 26,
      "outputs": []
    },
    {
      "cell_type": "code",
      "metadata": {
        "id": "AwjYvxc_l-2Q",
        "colab_type": "code",
        "colab": {
          "base_uri": "https://localhost:8080/",
          "height": 34
        },
        "outputId": "f16afe58-3647-4e26-c414-ba4552e3f1d1"
      },
      "source": [
        "# Verify the class labels\n",
        "train_gen.class_indices"
      ],
      "execution_count": 27,
      "outputs": [
        {
          "output_type": "execute_result",
          "data": {
            "text/plain": [
              "{'NORMAL': 0, 'PNEUMONIA': 1}"
            ]
          },
          "metadata": {
            "tags": []
          },
          "execution_count": 27
        }
      ]
    },
    {
      "cell_type": "code",
      "metadata": {
        "id": "ZMIaVyF2Y6CZ",
        "colab_type": "code",
        "colab": {
          "base_uri": "https://localhost:8080/",
          "height": 51
        },
        "outputId": "01f2d996-8036-4d87-dc9c-2cbe6774e2ec"
      },
      "source": [
        "# Recheck for Class Imbalance\n",
        "u = np.unique(train_labels, return_counts=True)\n",
        "np.asarray(u).T"
      ],
      "execution_count": 28,
      "outputs": [
        {
          "output_type": "execute_result",
          "data": {
            "text/plain": [
              "array([[0.0000e+00, 1.5198e+04],\n",
              "       [1.0000e+00, 1.5198e+04]])"
            ]
          },
          "metadata": {
            "tags": []
          },
          "execution_count": 28
        }
      ]
    },
    {
      "cell_type": "markdown",
      "metadata": {
        "id": "TFuEwwnlY_1X",
        "colab_type": "text"
      },
      "source": [
        "## Check the Shape of the Images and Labels"
      ]
    },
    {
      "cell_type": "code",
      "metadata": {
        "id": "_EmnujjZY-gG",
        "colab_type": "code",
        "colab": {
          "base_uri": "https://localhost:8080/",
          "height": 119
        },
        "outputId": "fac70948-cf28-462e-a8be-13bdc0d3c2c7"
      },
      "source": [
        "print('Shape of Train Images: ', np.shape(train_images))\n",
        "print('Shape of Train Labels: ', np.shape(train_labels))\n",
        "print('Shape of Validation Images: ', np.shape(val_images))\n",
        "print('Shape of Validation Labels: ', np.shape(val_labels))\n",
        "print('Shape of Test Images: ', np.shape(test_images))\n",
        "print('Shape of Test Labels: ', np.shape(test_labels))"
      ],
      "execution_count": 29,
      "outputs": [
        {
          "output_type": "stream",
          "text": [
            "Shape of Train Images:  (15198, 128, 128, 3)\n",
            "Shape of Train Labels:  (15198, 2)\n",
            "Shape of Validation Images:  (16, 128, 128, 3)\n",
            "Shape of Validation Labels:  (16, 2)\n",
            "Shape of Test Images:  (622, 128, 128, 3)\n",
            "Shape of Test Labels:  (622, 2)\n"
          ],
          "name": "stdout"
        }
      ]
    },
    {
      "cell_type": "markdown",
      "metadata": {
        "id": "eS5TDq86ZWWr",
        "colab_type": "text"
      },
      "source": [
        "### Transform the labels to (m X 1) matrices"
      ]
    },
    {
      "cell_type": "code",
      "metadata": {
        "id": "OYuzljbZZQ_w",
        "colab_type": "code",
        "colab": {
          "base_uri": "https://localhost:8080/",
          "height": 34
        },
        "outputId": "48bf567e-e845-41be-8d1f-83ed18961bf1"
      },
      "source": [
        "train_labels_final = np.reshape(train_labels[:,0], (15198,1))\n",
        "np.shape(train_labels_final)"
      ],
      "execution_count": 30,
      "outputs": [
        {
          "output_type": "execute_result",
          "data": {
            "text/plain": [
              "(15198, 1)"
            ]
          },
          "metadata": {
            "tags": []
          },
          "execution_count": 30
        }
      ]
    },
    {
      "cell_type": "code",
      "metadata": {
        "id": "JbWXlEPjZVMv",
        "colab_type": "code",
        "colab": {
          "base_uri": "https://localhost:8080/",
          "height": 34
        },
        "outputId": "e7b6ef39-1473-4bce-d55a-61c6fe0238fa"
      },
      "source": [
        "val_labels_final = np.reshape(val_labels[:,0], (16,1))\n",
        "np.shape(val_labels_final)"
      ],
      "execution_count": 31,
      "outputs": [
        {
          "output_type": "execute_result",
          "data": {
            "text/plain": [
              "(16, 1)"
            ]
          },
          "metadata": {
            "tags": []
          },
          "execution_count": 31
        }
      ]
    },
    {
      "cell_type": "code",
      "metadata": {
        "id": "1zNy6vvFZUR5",
        "colab_type": "code",
        "colab": {
          "base_uri": "https://localhost:8080/",
          "height": 34
        },
        "outputId": "23649278-a66c-430a-e921-9fbd3aaf677a"
      },
      "source": [
        "test_labels_final = np.reshape(test_labels[:,0], (622,1))\n",
        "np.shape(test_labels_final)"
      ],
      "execution_count": 32,
      "outputs": [
        {
          "output_type": "execute_result",
          "data": {
            "text/plain": [
              "(622, 1)"
            ]
          },
          "metadata": {
            "tags": []
          },
          "execution_count": 32
        }
      ]
    },
    {
      "cell_type": "markdown",
      "metadata": {
        "id": "-uMXnSQcZ8rG",
        "colab_type": "text"
      },
      "source": [
        "### Verify the Image and Label Pairs\n"
      ]
    },
    {
      "cell_type": "code",
      "metadata": {
        "id": "Fjzdfj5TZ6jp",
        "colab_type": "code",
        "colab": {
          "base_uri": "https://localhost:8080/",
          "height": 145
        },
        "outputId": "4a655908-f8a2-4cba-ebcc-d47afd198449"
      },
      "source": [
        "# Select a random image to verify\n",
        "array_to_img(train_images[10])"
      ],
      "execution_count": 39,
      "outputs": [
        {
          "output_type": "execute_result",
          "data": {
            "image/png": "[encoded data removed]",
            "text/plain": [
              "<PIL.Image.Image image mode=RGB size=128x128 at 0x7FAD78835898>"
            ]
          },
          "metadata": {
            "tags": []
          },
          "execution_count": 39
        }
      ]
    },
    {
      "cell_type": "code",
      "metadata": {
        "id": "y0p4xIFSZ5fC",
        "colab_type": "code",
        "colab": {
          "base_uri": "https://localhost:8080/",
          "height": 34
        },
        "outputId": "84dd757d-38fd-4f2f-e085-676686450bd4"
      },
      "source": [
        "# Return the respective label and verify that the label matches the image\n",
        "train_labels_final[10, :]"
      ],
      "execution_count": 40,
      "outputs": [
        {
          "output_type": "execute_result",
          "data": {
            "text/plain": [
              "array([1.], dtype=float32)"
            ]
          },
          "metadata": {
            "tags": []
          },
          "execution_count": 40
        }
      ]
    },
    {
      "cell_type": "markdown",
      "metadata": {
        "id": "4VLdxPMuIpfD",
        "colab_type": "text"
      },
      "source": [
        "## Address Validation & Test Datasets"
      ]
    },
    {
      "cell_type": "code",
      "metadata": {
        "id": "CmXApp-95YtX",
        "colab_type": "code",
        "colab": {}
      },
      "source": [
        "xtrain, xval, ytrain, yval = train_test_split(train_images, train_labels_final, train_size=0.9, test_size=0.1, random_state=42)"
      ],
      "execution_count": 35,
      "outputs": []
    },
    {
      "cell_type": "code",
      "metadata": {
        "id": "Jw-UM7aH5ak3",
        "colab_type": "code",
        "colab": {}
      },
      "source": [
        "xtrain, xtest, ytrain, ytest = train_test_split(xtrain, ytrain, train_size=0.78, random_state=42)"
      ],
      "execution_count": null,
      "outputs": []
    },
    {
      "cell_type": "code",
      "metadata": {
        "id": "pxwJ__dv5Zro",
        "colab_type": "code",
        "colab": {}
      },
      "source": [
        ""
      ],
      "execution_count": null,
      "outputs": []
    },
    {
      "cell_type": "markdown",
      "metadata": {
        "id": "jtqNuKoEaWFW",
        "colab_type": "text"
      },
      "source": [
        "# Modeling"
      ]
    },
    {
      "cell_type": "markdown",
      "metadata": {
        "id": "xcHXp0iSadwg",
        "colab_type": "text"
      },
      "source": [
        "## Model 1: Model128_drop"
      ]
    },
    {
      "cell_type": "code",
      "metadata": {
        "id": "Owh_70i3aP-3",
        "colab_type": "code",
        "colab": {}
      },
      "source": [
        "random.seed(123)\n",
        "\n",
        "model1_color = Sequential()\n",
        "\n",
        "model1_color.add(layers.Conv2D(32, (3, 3), activation='relu', kernel_constraint=unit_norm(), input_shape=(128, 128, 3)))\n",
        "model1_color.add(layers.MaxPooling2D((2, 2)))\n",
        "\n",
        "model1_color.add(layers.Conv2D(64, (4, 4), activation='relu'))\n",
        "model1_color.add(layers.MaxPooling2D((2, 2)))\n",
        "\n",
        "model1_color.add(layers.Conv2D(128, (3, 3), activation='relu'))\n",
        "model1_color.add(layers.MaxPooling2D((2,2)))\n",
        "model1_color.add(Dropout(0.4))\n",
        "\n",
        "model1_color.add(layers.Conv2D(128, (3, 3), activation='relu'))\n",
        "model1_color.add(layers.MaxPooling2D((2,2)))\n",
        "\n",
        "model1_color.add(layers.Conv2D(256, (3, 3), activation='relu'))\n",
        "model1_color.add(layers.MaxPooling2D((2,2)))\n",
        "model1_color.add(Dropout(0.4))\n",
        "\n",
        "# Flattening- Convert 2D matrix to a 1D vector\n",
        "model1_color.add(layers.Flatten())\n",
        "model1_color.add(layers.Dense(512, activation = 'relu'))\n",
        "model1_color.add(Dropout(0.2))\n",
        "model1_color.add(layers.Dense(1, activation='sigmoid'))"
      ],
      "execution_count": 41,
      "outputs": []
    },
    {
      "cell_type": "code",
      "metadata": {
        "id": "E8ba0hjRj_aE",
        "colab_type": "code",
        "colab": {
          "base_uri": "https://localhost:8080/",
          "height": 697
        },
        "outputId": "b5a15533-ea9d-4172-f6e5-42c718721bac"
      },
      "source": [
        "model1_color.summary()"
      ],
      "execution_count": 42,
      "outputs": [
        {
          "output_type": "stream",
          "text": [
            "Model: \"sequential\"\n",
            "_________________________________________________________________\n",
            "Layer (type)                 Output Shape              Param #   \n",
            "=================================================================\n",
            "conv2d (Conv2D)              (None, 126, 126, 32)      896       \n",
            "_________________________________________________________________\n",
            "max_pooling2d (MaxPooling2D) (None, 63, 63, 32)        0         \n",
            "_________________________________________________________________\n",
            "conv2d_1 (Conv2D)            (None, 60, 60, 64)        32832     \n",
            "_________________________________________________________________\n",
            "max_pooling2d_1 (MaxPooling2 (None, 30, 30, 64)        0         \n",
            "_________________________________________________________________\n",
            "conv2d_2 (Conv2D)            (None, 28, 28, 128)       73856     \n",
            "_________________________________________________________________\n",
            "max_pooling2d_2 (MaxPooling2 (None, 14, 14, 128)       0         \n",
            "_________________________________________________________________\n",
            "dropout (Dropout)            (None, 14, 14, 128)       0         \n",
            "_________________________________________________________________\n",
            "conv2d_3 (Conv2D)            (None, 12, 12, 128)       147584    \n",
            "_________________________________________________________________\n",
            "max_pooling2d_3 (MaxPooling2 (None, 6, 6, 128)         0         \n",
            "_________________________________________________________________\n",
            "conv2d_4 (Conv2D)            (None, 4, 4, 256)         295168    \n",
            "_________________________________________________________________\n",
            "max_pooling2d_4 (MaxPooling2 (None, 2, 2, 256)         0         \n",
            "_________________________________________________________________\n",
            "dropout_1 (Dropout)          (None, 2, 2, 256)         0         \n",
            "_________________________________________________________________\n",
            "flatten (Flatten)            (None, 1024)              0         \n",
            "_________________________________________________________________\n",
            "dense (Dense)                (None, 512)               524800    \n",
            "_________________________________________________________________\n",
            "dropout_2 (Dropout)          (None, 512)               0         \n",
            "_________________________________________________________________\n",
            "dense_1 (Dense)              (None, 1)                 513       \n",
            "=================================================================\n",
            "Total params: 1,075,649\n",
            "Trainable params: 1,075,649\n",
            "Non-trainable params: 0\n",
            "_________________________________________________________________\n"
          ],
          "name": "stdout"
        }
      ]
    },
    {
      "cell_type": "code",
      "metadata": {
        "id": "mAklexKKkAEz",
        "colab_type": "code",
        "colab": {}
      },
      "source": [
        "model1_color.compile(optimizer='adam',loss='binary_crossentropy', metrics=['accuracy'])"
      ],
      "execution_count": 43,
      "outputs": []
    },
    {
      "cell_type": "code",
      "metadata": {
        "id": "2nz_cCVMkAjI",
        "colab_type": "code",
        "colab": {}
      },
      "source": [
        "# Execute \"early stopping\" to stop the model when the loss has stopped improving\n",
        "early_stopping = [EarlyStopping(monitor='val_loss', patience=10), \n",
        "                  ModelCheckpoint(filepath='model1_color.h5', monitor='val_accuracy', save_best_only=True)]"
      ],
      "execution_count": 44,
      "outputs": []
    },
    {
      "cell_type": "code",
      "metadata": {
        "id": "1IHJvHpkkBwQ",
        "colab_type": "code",
        "colab": {
          "base_uri": "https://localhost:8080/",
          "height": 411
        },
        "outputId": "b5d81501-0753-4104-d87a-b7b9ff6201ac"
      },
      "source": [
        "results1 = model1_color.fit(train_images, train_labels_final, epochs=100, batch_size=1500, callbacks=early_stopping, validation_data=(val_images, val_labels_final))"
      ],
      "execution_count": 47,
      "outputs": [
        {
          "output_type": "stream",
          "text": [
            "Epoch 1/100\n",
            "11/11 [==============================] - 5s 456ms/step - loss: 1.0999 - accuracy: 0.5031 - val_loss: 0.6820 - val_accuracy: 0.5625\n",
            "Epoch 2/100\n",
            "11/11 [==============================] - 4s 377ms/step - loss: 0.5211 - accuracy: 0.7150 - val_loss: 1.3641 - val_accuracy: 0.5000\n",
            "Epoch 3/100\n",
            "11/11 [==============================] - 4s 371ms/step - loss: 0.0570 - accuracy: 0.9924 - val_loss: 9.6966 - val_accuracy: 0.5000\n",
            "Epoch 4/100\n",
            "11/11 [==============================] - 4s 380ms/step - loss: 0.0078 - accuracy: 0.9997 - val_loss: 17.0088 - val_accuracy: 0.5000\n",
            "Epoch 5/100\n",
            "11/11 [==============================] - 4s 378ms/step - loss: 0.0087 - accuracy: 0.9997 - val_loss: 14.1128 - val_accuracy: 0.5625\n",
            "Epoch 6/100\n",
            "11/11 [==============================] - 4s 384ms/step - loss: 0.0074 - accuracy: 0.9997 - val_loss: 11.6745 - val_accuracy: 0.5000\n",
            "Epoch 7/100\n",
            "11/11 [==============================] - 4s 394ms/step - loss: 0.0055 - accuracy: 0.9997 - val_loss: 9.1250 - val_accuracy: 0.5625\n",
            "Epoch 8/100\n",
            "11/11 [==============================] - 4s 399ms/step - loss: 0.0046 - accuracy: 0.9997 - val_loss: 8.5527 - val_accuracy: 0.5000\n",
            "Epoch 9/100\n",
            "11/11 [==============================] - 4s 380ms/step - loss: 0.0028 - accuracy: 0.9997 - val_loss: 8.1251 - val_accuracy: 0.5000\n",
            "Epoch 10/100\n",
            "11/11 [==============================] - 4s 391ms/step - loss: 0.0030 - accuracy: 0.9997 - val_loss: 7.8355 - val_accuracy: 0.5000\n",
            "Epoch 11/100\n",
            "11/11 [==============================] - 4s 382ms/step - loss: 0.0020 - accuracy: 0.9998 - val_loss: 7.9640 - val_accuracy: 0.5000\n"
          ],
          "name": "stdout"
        }
      ]
    },
    {
      "cell_type": "markdown",
      "metadata": {
        "id": "sbhIOP4L717L",
        "colab_type": "text"
      },
      "source": [
        "### Evaluate: Model1_color"
      ]
    },
    {
      "cell_type": "code",
      "metadata": {
        "id": "X6pUcmgRkBBE",
        "colab_type": "code",
        "colab": {
          "base_uri": "https://localhost:8080/",
          "height": 71
        },
        "outputId": "6d1a242f-89eb-4bd6-da44-743589f6842a"
      },
      "source": [
        "model1_color.evaluate(train_images, train_labels_final)"
      ],
      "execution_count": 49,
      "outputs": [
        {
          "output_type": "stream",
          "text": [
            "475/475 [==============================] - 3s 6ms/step - loss: 0.0047 - accuracy: 0.9998\n"
          ],
          "name": "stdout"
        },
        {
          "output_type": "execute_result",
          "data": {
            "text/plain": [
              "[0.004683946259319782, 0.9998025894165039]"
            ]
          },
          "metadata": {
            "tags": []
          },
          "execution_count": 49
        }
      ]
    },
    {
      "cell_type": "code",
      "metadata": {
        "id": "tTwBJHVC8bUX",
        "colab_type": "code",
        "colab": {
          "base_uri": "https://localhost:8080/",
          "height": 71
        },
        "outputId": "4fd2b460-9e38-474e-acb7-8d7f4881d18e"
      },
      "source": [
        "model1_color.evaluate(val_images, val_labels_final)"
      ],
      "execution_count": 50,
      "outputs": [
        {
          "output_type": "stream",
          "text": [
            "1/1 [==============================] - 0s 1ms/step - loss: 7.9640 - accuracy: 0.5000\n"
          ],
          "name": "stdout"
        },
        {
          "output_type": "execute_result",
          "data": {
            "text/plain": [
              "[7.9639763832092285, 0.5]"
            ]
          },
          "metadata": {
            "tags": []
          },
          "execution_count": 50
        }
      ]
    },
    {
      "cell_type": "code",
      "metadata": {
        "id": "23h4wjGO8-LH",
        "colab_type": "code",
        "colab": {}
      },
      "source": [
        "def visualize_training_results(results):\n",
        "    \"\"\"\n",
        "   1 Input: The Training and \n",
        "    Validation/Testing Dictionary \n",
        "    of Loss and Accuracy\n",
        "    \n",
        "    Output: 2 Plots of Loss vs. Epochs\n",
        "    and Accuracy vs. Epochs\n",
        "    \"\"\"\n",
        "    history = results.history\n",
        "    plt.figure()\n",
        "    plt.plot(history['val_loss'])\n",
        "    plt.plot(history['loss'])\n",
        "    plt.legend(['Validation Loss', 'Training Loss'])\n",
        "    plt.title('Loss')\n",
        "    plt.xlabel('Epochs')\n",
        "    plt.ylabel('Loss')\n",
        "    plt.show()\n",
        "    \n",
        "    plt.figure()\n",
        "    plt.plot(history['val_accuracy'])\n",
        "    plt.plot(history['accuracy'])\n",
        "    plt.legend(['Validation Accuracy', 'Training Accuracy'])\n",
        "    plt.title('Accuracy')\n",
        "    plt.xlabel('Epochs')\n",
        "    plt.ylabel('Accuracy')\n",
        "    plt.show()"
      ],
      "execution_count": 51,
      "outputs": []
    },
    {
      "cell_type": "code",
      "metadata": {
        "id": "jy11kBgl8_Pf",
        "colab_type": "code",
        "colab": {
          "base_uri": "https://localhost:8080/",
          "height": 573
        },
        "outputId": "cf081b9c-9f3e-46db-d97f-d925d077c428"
      },
      "source": [
        "visualize_training_results(results1)"
      ],
      "execution_count": 52,
      "outputs": [
        {
          "output_type": "display_data",
          "data": {
            "image/png": "[encoded data removed]",
            "text/plain": [
              "<Figure size 432x288 with 1 Axes>"
            ]
          },
          "metadata": {
            "tags": [],
            "needs_background": "light"
          }
        },
        {
          "output_type": "display_data",
          "data": {
            "image/png": "[encoded data removed]",
            "text/plain": [
              "<Figure size 432x288 with 1 Axes>"
            ]
          },
          "metadata": {
            "tags": [],
            "needs_background": "light"
          }
        }
      ]
    },
    {
      "cell_type": "code",
      "metadata": {
        "id": "JCDblHl78-32",
        "colab_type": "code",
        "colab": {}
      },
      "source": [
        "# Make Predictions\n",
        "preds1 = model1_color.predict(val_images)"
      ],
      "execution_count": 53,
      "outputs": []
    },
    {
      "cell_type": "code",
      "metadata": {
        "id": "XV7P0tg69LcO",
        "colab_type": "code",
        "colab": {}
      },
      "source": [
        "predictions1 = preds1 > 0.5"
      ],
      "execution_count": 54,
      "outputs": []
    },
    {
      "cell_type": "code",
      "metadata": {
        "id": "AilN4VgX9L1M",
        "colab_type": "code",
        "colab": {
          "base_uri": "https://localhost:8080/",
          "height": 103
        },
        "outputId": "76522d9e-2df6-4453-a090-4cf3a90d0b84"
      },
      "source": [
        "# Print the classification report showing the metrics Recall, Precision, and F1-Score\n",
        "classification_report = classification_report(val_labels_final, predictions1)\n",
        "classification_report"
      ],
      "execution_count": 55,
      "outputs": [
        {
          "output_type": "execute_result",
          "data": {
            "application/vnd.google.colaboratory.intrinsic+json": {
              "type": "string"
            },
            "text/plain": [
              "'              precision    recall  f1-score   support\\n\\n         0.0       0.50      0.25      0.33         8\\n         1.0       0.50      0.75      0.60         8\\n\\n    accuracy                           0.50        16\\n   macro avg       0.50      0.50      0.47        16\\nweighted avg       0.50      0.50      0.47        16\\n'"
            ]
          },
          "metadata": {
            "tags": []
          },
          "execution_count": 55
        }
      ]
    },
    {
      "cell_type": "code",
      "metadata": {
        "id": "QBc1bxNG9MPM",
        "colab_type": "code",
        "colab": {}
      },
      "source": [
        "# Plot a confusion matrix\n",
        "def plot_confusion_matrix(labels, preds):\n",
        "    \"\"\"\n",
        "    Input: Validation/Testing Labels and\n",
        "    model predictions\n",
        "    \n",
        "    Output: A confusion matrix\n",
        "    \n",
        "    \"\"\"\n",
        "    \n",
        "    cnf_matrix = confusion_matrix(labels, preds)\n",
        "\n",
        "    # Create the basic confusion matrix\n",
        "    plt.imshow(cnf_matrix,  cmap=plt.cm.Blues) \n",
        "\n",
        "    # Add title and axis labels\n",
        "    plt.title('Confusion Matrix')\n",
        "    plt.ylabel('True label')\n",
        "    plt.xlabel('Predicted label')\n",
        "\n",
        "    # Add appropriate axis scales\n",
        "    y = train_gen.class_indices\n",
        "    class_names = set(y) # Get class labels to add to matrix\n",
        "    tick_marks = np.arange(len(class_names))\n",
        "    plt.xticks(tick_marks, class_names, rotation=45)\n",
        "    plt.yticks(tick_marks, class_names)\n",
        "\n",
        "    # Add labels to each cell\n",
        "    thresh = cnf_matrix.max() / 2. # Used for text coloring below\n",
        "    # Here we iterate through the confusion matrix and append labels to our visualization \n",
        "    for i, j in itertools.product(range(cnf_matrix.shape[0]), range(cnf_matrix.shape[1])):\n",
        "            plt.text(j, i, cnf_matrix[i, j],\n",
        "                     horizontalalignment='center',\n",
        "                     color='white' if cnf_matrix[i, j] > thresh else 'black')\n",
        "\n",
        "    # Add a legend\n",
        "    plt.colorbar()\n",
        "    plt.show()"
      ],
      "execution_count": 58,
      "outputs": []
    },
    {
      "cell_type": "code",
      "metadata": {
        "id": "yDJjIIEP9nn9",
        "colab_type": "code",
        "colab": {
          "base_uri": "https://localhost:8080/",
          "height": 335
        },
        "outputId": "dcfb0aca-5584-47c3-e3d3-778bc49003d5"
      },
      "source": [
        "plot_confusion_matrix(val_labels_final, predictions1)"
      ],
      "execution_count": 59,
      "outputs": [
        {
          "output_type": "display_data",
          "data": {
            "image/png": "[encoded data removed]",
            "text/plain": [
              "<Figure size 432x288 with 2 Axes>"
            ]
          },
          "metadata": {
            "tags": [],
            "needs_background": "light"
          }
        }
      ]
    },
    {
      "cell_type": "code",
      "metadata": {
        "id": "4oUwA4Wv9ohj",
        "colab_type": "code",
        "colab": {}
      },
      "source": [
        ""
      ],
      "execution_count": null,
      "outputs": []
    },
    {
      "cell_type": "markdown",
      "metadata": {
        "id": "pqqNBH8Zb4lL",
        "colab_type": "text"
      },
      "source": [
        "# Model 2: Dropout Regularization (Model 4)"
      ]
    },
    {
      "cell_type": "code",
      "metadata": {
        "id": "0tJ6sAjY89Ae",
        "colab_type": "code",
        "colab": {}
      },
      "source": [
        ""
      ],
      "execution_count": null,
      "outputs": []
    },
    {
      "cell_type": "code",
      "metadata": {
        "id": "tHbeBQlUb3RX",
        "colab_type": "code",
        "colab": {}
      },
      "source": [
        ""
      ],
      "execution_count": null,
      "outputs": []
    },
    {
      "cell_type": "markdown",
      "metadata": {
        "id": "3qGR7jMwa9yq",
        "colab_type": "text"
      },
      "source": [
        "## Model 3: Model_short"
      ]
    },
    {
      "cell_type": "code",
      "metadata": {
        "id": "VmPxp_IQaTDP",
        "colab_type": "code",
        "colab": {}
      },
      "source": [
        "random.seed(123)\n",
        "\n",
        "model_short = Sequential()\n",
        "\n",
        "model_short.add(layers.Conv2D(32, (4, 4), activation='relu', kernel_constraint=unit_norm(), input_shape=(128, 128, 3)))\n",
        "model_short.add(layers.MaxPooling2D((2, 2)))\n",
        "model_short.add(Dropout(0.4))\n",
        "\n",
        "model_short.add(layers.Conv2D(64, (3, 3), activation='relu'))\n",
        "model_short.add(layers.MaxPooling2D((2,2)))\n",
        "model_short.add(Dropout(0.4))\n",
        "\n",
        "# Flattening- Convert 2D matrix to a 1D vector\n",
        "model_short.add(layers.Flatten())\n",
        "model_short.add(layers.Dense(512, activation = 'relu'))\n",
        "model_short.add(Dropout(0.2))\n",
        "model_short.add(layers.Dense(1, activation='sigmoid'))"
      ],
      "execution_count": 93,
      "outputs": []
    },
    {
      "cell_type": "code",
      "metadata": {
        "id": "Q4Ouli6q-Bxf",
        "colab_type": "code",
        "colab": {
          "base_uri": "https://localhost:8080/",
          "height": 493
        },
        "outputId": "cbbe981a-8b31-4262-85c5-108fdddb06b6"
      },
      "source": [
        "model_short.summary()"
      ],
      "execution_count": 94,
      "outputs": [
        {
          "output_type": "stream",
          "text": [
            "Model: \"sequential_5\"\n",
            "_________________________________________________________________\n",
            "Layer (type)                 Output Shape              Param #   \n",
            "=================================================================\n",
            "conv2d_13 (Conv2D)           (None, 125, 125, 32)      1568      \n",
            "_________________________________________________________________\n",
            "max_pooling2d_13 (MaxPooling (None, 62, 62, 32)        0         \n",
            "_________________________________________________________________\n",
            "dropout_15 (Dropout)         (None, 62, 62, 32)        0         \n",
            "_________________________________________________________________\n",
            "conv2d_14 (Conv2D)           (None, 60, 60, 64)        18496     \n",
            "_________________________________________________________________\n",
            "max_pooling2d_14 (MaxPooling (None, 30, 30, 64)        0         \n",
            "_________________________________________________________________\n",
            "dropout_16 (Dropout)         (None, 30, 30, 64)        0         \n",
            "_________________________________________________________________\n",
            "flatten_5 (Flatten)          (None, 57600)             0         \n",
            "_________________________________________________________________\n",
            "dense_10 (Dense)             (None, 512)               29491712  \n",
            "_________________________________________________________________\n",
            "dropout_17 (Dropout)         (None, 512)               0         \n",
            "_________________________________________________________________\n",
            "dense_11 (Dense)             (None, 1)                 513       \n",
            "=================================================================\n",
            "Total params: 29,512,289\n",
            "Trainable params: 29,512,289\n",
            "Non-trainable params: 0\n",
            "_________________________________________________________________\n"
          ],
          "name": "stdout"
        }
      ]
    },
    {
      "cell_type": "code",
      "metadata": {
        "id": "quJdU4O_-FPD",
        "colab_type": "code",
        "colab": {}
      },
      "source": [
        "model_short.compile(optimizer='adam',loss='binary_crossentropy', metrics=['accuracy'])"
      ],
      "execution_count": 95,
      "outputs": []
    },
    {
      "cell_type": "code",
      "metadata": {
        "id": "2V78E3Cu-IqJ",
        "colab_type": "code",
        "colab": {}
      },
      "source": [
        "save_model = ModelCheckpoint(filepath='model_colorshort.h5', monitor='val_accuracy', save_best_only=True)"
      ],
      "execution_count": 96,
      "outputs": []
    },
    {
      "cell_type": "code",
      "metadata": {
        "id": "vaOR6OVOcnZg",
        "colab_type": "code",
        "colab": {
          "base_uri": "https://localhost:8080/",
          "height": 34
        },
        "outputId": "8b322c8c-6a8c-4c39-845b-341c907bc750"
      },
      "source": [
        "val_images.shape"
      ],
      "execution_count": 97,
      "outputs": [
        {
          "output_type": "execute_result",
          "data": {
            "text/plain": [
              "(16, 128, 128, 3)"
            ]
          },
          "metadata": {
            "tags": []
          },
          "execution_count": 97
        }
      ]
    },
    {
      "cell_type": "code",
      "metadata": {
        "id": "FmB4rJje-NtX",
        "colab_type": "code",
        "colab": {
          "base_uri": "https://localhost:8080/",
          "height": 411
        },
        "outputId": "5642aa91-c16e-4036-a493-201e275b5394"
      },
      "source": [
        "test_results2 = model_short.fit(train_images, train_labels_final, epochs=11, batch_size=256, callbacks=save_model, validation_data=(val_images, val_labels_final))"
      ],
      "execution_count": 98,
      "outputs": [
        {
          "output_type": "stream",
          "text": [
            "Epoch 1/11\n",
            "60/60 [==============================] - 6s 97ms/step - loss: 11.0957 - accuracy: 0.5069 - val_loss: 0.6780 - val_accuracy: 0.5000\n",
            "Epoch 2/11\n",
            "60/60 [==============================] - 5s 77ms/step - loss: 0.4212 - accuracy: 0.8679 - val_loss: 0.6590 - val_accuracy: 0.5000\n",
            "Epoch 3/11\n",
            "60/60 [==============================] - 5s 77ms/step - loss: 0.4004 - accuracy: 0.9015 - val_loss: 0.6533 - val_accuracy: 0.5000\n",
            "Epoch 4/11\n",
            "60/60 [==============================] - 5s 76ms/step - loss: 0.3940 - accuracy: 0.8964 - val_loss: 0.6504 - val_accuracy: 0.5000\n",
            "Epoch 5/11\n",
            "60/60 [==============================] - 6s 95ms/step - loss: 0.3830 - accuracy: 0.8981 - val_loss: 0.6374 - val_accuracy: 0.6875\n",
            "Epoch 6/11\n",
            "60/60 [==============================] - 5s 75ms/step - loss: 0.3739 - accuracy: 0.8983 - val_loss: 0.6375 - val_accuracy: 0.6875\n",
            "Epoch 7/11\n",
            "60/60 [==============================] - 5s 75ms/step - loss: 0.3679 - accuracy: 0.8958 - val_loss: 0.6357 - val_accuracy: 0.6875\n",
            "Epoch 8/11\n",
            "60/60 [==============================] - 5s 76ms/step - loss: 0.3579 - accuracy: 0.8978 - val_loss: 0.6328 - val_accuracy: 0.6875\n",
            "Epoch 9/11\n",
            "60/60 [==============================] - 5s 76ms/step - loss: 0.3489 - accuracy: 0.9001 - val_loss: 0.6294 - val_accuracy: 0.6875\n",
            "Epoch 10/11\n",
            "60/60 [==============================] - 4s 74ms/step - loss: 0.3410 - accuracy: 0.9014 - val_loss: 0.6280 - val_accuracy: 0.6875\n",
            "Epoch 11/11\n",
            "60/60 [==============================] - 5s 76ms/step - loss: 0.3371 - accuracy: 0.8989 - val_loss: 0.6303 - val_accuracy: 0.6250\n"
          ],
          "name": "stdout"
        }
      ]
    },
    {
      "cell_type": "code",
      "metadata": {
        "id": "R8n158UR-cDF",
        "colab_type": "code",
        "colab": {}
      },
      "source": [
        ""
      ],
      "execution_count": null,
      "outputs": []
    }
  ]
}