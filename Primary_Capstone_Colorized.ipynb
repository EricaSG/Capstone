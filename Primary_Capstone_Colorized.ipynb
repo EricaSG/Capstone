{
  "nbformat": 4,
  "nbformat_minor": 0,
  "metadata": {
    "colab": {
      "name": "Primary_Capstone_Colorized",
      "provenance": [],
      "toc_visible": true,
      "machine_shape": "hm",
      "authorship_tag": "ABX9TyP74tj/bXnUbGFtXOq/Beaw",
      "include_colab_link": true
    },
    "kernelspec": {
      "name": "python3",
      "display_name": "Python 3"
    },
    "accelerator": "GPU"
  },
  "cells": [
    {
      "cell_type": "markdown",
      "metadata": {
        "id": "view-in-github",
        "colab_type": "text"
      },
      "source": [
        "<a href=\"https://colab.research.google.com/github/EricaSG/Capstone/blob/master/Primary_Capstone_Colorized.ipynb\" target=\"_parent\"><img src=\"https://colab.research.google.com/assets/colab-badge.svg\" alt=\"Open In Colab\"/></a>"
      ]
    },
    {
      "cell_type": "markdown",
      "metadata": {
        "id": "CJup4YF-IZz4",
        "colab_type": "text"
      },
      "source": [
        "# Import Necessary Libraries and Data"
      ]
    },
    {
      "cell_type": "code",
      "metadata": {
        "id": "Y6kPSz6BH1JK",
        "colab_type": "code",
        "colab": {
          "base_uri": "https://localhost:8080/",
          "height": 35
        },
        "outputId": "ffd7b43a-9ab1-4d8d-a5be-d35cbef98830"
      },
      "source": [
        "import tensorflow as tf\n",
        "tf.test.gpu_device_name()"
      ],
      "execution_count": 1,
      "outputs": [
        {
          "output_type": "execute_result",
          "data": {
            "application/vnd.google.colaboratory.intrinsic+json": {
              "type": "string"
            },
            "text/plain": [
              "'/device:GPU:0'"
            ]
          },
          "metadata": {
            "tags": []
          },
          "execution_count": 1
        }
      ]
    },
    {
      "cell_type": "code",
      "metadata": {
        "id": "EJGKGgGtafnP",
        "colab_type": "code",
        "colab": {
          "base_uri": "https://localhost:8080/",
          "height": 476
        },
        "outputId": "f1901806-db88-46ce-987a-2686530a9ce3"
      },
      "source": [
        "from tensorflow.python.client import device_lib\n",
        "\n",
        "device_lib.list_local_devices()"
      ],
      "execution_count": 2,
      "outputs": [
        {
          "output_type": "execute_result",
          "data": {
            "text/plain": [
              "[name: \"/device:CPU:0\"\n",
              " device_type: \"CPU\"\n",
              " memory_limit: 268435456\n",
              " locality {\n",
              " }\n",
              " incarnation: 3944977603758228562, name: \"/device:XLA_CPU:0\"\n",
              " device_type: \"XLA_CPU\"\n",
              " memory_limit: 17179869184\n",
              " locality {\n",
              " }\n",
              " incarnation: 6582960944978845386\n",
              " physical_device_desc: \"device: XLA_CPU device\", name: \"/device:XLA_GPU:0\"\n",
              " device_type: \"XLA_GPU\"\n",
              " memory_limit: 17179869184\n",
              " locality {\n",
              " }\n",
              " incarnation: 6423796399755250966\n",
              " physical_device_desc: \"device: XLA_GPU device\", name: \"/device:GPU:0\"\n",
              " device_type: \"GPU\"\n",
              " memory_limit: 15473652544\n",
              " locality {\n",
              "   bus_id: 1\n",
              "   links {\n",
              "   }\n",
              " }\n",
              " incarnation: 8366605205316171567\n",
              " physical_device_desc: \"device: 0, name: Tesla V100-SXM2-16GB, pci bus id: 0000:00:04.0, compute capability: 7.0\"]"
            ]
          },
          "metadata": {
            "tags": []
          },
          "execution_count": 2
        }
      ]
    },
    {
      "cell_type": "code",
      "metadata": {
        "id": "tkpFMCFAII2i",
        "colab_type": "code",
        "colab": {
          "base_uri": "https://localhost:8080/",
          "height": 122
        },
        "outputId": "b19a3832-6d3c-4165-ecc4-3ef50084cb88"
      },
      "source": [
        "from google.colab import drive\n",
        "drive.mount('/content/drive')"
      ],
      "execution_count": 3,
      "outputs": [
        {
          "output_type": "stream",
          "text": [
            "Go to this URL in a browser: https://accounts.google.com/o/oauth2/auth?client_id=947318989803-6bn6qk8qdgf4n4g3pfee6491hc0brc4i.apps.googleusercontent.com&redirect_uri=urn%3aietf%3awg%3aoauth%3a2.0%3aoob&scope=email%20https%3a%2f%2fwww.googleapis.com%2fauth%2fdocs.test%20https%3a%2f%2fwww.googleapis.com%2fauth%2fdrive%20https%3a%2f%2fwww.googleapis.com%2fauth%2fdrive.photos.readonly%20https%3a%2f%2fwww.googleapis.com%2fauth%2fpeopleapi.readonly&response_type=code\n",
            "\n",
            "Enter your authorization code:\n",
            "··········\n",
            "Mounted at /content/drive\n"
          ],
          "name": "stdout"
        }
      ]
    },
    {
      "cell_type": "code",
      "metadata": {
        "id": "dPL487CsbD-X",
        "colab_type": "code",
        "colab": {}
      },
      "source": [
        "# Use the TensorFlow backend\n",
        "from tensorflow import keras"
      ],
      "execution_count": 4,
      "outputs": []
    },
    {
      "cell_type": "code",
      "metadata": {
        "id": "kCnxf9umISkb",
        "colab_type": "code",
        "colab": {}
      },
      "source": [
        "import warnings\n",
        "warnings.filterwarnings('ignore')\n",
        "import random \n",
        "from keras.preprocessing.image import ImageDataGenerator, array_to_img, img_to_array, load_img\n",
        "import numpy as np\n",
        "import os\n",
        "import matplotlib.pyplot as plt\n",
        "%matplotlib inline\n",
        "\n",
        "from keras import layers\n",
        "from keras.models import Sequential\n",
        "from sklearn.model_selection import train_test_split, cross_val_predict\n",
        "from keras import regularizers\n",
        "from keras.wrappers.scikit_learn import KerasRegressor\n",
        "from keras.layers import Convolution2D, MaxPooling2D, Flatten, Dense, Dropout\n",
        "from keras.callbacks import EarlyStopping, ModelCheckpoint\n",
        "from sklearn.metrics import classification_report, confusion_matrix, mean_squared_error\n",
        "import itertools\n",
        "from keras.applications.vgg16 import preprocess_input, VGG16\n",
        "from keras.optimizers import Adam, Adadelta, Adagrad, SGD, RMSprop\n",
        "from keras import initializers\n",
        "from keras.constraints import unit_norm, min_max_norm\n",
        "from keras.applications.inception_v3 import InceptionV3"
      ],
      "execution_count": 5,
      "outputs": []
    },
    {
      "cell_type": "code",
      "metadata": {
        "id": "wbDlPFmtfwdm",
        "colab_type": "code",
        "colab": {}
      },
      "source": [
        "!unzip -uq \"/content/drive/My Drive/Colorized_Images.zip\" -d \"/content/drive/My Drive/\""
      ],
      "execution_count": 8,
      "outputs": []
    },
    {
      "cell_type": "code",
      "metadata": {
        "id": "wKnTH7zhIoh1",
        "colab_type": "code",
        "colab": {}
      },
      "source": [
        "# Use if downloading from a local machine\n",
        "# train_color = 'Colorized_Images/c_train/'\n",
        "# val_color = 'Colorized_Images/c_val/'\n",
        "# test_color = 'Colorized_Images/c_test/'"
      ],
      "execution_count": null,
      "outputs": []
    },
    {
      "cell_type": "code",
      "metadata": {
        "id": "Tg3PBW66I5ee",
        "colab_type": "code",
        "colab": {}
      },
      "source": [
        "# Use if downloading from the cloud\n",
        "train_color = '/content/drive/My Drive/Colorized_Images/c_train/'\n",
        "val_color = '/content/drive/My Drive/Colorized_Images/c_val/'\n",
        "test_color = '/content/drive/My Drive/Colorized_Images/c_test/'"
      ],
      "execution_count": 9,
      "outputs": []
    },
    {
      "cell_type": "markdown",
      "metadata": {
        "id": "pSieFD0SJZlG",
        "colab_type": "text"
      },
      "source": [
        "# Preprocessing"
      ]
    },
    {
      "cell_type": "markdown",
      "metadata": {
        "id": "bQWTp2KZJeTI",
        "colab_type": "text"
      },
      "source": [
        "## Read in & Normalize Images"
      ]
    },
    {
      "cell_type": "code",
      "metadata": {
        "id": "4uP52g1_JVho",
        "colab_type": "code",
        "colab": {
          "base_uri": "https://localhost:8080/",
          "height": 34
        },
        "outputId": "2b831d4e-9c95-415b-dc2d-a75ee8cfe41f"
      },
      "source": [
        "# Resize all 15,200 images in the train directory\n",
        "train_gen = ImageDataGenerator(rescale=1./255).flow_from_directory(train_color,\n",
        "                                                     target_size=(128,128), batch_size=15200)"
      ],
      "execution_count": 10,
      "outputs": [
        {
          "output_type": "stream",
          "text": [
            "Found 15198 images belonging to 2 classes.\n"
          ],
          "name": "stdout"
        }
      ]
    },
    {
      "cell_type": "code",
      "metadata": {
        "id": "SvgB9_4OJ_8I",
        "colab_type": "code",
        "colab": {
          "base_uri": "https://localhost:8080/",
          "height": 34
        },
        "outputId": "f0741e0d-e803-4d0b-e460-8aba9c2dfe86"
      },
      "source": [
        "val_gen = ImageDataGenerator(rescale=1./255).flow_from_directory(val_color,\n",
        "                                                     target_size=(128,128), batch_size=16)"
      ],
      "execution_count": 11,
      "outputs": [
        {
          "output_type": "stream",
          "text": [
            "Found 16 images belonging to 2 classes.\n"
          ],
          "name": "stdout"
        }
      ]
    },
    {
      "cell_type": "code",
      "metadata": {
        "id": "iefZEuwtKG08",
        "colab_type": "code",
        "colab": {
          "base_uri": "https://localhost:8080/",
          "height": 34
        },
        "outputId": "6e0808be-a8b3-40c8-9bd7-46e0ef0ef9da"
      },
      "source": [
        "test_gen = ImageDataGenerator(rescale=1./255).flow_from_directory(test_color,\n",
        "                                                     target_size=(128,128), batch_size=624)"
      ],
      "execution_count": 12,
      "outputs": [
        {
          "output_type": "stream",
          "text": [
            "Found 622 images belonging to 2 classes.\n"
          ],
          "name": "stdout"
        }
      ]
    },
    {
      "cell_type": "markdown",
      "metadata": {
        "id": "JbIl6SfpYLch",
        "colab_type": "text"
      },
      "source": [
        "## Generate Image & Label Sets"
      ]
    },
    {
      "cell_type": "code",
      "metadata": {
        "id": "yU5nJss6YKyL",
        "colab_type": "code",
        "colab": {}
      },
      "source": [
        "# Iterate through all of the images and create image-label datasets\n",
        "train_images, train_labels = next(train_gen)"
      ],
      "execution_count": 14,
      "outputs": []
    },
    {
      "cell_type": "code",
      "metadata": {
        "id": "AMRotw7TYvrQ",
        "colab_type": "code",
        "colab": {}
      },
      "source": [
        "val_images, val_labels = next(val_gen)"
      ],
      "execution_count": 15,
      "outputs": []
    },
    {
      "cell_type": "code",
      "metadata": {
        "id": "Z-SWrBlvY04q",
        "colab_type": "code",
        "colab": {}
      },
      "source": [
        "test_images, test_labels = next(test_gen)"
      ],
      "execution_count": 16,
      "outputs": []
    },
    {
      "cell_type": "code",
      "metadata": {
        "id": "AwjYvxc_l-2Q",
        "colab_type": "code",
        "colab": {
          "base_uri": "https://localhost:8080/",
          "height": 34
        },
        "outputId": "91010dce-f04f-401f-bf8b-c1630449b619"
      },
      "source": [
        "# Verify the class labels\n",
        "train_gen.class_indices"
      ],
      "execution_count": 17,
      "outputs": [
        {
          "output_type": "execute_result",
          "data": {
            "text/plain": [
              "{'NORMAL': 0, 'PNEUMONIA': 1}"
            ]
          },
          "metadata": {
            "tags": []
          },
          "execution_count": 17
        }
      ]
    },
    {
      "cell_type": "code",
      "metadata": {
        "id": "ZMIaVyF2Y6CZ",
        "colab_type": "code",
        "colab": {
          "base_uri": "https://localhost:8080/",
          "height": 51
        },
        "outputId": "526c672b-65f4-42c6-8b9c-3d70a6caf123"
      },
      "source": [
        "# Recheck for Class Imbalance\n",
        "u = np.unique(train_labels, return_counts=True)\n",
        "np.asarray(u).T"
      ],
      "execution_count": 18,
      "outputs": [
        {
          "output_type": "execute_result",
          "data": {
            "text/plain": [
              "array([[0.0000e+00, 1.5198e+04],\n",
              "       [1.0000e+00, 1.5198e+04]])"
            ]
          },
          "metadata": {
            "tags": []
          },
          "execution_count": 18
        }
      ]
    },
    {
      "cell_type": "markdown",
      "metadata": {
        "id": "TFuEwwnlY_1X",
        "colab_type": "text"
      },
      "source": [
        "## Check the Shape of the Images and Labels"
      ]
    },
    {
      "cell_type": "code",
      "metadata": {
        "id": "_EmnujjZY-gG",
        "colab_type": "code",
        "colab": {
          "base_uri": "https://localhost:8080/",
          "height": 119
        },
        "outputId": "66958b71-1d39-450d-fdc1-89263b4710b3"
      },
      "source": [
        "print('Shape of Train Images: ', np.shape(train_images))\n",
        "print('Shape of Train Labels: ', np.shape(train_labels))\n",
        "print('Shape of Validation Images: ', np.shape(val_images))\n",
        "print('Shape of Validation Labels: ', np.shape(val_labels))\n",
        "print('Shape of Test Images: ', np.shape(test_images))\n",
        "print('Shape of Test Labels: ', np.shape(test_labels))"
      ],
      "execution_count": 19,
      "outputs": [
        {
          "output_type": "stream",
          "text": [
            "Shape of Train Images:  (15198, 128, 128, 3)\n",
            "Shape of Train Labels:  (15198, 2)\n",
            "Shape of Validation Images:  (16, 128, 128, 3)\n",
            "Shape of Validation Labels:  (16, 2)\n",
            "Shape of Test Images:  (622, 128, 128, 3)\n",
            "Shape of Test Labels:  (622, 2)\n"
          ],
          "name": "stdout"
        }
      ]
    },
    {
      "cell_type": "markdown",
      "metadata": {
        "id": "eS5TDq86ZWWr",
        "colab_type": "text"
      },
      "source": [
        "### Transform the labels to (m X 1) matrices"
      ]
    },
    {
      "cell_type": "code",
      "metadata": {
        "id": "OYuzljbZZQ_w",
        "colab_type": "code",
        "colab": {
          "base_uri": "https://localhost:8080/",
          "height": 34
        },
        "outputId": "143dddb9-27ba-4c99-8b56-5ce9db305d08"
      },
      "source": [
        "train_labels_final = np.reshape(train_labels[:,0], (15198,1))\n",
        "np.shape(train_labels_final)"
      ],
      "execution_count": 20,
      "outputs": [
        {
          "output_type": "execute_result",
          "data": {
            "text/plain": [
              "(15198, 1)"
            ]
          },
          "metadata": {
            "tags": []
          },
          "execution_count": 20
        }
      ]
    },
    {
      "cell_type": "code",
      "metadata": {
        "id": "JbWXlEPjZVMv",
        "colab_type": "code",
        "colab": {
          "base_uri": "https://localhost:8080/",
          "height": 34
        },
        "outputId": "512e29ea-9841-4dfd-fa8e-8ac34541e9ad"
      },
      "source": [
        "val_labels_final = np.reshape(val_labels[:,0], (16,1))\n",
        "np.shape(val_labels_final)"
      ],
      "execution_count": 21,
      "outputs": [
        {
          "output_type": "execute_result",
          "data": {
            "text/plain": [
              "(16, 1)"
            ]
          },
          "metadata": {
            "tags": []
          },
          "execution_count": 21
        }
      ]
    },
    {
      "cell_type": "code",
      "metadata": {
        "id": "1zNy6vvFZUR5",
        "colab_type": "code",
        "colab": {
          "base_uri": "https://localhost:8080/",
          "height": 34
        },
        "outputId": "ba4c9693-8e76-4b79-c99b-9b8f8a82680b"
      },
      "source": [
        "test_labels_final = np.reshape(test_labels[:,0], (622,1))\n",
        "np.shape(test_labels_final)"
      ],
      "execution_count": 22,
      "outputs": [
        {
          "output_type": "execute_result",
          "data": {
            "text/plain": [
              "(622, 1)"
            ]
          },
          "metadata": {
            "tags": []
          },
          "execution_count": 22
        }
      ]
    },
    {
      "cell_type": "markdown",
      "metadata": {
        "id": "-uMXnSQcZ8rG",
        "colab_type": "text"
      },
      "source": [
        "### Verify the Image and Label Pairs\n"
      ]
    },
    {
      "cell_type": "code",
      "metadata": {
        "id": "Fjzdfj5TZ6jp",
        "colab_type": "code",
        "colab": {
          "base_uri": "https://localhost:8080/",
          "height": 145
        },
        "outputId": "4a655908-f8a2-4cba-ebcc-d47afd198449"
      },
      "source": [
        "# Select a random image to verify\n",
        "array_to_img(train_images[10])"
      ],
      "execution_count": null,
      "outputs": [
        {
          "output_type": "execute_result",
          "data": {
            "image/png": "[encoded data removed]",
            "text/plain": [
              "<PIL.Image.Image image mode=RGB size=128x128 at 0x7FAD78835898>"
            ]
          },
          "metadata": {
            "tags": []
          },
          "execution_count": 39
        }
      ]
    },
    {
      "cell_type": "code",
      "metadata": {
        "id": "y0p4xIFSZ5fC",
        "colab_type": "code",
        "colab": {
          "base_uri": "https://localhost:8080/",
          "height": 34
        },
        "outputId": "84dd757d-38fd-4f2f-e085-676686450bd4"
      },
      "source": [
        "# Return the respective label and verify that the label matches the image\n",
        "train_labels_final[10, :]"
      ],
      "execution_count": null,
      "outputs": [
        {
          "output_type": "execute_result",
          "data": {
            "text/plain": [
              "array([1.], dtype=float32)"
            ]
          },
          "metadata": {
            "tags": []
          },
          "execution_count": 40
        }
      ]
    },
    {
      "cell_type": "markdown",
      "metadata": {
        "id": "4VLdxPMuIpfD",
        "colab_type": "text"
      },
      "source": [
        "## Address Imbalance in Validation & Test Datasets"
      ]
    },
    {
      "cell_type": "code",
      "metadata": {
        "id": "CmXApp-95YtX",
        "colab_type": "code",
        "colab": {}
      },
      "source": [
        "Xtrain, Xval, ytrain, yval = train_test_split(train_images, train_labels_final, train_size=0.9, test_size=0.1, random_state=42)"
      ],
      "execution_count": 23,
      "outputs": []
    },
    {
      "cell_type": "code",
      "metadata": {
        "id": "Jw-UM7aH5ak3",
        "colab_type": "code",
        "colab": {}
      },
      "source": [
        "Xtrain, Xtest, ytrain, ytest = train_test_split(Xtrain, ytrain, train_size=0.78, random_state=42)"
      ],
      "execution_count": 24,
      "outputs": []
    },
    {
      "cell_type": "markdown",
      "metadata": {
        "id": "jtqNuKoEaWFW",
        "colab_type": "text"
      },
      "source": [
        "# Modeling"
      ]
    },
    {
      "cell_type": "markdown",
      "metadata": {
        "id": "xcHXp0iSadwg",
        "colab_type": "text"
      },
      "source": [
        "## Model 1: Model1_color\n",
        "\n",
        "> Indented block\n",
        "\n"
      ]
    },
    {
      "cell_type": "code",
      "metadata": {
        "id": "Owh_70i3aP-3",
        "colab_type": "code",
        "colab": {}
      },
      "source": [
        "random.seed(123)\n",
        "\n",
        "model1_color = Sequential()\n",
        "\n",
        "model1_color.add(layers.Conv2D(32, (3, 3), activation='relu', input_shape=(128, 128, 3)))\n",
        "model1_color.add(layers.MaxPooling2D((2, 2)))\n",
        "\n",
        "model1_color.add(layers.Conv2D(64, (4, 4), activation='relu'))\n",
        "model1_color.add(layers.MaxPooling2D((2, 2)))\n",
        "\n",
        "model1_color.add(layers.Conv2D(128, (3, 3), activation='relu'))\n",
        "model1_color.add(layers.MaxPooling2D((2,2)))\n",
        "\n",
        "# Flattening- Convert 2D matrix to a 1D vector\n",
        "model1_color.add(layers.Flatten())\n",
        "model1_color.add(layers.Dense(256, activation = 'relu'))\n",
        "model1_color.add(layers.Dense(1, activation='sigmoid'))"
      ],
      "execution_count": 25,
      "outputs": []
    },
    {
      "cell_type": "code",
      "metadata": {
        "id": "E8ba0hjRj_aE",
        "colab_type": "code",
        "colab": {
          "base_uri": "https://localhost:8080/",
          "height": 459
        },
        "outputId": "d5696a02-41d1-41d1-bfdf-b14041ee1aea"
      },
      "source": [
        "model1_color.summary()"
      ],
      "execution_count": 26,
      "outputs": [
        {
          "output_type": "stream",
          "text": [
            "Model: \"sequential\"\n",
            "_________________________________________________________________\n",
            "Layer (type)                 Output Shape              Param #   \n",
            "=================================================================\n",
            "conv2d (Conv2D)              (None, 126, 126, 32)      896       \n",
            "_________________________________________________________________\n",
            "max_pooling2d (MaxPooling2D) (None, 63, 63, 32)        0         \n",
            "_________________________________________________________________\n",
            "conv2d_1 (Conv2D)            (None, 60, 60, 64)        32832     \n",
            "_________________________________________________________________\n",
            "max_pooling2d_1 (MaxPooling2 (None, 30, 30, 64)        0         \n",
            "_________________________________________________________________\n",
            "conv2d_2 (Conv2D)            (None, 28, 28, 128)       73856     \n",
            "_________________________________________________________________\n",
            "max_pooling2d_2 (MaxPooling2 (None, 14, 14, 128)       0         \n",
            "_________________________________________________________________\n",
            "flatten (Flatten)            (None, 25088)             0         \n",
            "_________________________________________________________________\n",
            "dense (Dense)                (None, 256)               6422784   \n",
            "_________________________________________________________________\n",
            "dense_1 (Dense)              (None, 1)                 257       \n",
            "=================================================================\n",
            "Total params: 6,530,625\n",
            "Trainable params: 6,530,625\n",
            "Non-trainable params: 0\n",
            "_________________________________________________________________\n"
          ],
          "name": "stdout"
        }
      ]
    },
    {
      "cell_type": "code",
      "metadata": {
        "id": "mAklexKKkAEz",
        "colab_type": "code",
        "colab": {}
      },
      "source": [
        "model1_color.compile(optimizer='adam',loss='binary_crossentropy', metrics=['accuracy'])"
      ],
      "execution_count": 27,
      "outputs": []
    },
    {
      "cell_type": "code",
      "metadata": {
        "id": "2nz_cCVMkAjI",
        "colab_type": "code",
        "colab": {}
      },
      "source": [
        "# Execute \"early stopping\" to stop the model when the loss has stopped improving\n",
        "early_stopping = [EarlyStopping(monitor='val_loss', patience=10), \n",
        "                  ModelCheckpoint(filepath='model1_color.h5', monitor='val_accuracy', save_best_only=True)]"
      ],
      "execution_count": 28,
      "outputs": []
    },
    {
      "cell_type": "code",
      "metadata": {
        "id": "1IHJvHpkkBwQ",
        "colab_type": "code",
        "colab": {
          "base_uri": "https://localhost:8080/",
          "height": 1000
        },
        "outputId": "230fa6a7-1f17-4f27-be42-273c7bbb00e4"
      },
      "source": [
        "results1 = model1_color.fit(Xtrain, ytrain, epochs=100, batch_size=250, callbacks=early_stopping, validation_data=(Xval, yval))"
      ],
      "execution_count": 29,
      "outputs": [
        {
          "output_type": "stream",
          "text": [
            "Epoch 1/100\n",
            "43/43 [==============================] - 3s 63ms/step - loss: 0.2266 - accuracy: 0.9006 - val_loss: 6.7159e-05 - val_accuracy: 1.0000\n",
            "Epoch 2/100\n",
            "43/43 [==============================] - 2s 52ms/step - loss: 0.0028 - accuracy: 0.9997 - val_loss: 2.3118e-05 - val_accuracy: 1.0000\n",
            "Epoch 3/100\n",
            "43/43 [==============================] - 2s 52ms/step - loss: 0.0013 - accuracy: 0.9998 - val_loss: 3.4732e-04 - val_accuracy: 1.0000\n",
            "Epoch 4/100\n",
            "43/43 [==============================] - 2s 52ms/step - loss: 7.8932e-04 - accuracy: 0.9998 - val_loss: 9.9066e-06 - val_accuracy: 1.0000\n",
            "Epoch 5/100\n",
            "43/43 [==============================] - 2s 51ms/step - loss: 2.1498e-04 - accuracy: 0.9999 - val_loss: 2.5049e-04 - val_accuracy: 1.0000\n",
            "Epoch 6/100\n",
            "43/43 [==============================] - 2s 52ms/step - loss: 3.8853e-04 - accuracy: 0.9998 - val_loss: 1.9100e-05 - val_accuracy: 1.0000\n",
            "Epoch 7/100\n",
            "43/43 [==============================] - 2s 52ms/step - loss: 4.0214e-05 - accuracy: 1.0000 - val_loss: 5.4297e-06 - val_accuracy: 1.0000\n",
            "Epoch 8/100\n",
            "43/43 [==============================] - 2s 52ms/step - loss: 6.1969e-06 - accuracy: 1.0000 - val_loss: 3.5121e-06 - val_accuracy: 1.0000\n",
            "Epoch 9/100\n",
            "43/43 [==============================] - 2s 51ms/step - loss: 4.2682e-06 - accuracy: 1.0000 - val_loss: 2.7060e-06 - val_accuracy: 1.0000\n",
            "Epoch 10/100\n",
            "43/43 [==============================] - 2s 52ms/step - loss: 3.6636e-06 - accuracy: 1.0000 - val_loss: 2.2054e-06 - val_accuracy: 1.0000\n",
            "Epoch 11/100\n",
            "43/43 [==============================] - 2s 52ms/step - loss: 3.0886e-06 - accuracy: 1.0000 - val_loss: 1.9470e-06 - val_accuracy: 1.0000\n",
            "Epoch 12/100\n",
            "43/43 [==============================] - 2s 52ms/step - loss: 2.6824e-06 - accuracy: 1.0000 - val_loss: 1.7130e-06 - val_accuracy: 1.0000\n",
            "Epoch 13/100\n",
            "43/43 [==============================] - 2s 52ms/step - loss: 2.3710e-06 - accuracy: 1.0000 - val_loss: 1.4539e-06 - val_accuracy: 1.0000\n",
            "Epoch 14/100\n",
            "43/43 [==============================] - 2s 52ms/step - loss: 2.1217e-06 - accuracy: 1.0000 - val_loss: 1.2677e-06 - val_accuracy: 1.0000\n",
            "Epoch 15/100\n",
            "43/43 [==============================] - 2s 52ms/step - loss: 1.8936e-06 - accuracy: 1.0000 - val_loss: 1.1326e-06 - val_accuracy: 1.0000\n",
            "Epoch 16/100\n",
            "43/43 [==============================] - 2s 52ms/step - loss: 1.7227e-06 - accuracy: 1.0000 - val_loss: 9.5345e-07 - val_accuracy: 1.0000\n",
            "Epoch 17/100\n",
            "43/43 [==============================] - 2s 53ms/step - loss: 1.5673e-06 - accuracy: 1.0000 - val_loss: 9.5488e-07 - val_accuracy: 1.0000\n",
            "Epoch 18/100\n",
            "43/43 [==============================] - 2s 52ms/step - loss: 1.4354e-06 - accuracy: 1.0000 - val_loss: 8.0682e-07 - val_accuracy: 1.0000\n",
            "Epoch 19/100\n",
            "43/43 [==============================] - 2s 52ms/step - loss: 1.2824e-06 - accuracy: 1.0000 - val_loss: 7.9415e-07 - val_accuracy: 1.0000\n",
            "Epoch 20/100\n",
            "43/43 [==============================] - 2s 52ms/step - loss: 1.1775e-06 - accuracy: 1.0000 - val_loss: 6.9773e-07 - val_accuracy: 1.0000\n",
            "Epoch 21/100\n",
            "43/43 [==============================] - 2s 52ms/step - loss: 1.0922e-06 - accuracy: 1.0000 - val_loss: 6.3548e-07 - val_accuracy: 1.0000\n",
            "Epoch 22/100\n",
            "43/43 [==============================] - 2s 52ms/step - loss: 1.0098e-06 - accuracy: 1.0000 - val_loss: 5.7754e-07 - val_accuracy: 1.0000\n",
            "Epoch 23/100\n",
            "43/43 [==============================] - 2s 52ms/step - loss: 9.4506e-07 - accuracy: 1.0000 - val_loss: 5.4053e-07 - val_accuracy: 1.0000\n",
            "Epoch 24/100\n",
            "43/43 [==============================] - 2s 52ms/step - loss: 8.7117e-07 - accuracy: 1.0000 - val_loss: 4.9347e-07 - val_accuracy: 1.0000\n",
            "Epoch 25/100\n",
            "43/43 [==============================] - 2s 54ms/step - loss: 8.2255e-07 - accuracy: 1.0000 - val_loss: 4.6302e-07 - val_accuracy: 1.0000\n",
            "Epoch 26/100\n",
            "43/43 [==============================] - 2s 53ms/step - loss: 7.7297e-07 - accuracy: 1.0000 - val_loss: 4.3504e-07 - val_accuracy: 1.0000\n",
            "Epoch 27/100\n",
            "43/43 [==============================] - 2s 53ms/step - loss: 7.2124e-07 - accuracy: 1.0000 - val_loss: 3.9187e-07 - val_accuracy: 1.0000\n",
            "Epoch 28/100\n",
            "43/43 [==============================] - 2s 53ms/step - loss: 6.6984e-07 - accuracy: 1.0000 - val_loss: 3.8154e-07 - val_accuracy: 1.0000\n",
            "Epoch 29/100\n",
            "43/43 [==============================] - 2s 52ms/step - loss: 6.3194e-07 - accuracy: 1.0000 - val_loss: 3.5778e-07 - val_accuracy: 1.0000\n",
            "Epoch 30/100\n",
            "43/43 [==============================] - 2s 53ms/step - loss: 5.9452e-07 - accuracy: 1.0000 - val_loss: 3.2598e-07 - val_accuracy: 1.0000\n",
            "Epoch 31/100\n",
            "43/43 [==============================] - 2s 52ms/step - loss: 5.5414e-07 - accuracy: 1.0000 - val_loss: 3.2336e-07 - val_accuracy: 1.0000\n",
            "Epoch 32/100\n",
            "43/43 [==============================] - 2s 53ms/step - loss: 5.2675e-07 - accuracy: 1.0000 - val_loss: 3.0662e-07 - val_accuracy: 1.0000\n",
            "Epoch 33/100\n",
            "43/43 [==============================] - 2s 52ms/step - loss: 4.9830e-07 - accuracy: 1.0000 - val_loss: 2.8077e-07 - val_accuracy: 1.0000\n",
            "Epoch 34/100\n",
            "43/43 [==============================] - 2s 52ms/step - loss: 4.6878e-07 - accuracy: 1.0000 - val_loss: 2.6686e-07 - val_accuracy: 1.0000\n",
            "Epoch 35/100\n",
            "43/43 [==============================] - 2s 52ms/step - loss: 4.4669e-07 - accuracy: 1.0000 - val_loss: 2.4537e-07 - val_accuracy: 1.0000\n",
            "Epoch 36/100\n",
            "43/43 [==============================] - 2s 52ms/step - loss: 4.2073e-07 - accuracy: 1.0000 - val_loss: 2.3757e-07 - val_accuracy: 1.0000\n",
            "Epoch 37/100\n",
            "43/43 [==============================] - 2s 52ms/step - loss: 4.0399e-07 - accuracy: 1.0000 - val_loss: 2.1570e-07 - val_accuracy: 1.0000\n",
            "Epoch 38/100\n",
            "43/43 [==============================] - 2s 52ms/step - loss: 3.7921e-07 - accuracy: 1.0000 - val_loss: 2.0528e-07 - val_accuracy: 1.0000\n",
            "Epoch 39/100\n",
            "43/43 [==============================] - 2s 52ms/step - loss: 3.6371e-07 - accuracy: 1.0000 - val_loss: 2.0141e-07 - val_accuracy: 1.0000\n",
            "Epoch 40/100\n",
            "43/43 [==============================] - 2s 52ms/step - loss: 3.4670e-07 - accuracy: 1.0000 - val_loss: 1.8592e-07 - val_accuracy: 1.0000\n",
            "Epoch 41/100\n",
            "43/43 [==============================] - 2s 52ms/step - loss: 3.3051e-07 - accuracy: 1.0000 - val_loss: 1.7767e-07 - val_accuracy: 1.0000\n",
            "Epoch 42/100\n",
            "43/43 [==============================] - 2s 53ms/step - loss: 3.1047e-07 - accuracy: 1.0000 - val_loss: 1.7019e-07 - val_accuracy: 1.0000\n",
            "Epoch 43/100\n",
            "43/43 [==============================] - 2s 52ms/step - loss: 2.9838e-07 - accuracy: 1.0000 - val_loss: 1.6162e-07 - val_accuracy: 1.0000\n",
            "Epoch 44/100\n",
            "43/43 [==============================] - 2s 52ms/step - loss: 2.8424e-07 - accuracy: 1.0000 - val_loss: 1.5097e-07 - val_accuracy: 1.0000\n",
            "Epoch 45/100\n",
            "43/43 [==============================] - 2s 52ms/step - loss: 2.7091e-07 - accuracy: 1.0000 - val_loss: 1.4119e-07 - val_accuracy: 1.0000\n",
            "Epoch 46/100\n",
            "43/43 [==============================] - 2s 51ms/step - loss: 2.6104e-07 - accuracy: 1.0000 - val_loss: 1.3577e-07 - val_accuracy: 1.0000\n",
            "Epoch 47/100\n",
            "43/43 [==============================] - 2s 52ms/step - loss: 2.4648e-07 - accuracy: 1.0000 - val_loss: 1.2964e-07 - val_accuracy: 1.0000\n",
            "Epoch 48/100\n",
            "43/43 [==============================] - 2s 53ms/step - loss: 2.4055e-07 - accuracy: 1.0000 - val_loss: 1.1919e-07 - val_accuracy: 1.0000\n",
            "Epoch 49/100\n",
            "43/43 [==============================] - 2s 52ms/step - loss: 2.2492e-07 - accuracy: 1.0000 - val_loss: 1.2070e-07 - val_accuracy: 1.0000\n",
            "Epoch 50/100\n",
            "43/43 [==============================] - 2s 52ms/step - loss: 2.1927e-07 - accuracy: 1.0000 - val_loss: 1.1266e-07 - val_accuracy: 1.0000\n",
            "Epoch 51/100\n",
            "43/43 [==============================] - 2s 52ms/step - loss: 2.0879e-07 - accuracy: 1.0000 - val_loss: 1.1039e-07 - val_accuracy: 1.0000\n",
            "Epoch 52/100\n",
            "43/43 [==============================] - 2s 52ms/step - loss: 1.9878e-07 - accuracy: 1.0000 - val_loss: 1.0340e-07 - val_accuracy: 1.0000\n",
            "Epoch 53/100\n",
            "43/43 [==============================] - 2s 52ms/step - loss: 1.9320e-07 - accuracy: 1.0000 - val_loss: 9.8588e-08 - val_accuracy: 1.0000\n",
            "Epoch 54/100\n",
            "43/43 [==============================] - 2s 53ms/step - loss: 1.8439e-07 - accuracy: 1.0000 - val_loss: 9.2300e-08 - val_accuracy: 1.0000\n",
            "Epoch 55/100\n",
            "43/43 [==============================] - 2s 52ms/step - loss: 1.8329e-07 - accuracy: 1.0000 - val_loss: 9.3029e-08 - val_accuracy: 1.0000\n",
            "Epoch 56/100\n",
            "43/43 [==============================] - 2s 52ms/step - loss: 1.6587e-07 - accuracy: 1.0000 - val_loss: 8.6034e-08 - val_accuracy: 1.0000\n",
            "Epoch 57/100\n",
            "43/43 [==============================] - 2s 52ms/step - loss: 1.6223e-07 - accuracy: 1.0000 - val_loss: 8.2896e-08 - val_accuracy: 1.0000\n",
            "Epoch 58/100\n",
            "43/43 [==============================] - 2s 52ms/step - loss: 1.5466e-07 - accuracy: 1.0000 - val_loss: 7.9484e-08 - val_accuracy: 1.0000\n",
            "Epoch 59/100\n",
            "43/43 [==============================] - 2s 52ms/step - loss: 1.5085e-07 - accuracy: 1.0000 - val_loss: 7.5400e-08 - val_accuracy: 1.0000\n",
            "Epoch 60/100\n",
            "43/43 [==============================] - 2s 52ms/step - loss: 1.4218e-07 - accuracy: 1.0000 - val_loss: 7.4399e-08 - val_accuracy: 1.0000\n",
            "Epoch 61/100\n",
            "43/43 [==============================] - 2s 53ms/step - loss: 1.3702e-07 - accuracy: 1.0000 - val_loss: 7.1471e-08 - val_accuracy: 1.0000\n",
            "Epoch 62/100\n",
            "43/43 [==============================] - 2s 52ms/step - loss: 1.3228e-07 - accuracy: 1.0000 - val_loss: 6.7918e-08 - val_accuracy: 1.0000\n",
            "Epoch 63/100\n",
            "43/43 [==============================] - 2s 52ms/step - loss: 1.2854e-07 - accuracy: 1.0000 - val_loss: 6.5864e-08 - val_accuracy: 1.0000\n",
            "Epoch 64/100\n",
            "43/43 [==============================] - 2s 52ms/step - loss: 1.2418e-07 - accuracy: 1.0000 - val_loss: 6.2956e-08 - val_accuracy: 1.0000\n",
            "Epoch 65/100\n",
            "43/43 [==============================] - 2s 52ms/step - loss: 1.1897e-07 - accuracy: 1.0000 - val_loss: 6.1145e-08 - val_accuracy: 1.0000\n",
            "Epoch 66/100\n",
            "43/43 [==============================] - 2s 52ms/step - loss: 1.1376e-07 - accuracy: 1.0000 - val_loss: 5.8448e-08 - val_accuracy: 1.0000\n",
            "Epoch 67/100\n",
            "43/43 [==============================] - 2s 52ms/step - loss: 1.1151e-07 - accuracy: 1.0000 - val_loss: 5.6956e-08 - val_accuracy: 1.0000\n",
            "Epoch 68/100\n",
            "43/43 [==============================] - 2s 52ms/step - loss: 1.0785e-07 - accuracy: 1.0000 - val_loss: 5.3323e-08 - val_accuracy: 1.0000\n",
            "Epoch 69/100\n",
            "43/43 [==============================] - 2s 52ms/step - loss: 1.0456e-07 - accuracy: 1.0000 - val_loss: 5.3152e-08 - val_accuracy: 1.0000\n",
            "Epoch 70/100\n",
            "43/43 [==============================] - 2s 52ms/step - loss: 9.9142e-08 - accuracy: 1.0000 - val_loss: 5.0330e-08 - val_accuracy: 1.0000\n",
            "Epoch 71/100\n",
            "43/43 [==============================] - 2s 52ms/step - loss: 9.5165e-08 - accuracy: 1.0000 - val_loss: 4.8410e-08 - val_accuracy: 1.0000\n",
            "Epoch 72/100\n",
            "43/43 [==============================] - 2s 52ms/step - loss: 9.2397e-08 - accuracy: 1.0000 - val_loss: 4.6433e-08 - val_accuracy: 1.0000\n",
            "Epoch 73/100\n",
            "43/43 [==============================] - 2s 52ms/step - loss: 8.8523e-08 - accuracy: 1.0000 - val_loss: 4.4558e-08 - val_accuracy: 1.0000\n",
            "Epoch 74/100\n",
            "43/43 [==============================] - 2s 52ms/step - loss: 8.5863e-08 - accuracy: 1.0000 - val_loss: 4.3048e-08 - val_accuracy: 1.0000\n",
            "Epoch 75/100\n",
            "43/43 [==============================] - 2s 53ms/step - loss: 8.4019e-08 - accuracy: 1.0000 - val_loss: 4.1256e-08 - val_accuracy: 1.0000\n",
            "Epoch 76/100\n",
            "43/43 [==============================] - 2s 52ms/step - loss: 8.0259e-08 - accuracy: 1.0000 - val_loss: 4.0551e-08 - val_accuracy: 1.0000\n",
            "Epoch 77/100\n",
            "43/43 [==============================] - 2s 52ms/step - loss: 7.6067e-08 - accuracy: 1.0000 - val_loss: 3.8807e-08 - val_accuracy: 1.0000\n",
            "Epoch 78/100\n",
            "43/43 [==============================] - 2s 52ms/step - loss: 7.5059e-08 - accuracy: 1.0000 - val_loss: 3.7277e-08 - val_accuracy: 1.0000\n",
            "Epoch 79/100\n",
            "43/43 [==============================] - 2s 52ms/step - loss: 7.3660e-08 - accuracy: 1.0000 - val_loss: 3.5337e-08 - val_accuracy: 1.0000\n",
            "Epoch 80/100\n",
            "43/43 [==============================] - 2s 52ms/step - loss: 6.8734e-08 - accuracy: 1.0000 - val_loss: 3.5006e-08 - val_accuracy: 1.0000\n",
            "Epoch 81/100\n",
            "43/43 [==============================] - 2s 53ms/step - loss: 6.7109e-08 - accuracy: 1.0000 - val_loss: 3.3999e-08 - val_accuracy: 1.0000\n",
            "Epoch 82/100\n",
            "43/43 [==============================] - 2s 52ms/step - loss: 6.7046e-08 - accuracy: 1.0000 - val_loss: 3.2127e-08 - val_accuracy: 1.0000\n",
            "Epoch 83/100\n",
            "43/43 [==============================] - 2s 52ms/step - loss: 6.2950e-08 - accuracy: 1.0000 - val_loss: 3.1818e-08 - val_accuracy: 1.0000\n",
            "Epoch 84/100\n",
            "43/43 [==============================] - 2s 52ms/step - loss: 6.0510e-08 - accuracy: 1.0000 - val_loss: 3.0577e-08 - val_accuracy: 1.0000\n",
            "Epoch 85/100\n",
            "43/43 [==============================] - 2s 52ms/step - loss: 6.0991e-08 - accuracy: 1.0000 - val_loss: 2.9488e-08 - val_accuracy: 1.0000\n",
            "Epoch 86/100\n",
            "43/43 [==============================] - 2s 52ms/step - loss: 5.7486e-08 - accuracy: 1.0000 - val_loss: 2.8945e-08 - val_accuracy: 1.0000\n",
            "Epoch 87/100\n",
            "43/43 [==============================] - 2s 52ms/step - loss: 5.5570e-08 - accuracy: 1.0000 - val_loss: 2.7994e-08 - val_accuracy: 1.0000\n",
            "Epoch 88/100\n",
            "43/43 [==============================] - 2s 52ms/step - loss: 5.6959e-08 - accuracy: 1.0000 - val_loss: 2.7032e-08 - val_accuracy: 1.0000\n",
            "Epoch 89/100\n",
            "43/43 [==============================] - 2s 52ms/step - loss: 5.3183e-08 - accuracy: 1.0000 - val_loss: 2.6701e-08 - val_accuracy: 1.0000\n",
            "Epoch 90/100\n",
            "43/43 [==============================] - 2s 52ms/step - loss: 5.1360e-08 - accuracy: 1.0000 - val_loss: 2.5838e-08 - val_accuracy: 1.0000\n",
            "Epoch 91/100\n",
            "43/43 [==============================] - 2s 52ms/step - loss: 5.1073e-08 - accuracy: 1.0000 - val_loss: 2.5112e-08 - val_accuracy: 1.0000\n",
            "Epoch 92/100\n",
            "43/43 [==============================] - 2s 52ms/step - loss: 4.9288e-08 - accuracy: 1.0000 - val_loss: 2.4634e-08 - val_accuracy: 1.0000\n",
            "Epoch 93/100\n",
            "43/43 [==============================] - 2s 52ms/step - loss: 4.7129e-08 - accuracy: 1.0000 - val_loss: 2.4035e-08 - val_accuracy: 1.0000\n",
            "Epoch 94/100\n",
            "43/43 [==============================] - 2s 52ms/step - loss: 4.6531e-08 - accuracy: 1.0000 - val_loss: 2.3412e-08 - val_accuracy: 1.0000\n",
            "Epoch 95/100\n",
            "43/43 [==============================] - 2s 52ms/step - loss: 4.5698e-08 - accuracy: 1.0000 - val_loss: 2.2972e-08 - val_accuracy: 1.0000\n",
            "Epoch 96/100\n",
            "43/43 [==============================] - 2s 52ms/step - loss: 4.4089e-08 - accuracy: 1.0000 - val_loss: 2.2464e-08 - val_accuracy: 1.0000\n",
            "Epoch 97/100\n",
            "43/43 [==============================] - 2s 52ms/step - loss: 4.4032e-08 - accuracy: 1.0000 - val_loss: 2.1973e-08 - val_accuracy: 1.0000\n",
            "Epoch 98/100\n",
            "43/43 [==============================] - 2s 52ms/step - loss: 4.4112e-08 - accuracy: 1.0000 - val_loss: 2.1562e-08 - val_accuracy: 1.0000\n",
            "Epoch 99/100\n",
            "43/43 [==============================] - 2s 52ms/step - loss: 4.1591e-08 - accuracy: 1.0000 - val_loss: 2.1124e-08 - val_accuracy: 1.0000\n",
            "Epoch 100/100\n",
            "43/43 [==============================] - 2s 52ms/step - loss: 4.0607e-08 - accuracy: 1.0000 - val_loss: 2.0677e-08 - val_accuracy: 1.0000\n"
          ],
          "name": "stdout"
        }
      ]
    },
    {
      "cell_type": "markdown",
      "metadata": {
        "id": "sbhIOP4L717L",
        "colab_type": "text"
      },
      "source": [
        "### Evaluate: Model1_color"
      ]
    },
    {
      "cell_type": "code",
      "metadata": {
        "id": "X6pUcmgRkBBE",
        "colab_type": "code",
        "colab": {
          "base_uri": "https://localhost:8080/",
          "height": 51
        },
        "outputId": "44a7e651-84b3-47f7-cfac-e963ff6847fb"
      },
      "source": [
        "model1_color.evaluate(Xtrain, ytrain)"
      ],
      "execution_count": 32,
      "outputs": [
        {
          "output_type": "stream",
          "text": [
            "334/334 [==============================] - 2s 5ms/step - loss: 3.8850e-08 - accuracy: 1.0000\n"
          ],
          "name": "stdout"
        },
        {
          "output_type": "execute_result",
          "data": {
            "text/plain": [
              "[3.884951738086784e-08, 1.0]"
            ]
          },
          "metadata": {
            "tags": []
          },
          "execution_count": 32
        }
      ]
    },
    {
      "cell_type": "code",
      "metadata": {
        "id": "tTwBJHVC8bUX",
        "colab_type": "code",
        "colab": {
          "base_uri": "https://localhost:8080/",
          "height": 51
        },
        "outputId": "5c411cf8-65b7-4b72-bee9-de8e03f94c95"
      },
      "source": [
        "model1_color.evaluate(Xval, yval)"
      ],
      "execution_count": 33,
      "outputs": [
        {
          "output_type": "stream",
          "text": [
            "48/48 [==============================] - 0s 5ms/step - loss: 2.0676e-08 - accuracy: 1.0000\n"
          ],
          "name": "stdout"
        },
        {
          "output_type": "execute_result",
          "data": {
            "text/plain": [
              "[2.0676468537317305e-08, 1.0]"
            ]
          },
          "metadata": {
            "tags": []
          },
          "execution_count": 33
        }
      ]
    },
    {
      "cell_type": "code",
      "metadata": {
        "id": "23h4wjGO8-LH",
        "colab_type": "code",
        "colab": {}
      },
      "source": [
        "def visualize_training_results(results):\n",
        "    \"\"\"\n",
        "   1 Input: The Training and \n",
        "    Validation/Testing Dictionary \n",
        "    of Loss and Accuracy\n",
        "    \n",
        "    Output: 2 Plots of Loss vs. Epochs\n",
        "    and Accuracy vs. Epochs\n",
        "    \"\"\"\n",
        "    history = results.history\n",
        "    plt.figure()\n",
        "    plt.plot(history['val_loss'])\n",
        "    plt.plot(history['loss'])\n",
        "    plt.legend(['Validation Loss', 'Training Loss'])\n",
        "    plt.title('Loss')\n",
        "    plt.xlabel('Epochs')\n",
        "    plt.ylabel('Loss')\n",
        "    plt.show()\n",
        "    \n",
        "    plt.figure()\n",
        "    plt.plot(history['val_accuracy'])\n",
        "    plt.plot(history['accuracy'])\n",
        "    plt.legend(['Validation Accuracy', 'Training Accuracy'])\n",
        "    plt.title('Accuracy')\n",
        "    plt.xlabel('Epochs')\n",
        "    plt.ylabel('Accuracy')\n",
        "    plt.show()"
      ],
      "execution_count": 34,
      "outputs": []
    },
    {
      "cell_type": "code",
      "metadata": {
        "id": "jy11kBgl8_Pf",
        "colab_type": "code",
        "colab": {
          "base_uri": "https://localhost:8080/",
          "height": 573
        },
        "outputId": "2ef64556-d56a-4237-f112-b756b0402905"
      },
      "source": [
        "visualize_training_results(results1)"
      ],
      "execution_count": 35,
      "outputs": [
        {
          "output_type": "display_data",
          "data": {
            "image/png": "[encoded data removed]",
            "text/plain": [
              "<Figure size 432x288 with 1 Axes>"
            ]
          },
          "metadata": {
            "tags": [],
            "needs_background": "light"
          }
        },
        {
          "output_type": "display_data",
          "data": {
            "image/png": "[encoded data removed]",
            "text/plain": [
              "<Figure size 432x288 with 1 Axes>"
            ]
          },
          "metadata": {
            "tags": [],
            "needs_background": "light"
          }
        }
      ]
    },
    {
      "cell_type": "markdown",
      "metadata": {
        "id": "p3FoGziTjWGW",
        "colab_type": "text"
      },
      "source": [
        "### Predictions"
      ]
    },
    {
      "cell_type": "code",
      "metadata": {
        "id": "JCDblHl78-32",
        "colab_type": "code",
        "colab": {}
      },
      "source": [
        "# Make Predictions\n",
        "preds1 = model1_color.predict(Xval)"
      ],
      "execution_count": 41,
      "outputs": []
    },
    {
      "cell_type": "code",
      "metadata": {
        "id": "XV7P0tg69LcO",
        "colab_type": "code",
        "colab": {}
      },
      "source": [
        "predictions1 = preds1 > 0.5"
      ],
      "execution_count": 42,
      "outputs": []
    },
    {
      "cell_type": "code",
      "metadata": {
        "id": "QBc1bxNG9MPM",
        "colab_type": "code",
        "colab": {}
      },
      "source": [
        "# Plot a confusion matrix\n",
        "def plot_confusion_matrix(labels, preds):\n",
        "    \"\"\"\n",
        "    Input: Validation/Testing Labels and\n",
        "    model predictions\n",
        "    \n",
        "    Output: A confusion matrix\n",
        "    \n",
        "    \"\"\"\n",
        "    \n",
        "    cnf_matrix = confusion_matrix(labels, preds)\n",
        "\n",
        "    # Create the basic confusion matrix\n",
        "    plt.imshow(cnf_matrix,  cmap=plt.cm.Blues) \n",
        "\n",
        "    # Add title and axis labels\n",
        "    plt.title('Confusion Matrix')\n",
        "    plt.ylabel('True label')\n",
        "    plt.xlabel('Predicted label')\n",
        "\n",
        "    # Add appropriate axis scales\n",
        "    y = train_gen.class_indices\n",
        "    class_names = set(y) # Get class labels to add to matrix\n",
        "    tick_marks = np.arange(len(class_names))\n",
        "    plt.xticks(tick_marks, class_names, rotation=45)\n",
        "    plt.yticks(tick_marks, class_names)\n",
        "\n",
        "    # Add labels to each cell\n",
        "    thresh = cnf_matrix.max() / 2. # Used for text coloring below\n",
        "    # Here we iterate through the confusion matrix and append labels to our visualization \n",
        "    for i, j in itertools.product(range(cnf_matrix.shape[0]), range(cnf_matrix.shape[1])):\n",
        "            plt.text(j, i, cnf_matrix[i, j],\n",
        "                     horizontalalignment='center',\n",
        "                     color='white' if cnf_matrix[i, j] > thresh else 'black')\n",
        "\n",
        "    # Add a legend\n",
        "    plt.colorbar()\n",
        "    plt.show()"
      ],
      "execution_count": 39,
      "outputs": []
    },
    {
      "cell_type": "code",
      "metadata": {
        "id": "yDJjIIEP9nn9",
        "colab_type": "code",
        "colab": {
          "base_uri": "https://localhost:8080/",
          "height": 335
        },
        "outputId": "52161a16-9997-44e1-fd28-e8bfbe827b8e"
      },
      "source": [
        "plot_confusion_matrix(yval, predictions1)"
      ],
      "execution_count": 45,
      "outputs": [
        {
          "output_type": "display_data",
          "data": {
            "image/png": "[encoded data removed]",
            "text/plain": [
              "<Figure size 432x288 with 2 Axes>"
            ]
          },
          "metadata": {
            "tags": [],
            "needs_background": "light"
          }
        }
      ]
    },
    {
      "cell_type": "markdown",
      "metadata": {
        "id": "ajnx-SkJ3wqB",
        "colab_type": "text"
      },
      "source": [
        "# Evaluation: Using Test Data Xtest, ytest"
      ]
    },
    {
      "cell_type": "markdown",
      "metadata": {
        "id": "WBj1f7LC38pR",
        "colab_type": "text"
      },
      "source": [
        "## Model 2: Model_test1, Default Paramters"
      ]
    },
    {
      "cell_type": "code",
      "metadata": {
        "id": "AW-Zoq5RyPYk",
        "colab_type": "code",
        "colab": {}
      },
      "source": [
        "random.seed(123)\n",
        "\n",
        "model_test1 = Sequential()\n",
        "\n",
        "model_test1.add(layers.Conv2D(32, (3, 3), activation='relu', input_shape=(128, 128, 3)))\n",
        "model_test1.add(layers.MaxPooling2D((2, 2)))\n",
        "\n",
        "model_test1.add(layers.Conv2D(64, (4, 4), activation='relu'))\n",
        "model_test1.add(layers.MaxPooling2D((2, 2)))\n",
        "\n",
        "model_test1.add(layers.Conv2D(128, (3, 3), activation='relu'))\n",
        "model_test1.add(layers.MaxPooling2D((2,2)))\n",
        "\n",
        "# Flattening- Convert 2D matrix to a 1D vector\n",
        "model_test1.add(layers.Flatten())\n",
        "model_test1.add(layers.Dense(256, activation = 'relu'))\n",
        "model_test1.add(layers.Dense(1, activation='sigmoid'))"
      ],
      "execution_count": 46,
      "outputs": []
    },
    {
      "cell_type": "code",
      "metadata": {
        "id": "TctTn448yQSz",
        "colab_type": "code",
        "colab": {
          "base_uri": "https://localhost:8080/",
          "height": 459
        },
        "outputId": "103a2d6d-d8e2-471e-bbe7-4b145e0f7455"
      },
      "source": [
        "model_test1.summary()"
      ],
      "execution_count": 47,
      "outputs": [
        {
          "output_type": "stream",
          "text": [
            "Model: \"sequential_1\"\n",
            "_________________________________________________________________\n",
            "Layer (type)                 Output Shape              Param #   \n",
            "=================================================================\n",
            "conv2d_3 (Conv2D)            (None, 126, 126, 32)      896       \n",
            "_________________________________________________________________\n",
            "max_pooling2d_3 (MaxPooling2 (None, 63, 63, 32)        0         \n",
            "_________________________________________________________________\n",
            "conv2d_4 (Conv2D)            (None, 60, 60, 64)        32832     \n",
            "_________________________________________________________________\n",
            "max_pooling2d_4 (MaxPooling2 (None, 30, 30, 64)        0         \n",
            "_________________________________________________________________\n",
            "conv2d_5 (Conv2D)            (None, 28, 28, 128)       73856     \n",
            "_________________________________________________________________\n",
            "max_pooling2d_5 (MaxPooling2 (None, 14, 14, 128)       0         \n",
            "_________________________________________________________________\n",
            "flatten_1 (Flatten)          (None, 25088)             0         \n",
            "_________________________________________________________________\n",
            "dense_2 (Dense)              (None, 256)               6422784   \n",
            "_________________________________________________________________\n",
            "dense_3 (Dense)              (None, 1)                 257       \n",
            "=================================================================\n",
            "Total params: 6,530,625\n",
            "Trainable params: 6,530,625\n",
            "Non-trainable params: 0\n",
            "_________________________________________________________________\n"
          ],
          "name": "stdout"
        }
      ]
    },
    {
      "cell_type": "code",
      "metadata": {
        "id": "NaggZ4IKyRE-",
        "colab_type": "code",
        "colab": {}
      },
      "source": [
        "model_test1.compile(optimizer='adam',loss='binary_crossentropy', metrics=['accuracy'])"
      ],
      "execution_count": 48,
      "outputs": []
    },
    {
      "cell_type": "code",
      "metadata": {
        "id": "_QGYeFOgzQ4l",
        "colab_type": "code",
        "colab": {}
      },
      "source": [
        "save_model = ModelCheckpoint(filepath='model_test1.h5', monitor='val_accuracy', save_best_only=True)"
      ],
      "execution_count": 49,
      "outputs": []
    },
    {
      "cell_type": "code",
      "metadata": {
        "id": "pk1pZw8kzRay",
        "colab_type": "code",
        "colab": {
          "base_uri": "https://localhost:8080/",
          "height": 1000
        },
        "outputId": "a46cdcec-e757-4a71-cb16-8600b147554e"
      },
      "source": [
        "test_results3 = model_test1.fit(Xtrain, ytrain, epochs=100, batch_size=256, callbacks=save_model, validation_data=(Xtest, ytest))"
      ],
      "execution_count": 50,
      "outputs": [
        {
          "output_type": "stream",
          "text": [
            "Epoch 1/100\n",
            "42/42 [==============================] - 3s 65ms/step - loss: 0.1918 - accuracy: 0.9102 - val_loss: 0.0782 - val_accuracy: 0.9365\n",
            "Epoch 2/100\n",
            "42/42 [==============================] - 2s 58ms/step - loss: 0.0209 - accuracy: 0.9959 - val_loss: 0.0047 - val_accuracy: 0.9997\n",
            "Epoch 3/100\n",
            "42/42 [==============================] - 2s 54ms/step - loss: 0.0062 - accuracy: 0.9997 - val_loss: 0.0042 - val_accuracy: 0.9997\n",
            "Epoch 4/100\n",
            "42/42 [==============================] - 2s 55ms/step - loss: 0.0031 - accuracy: 0.9997 - val_loss: 0.0022 - val_accuracy: 0.9997\n",
            "Epoch 5/100\n",
            "42/42 [==============================] - 2s 54ms/step - loss: 0.0019 - accuracy: 0.9997 - val_loss: 0.0031 - val_accuracy: 0.9997\n",
            "Epoch 6/100\n",
            "42/42 [==============================] - 2s 53ms/step - loss: 0.0016 - accuracy: 0.9998 - val_loss: 0.0014 - val_accuracy: 0.9997\n",
            "Epoch 7/100\n",
            "42/42 [==============================] - 2s 54ms/step - loss: 6.6973e-04 - accuracy: 0.9997 - val_loss: 0.0033 - val_accuracy: 0.9997\n",
            "Epoch 8/100\n",
            "42/42 [==============================] - 2s 53ms/step - loss: 6.2467e-04 - accuracy: 0.9999 - val_loss: 6.6379e-04 - val_accuracy: 0.9997\n",
            "Epoch 9/100\n",
            "42/42 [==============================] - 2s 54ms/step - loss: 2.6006e-04 - accuracy: 0.9998 - val_loss: 8.5015e-04 - val_accuracy: 0.9997\n",
            "Epoch 10/100\n",
            "42/42 [==============================] - 2s 54ms/step - loss: 1.9466e-04 - accuracy: 0.9999 - val_loss: 0.0010 - val_accuracy: 0.9997\n",
            "Epoch 11/100\n",
            "42/42 [==============================] - 2s 54ms/step - loss: 6.6465e-05 - accuracy: 1.0000 - val_loss: 0.0016 - val_accuracy: 0.9997\n",
            "Epoch 12/100\n",
            "42/42 [==============================] - 2s 54ms/step - loss: 2.2536e-05 - accuracy: 1.0000 - val_loss: 0.0013 - val_accuracy: 0.9997\n",
            "Epoch 13/100\n",
            "42/42 [==============================] - 2s 53ms/step - loss: 1.4475e-05 - accuracy: 1.0000 - val_loss: 0.0014 - val_accuracy: 0.9997\n",
            "Epoch 14/100\n",
            "42/42 [==============================] - 2s 53ms/step - loss: 1.1826e-05 - accuracy: 1.0000 - val_loss: 0.0014 - val_accuracy: 0.9997\n",
            "Epoch 15/100\n",
            "42/42 [==============================] - 2s 54ms/step - loss: 9.6454e-06 - accuracy: 1.0000 - val_loss: 0.0012 - val_accuracy: 0.9997\n",
            "Epoch 16/100\n",
            "42/42 [==============================] - 2s 54ms/step - loss: 8.6564e-06 - accuracy: 1.0000 - val_loss: 0.0012 - val_accuracy: 0.9997\n",
            "Epoch 17/100\n",
            "42/42 [==============================] - 2s 53ms/step - loss: 7.4826e-06 - accuracy: 1.0000 - val_loss: 0.0012 - val_accuracy: 0.9997\n",
            "Epoch 18/100\n",
            "42/42 [==============================] - 2s 53ms/step - loss: 6.6228e-06 - accuracy: 1.0000 - val_loss: 0.0012 - val_accuracy: 0.9997\n",
            "Epoch 19/100\n",
            "42/42 [==============================] - 2s 54ms/step - loss: 5.6637e-06 - accuracy: 1.0000 - val_loss: 0.0012 - val_accuracy: 0.9997\n",
            "Epoch 20/100\n",
            "42/42 [==============================] - 2s 54ms/step - loss: 5.2230e-06 - accuracy: 1.0000 - val_loss: 0.0012 - val_accuracy: 0.9997\n",
            "Epoch 21/100\n",
            "42/42 [==============================] - 2s 54ms/step - loss: 4.6483e-06 - accuracy: 1.0000 - val_loss: 0.0012 - val_accuracy: 0.9997\n",
            "Epoch 22/100\n",
            "42/42 [==============================] - 2s 54ms/step - loss: 4.1634e-06 - accuracy: 1.0000 - val_loss: 0.0011 - val_accuracy: 0.9997\n",
            "Epoch 23/100\n",
            "42/42 [==============================] - 2s 54ms/step - loss: 3.9065e-06 - accuracy: 1.0000 - val_loss: 0.0012 - val_accuracy: 0.9997\n",
            "Epoch 24/100\n",
            "42/42 [==============================] - 2s 54ms/step - loss: 3.6270e-06 - accuracy: 1.0000 - val_loss: 0.0012 - val_accuracy: 0.9997\n",
            "Epoch 25/100\n",
            "42/42 [==============================] - 2s 54ms/step - loss: 3.3206e-06 - accuracy: 1.0000 - val_loss: 0.0012 - val_accuracy: 0.9997\n",
            "Epoch 26/100\n",
            "42/42 [==============================] - 2s 54ms/step - loss: 3.1207e-06 - accuracy: 1.0000 - val_loss: 0.0012 - val_accuracy: 0.9997\n",
            "Epoch 27/100\n",
            "42/42 [==============================] - 2s 54ms/step - loss: 2.9011e-06 - accuracy: 1.0000 - val_loss: 0.0011 - val_accuracy: 0.9997\n",
            "Epoch 28/100\n",
            "42/42 [==============================] - 2s 54ms/step - loss: 2.6791e-06 - accuracy: 1.0000 - val_loss: 0.0012 - val_accuracy: 0.9997\n",
            "Epoch 29/100\n",
            "42/42 [==============================] - 2s 53ms/step - loss: 2.5374e-06 - accuracy: 1.0000 - val_loss: 0.0012 - val_accuracy: 0.9997\n",
            "Epoch 30/100\n",
            "42/42 [==============================] - 2s 53ms/step - loss: 2.3660e-06 - accuracy: 1.0000 - val_loss: 0.0012 - val_accuracy: 0.9997\n",
            "Epoch 31/100\n",
            "42/42 [==============================] - 2s 54ms/step - loss: 2.2321e-06 - accuracy: 1.0000 - val_loss: 0.0011 - val_accuracy: 0.9997\n",
            "Epoch 32/100\n",
            "42/42 [==============================] - 2s 54ms/step - loss: 2.1007e-06 - accuracy: 1.0000 - val_loss: 0.0011 - val_accuracy: 0.9997\n",
            "Epoch 33/100\n",
            "42/42 [==============================] - 2s 54ms/step - loss: 1.9967e-06 - accuracy: 1.0000 - val_loss: 0.0011 - val_accuracy: 0.9997\n",
            "Epoch 34/100\n",
            "42/42 [==============================] - 2s 53ms/step - loss: 1.9182e-06 - accuracy: 1.0000 - val_loss: 0.0011 - val_accuracy: 0.9997\n",
            "Epoch 35/100\n",
            "42/42 [==============================] - 2s 54ms/step - loss: 1.8851e-06 - accuracy: 1.0000 - val_loss: 0.0011 - val_accuracy: 0.9997\n",
            "Epoch 36/100\n",
            "42/42 [==============================] - 2s 54ms/step - loss: 1.6847e-06 - accuracy: 1.0000 - val_loss: 0.0011 - val_accuracy: 0.9997\n",
            "Epoch 37/100\n",
            "42/42 [==============================] - 2s 54ms/step - loss: 1.6189e-06 - accuracy: 1.0000 - val_loss: 0.0011 - val_accuracy: 0.9997\n",
            "Epoch 38/100\n",
            "42/42 [==============================] - 2s 54ms/step - loss: 1.5426e-06 - accuracy: 1.0000 - val_loss: 0.0011 - val_accuracy: 0.9997\n",
            "Epoch 39/100\n",
            "42/42 [==============================] - 2s 54ms/step - loss: 1.4582e-06 - accuracy: 1.0000 - val_loss: 0.0011 - val_accuracy: 0.9997\n",
            "Epoch 40/100\n",
            "42/42 [==============================] - 2s 54ms/step - loss: 1.3694e-06 - accuracy: 1.0000 - val_loss: 0.0011 - val_accuracy: 0.9997\n",
            "Epoch 41/100\n",
            "42/42 [==============================] - 2s 54ms/step - loss: 1.2922e-06 - accuracy: 1.0000 - val_loss: 0.0011 - val_accuracy: 0.9997\n",
            "Epoch 42/100\n",
            "42/42 [==============================] - 2s 54ms/step - loss: 1.2195e-06 - accuracy: 1.0000 - val_loss: 0.0011 - val_accuracy: 0.9997\n",
            "Epoch 43/100\n",
            "42/42 [==============================] - 2s 54ms/step - loss: 1.1747e-06 - accuracy: 1.0000 - val_loss: 0.0011 - val_accuracy: 0.9997\n",
            "Epoch 44/100\n",
            "42/42 [==============================] - 2s 54ms/step - loss: 1.1216e-06 - accuracy: 1.0000 - val_loss: 0.0011 - val_accuracy: 0.9997\n",
            "Epoch 45/100\n",
            "42/42 [==============================] - 2s 54ms/step - loss: 1.0792e-06 - accuracy: 1.0000 - val_loss: 0.0011 - val_accuracy: 0.9997\n",
            "Epoch 46/100\n",
            "42/42 [==============================] - 2s 54ms/step - loss: 1.0115e-06 - accuracy: 1.0000 - val_loss: 0.0011 - val_accuracy: 0.9997\n",
            "Epoch 47/100\n",
            "42/42 [==============================] - 2s 54ms/step - loss: 9.7217e-07 - accuracy: 1.0000 - val_loss: 0.0011 - val_accuracy: 0.9997\n",
            "Epoch 48/100\n",
            "42/42 [==============================] - 2s 54ms/step - loss: 9.3142e-07 - accuracy: 1.0000 - val_loss: 0.0011 - val_accuracy: 0.9997\n",
            "Epoch 49/100\n",
            "42/42 [==============================] - 2s 54ms/step - loss: 8.8844e-07 - accuracy: 1.0000 - val_loss: 0.0011 - val_accuracy: 0.9997\n",
            "Epoch 50/100\n",
            "42/42 [==============================] - 2s 54ms/step - loss: 8.6663e-07 - accuracy: 1.0000 - val_loss: 0.0011 - val_accuracy: 0.9997\n",
            "Epoch 51/100\n",
            "42/42 [==============================] - 2s 53ms/step - loss: 8.2290e-07 - accuracy: 1.0000 - val_loss: 0.0011 - val_accuracy: 0.9997\n",
            "Epoch 52/100\n",
            "42/42 [==============================] - 2s 54ms/step - loss: 7.9566e-07 - accuracy: 1.0000 - val_loss: 0.0011 - val_accuracy: 0.9997\n",
            "Epoch 53/100\n",
            "42/42 [==============================] - 2s 53ms/step - loss: 7.4842e-07 - accuracy: 1.0000 - val_loss: 0.0011 - val_accuracy: 0.9997\n",
            "Epoch 54/100\n",
            "42/42 [==============================] - 2s 53ms/step - loss: 7.3795e-07 - accuracy: 1.0000 - val_loss: 0.0011 - val_accuracy: 0.9997\n",
            "Epoch 55/100\n",
            "42/42 [==============================] - 2s 54ms/step - loss: 7.0296e-07 - accuracy: 1.0000 - val_loss: 0.0011 - val_accuracy: 0.9997\n",
            "Epoch 56/100\n",
            "42/42 [==============================] - 2s 54ms/step - loss: 6.8167e-07 - accuracy: 1.0000 - val_loss: 0.0011 - val_accuracy: 0.9997\n",
            "Epoch 57/100\n",
            "42/42 [==============================] - 2s 54ms/step - loss: 6.4449e-07 - accuracy: 1.0000 - val_loss: 0.0011 - val_accuracy: 0.9997\n",
            "Epoch 58/100\n",
            "42/42 [==============================] - 2s 54ms/step - loss: 6.1347e-07 - accuracy: 1.0000 - val_loss: 0.0011 - val_accuracy: 0.9997\n",
            "Epoch 59/100\n",
            "42/42 [==============================] - 2s 54ms/step - loss: 6.0063e-07 - accuracy: 1.0000 - val_loss: 0.0011 - val_accuracy: 0.9997\n",
            "Epoch 60/100\n",
            "42/42 [==============================] - 2s 54ms/step - loss: 5.7804e-07 - accuracy: 1.0000 - val_loss: 0.0011 - val_accuracy: 0.9997\n",
            "Epoch 61/100\n",
            "42/42 [==============================] - 2s 54ms/step - loss: 5.5809e-07 - accuracy: 1.0000 - val_loss: 0.0011 - val_accuracy: 0.9997\n",
            "Epoch 62/100\n",
            "42/42 [==============================] - 2s 53ms/step - loss: 5.3527e-07 - accuracy: 1.0000 - val_loss: 0.0010 - val_accuracy: 0.9997\n",
            "Epoch 63/100\n",
            "42/42 [==============================] - 2s 54ms/step - loss: 5.0870e-07 - accuracy: 1.0000 - val_loss: 0.0010 - val_accuracy: 0.9997\n",
            "Epoch 64/100\n",
            "42/42 [==============================] - 2s 54ms/step - loss: 4.8992e-07 - accuracy: 1.0000 - val_loss: 0.0010 - val_accuracy: 0.9997\n",
            "Epoch 65/100\n",
            "42/42 [==============================] - 2s 54ms/step - loss: 4.7328e-07 - accuracy: 1.0000 - val_loss: 0.0010 - val_accuracy: 0.9997\n",
            "Epoch 66/100\n",
            "42/42 [==============================] - 2s 54ms/step - loss: 4.5859e-07 - accuracy: 1.0000 - val_loss: 0.0011 - val_accuracy: 0.9997\n",
            "Epoch 67/100\n",
            "42/42 [==============================] - 2s 54ms/step - loss: 4.4418e-07 - accuracy: 1.0000 - val_loss: 0.0010 - val_accuracy: 0.9997\n",
            "Epoch 68/100\n",
            "42/42 [==============================] - 2s 54ms/step - loss: 4.2796e-07 - accuracy: 1.0000 - val_loss: 0.0010 - val_accuracy: 0.9997\n",
            "Epoch 69/100\n",
            "42/42 [==============================] - 2s 54ms/step - loss: 4.1285e-07 - accuracy: 1.0000 - val_loss: 0.0010 - val_accuracy: 0.9997\n",
            "Epoch 70/100\n",
            "42/42 [==============================] - 2s 54ms/step - loss: 3.9678e-07 - accuracy: 1.0000 - val_loss: 0.0010 - val_accuracy: 0.9997\n",
            "Epoch 71/100\n",
            "42/42 [==============================] - 2s 54ms/step - loss: 3.8941e-07 - accuracy: 1.0000 - val_loss: 0.0010 - val_accuracy: 0.9997\n",
            "Epoch 72/100\n",
            "42/42 [==============================] - 2s 54ms/step - loss: 3.7762e-07 - accuracy: 1.0000 - val_loss: 0.0011 - val_accuracy: 0.9997\n",
            "Epoch 73/100\n",
            "42/42 [==============================] - 2s 54ms/step - loss: 3.5698e-07 - accuracy: 1.0000 - val_loss: 0.0010 - val_accuracy: 0.9997\n",
            "Epoch 74/100\n",
            "42/42 [==============================] - 2s 54ms/step - loss: 3.5001e-07 - accuracy: 1.0000 - val_loss: 0.0010 - val_accuracy: 0.9997\n",
            "Epoch 75/100\n",
            "42/42 [==============================] - 2s 54ms/step - loss: 3.3331e-07 - accuracy: 1.0000 - val_loss: 0.0010 - val_accuracy: 0.9997\n",
            "Epoch 76/100\n",
            "42/42 [==============================] - 2s 53ms/step - loss: 3.2531e-07 - accuracy: 1.0000 - val_loss: 0.0010 - val_accuracy: 0.9997\n",
            "Epoch 77/100\n",
            "42/42 [==============================] - 2s 54ms/step - loss: 3.1478e-07 - accuracy: 1.0000 - val_loss: 0.0010 - val_accuracy: 0.9997\n",
            "Epoch 78/100\n",
            "42/42 [==============================] - 2s 54ms/step - loss: 3.0103e-07 - accuracy: 1.0000 - val_loss: 0.0010 - val_accuracy: 0.9997\n",
            "Epoch 79/100\n",
            "42/42 [==============================] - 2s 54ms/step - loss: 2.9627e-07 - accuracy: 1.0000 - val_loss: 0.0010 - val_accuracy: 0.9997\n",
            "Epoch 80/100\n",
            "42/42 [==============================] - 2s 53ms/step - loss: 2.8265e-07 - accuracy: 1.0000 - val_loss: 0.0010 - val_accuracy: 0.9997\n",
            "Epoch 81/100\n",
            "42/42 [==============================] - 2s 54ms/step - loss: 2.7376e-07 - accuracy: 1.0000 - val_loss: 0.0010 - val_accuracy: 0.9997\n",
            "Epoch 82/100\n",
            "42/42 [==============================] - 2s 54ms/step - loss: 2.6650e-07 - accuracy: 1.0000 - val_loss: 9.8533e-04 - val_accuracy: 0.9997\n",
            "Epoch 83/100\n",
            "42/42 [==============================] - 2s 54ms/step - loss: 2.5755e-07 - accuracy: 1.0000 - val_loss: 0.0010 - val_accuracy: 0.9997\n",
            "Epoch 84/100\n",
            "42/42 [==============================] - 2s 53ms/step - loss: 2.4962e-07 - accuracy: 1.0000 - val_loss: 0.0010 - val_accuracy: 0.9997\n",
            "Epoch 85/100\n",
            "42/42 [==============================] - 2s 54ms/step - loss: 2.4366e-07 - accuracy: 1.0000 - val_loss: 0.0010 - val_accuracy: 0.9997\n",
            "Epoch 86/100\n",
            "42/42 [==============================] - 2s 54ms/step - loss: 2.3582e-07 - accuracy: 1.0000 - val_loss: 0.0010 - val_accuracy: 0.9997\n",
            "Epoch 87/100\n",
            "42/42 [==============================] - 2s 54ms/step - loss: 2.2657e-07 - accuracy: 1.0000 - val_loss: 0.0010 - val_accuracy: 0.9997\n",
            "Epoch 88/100\n",
            "42/42 [==============================] - 2s 53ms/step - loss: 2.2009e-07 - accuracy: 1.0000 - val_loss: 0.0010 - val_accuracy: 0.9997\n",
            "Epoch 89/100\n",
            "42/42 [==============================] - 2s 54ms/step - loss: 2.1575e-07 - accuracy: 1.0000 - val_loss: 9.9180e-04 - val_accuracy: 0.9997\n",
            "Epoch 90/100\n",
            "42/42 [==============================] - 2s 53ms/step - loss: 2.0640e-07 - accuracy: 1.0000 - val_loss: 0.0010 - val_accuracy: 0.9997\n",
            "Epoch 91/100\n",
            "42/42 [==============================] - 2s 54ms/step - loss: 2.0335e-07 - accuracy: 1.0000 - val_loss: 0.0010 - val_accuracy: 0.9997\n",
            "Epoch 92/100\n",
            "42/42 [==============================] - 2s 54ms/step - loss: 1.9405e-07 - accuracy: 1.0000 - val_loss: 0.0010 - val_accuracy: 0.9997\n",
            "Epoch 93/100\n",
            "42/42 [==============================] - 2s 54ms/step - loss: 1.9008e-07 - accuracy: 1.0000 - val_loss: 0.0010 - val_accuracy: 0.9997\n",
            "Epoch 94/100\n",
            "42/42 [==============================] - 2s 54ms/step - loss: 1.8487e-07 - accuracy: 1.0000 - val_loss: 9.9975e-04 - val_accuracy: 0.9997\n",
            "Epoch 95/100\n",
            "42/42 [==============================] - 2s 54ms/step - loss: 1.7774e-07 - accuracy: 1.0000 - val_loss: 0.0010 - val_accuracy: 0.9997\n",
            "Epoch 96/100\n",
            "42/42 [==============================] - 2s 53ms/step - loss: 1.7420e-07 - accuracy: 1.0000 - val_loss: 0.0010 - val_accuracy: 0.9997\n",
            "Epoch 97/100\n",
            "42/42 [==============================] - 2s 53ms/step - loss: 1.7019e-07 - accuracy: 1.0000 - val_loss: 0.0010 - val_accuracy: 0.9997\n",
            "Epoch 98/100\n",
            "42/42 [==============================] - 2s 54ms/step - loss: 1.6349e-07 - accuracy: 1.0000 - val_loss: 0.0010 - val_accuracy: 0.9997\n",
            "Epoch 99/100\n",
            "42/42 [==============================] - 2s 54ms/step - loss: 1.5948e-07 - accuracy: 1.0000 - val_loss: 9.9984e-04 - val_accuracy: 0.9997\n",
            "Epoch 100/100\n",
            "42/42 [==============================] - 2s 54ms/step - loss: 1.5510e-07 - accuracy: 1.0000 - val_loss: 9.8507e-04 - val_accuracy: 0.9997\n"
          ],
          "name": "stdout"
        }
      ]
    },
    {
      "cell_type": "markdown",
      "metadata": {
        "id": "PA_MpD09jiAV",
        "colab_type": "text"
      },
      "source": [
        "### Evaluate: Model_test1"
      ]
    },
    {
      "cell_type": "code",
      "metadata": {
        "id": "9JoMvnR3zSLJ",
        "colab_type": "code",
        "colab": {
          "base_uri": "https://localhost:8080/",
          "height": 51
        },
        "outputId": "bc02b52d-ec51-4f82-8c94-15c37300f3c1"
      },
      "source": [
        "model_test1.evaluate(Xtrain, ytrain)"
      ],
      "execution_count": 51,
      "outputs": [
        {
          "output_type": "stream",
          "text": [
            "334/334 [==============================] - 2s 5ms/step - loss: 1.4967e-07 - accuracy: 1.0000\n"
          ],
          "name": "stdout"
        },
        {
          "output_type": "execute_result",
          "data": {
            "text/plain": [
              "[1.4966897765589238e-07, 1.0]"
            ]
          },
          "metadata": {
            "tags": []
          },
          "execution_count": 51
        }
      ]
    },
    {
      "cell_type": "code",
      "metadata": {
        "id": "07HQMVfAzTfz",
        "colab_type": "code",
        "colab": {
          "base_uri": "https://localhost:8080/",
          "height": 51
        },
        "outputId": "a6d96a09-77c0-41db-d0a3-335d7fd900b8"
      },
      "source": [
        "model_test1.evaluate(Xtest, ytest)"
      ],
      "execution_count": 53,
      "outputs": [
        {
          "output_type": "stream",
          "text": [
            "95/95 [==============================] - 0s 5ms/step - loss: 9.8507e-04 - accuracy: 0.9997\n"
          ],
          "name": "stdout"
        },
        {
          "output_type": "execute_result",
          "data": {
            "text/plain": [
              "[0.000985067104920745, 0.999667763710022]"
            ]
          },
          "metadata": {
            "tags": []
          },
          "execution_count": 53
        }
      ]
    },
    {
      "cell_type": "code",
      "metadata": {
        "id": "CMbUIscKzSrv",
        "colab_type": "code",
        "colab": {
          "base_uri": "https://localhost:8080/",
          "height": 573
        },
        "outputId": "03505995-caa2-499b-d704-b7735a80fc47"
      },
      "source": [
        "visualize_training_results(test_results3)"
      ],
      "execution_count": 55,
      "outputs": [
        {
          "output_type": "display_data",
          "data": {
            "image/png": "[encoded data removed]",
            "text/plain": [
              "<Figure size 432x288 with 1 Axes>"
            ]
          },
          "metadata": {
            "tags": [],
            "needs_background": "light"
          }
        },
        {
          "output_type": "display_data",
          "data": {
            "image/png": "[encoded data removed]",
            "text/plain": [
              "<Figure size 432x288 with 1 Axes>"
            ]
          },
          "metadata": {
            "tags": [],
            "needs_background": "light"
          }
        }
      ]
    },
    {
      "cell_type": "markdown",
      "metadata": {
        "id": "M0WHeUbljrQk",
        "colab_type": "text"
      },
      "source": [
        "### Predictions"
      ]
    },
    {
      "cell_type": "code",
      "metadata": {
        "id": "Xa4HZB221vxG",
        "colab_type": "code",
        "colab": {}
      },
      "source": [
        "# Make Predictions\n",
        "preds2 = model_test1.predict(Xtest)"
      ],
      "execution_count": 56,
      "outputs": []
    },
    {
      "cell_type": "code",
      "metadata": {
        "id": "eiNchr4Y2OTs",
        "colab_type": "code",
        "colab": {}
      },
      "source": [
        "predictions2 = preds2 > 0.5"
      ],
      "execution_count": 57,
      "outputs": []
    },
    {
      "cell_type": "code",
      "metadata": {
        "id": "WEzv6lFZ2gnO",
        "colab_type": "code",
        "colab": {
          "base_uri": "https://localhost:8080/",
          "height": 335
        },
        "outputId": "c7aaf0e2-da93-443e-eab5-cd0a5c463cc7"
      },
      "source": [
        "plot_confusion_matrix(ytest, predictions2)"
      ],
      "execution_count": 59,
      "outputs": [
        {
          "output_type": "display_data",
          "data": {
            "image/png": "[encoded data removed]",
            "text/plain": [
              "<Figure size 432x288 with 2 Axes>"
            ]
          },
          "metadata": {
            "tags": [],
            "needs_background": "light"
          }
        }
      ]
    },
    {
      "cell_type": "code",
      "metadata": {
        "id": "msn0T90W2sfa",
        "colab_type": "code",
        "colab": {}
      },
      "source": [
        ""
      ],
      "execution_count": null,
      "outputs": []
    }
  ]
}