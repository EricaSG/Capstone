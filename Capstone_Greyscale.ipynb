{
 "cells": [
  {
   "cell_type": "markdown",
   "metadata": {},
   "source": [
    "# 1. Business Understanding\n",
    "\n",
    "“Misdiagnosis of pneumonia will delay treatment and can result in long-term disability or death... pneumonia is misdiagnosed at an alarming rate, even among patients who are readmitted to the hospital after suffering from pneumonia in the recent past...One of the most effective ways to diagnose pneumonia is by chest x-ray. However, a chest x-ray in a person with pneumonia does not always have the characteristic “infiltrate” if it is early in the course of the illness. Sometimes, the infiltrate may be in a portion of the lung that is not easily seen by standard x-ray, and other patients may have congestive heart failure or scarring in their lungs, which can mimic pneumonia.” **This analysis aims to prove that if X-ray images are colorized, the rate of misdiagnosis (and complications associated) will decrease.**\n",
    "\n",
    "Source: https://thistlelaw.com/do-you-have-a-case-for-the-misdiagnosis-of-pneumonia/\n",
    "\n"
   ]
  },
  {
   "cell_type": "markdown",
   "metadata": {},
   "source": [
    "# 2. Data Understanding\n",
    "\n",
    "quick summary of data here."
   ]
  },
  {
   "cell_type": "markdown",
   "metadata": {},
   "source": [
    "# 3. Data Preparation\n",
    "\n",
    "upload dataset, add descriptors, and caption, upload libraries"
   ]
  },
  {
   "cell_type": "markdown",
   "metadata": {},
   "source": [
    "## Address Class Imbalance"
   ]
  },
  {
   "cell_type": "code",
   "execution_count": 1,
   "metadata": {
    "scrolled": true
   },
   "outputs": [
    {
     "name": "stderr",
     "output_type": "stream",
     "text": [
      "Using TensorFlow backend.\n",
      "\n",
      "Bad key \"text.kerning_factor\" on line 4 in\n",
      "/Applications/anaconda3/envs/learn-env/lib/python3.6/site-packages/matplotlib/mpl-data/stylelib/_classic_test_patch.mplstyle.\n",
      "You probably need to get an updated matplotlibrc file from\n",
      "https://github.com/matplotlib/matplotlib/blob/v3.1.3/matplotlibrc.template\n",
      "or from the matplotlib source distribution\n"
     ]
    }
   ],
   "source": [
    "import warnings\n",
    "warnings.filterwarnings('ignore')\n",
    "from keras.preprocessing.image import ImageDataGenerator, array_to_img, img_to_array, load_img\n",
    "import numpy as np\n",
    "import os\n",
    "import matplotlib.pyplot as plt\n",
    "%matplotlib inline\n",
    "import keras\n",
    "from keras import layers\n",
    "from keras.models import Sequential\n",
    "from keras.layers import Dense\n",
    "from sklearn.model_selection import train_test_split\n",
    "from sklearn.metrics import mean_squared_error\n",
    "from sklearn.model_selection import cross_val_predict\n",
    "from keras import regularizers\n",
    "from keras.wrappers.scikit_learn import KerasRegressor\n",
    "from keras.layers import Convolution2D\n",
    "from keras.layers import MaxPooling2D\n",
    "from keras.layers import Flatten\n",
    "from keras.layers import Dense\n",
    "from keras.callbacks import EarlyStopping, ModelCheckpoint\n",
    "from keras import regularizers\n",
    "from sklearn.metrics import classification_report\n",
    "from sklearn.metrics import confusion_matrix\n",
    "import itertools\n",
    "from keras.applications.vgg16 import preprocess_input\n",
    "from keras.applications.vgg16 import VGG16\n",
    "from keras.optimizers import Adam, Adadelta, Adagrad, SGD, RMSprop"
   ]
  },
  {
   "cell_type": "code",
   "execution_count": 40,
   "metadata": {},
   "outputs": [],
   "source": [
    "# Get the Directory Path of the Train, Validation, and Test Images\n",
    "train_dir = 'chest_xray/chest_xray/train/'\n",
    "val_dir = 'chest_xray/chest_xray/val/'\n",
    "test_dir = 'chest_xray/chest_xray/test/'"
   ]
  },
  {
   "cell_type": "code",
   "execution_count": 3,
   "metadata": {},
   "outputs": [],
   "source": [
    "# Establish the criteria for data augementation\n",
    "datagen = ImageDataGenerator(\n",
    "            rotation_range = 0,\n",
    "            width_shift_range = 0,\n",
    "            height_shift_range = 0,\n",
    "            rescale = None,\n",
    "            shear_range = 0,\n",
    "            zoom_range = 0,\n",
    "            horizontal_flip = False,\n",
    "            fill_mode = 'nearest')"
   ]
  },
  {
   "cell_type": "markdown",
   "metadata": {},
   "source": [
    "### Increase Normal Images to 5600"
   ]
  },
  {
   "cell_type": "code",
   "execution_count": 4,
   "metadata": {},
   "outputs": [],
   "source": [
    "# Select a random normal image to duplicate. Put the image path into load_img\n",
    "norm_img = load_img('chest_xray/chest_xray/train/NORMAL/IM-0140-0001.jpeg')"
   ]
  },
  {
   "cell_type": "code",
   "execution_count": 5,
   "metadata": {},
   "outputs": [
    {
     "data": {
      "text/plain": [
       "<bound method Image.getpixel of <PIL.Image.Image image mode=RGB size=1156x1237 at 0x7F92A7C70A58>>"
      ]
     },
     "execution_count": 5,
     "metadata": {},
     "output_type": "execute_result"
    }
   ],
   "source": [
    "# Get the size of the image\n",
    "norm_img.getpixel"
   ]
  },
  {
   "cell_type": "code",
   "execution_count": 6,
   "metadata": {},
   "outputs": [],
   "source": [
    "# Convert the image to an array\n",
    "norm_img_array = img_to_array(norm_img)"
   ]
  },
  {
   "cell_type": "code",
   "execution_count": 7,
   "metadata": {},
   "outputs": [
    {
     "data": {
      "text/plain": [
       "(1237, 1156, 3)"
      ]
     },
     "execution_count": 7,
     "metadata": {},
     "output_type": "execute_result"
    }
   ],
   "source": [
    "norm_img_array.shape"
   ]
  },
  {
   "cell_type": "code",
   "execution_count": 9,
   "metadata": {},
   "outputs": [
    {
     "data": {
      "text/plain": [
       "(1, 1237, 1156, 3)"
      ]
     },
     "execution_count": 9,
     "metadata": {},
     "output_type": "execute_result"
    }
   ],
   "source": [
    "norm_img_array = norm_img_array.reshape((1,) + norm_img_array.shape)\n",
    "norm_img_array.shape"
   ]
  },
  {
   "cell_type": "code",
   "execution_count": 10,
   "metadata": {},
   "outputs": [],
   "source": [
    "# Run a Test to Gauge Photo Quality\n",
    "testing = 'test_dir/'"
   ]
  },
  {
   "cell_type": "code",
   "execution_count": 11,
   "metadata": {},
   "outputs": [
    {
     "name": "stdout",
     "output_type": "stream",
     "text": [
      "10 images have been genrated at test_dir/\n"
     ]
    }
   ],
   "source": [
    "# Add 10 'test' images to test_dir to verify image quality\n",
    "count = 0\n",
    "for batch in datagen.flow(norm_img_array, batch_size=1, save_to_dir=testing, save_prefix='IM', save_format='jpeg'):\n",
    "    count +=1\n",
    "    if count == 10:\n",
    "        break\n",
    "        \n",
    "print('10 images have been genrated at', testing)\n",
    "    "
   ]
  },
  {
   "cell_type": "code",
   "execution_count": 29,
   "metadata": {},
   "outputs": [],
   "source": [
    "# List directory where images will be stored\n",
    "norm_dir = 'chest_xray/chest_xray/train/NORMAL/'"
   ]
  },
  {
   "cell_type": "code",
   "execution_count": 30,
   "metadata": {},
   "outputs": [
    {
     "name": "stdout",
     "output_type": "stream",
     "text": [
      "3660 images have been generated at chest_xray/chest_xray/train/NORMAL/\n"
     ]
    }
   ],
   "source": [
    "# Add 3660 Images to Normal\n",
    "count = 0\n",
    "for batch in datagen.flow(norm_img_array, batch_size=60, save_to_dir=norm_dir, save_prefix='IM', save_format='jpeg'):\n",
    "    count +=1\n",
    "    if count == 3660:\n",
    "        break\n",
    "print('3660 images have been generated at', norm_dir)\n",
    "# Only 4407 Total"
   ]
  },
  {
   "cell_type": "code",
   "execution_count": 37,
   "metadata": {},
   "outputs": [
    {
     "name": "stdout",
     "output_type": "stream",
     "text": [
      "120 images have been generated at chest_xray/chest_xray/train/NORMAL/\n"
     ]
    }
   ],
   "source": [
    "count = 0\n",
    "for batch in datagen.flow(norm_img_array, batch_size=20, save_to_dir=norm_dir, save_prefix='IM', save_format='jpeg'):\n",
    "    count +=1\n",
    "    if count == 120:\n",
    "        break\n",
    "print('120 images have been generated at', norm_dir)"
   ]
  },
  {
   "cell_type": "markdown",
   "metadata": {},
   "source": [
    "### Pneumonia Images to 5600"
   ]
  },
  {
   "cell_type": "code",
   "execution_count": 16,
   "metadata": {},
   "outputs": [],
   "source": [
    "# Select a random pneumonia image to duplicate\n",
    "pneum_img = load_img('chest_xray/chest_xray/train/PNEUMONIA/person23_bacteria_92.jpeg')"
   ]
  },
  {
   "cell_type": "code",
   "execution_count": 17,
   "metadata": {},
   "outputs": [
    {
     "data": {
      "text/plain": [
       "<bound method Image.getpixel of <PIL.Image.Image image mode=RGB size=1080x712 at 0x7F92A029D6A0>>"
      ]
     },
     "execution_count": 17,
     "metadata": {},
     "output_type": "execute_result"
    }
   ],
   "source": [
    "pneum_img.getpixel"
   ]
  },
  {
   "cell_type": "code",
   "execution_count": 24,
   "metadata": {},
   "outputs": [],
   "source": [
    "pneum_img_array = img_to_array(pneum_img)"
   ]
  },
  {
   "cell_type": "code",
   "execution_count": 25,
   "metadata": {},
   "outputs": [
    {
     "data": {
      "text/plain": [
       "(712, 1080, 3)"
      ]
     },
     "execution_count": 25,
     "metadata": {},
     "output_type": "execute_result"
    }
   ],
   "source": [
    "pneum_img_array.shape"
   ]
  },
  {
   "cell_type": "code",
   "execution_count": 26,
   "metadata": {},
   "outputs": [
    {
     "data": {
      "text/plain": [
       "(1, 712, 1080, 3)"
      ]
     },
     "execution_count": 26,
     "metadata": {},
     "output_type": "execute_result"
    }
   ],
   "source": [
    "# Reshape the array to a (1 x n) array\n",
    "pneum_img_array = pneum_img_array.reshape((1,) + pneum_img_array.shape)\n",
    "pneum_img_array.shape"
   ]
  },
  {
   "cell_type": "code",
   "execution_count": 31,
   "metadata": {},
   "outputs": [],
   "source": [
    "# List directory where images will be stored\n",
    "pneum_dir = 'chest_xray/chest_xray/train/PNEUMONIA'"
   ]
  },
  {
   "cell_type": "code",
   "execution_count": 32,
   "metadata": {},
   "outputs": [
    {
     "name": "stdout",
     "output_type": "stream",
     "text": [
      "1126 additional images have been generated at chest_xray/chest_xray/train/PNEUMONIA\n"
     ]
    }
   ],
   "source": [
    "count = 0\n",
    "for batch in datagen.flow(pneum_img_array, batch_size=2, save_to_dir=pneum_dir, save_prefix='IM', save_format='jpeg'):\n",
    "    count +=1\n",
    "    if count == 1126:\n",
    "        break\n",
    "print('1126 additional images have been generated at', pneum_dir)\n",
    "    "
   ]
  },
  {
   "cell_type": "code",
   "execution_count": 35,
   "metadata": {},
   "outputs": [
    {
     "name": "stdout",
     "output_type": "stream",
     "text": [
      "800 additional images have been generated at chest_xray/chest_xray/train/PNEUMONIA\n"
     ]
    }
   ],
   "source": [
    "count = 0\n",
    "for batch in datagen.flow(pneum_img_array, batch_size=100, save_to_dir=pneum_dir, save_prefix='IM', save_format='jpeg'):\n",
    "    count +=1\n",
    "    if count == 800:\n",
    "        break\n",
    "print('800 additional images have been generated at', pneum_dir)\n",
    "    "
   ]
  },
  {
   "cell_type": "markdown",
   "metadata": {},
   "source": [
    "## Preprocessing"
   ]
  },
  {
   "cell_type": "markdown",
   "metadata": {},
   "source": [
    "### Read in & Normalize Images"
   ]
  },
  {
   "cell_type": "code",
   "execution_count": 42,
   "metadata": {},
   "outputs": [
    {
     "name": "stdout",
     "output_type": "stream",
     "text": [
      "Found 11198 images belonging to 2 classes.\n"
     ]
    }
   ],
   "source": [
    "# Resize all 11,200 images in the train directory\n",
    "train_generator = ImageDataGenerator(rescale=1./255).flow_from_directory(train_dir,\n",
    "                                                     target_size=(96,96), batch_size=11200, color_mode='grayscale')"
   ]
  },
  {
   "cell_type": "code",
   "execution_count": 43,
   "metadata": {},
   "outputs": [
    {
     "name": "stdout",
     "output_type": "stream",
     "text": [
      "Found 16 images belonging to 2 classes.\n"
     ]
    }
   ],
   "source": [
    "# Resize all 16 images in the train directory\n",
    "val_generator = ImageDataGenerator(rescale=1./255).flow_from_directory(val_dir,\n",
    "                                                   target_size=(96,96), batch_size=16, color_mode='grayscale')\n"
   ]
  },
  {
   "cell_type": "code",
   "execution_count": 44,
   "metadata": {},
   "outputs": [
    {
     "name": "stdout",
     "output_type": "stream",
     "text": [
      "Found 624 images belonging to 2 classes.\n"
     ]
    }
   ],
   "source": [
    "# Resize all 624 images in the train directory\n",
    "test_generator = ImageDataGenerator(rescale=1./255).flow_from_directory(test_dir,\n",
    "                                                   target_size=(96,96), batch_size=624, color_mode='grayscale')\n",
    "\n"
   ]
  },
  {
   "cell_type": "markdown",
   "metadata": {},
   "source": [
    "### Generate Image and Label Sets"
   ]
  },
  {
   "cell_type": "code",
   "execution_count": 45,
   "metadata": {},
   "outputs": [],
   "source": [
    "# Iterate through all of the images and create image-label datasets\n",
    "train_images, train_labels = next(train_generator)"
   ]
  },
  {
   "cell_type": "code",
   "execution_count": 46,
   "metadata": {},
   "outputs": [],
   "source": [
    "val_images, val_labels = next(val_generator)"
   ]
  },
  {
   "cell_type": "code",
   "execution_count": 47,
   "metadata": {},
   "outputs": [],
   "source": [
    "test_images, test_labels = next(test_generator)"
   ]
  },
  {
   "cell_type": "markdown",
   "metadata": {},
   "source": [
    "### Preview Images"
   ]
  },
  {
   "cell_type": "code",
   "execution_count": 48,
   "metadata": {},
   "outputs": [
    {
     "data": {
      "image/png": "[encoded data removed]",
      "text/plain": [
       "<PIL.Image.Image image mode=L size=96x96 at 0x7F92A74F25C0>"
      ]
     },
     "execution_count": 48,
     "metadata": {},
     "output_type": "execute_result"
    }
   ],
   "source": [
    "# Train\n",
    "array_to_img(train_images[1000])"
   ]
  },
  {
   "cell_type": "code",
   "execution_count": 49,
   "metadata": {},
   "outputs": [
    {
     "data": {
      "image/png": "[encoded data removed]",
      "text/plain": [
       "<PIL.Image.Image image mode=L size=96x96 at 0x7F92A77FAD30>"
      ]
     },
     "execution_count": 49,
     "metadata": {},
     "output_type": "execute_result"
    }
   ],
   "source": [
    "# Validation\n",
    "array_to_img(val_images[8])"
   ]
  },
  {
   "cell_type": "code",
   "execution_count": 50,
   "metadata": {},
   "outputs": [
    {
     "data": {
      "image/png": "[encoded data removed]",
      "text/plain": [
       "<PIL.Image.Image image mode=L size=96x96 at 0x7F92A6574A58>"
      ]
     },
     "execution_count": 50,
     "metadata": {},
     "output_type": "execute_result"
    }
   ],
   "source": [
    "# Test\n",
    "array_to_img(test_images[500])"
   ]
  },
  {
   "cell_type": "markdown",
   "metadata": {},
   "source": [
    "### Check the Shape of the Image & Label Arrays"
   ]
  },
  {
   "cell_type": "code",
   "execution_count": 51,
   "metadata": {},
   "outputs": [
    {
     "name": "stdout",
     "output_type": "stream",
     "text": [
      "Shape of Train Images:  (11198, 96, 96, 1)\n",
      "Shape of Train Labels:  (11198, 2)\n",
      "Shape of Validation Images:  (16, 96, 96, 1)\n",
      "Shape of Validation Labels:  (16, 2)\n",
      "Shape of Test Images:  (624, 96, 96, 1)\n",
      "Shape of Test Labels:  (624, 2)\n"
     ]
    }
   ],
   "source": [
    "print('Shape of Train Images: ', np.shape(train_images))\n",
    "print('Shape of Train Labels: ', np.shape(train_labels))\n",
    "print('Shape of Validation Images: ', np.shape(val_images))\n",
    "print('Shape of Validation Labels: ', np.shape(val_labels))\n",
    "print('Shape of Test Images: ', np.shape(test_images))\n",
    "print('Shape of Test Labels: ', np.shape(test_labels))"
   ]
  },
  {
   "cell_type": "code",
   "execution_count": 53,
   "metadata": {},
   "outputs": [
    {
     "data": {
      "text/plain": [
       "(11198, 1)"
      ]
     },
     "execution_count": 53,
     "metadata": {},
     "output_type": "execute_result"
    }
   ],
   "source": [
    "# Transform the labels to (m X 1) matrices\n",
    "train_labels_final = np.reshape(train_labels[:,0], (11198,1))\n",
    "np.shape(train_labels_final)"
   ]
  },
  {
   "cell_type": "code",
   "execution_count": 54,
   "metadata": {},
   "outputs": [
    {
     "data": {
      "text/plain": [
       "(16, 1)"
      ]
     },
     "execution_count": 54,
     "metadata": {},
     "output_type": "execute_result"
    }
   ],
   "source": [
    "val_labels_final = np.reshape(val_labels[:,0], (16,1))\n",
    "np.shape(val_labels_final)"
   ]
  },
  {
   "cell_type": "code",
   "execution_count": 55,
   "metadata": {},
   "outputs": [
    {
     "data": {
      "text/plain": [
       "(624, 1)"
      ]
     },
     "execution_count": 55,
     "metadata": {},
     "output_type": "execute_result"
    }
   ],
   "source": [
    "test_labels_final = np.reshape(test_labels[:,0], (624,1))\n",
    "np.shape(test_labels_final)"
   ]
  },
  {
   "cell_type": "markdown",
   "metadata": {},
   "source": [
    "### Verify the Images and Labels"
   ]
  },
  {
   "cell_type": "code",
   "execution_count": 56,
   "metadata": {},
   "outputs": [
    {
     "data": {
      "text/plain": [
       "{'NORMAL': 0, 'PNEUMONIA': 1}"
      ]
     },
     "execution_count": 56,
     "metadata": {},
     "output_type": "execute_result"
    }
   ],
   "source": [
    "# Verify the class labels\n",
    "train_generator.class_indices"
   ]
  },
  {
   "cell_type": "code",
   "execution_count": 57,
   "metadata": {},
   "outputs": [
    {
     "data": {
      "image/png": "[encoded data removed]",
      "text/plain": [
       "<PIL.Image.Image image mode=L size=96x96 at 0x7F92A86ED668>"
      ]
     },
     "execution_count": 57,
     "metadata": {},
     "output_type": "execute_result"
    }
   ],
   "source": [
    "# Select a random image to verify\n",
    "array_to_img(train_images[7000])"
   ]
  },
  {
   "cell_type": "code",
   "execution_count": 58,
   "metadata": {},
   "outputs": [
    {
     "data": {
      "text/plain": [
       "array([1.], dtype=float32)"
      ]
     },
     "execution_count": 58,
     "metadata": {},
     "output_type": "execute_result"
    }
   ],
   "source": [
    "# Return the respective label and verify that the label matches the image\n",
    "train_labels_final[7000, :]"
   ]
  },
  {
   "cell_type": "markdown",
   "metadata": {},
   "source": [
    "# 4. Modeling\n",
    "Start with Greyscale, goal accuracy 80%"
   ]
  },
  {
   "cell_type": "markdown",
   "metadata": {},
   "source": [
    "## Building the Convolutional Nerual Network"
   ]
  },
  {
   "cell_type": "markdown",
   "metadata": {},
   "source": [
    "### Model 1: Default Settings w/ Early Stopping"
   ]
  },
  {
   "cell_type": "code",
   "execution_count": 66,
   "metadata": {},
   "outputs": [],
   "source": [
    "model1 = Sequential()\n",
    "\n",
    "model1.add(layers.Conv2D(32, (3, 3), activation='relu', input_shape=(96, 96, 1)))\n",
    "model1.add(layers.MaxPooling2D((2, 2)))\n",
    "\n",
    "model1.add(layers.Conv2D(64, (4, 4), activation='relu'))\n",
    "model1.add(layers.MaxPooling2D((2, 2)))\n",
    "\n",
    "model1.add(layers.Conv2D(128, (3, 3), activation='relu'))\n",
    "model1.add(layers.MaxPooling2D((2,2)))\n",
    "\n",
    "model1.add(layers.Conv2D(128, (3, 3), activation='relu'))\n",
    "model1.add(layers.MaxPooling2D((2,2)))\n",
    "\n",
    "# Flattening- Convert 2D matrix to a 1D vector\n",
    "model1.add(layers.Flatten())\n",
    "model1.add(layers.Dense(512, activation = 'relu'))\n",
    "model1.add(layers.Dense(1, activation='sigmoid'))"
   ]
  },
  {
   "cell_type": "code",
   "execution_count": 67,
   "metadata": {},
   "outputs": [
    {
     "name": "stdout",
     "output_type": "stream",
     "text": [
      "_________________________________________________________________\n",
      "Layer (type)                 Output Shape              Param #   \n",
      "=================================================================\n",
      "conv2d_5 (Conv2D)            (None, 94, 94, 32)        320       \n",
      "_________________________________________________________________\n",
      "max_pooling2d_5 (MaxPooling2 (None, 47, 47, 32)        0         \n",
      "_________________________________________________________________\n",
      "conv2d_6 (Conv2D)            (None, 44, 44, 64)        32832     \n",
      "_________________________________________________________________\n",
      "max_pooling2d_6 (MaxPooling2 (None, 22, 22, 64)        0         \n",
      "_________________________________________________________________\n",
      "conv2d_7 (Conv2D)            (None, 20, 20, 128)       73856     \n",
      "_________________________________________________________________\n",
      "max_pooling2d_7 (MaxPooling2 (None, 10, 10, 128)       0         \n",
      "_________________________________________________________________\n",
      "conv2d_8 (Conv2D)            (None, 8, 8, 128)         147584    \n",
      "_________________________________________________________________\n",
      "max_pooling2d_8 (MaxPooling2 (None, 4, 4, 128)         0         \n",
      "_________________________________________________________________\n",
      "flatten_2 (Flatten)          (None, 2048)              0         \n",
      "_________________________________________________________________\n",
      "dense_3 (Dense)              (None, 512)               1049088   \n",
      "_________________________________________________________________\n",
      "dense_4 (Dense)              (None, 1)                 513       \n",
      "=================================================================\n",
      "Total params: 1,304,193\n",
      "Trainable params: 1,304,193\n",
      "Non-trainable params: 0\n",
      "_________________________________________________________________\n"
     ]
    }
   ],
   "source": [
    "# Return the summary of the model\n",
    "model1.summary()"
   ]
  },
  {
   "cell_type": "code",
   "execution_count": 68,
   "metadata": {},
   "outputs": [],
   "source": [
    "# Compile the model\n",
    "model1.compile(loss='binary_crossentropy', optimizer='adam', metrics=['accuracy'])"
   ]
  },
  {
   "cell_type": "code",
   "execution_count": 69,
   "metadata": {},
   "outputs": [],
   "source": [
    "# Execute \"early stopping\" to stop the model when the loss has stopped improving\n",
    "early_stopping = [EarlyStopping(monitor='val_loss', patience=10)]"
   ]
  },
  {
   "cell_type": "code",
   "execution_count": 70,
   "metadata": {},
   "outputs": [
    {
     "name": "stdout",
     "output_type": "stream",
     "text": [
      "Train on 11198 samples, validate on 16 samples\n",
      "Epoch 1/100\n",
      "11198/11198 [==============================] - 576s 51ms/step - loss: 0.5838 - acc: 0.6984 - val_loss: 0.6218 - val_acc: 0.5000\n",
      "Epoch 2/100\n",
      "11198/11198 [==============================] - 444s 40ms/step - loss: 0.2141 - acc: 0.9119 - val_loss: 1.0069 - val_acc: 0.6250\n",
      "Epoch 3/100\n",
      "11198/11198 [==============================] - 462s 41ms/step - loss: 0.1261 - acc: 0.9478 - val_loss: 1.5317 - val_acc: 0.6250\n",
      "Epoch 4/100\n",
      "11198/11198 [==============================] - 569s 51ms/step - loss: 0.0868 - acc: 0.9666 - val_loss: 0.7330 - val_acc: 0.5625\n",
      "Epoch 5/100\n",
      "11198/11198 [==============================] - 519s 46ms/step - loss: 0.0531 - acc: 0.9821 - val_loss: 0.9174 - val_acc: 0.6250\n",
      "Epoch 6/100\n",
      "11198/11198 [==============================] - 458s 41ms/step - loss: 0.0522 - acc: 0.9799 - val_loss: 0.8224 - val_acc: 0.6250\n",
      "Epoch 7/100\n",
      "11198/11198 [==============================] - 482s 43ms/step - loss: 0.0477 - acc: 0.9825 - val_loss: 0.3196 - val_acc: 0.8750\n",
      "Epoch 8/100\n",
      "11198/11198 [==============================] - 460s 41ms/step - loss: 0.0411 - acc: 0.9839 - val_loss: 0.8587 - val_acc: 0.6250\n",
      "Epoch 9/100\n",
      "11198/11198 [==============================] - 490s 44ms/step - loss: 0.0326 - acc: 0.9868 - val_loss: 0.4448 - val_acc: 0.7500\n",
      "Epoch 10/100\n",
      "11198/11198 [==============================] - 528s 47ms/step - loss: 0.0313 - acc: 0.9888 - val_loss: 0.7695 - val_acc: 0.6875\n",
      "Epoch 11/100\n",
      "11198/11198 [==============================] - 466s 42ms/step - loss: 0.0271 - acc: 0.9898 - val_loss: 0.4916 - val_acc: 0.8125\n",
      "Epoch 12/100\n",
      "11198/11198 [==============================] - 512s 46ms/step - loss: 0.0243 - acc: 0.9911 - val_loss: 0.2645 - val_acc: 0.8750\n",
      "Epoch 13/100\n",
      "11198/11198 [==============================] - 592s 53ms/step - loss: 0.0223 - acc: 0.9913 - val_loss: 0.6127 - val_acc: 0.7500\n",
      "Epoch 14/100\n",
      "11198/11198 [==============================] - 545s 49ms/step - loss: 0.0199 - acc: 0.9926 - val_loss: 0.5499 - val_acc: 0.7500\n",
      "Epoch 15/100\n",
      "11198/11198 [==============================] - 682s 61ms/step - loss: 0.0183 - acc: 0.9929 - val_loss: 0.9760 - val_acc: 0.6875\n",
      "Epoch 16/100\n",
      "11198/11198 [==============================] - 540s 48ms/step - loss: 0.0163 - acc: 0.9944 - val_loss: 0.6683 - val_acc: 0.7500\n",
      "Epoch 17/100\n",
      "11198/11198 [==============================] - 469s 42ms/step - loss: 0.0159 - acc: 0.9943 - val_loss: 0.2827 - val_acc: 0.8125\n",
      "Epoch 18/100\n",
      "11198/11198 [==============================] - 502s 45ms/step - loss: 0.0131 - acc: 0.9955 - val_loss: 0.7045 - val_acc: 0.7500\n",
      "Epoch 19/100\n",
      "11198/11198 [==============================] - 473s 42ms/step - loss: 0.0134 - acc: 0.9949 - val_loss: 0.6480 - val_acc: 0.6875\n",
      "Epoch 20/100\n",
      "11198/11198 [==============================] - 478s 43ms/step - loss: 0.0136 - acc: 0.9950 - val_loss: 0.3184 - val_acc: 0.7500\n",
      "Epoch 21/100\n",
      "11198/11198 [==============================] - 475s 42ms/step - loss: 0.0094 - acc: 0.9971 - val_loss: 0.4459 - val_acc: 0.7500\n",
      "Epoch 22/100\n",
      "11198/11198 [==============================] - 399s 36ms/step - loss: 0.0071 - acc: 0.9979 - val_loss: 0.3884 - val_acc: 0.8125\n"
     ]
    }
   ],
   "source": [
    "results1 = model1.fit(train_images, train_labels_final, epochs=100, callbacks=early_stopping, batch_size=750, validation_data=(val_images, val_labels_final))"
   ]
  },
  {
   "cell_type": "code",
   "execution_count": 71,
   "metadata": {},
   "outputs": [
    {
     "name": "stdout",
     "output_type": "stream",
     "text": [
      "saving model to disk \n",
      "\n"
     ]
    }
   ],
   "source": [
    "# Save the Model\n",
    "print('saving model to disk \\n')\n",
    "mod = './/Models/model1_default'\n",
    "model1.save(mod)"
   ]
  },
  {
   "cell_type": "code",
   "execution_count": null,
   "metadata": {},
   "outputs": [],
   "source": []
  },
  {
   "cell_type": "code",
   "execution_count": null,
   "metadata": {},
   "outputs": [],
   "source": []
  },
  {
   "cell_type": "code",
   "execution_count": null,
   "metadata": {},
   "outputs": [],
   "source": []
  },
  {
   "cell_type": "code",
   "execution_count": null,
   "metadata": {},
   "outputs": [],
   "source": []
  },
  {
   "cell_type": "code",
   "execution_count": null,
   "metadata": {},
   "outputs": [],
   "source": []
  }
 ],
 "metadata": {
  "kernelspec": {
   "display_name": "learn-env",
   "language": "python",
   "name": "learn-env"
  },
  "language_info": {
   "codemirror_mode": {
    "name": "ipython",
    "version": 3
   },
   "file_extension": ".py",
   "mimetype": "text/x-python",
   "name": "python",
   "nbconvert_exporter": "python",
   "pygments_lexer": "ipython3",
   "version": "3.6.9"
  }
 },
 "nbformat": 4,
 "nbformat_minor": 2
}
