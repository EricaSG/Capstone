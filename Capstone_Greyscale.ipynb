{
 "cells": [
  {
   "cell_type": "markdown",
   "metadata": {},
   "source": [
    "# 1. Business Understanding\n",
    "\n",
    "“Misdiagnosis of pneumonia will delay treatment and can result in long-term disability or death... pneumonia is misdiagnosed at an alarming rate, even among patients who are readmitted to the hospital after suffering from pneumonia in the recent past...One of the most effective ways to diagnose pneumonia is by chest x-ray. However, a chest x-ray in a person with pneumonia does not always have the characteristic “infiltrate” if it is early in the course of the illness. Sometimes, the infiltrate may be in a portion of the lung that is not easily seen by standard x-ray, and other patients may have congestive heart failure or scarring in their lungs, which can mimic pneumonia.” **This analysis aims to prove that if X-ray images are colorized, the rate of misdiagnosis (and complications associated) will decrease.**\n",
    "\n",
    "Source: https://thistlelaw.com/do-you-have-a-case-for-the-misdiagnosis-of-pneumonia/\n",
    "\n"
   ]
  },
  {
   "cell_type": "markdown",
   "metadata": {},
   "source": [
    "# 2. Data Understanding"
   ]
  },
  {
   "cell_type": "markdown",
   "metadata": {},
   "source": [
    "# 3. Data Preparation\n",
    "\n",
    "upload dataset, add descriptors, and caption, upload libraries"
   ]
  },
  {
   "cell_type": "code",
   "execution_count": 1,
   "metadata": {
    "scrolled": true
   },
   "outputs": [
    {
     "name": "stderr",
     "output_type": "stream",
     "text": [
      "Using TensorFlow backend.\n",
      "\n",
      "Bad key \"text.kerning_factor\" on line 4 in\n",
      "/Applications/anaconda3/envs/learn-env/lib/python3.6/site-packages/matplotlib/mpl-data/stylelib/_classic_test_patch.mplstyle.\n",
      "You probably need to get an updated matplotlibrc file from\n",
      "https://github.com/matplotlib/matplotlib/blob/v3.1.3/matplotlibrc.template\n",
      "or from the matplotlib source distribution\n"
     ]
    }
   ],
   "source": [
    "# Import Necessary Libraries\n",
    "\n",
    "import warnings\n",
    "warnings.filterwarnings('ignore')\n",
    "from keras.preprocessing.image import ImageDataGenerator, array_to_img, img_to_array, load_img\n",
    "import numpy as np\n",
    "import os\n",
    "import matplotlib.pyplot as plt\n",
    "%matplotlib inline\n",
    "import keras\n",
    "from keras import layers\n",
    "from keras.models import Sequential\n",
    "from keras.layers import Dense\n",
    "from sklearn.model_selection import train_test_split\n",
    "from sklearn.metrics import mean_squared_error\n",
    "from sklearn.model_selection import cross_val_predict\n",
    "from keras import regularizers\n",
    "from keras.wrappers.scikit_learn import KerasRegressor\n",
    "from keras.layers import Convolution2D\n",
    "from keras.layers import MaxPooling2D\n",
    "from keras.layers import Flatten\n",
    "from keras.layers import Dense\n",
    "from keras.callbacks import EarlyStopping, ModelCheckpoint\n",
    "from keras import regularizers\n",
    "from sklearn.metrics import classification_report\n",
    "from sklearn.metrics import confusion_matrix\n",
    "import itertools\n",
    "from keras.applications.vgg16 import preprocess_input\n",
    "from keras.applications.vgg16 import VGG16\n",
    "from keras.optimizers import Adam, Adadelta, Adagrad, SGD, RMSprop"
   ]
  },
  {
   "cell_type": "code",
   "execution_count": 2,
   "metadata": {},
   "outputs": [],
   "source": [
    "# Get the Directory Path of the Train, Validation, and Test Images\n",
    "train_dir = 'chest_xray/train/'\n",
    "val_dir = 'chest_xray/val/'\n",
    "test_dir = 'chest_xray/test/'"
   ]
  },
  {
   "cell_type": "code",
   "execution_count": 3,
   "metadata": {},
   "outputs": [],
   "source": [
    "# Establish the criteria for data augementation\n",
    "datagen = ImageDataGenerator(\n",
    "            rotation_range = 0,\n",
    "            width_shift_range = 0,\n",
    "            height_shift_range = 0,\n",
    "            rescale = None,\n",
    "            shear_range = 0,\n",
    "            zoom_range = 0,\n",
    "            horizontal_flip = False,\n",
    "            fill_mode = 'nearest')"
   ]
  },
  {
   "cell_type": "code",
   "execution_count": 4,
   "metadata": {},
   "outputs": [],
   "source": [
    "# Select a random normal image to transform. Put the image path into load_img\n",
    "norm_img = load_img('chest_xray/chest_xray/train/NORMAL/IM-0140-0001.jpeg')"
   ]
  },
  {
   "cell_type": "code",
   "execution_count": 5,
   "metadata": {},
   "outputs": [
    {
     "data": {
      "text/plain": [
       "<bound method Image.getpixel of <PIL.Image.Image image mode=RGB size=1156x1237 at 0x7F92A7C70A58>>"
      ]
     },
     "execution_count": 5,
     "metadata": {},
     "output_type": "execute_result"
    }
   ],
   "source": [
    "# Get the size of the image\n",
    "norm_img.getpixel"
   ]
  },
  {
   "cell_type": "code",
   "execution_count": 6,
   "metadata": {},
   "outputs": [],
   "source": [
    "# Convert the image to an array\n",
    "norm_img_array = img_to_array(norm_img)"
   ]
  },
  {
   "cell_type": "code",
   "execution_count": 7,
   "metadata": {},
   "outputs": [
    {
     "data": {
      "text/plain": [
       "(1237, 1156, 3)"
      ]
     },
     "execution_count": 7,
     "metadata": {},
     "output_type": "execute_result"
    }
   ],
   "source": [
    "norm_img_array.shape"
   ]
  },
  {
   "cell_type": "code",
   "execution_count": 9,
   "metadata": {},
   "outputs": [
    {
     "data": {
      "text/plain": [
       "(1, 1237, 1156, 3)"
      ]
     },
     "execution_count": 9,
     "metadata": {},
     "output_type": "execute_result"
    }
   ],
   "source": [
    "norm_img_array = norm_img_array.reshape((1,) + norm_img_array.shape)\n",
    "norm_img_array.shape"
   ]
  },
  {
   "cell_type": "code",
   "execution_count": 10,
   "metadata": {},
   "outputs": [],
   "source": [
    "# Run a Test to Gauge Photo Quality\n",
    "testing = 'test_dir/'"
   ]
  },
  {
   "cell_type": "code",
   "execution_count": null,
   "metadata": {},
   "outputs": [],
   "source": [
    "\n",
    "count = 0\n",
    "for batch in datagen.flow(norm_img_array, batch_size=1, save_to_dir=testing, save_prefix='IM', save_format='jpeg'):\n",
    "    count +=1\n",
    "    if count == 10:\n",
    "        break\n",
    "        \n",
    "print('10 images have been genrated at', )\n",
    "    "
   ]
  },
  {
   "cell_type": "markdown",
   "metadata": {},
   "source": [
    "# 4. Modeling\n",
    "Start with Greyscale, goal accuracy 80%"
   ]
  }
 ],
 "metadata": {
  "kernelspec": {
   "display_name": "learn-env",
   "language": "python",
   "name": "learn-env"
  },
  "language_info": {
   "codemirror_mode": {
    "name": "ipython",
    "version": 3
   },
   "file_extension": ".py",
   "mimetype": "text/x-python",
   "name": "python",
   "nbconvert_exporter": "python",
   "pygments_lexer": "ipython3",
   "version": "3.6.9"
  }
 },
 "nbformat": 4,
 "nbformat_minor": 2
}
