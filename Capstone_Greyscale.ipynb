{
 "cells": [
  {
   "cell_type": "markdown",
   "metadata": {},
   "source": [
    "# 1. Business Understanding\n",
    "\n",
    "“Misdiagnosis of pneumonia will delay treatment and can result in long-term disability or death... pneumonia is misdiagnosed at an alarming rate, even among patients who are readmitted to the hospital after suffering from pneumonia in the recent past...One of the most effective ways to diagnose pneumonia is by chest x-ray. However, a chest x-ray in a person with pneumonia does not always have the characteristic “infiltrate” if it is early in the course of the illness. Sometimes, the infiltrate may be in a portion of the lung that is not easily seen by standard x-ray, and other patients may have congestive heart failure or scarring in their lungs, which can mimic pneumonia.” **This analysis aims to prove that if X-ray images are colorized, the rate of misdiagnosis (and complications associated) will decrease.**\n",
    "\n",
    "Source: https://thistlelaw.com/do-you-have-a-case-for-the-misdiagnosis-of-pneumonia/\n",
    "\n"
   ]
  },
  {
   "cell_type": "markdown",
   "metadata": {},
   "source": [
    "# 2. Data Understanding"
   ]
  },
  {
   "cell_type": "markdown",
   "metadata": {},
   "source": [
    "# 3. Data Preparation\n",
    "\n",
    "upload dataset, add descriptors, and caption, upload libraries"
   ]
  },
  {
   "cell_type": "markdown",
   "metadata": {},
   "source": [
    "## Address Class Imbalance"
   ]
  },
  {
   "cell_type": "code",
   "execution_count": 1,
   "metadata": {
    "scrolled": true
   },
   "outputs": [
    {
     "name": "stderr",
     "output_type": "stream",
     "text": [
      "Using TensorFlow backend.\n",
      "\n",
      "Bad key \"text.kerning_factor\" on line 4 in\n",
      "/Applications/anaconda3/envs/learn-env/lib/python3.6/site-packages/matplotlib/mpl-data/stylelib/_classic_test_patch.mplstyle.\n",
      "You probably need to get an updated matplotlibrc file from\n",
      "https://github.com/matplotlib/matplotlib/blob/v3.1.3/matplotlibrc.template\n",
      "or from the matplotlib source distribution\n"
     ]
    }
   ],
   "source": [
    "import warnings\n",
    "warnings.filterwarnings('ignore')\n",
    "from keras.preprocessing.image import ImageDataGenerator, array_to_img, img_to_array, load_img\n",
    "import numpy as np\n",
    "import os\n",
    "import matplotlib.pyplot as plt\n",
    "%matplotlib inline\n",
    "import keras\n",
    "from keras import layers\n",
    "from keras.models import Sequential\n",
    "from keras.layers import Dense\n",
    "from sklearn.model_selection import train_test_split\n",
    "from sklearn.metrics import mean_squared_error\n",
    "from sklearn.model_selection import cross_val_predict\n",
    "from keras import regularizers\n",
    "from keras.wrappers.scikit_learn import KerasRegressor\n",
    "from keras.layers import Convolution2D\n",
    "from keras.layers import MaxPooling2D\n",
    "from keras.layers import Flatten\n",
    "from keras.layers import Dense\n",
    "from keras.callbacks import EarlyStopping, ModelCheckpoint\n",
    "from keras import regularizers\n",
    "from sklearn.metrics import classification_report\n",
    "from sklearn.metrics import confusion_matrix\n",
    "import itertools\n",
    "from keras.applications.vgg16 import preprocess_input\n",
    "from keras.applications.vgg16 import VGG16\n",
    "from keras.optimizers import Adam, Adadelta, Adagrad, SGD, RMSprop"
   ]
  },
  {
   "cell_type": "code",
   "execution_count": 40,
   "metadata": {},
   "outputs": [],
   "source": [
    "# Get the Directory Path of the Train, Validation, and Test Images\n",
    "train_dir = 'chest_xray/chest_xray/train/'\n",
    "val_dir = 'chest_xray/chest_xray/val/'\n",
    "test_dir = 'chest_xray/chest_xray/test/'"
   ]
  },
  {
   "cell_type": "code",
   "execution_count": 3,
   "metadata": {},
   "outputs": [],
   "source": [
    "# Establish the criteria for data augementation\n",
    "datagen = ImageDataGenerator(\n",
    "            rotation_range = 0,\n",
    "            width_shift_range = 0,\n",
    "            height_shift_range = 0,\n",
    "            rescale = None,\n",
    "            shear_range = 0,\n",
    "            zoom_range = 0,\n",
    "            horizontal_flip = False,\n",
    "            fill_mode = 'nearest')"
   ]
  },
  {
   "cell_type": "markdown",
   "metadata": {},
   "source": [
    "### Increase Normal Images to 5600"
   ]
  },
  {
   "cell_type": "code",
   "execution_count": 4,
   "metadata": {},
   "outputs": [],
   "source": [
    "# Select a random normal image to duplicate. Put the image path into load_img\n",
    "norm_img = load_img('chest_xray/chest_xray/train/NORMAL/IM-0140-0001.jpeg')"
   ]
  },
  {
   "cell_type": "code",
   "execution_count": 5,
   "metadata": {},
   "outputs": [
    {
     "data": {
      "text/plain": [
       "<bound method Image.getpixel of <PIL.Image.Image image mode=RGB size=1156x1237 at 0x7F92A7C70A58>>"
      ]
     },
     "execution_count": 5,
     "metadata": {},
     "output_type": "execute_result"
    }
   ],
   "source": [
    "# Get the size of the image\n",
    "norm_img.getpixel"
   ]
  },
  {
   "cell_type": "code",
   "execution_count": 6,
   "metadata": {},
   "outputs": [],
   "source": [
    "# Convert the image to an array\n",
    "norm_img_array = img_to_array(norm_img)"
   ]
  },
  {
   "cell_type": "code",
   "execution_count": 7,
   "metadata": {},
   "outputs": [
    {
     "data": {
      "text/plain": [
       "(1237, 1156, 3)"
      ]
     },
     "execution_count": 7,
     "metadata": {},
     "output_type": "execute_result"
    }
   ],
   "source": [
    "norm_img_array.shape"
   ]
  },
  {
   "cell_type": "code",
   "execution_count": 9,
   "metadata": {},
   "outputs": [
    {
     "data": {
      "text/plain": [
       "(1, 1237, 1156, 3)"
      ]
     },
     "execution_count": 9,
     "metadata": {},
     "output_type": "execute_result"
    }
   ],
   "source": [
    "norm_img_array = norm_img_array.reshape((1,) + norm_img_array.shape)\n",
    "norm_img_array.shape"
   ]
  },
  {
   "cell_type": "code",
   "execution_count": 10,
   "metadata": {},
   "outputs": [],
   "source": [
    "# Run a Test to Gauge Photo Quality\n",
    "testing = 'test_dir/'"
   ]
  },
  {
   "cell_type": "code",
   "execution_count": 11,
   "metadata": {},
   "outputs": [
    {
     "name": "stdout",
     "output_type": "stream",
     "text": [
      "10 images have been genrated at test_dir/\n"
     ]
    }
   ],
   "source": [
    "# Add 10 'test' images to test_dir to verify image quality\n",
    "count = 0\n",
    "for batch in datagen.flow(norm_img_array, batch_size=1, save_to_dir=testing, save_prefix='IM', save_format='jpeg'):\n",
    "    count +=1\n",
    "    if count == 10:\n",
    "        break\n",
    "        \n",
    "print('10 images have been genrated at', testing)\n",
    "    "
   ]
  },
  {
   "cell_type": "code",
   "execution_count": 29,
   "metadata": {},
   "outputs": [],
   "source": [
    "# List directory where images will be stored\n",
    "norm_dir = 'chest_xray/chest_xray/train/NORMAL/'"
   ]
  },
  {
   "cell_type": "code",
   "execution_count": 30,
   "metadata": {},
   "outputs": [
    {
     "name": "stdout",
     "output_type": "stream",
     "text": [
      "3660 images have been generated at chest_xray/chest_xray/train/NORMAL/\n"
     ]
    }
   ],
   "source": [
    "# Add 3660 Images to Normal\n",
    "count = 0\n",
    "for batch in datagen.flow(norm_img_array, batch_size=60, save_to_dir=norm_dir, save_prefix='IM', save_format='jpeg'):\n",
    "    count +=1\n",
    "    if count == 3660:\n",
    "        break\n",
    "print('3660 images have been generated at', norm_dir)\n",
    "# Only 4407 Total"
   ]
  },
  {
   "cell_type": "code",
   "execution_count": 37,
   "metadata": {},
   "outputs": [
    {
     "name": "stdout",
     "output_type": "stream",
     "text": [
      "120 images have been generated at chest_xray/chest_xray/train/NORMAL/\n"
     ]
    }
   ],
   "source": [
    "count = 0\n",
    "for batch in datagen.flow(norm_img_array, batch_size=20, save_to_dir=norm_dir, save_prefix='IM', save_format='jpeg'):\n",
    "    count +=1\n",
    "    if count == 120:\n",
    "        break\n",
    "print('120 images have been generated at', norm_dir)"
   ]
  },
  {
   "cell_type": "markdown",
   "metadata": {},
   "source": [
    "### Pneumonia Images to 5600"
   ]
  },
  {
   "cell_type": "code",
   "execution_count": 16,
   "metadata": {},
   "outputs": [],
   "source": [
    "# Select a random pneumonia image to duplicate\n",
    "pneum_img = load_img('chest_xray/chest_xray/train/PNEUMONIA/person23_bacteria_92.jpeg')"
   ]
  },
  {
   "cell_type": "code",
   "execution_count": 17,
   "metadata": {},
   "outputs": [
    {
     "data": {
      "text/plain": [
       "<bound method Image.getpixel of <PIL.Image.Image image mode=RGB size=1080x712 at 0x7F92A029D6A0>>"
      ]
     },
     "execution_count": 17,
     "metadata": {},
     "output_type": "execute_result"
    }
   ],
   "source": [
    "pneum_img.getpixel"
   ]
  },
  {
   "cell_type": "code",
   "execution_count": 24,
   "metadata": {},
   "outputs": [],
   "source": [
    "pneum_img_array = img_to_array(pneum_img)"
   ]
  },
  {
   "cell_type": "code",
   "execution_count": 25,
   "metadata": {},
   "outputs": [
    {
     "data": {
      "text/plain": [
       "(712, 1080, 3)"
      ]
     },
     "execution_count": 25,
     "metadata": {},
     "output_type": "execute_result"
    }
   ],
   "source": [
    "pneum_img_array.shape"
   ]
  },
  {
   "cell_type": "code",
   "execution_count": 26,
   "metadata": {},
   "outputs": [
    {
     "data": {
      "text/plain": [
       "(1, 712, 1080, 3)"
      ]
     },
     "execution_count": 26,
     "metadata": {},
     "output_type": "execute_result"
    }
   ],
   "source": [
    "# Reshape the array to a (1 x n) array\n",
    "pneum_img_array = pneum_img_array.reshape((1,) + pneum_img_array.shape)\n",
    "pneum_img_array.shape"
   ]
  },
  {
   "cell_type": "code",
   "execution_count": 31,
   "metadata": {},
   "outputs": [],
   "source": [
    "# List directory where images will be stored\n",
    "pneum_dir = 'chest_xray/chest_xray/train/PNEUMONIA'"
   ]
  },
  {
   "cell_type": "code",
   "execution_count": 32,
   "metadata": {},
   "outputs": [
    {
     "name": "stdout",
     "output_type": "stream",
     "text": [
      "1126 additional images have been generated at chest_xray/chest_xray/train/PNEUMONIA\n"
     ]
    }
   ],
   "source": [
    "count = 0\n",
    "for batch in datagen.flow(pneum_img_array, batch_size=2, save_to_dir=pneum_dir, save_prefix='IM', save_format='jpeg'):\n",
    "    count +=1\n",
    "    if count == 1126:\n",
    "        break\n",
    "print('1126 additional images have been generated at', pneum_dir)\n",
    "    "
   ]
  },
  {
   "cell_type": "code",
   "execution_count": 35,
   "metadata": {},
   "outputs": [
    {
     "name": "stdout",
     "output_type": "stream",
     "text": [
      "800 additional images have been generated at chest_xray/chest_xray/train/PNEUMONIA\n"
     ]
    }
   ],
   "source": [
    "count = 0\n",
    "for batch in datagen.flow(pneum_img_array, batch_size=100, save_to_dir=pneum_dir, save_prefix='IM', save_format='jpeg'):\n",
    "    count +=1\n",
    "    if count == 800:\n",
    "        break\n",
    "print('800 additional images have been generated at', pneum_dir)\n",
    "    "
   ]
  },
  {
   "cell_type": "markdown",
   "metadata": {},
   "source": [
    "## Preprocessing"
   ]
  },
  {
   "cell_type": "markdown",
   "metadata": {},
   "source": [
    "### Read in & Normalize Images"
   ]
  },
  {
   "cell_type": "code",
   "execution_count": 42,
   "metadata": {},
   "outputs": [
    {
     "name": "stdout",
     "output_type": "stream",
     "text": [
      "Found 11198 images belonging to 2 classes.\n"
     ]
    }
   ],
   "source": [
    "# Resize all 10,200 images in the train directory\n",
    "train_generator = ImageDataGenerator(rescale=1./255).flow_from_directory(train_dir,\n",
    "                                                     target_size=(96,96), batch_size=11200, color_mode='grayscale')"
   ]
  },
  {
   "cell_type": "code",
   "execution_count": 43,
   "metadata": {},
   "outputs": [
    {
     "name": "stdout",
     "output_type": "stream",
     "text": [
      "Found 16 images belonging to 2 classes.\n"
     ]
    }
   ],
   "source": [
    "val_generator = ImageDataGenerator(rescale=1./255).flow_from_directory(val_dir,\n",
    "                                                   target_size=(96,96), batch_size=16, color_mode='grayscale')\n"
   ]
  },
  {
   "cell_type": "code",
   "execution_count": 44,
   "metadata": {},
   "outputs": [
    {
     "name": "stdout",
     "output_type": "stream",
     "text": [
      "Found 624 images belonging to 2 classes.\n"
     ]
    }
   ],
   "source": [
    "test_generator = ImageDataGenerator(rescale=1./255).flow_from_directory(test_dir,\n",
    "                                                   target_size=(96,96), batch_size=624, color_mode='grayscale')\n",
    "\n"
   ]
  },
  {
   "cell_type": "code",
   "execution_count": null,
   "metadata": {},
   "outputs": [],
   "source": []
  },
  {
   "cell_type": "code",
   "execution_count": null,
   "metadata": {},
   "outputs": [],
   "source": []
  },
  {
   "cell_type": "markdown",
   "metadata": {},
   "source": [
    "# 4. Modeling\n",
    "Start with Greyscale, goal accuracy 80%"
   ]
  }
 ],
 "metadata": {
  "kernelspec": {
   "display_name": "learn-env",
   "language": "python",
   "name": "learn-env"
  },
  "language_info": {
   "codemirror_mode": {
    "name": "ipython",
    "version": 3
   },
   "file_extension": ".py",
   "mimetype": "text/x-python",
   "name": "python",
   "nbconvert_exporter": "python",
   "pygments_lexer": "ipython3",
   "version": "3.6.9"
  }
 },
 "nbformat": 4,
 "nbformat_minor": 2
}
