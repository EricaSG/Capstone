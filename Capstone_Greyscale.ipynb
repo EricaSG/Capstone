{
 "cells": [
  {
   "cell_type": "markdown",
   "metadata": {},
   "source": [
    "# 1. Business Understanding\n",
    "\n",
    "“Misdiagnosis of pneumonia will delay treatment and can result in long-term disability or death... pneumonia is misdiagnosed at an alarming rate, even among patients who are readmitted to the hospital after suffering from pneumonia in the recent past...One of the most effective ways to diagnose pneumonia is by chest x-ray. However, a chest x-ray in a person with pneumonia does not always have the characteristic “infiltrate” if it is early in the course of the illness. Sometimes, the infiltrate may be in a portion of the lung that is not easily seen by standard x-ray, and other patients may have congestive heart failure or scarring in their lungs, which can mimic pneumonia.” **This analysis aims to prove that if X-ray images are colorized, the rate of misdiagnosis (and complications associated) will decrease.**\n",
    "\n",
    "Source: https://thistlelaw.com/do-you-have-a-case-for-the-misdiagnosis-of-pneumonia/\n",
    "\n"
   ]
  },
  {
   "cell_type": "markdown",
   "metadata": {},
   "source": [
    "# 2. Data Understanding\n",
    "\n",
    "quick summary of data here."
   ]
  },
  {
   "cell_type": "markdown",
   "metadata": {},
   "source": [
    "# 3. Data Preparation"
   ]
  },
  {
   "cell_type": "markdown",
   "metadata": {},
   "source": [
    "## Import Necessary Libraries"
   ]
  },
  {
   "cell_type": "code",
   "execution_count": 1,
   "metadata": {
    "scrolled": true
   },
   "outputs": [
    {
     "name": "stderr",
     "output_type": "stream",
     "text": [
      "Using TensorFlow backend.\n",
      "\n",
      "Bad key \"text.kerning_factor\" on line 4 in\n",
      "/Applications/anaconda3/envs/learn-env/lib/python3.6/site-packages/matplotlib/mpl-data/stylelib/_classic_test_patch.mplstyle.\n",
      "You probably need to get an updated matplotlibrc file from\n",
      "https://github.com/matplotlib/matplotlib/blob/v3.1.3/matplotlibrc.template\n",
      "or from the matplotlib source distribution\n"
     ]
    }
   ],
   "source": [
    "import warnings\n",
    "warnings.filterwarnings('ignore')\n",
    "from keras.preprocessing.image import ImageDataGenerator, array_to_img, img_to_array, load_img\n",
    "import numpy as np\n",
    "import os\n",
    "import matplotlib.pyplot as plt\n",
    "%matplotlib inline\n",
    "import keras\n",
    "from keras import layers\n",
    "from keras.models import Sequential\n",
    "from keras.layers import Dense\n",
    "from sklearn.model_selection import train_test_split\n",
    "from sklearn.metrics import mean_squared_error\n",
    "from sklearn.model_selection import cross_val_predict\n",
    "from keras import regularizers\n",
    "from keras.wrappers.scikit_learn import KerasRegressor\n",
    "from keras.layers import Convolution2D\n",
    "from keras.layers import MaxPooling2D\n",
    "from keras.layers import Flatten\n",
    "from keras.layers import Dense\n",
    "from keras.callbacks import EarlyStopping, ModelCheckpoint\n",
    "from keras import regularizers\n",
    "from sklearn.metrics import classification_report\n",
    "from sklearn.metrics import confusion_matrix\n",
    "import itertools\n",
    "from keras.applications.vgg16 import preprocess_input\n",
    "from keras.applications.vgg16 import VGG16\n",
    "from keras.optimizers import Adam, Adadelta, Adagrad, SGD, RMSprop\n",
    "from keras import initializers\n",
    "from keras.layers import Dropout\n",
    "from keras.constraints import unit_norm, min_max_norm\n",
    "from keras.applications.inception_v3 import InceptionV3"
   ]
  },
  {
   "cell_type": "markdown",
   "metadata": {},
   "source": [
    "## Address Class Imbalance"
   ]
  },
  {
   "cell_type": "code",
   "execution_count": 2,
   "metadata": {},
   "outputs": [],
   "source": [
    "# Get the Directory Path of the Train, Validation, and Test Images\n",
    "train_dir = 'chest_xray/chest_xray/train/'\n",
    "val_dir = 'chest_xray/chest_xray/val/'\n",
    "test_dir = 'chest_xray/chest_xray/test/'"
   ]
  },
  {
   "cell_type": "code",
   "execution_count": 3,
   "metadata": {},
   "outputs": [],
   "source": [
    "# Establish the criteria for data augementation\n",
    "datagen = ImageDataGenerator(\n",
    "            rotation_range = 0,\n",
    "            width_shift_range = 0,\n",
    "            height_shift_range = 0,\n",
    "            rescale = None,\n",
    "            shear_range = 0,\n",
    "            zoom_range = 0,\n",
    "            horizontal_flip = False,\n",
    "            fill_mode = 'nearest')"
   ]
  },
  {
   "cell_type": "markdown",
   "metadata": {},
   "source": [
    "### Increase Normal Images to 5600"
   ]
  },
  {
   "cell_type": "code",
   "execution_count": 30,
   "metadata": {},
   "outputs": [],
   "source": [
    "# Select a random normal image to duplicate. Put the image path into load_img\n",
    "norm_img = load_img('chest_xray/chest_xray/train/NORMAL/IM-0140-0001.jpeg')"
   ]
  },
  {
   "cell_type": "code",
   "execution_count": 31,
   "metadata": {},
   "outputs": [
    {
     "data": {
      "text/plain": [
       "<bound method Image.getpixel of <PIL.Image.Image image mode=RGB size=1156x1237 at 0x7FE11D0CC470>>"
      ]
     },
     "execution_count": 31,
     "metadata": {},
     "output_type": "execute_result"
    }
   ],
   "source": [
    "# Get the size of the image\n",
    "norm_img.getpixel"
   ]
  },
  {
   "cell_type": "code",
   "execution_count": 32,
   "metadata": {},
   "outputs": [],
   "source": [
    "# Convert the image to an array\n",
    "norm_img_array = img_to_array(norm_img)"
   ]
  },
  {
   "cell_type": "code",
   "execution_count": 33,
   "metadata": {},
   "outputs": [
    {
     "data": {
      "text/plain": [
       "(1237, 1156, 3)"
      ]
     },
     "execution_count": 33,
     "metadata": {},
     "output_type": "execute_result"
    }
   ],
   "source": [
    "norm_img_array.shape"
   ]
  },
  {
   "cell_type": "code",
   "execution_count": 34,
   "metadata": {},
   "outputs": [
    {
     "data": {
      "text/plain": [
       "(1, 1237, 1156, 3)"
      ]
     },
     "execution_count": 34,
     "metadata": {},
     "output_type": "execute_result"
    }
   ],
   "source": [
    "norm_img_array = norm_img_array.reshape((1,) + norm_img_array.shape)\n",
    "norm_img_array.shape"
   ]
  },
  {
   "cell_type": "code",
   "execution_count": 10,
   "metadata": {},
   "outputs": [],
   "source": [
    "# Run a Test to Gauge Photo Quality\n",
    "testing = 'test_dir/'"
   ]
  },
  {
   "cell_type": "code",
   "execution_count": 11,
   "metadata": {},
   "outputs": [
    {
     "name": "stdout",
     "output_type": "stream",
     "text": [
      "10 images have been genrated at test_dir/\n"
     ]
    }
   ],
   "source": [
    "# Add 10 'test' images to test_dir to verify image quality\n",
    "count = 0\n",
    "for batch in datagen.flow(norm_img_array, batch_size=1, save_to_dir=testing, save_prefix='IM', save_format='jpeg'):\n",
    "    count +=1\n",
    "    if count == 10:\n",
    "        break\n",
    "        \n",
    "print('10 images have been genrated at', testing)\n",
    "    "
   ]
  },
  {
   "cell_type": "code",
   "execution_count": 35,
   "metadata": {},
   "outputs": [],
   "source": [
    "# List directory where images will be stored\n",
    "norm_dir = 'chest_xray/chest_xray/train/NORMAL/'"
   ]
  },
  {
   "cell_type": "code",
   "execution_count": 30,
   "metadata": {},
   "outputs": [
    {
     "name": "stdout",
     "output_type": "stream",
     "text": [
      "3660 images have been generated at chest_xray/chest_xray/train/NORMAL/\n"
     ]
    }
   ],
   "source": [
    "# Add 3660 Images to Normal\n",
    "count = 0\n",
    "for batch in datagen.flow(norm_img_array, batch_size=60, save_to_dir=norm_dir, save_prefix='IM', save_format='jpeg'):\n",
    "    count +=1\n",
    "    if count == 3660:\n",
    "        break\n",
    "print('3660 images have been generated at', norm_dir)\n"
   ]
  },
  {
   "cell_type": "code",
   "execution_count": 37,
   "metadata": {},
   "outputs": [
    {
     "name": "stdout",
     "output_type": "stream",
     "text": [
      "120 images have been generated at chest_xray/chest_xray/train/NORMAL/\n"
     ]
    }
   ],
   "source": [
    "count = 0\n",
    "for batch in datagen.flow(norm_img_array, batch_size=20, save_to_dir=norm_dir, save_prefix='IM', save_format='jpeg'):\n",
    "    count +=1\n",
    "    if count == 120:\n",
    "        break\n",
    "print('120 images have been generated at', norm_dir)"
   ]
  },
  {
   "cell_type": "markdown",
   "metadata": {},
   "source": [
    "### Increase Pneumonia Images to 5600"
   ]
  },
  {
   "cell_type": "code",
   "execution_count": 37,
   "metadata": {},
   "outputs": [],
   "source": [
    "# Select a random pneumonia image to duplicate\n",
    "pneum_img = load_img('chest_xray/chest_xray/train/PNEUMONIA/person23_bacteria_92.jpeg')"
   ]
  },
  {
   "cell_type": "code",
   "execution_count": 38,
   "metadata": {},
   "outputs": [
    {
     "data": {
      "text/plain": [
       "<bound method Image.getpixel of <PIL.Image.Image image mode=RGB size=1080x712 at 0x7FE11D0B07F0>>"
      ]
     },
     "execution_count": 38,
     "metadata": {},
     "output_type": "execute_result"
    }
   ],
   "source": [
    "pneum_img.getpixel"
   ]
  },
  {
   "cell_type": "code",
   "execution_count": 39,
   "metadata": {},
   "outputs": [],
   "source": [
    "pneum_img_array = img_to_array(pneum_img)"
   ]
  },
  {
   "cell_type": "code",
   "execution_count": 40,
   "metadata": {},
   "outputs": [
    {
     "data": {
      "text/plain": [
       "(712, 1080, 3)"
      ]
     },
     "execution_count": 40,
     "metadata": {},
     "output_type": "execute_result"
    }
   ],
   "source": [
    "pneum_img_array.shape"
   ]
  },
  {
   "cell_type": "code",
   "execution_count": 41,
   "metadata": {},
   "outputs": [
    {
     "data": {
      "text/plain": [
       "(1, 712, 1080, 3)"
      ]
     },
     "execution_count": 41,
     "metadata": {},
     "output_type": "execute_result"
    }
   ],
   "source": [
    "# Reshape the array to a (1 x n) array\n",
    "pneum_img_array = pneum_img_array.reshape((1,) + pneum_img_array.shape)\n",
    "pneum_img_array.shape"
   ]
  },
  {
   "cell_type": "code",
   "execution_count": 42,
   "metadata": {},
   "outputs": [],
   "source": [
    "# List directory where images will be stored\n",
    "pneum_dir = 'chest_xray/chest_xray/train/PNEUMONIA'"
   ]
  },
  {
   "cell_type": "code",
   "execution_count": 32,
   "metadata": {},
   "outputs": [
    {
     "name": "stdout",
     "output_type": "stream",
     "text": [
      "1126 additional images have been generated at chest_xray/chest_xray/train/PNEUMONIA\n"
     ]
    }
   ],
   "source": [
    "count = 0\n",
    "for batch in datagen.flow(pneum_img_array, batch_size=2, save_to_dir=pneum_dir, save_prefix='IM', save_format='jpeg'):\n",
    "    count +=1\n",
    "    if count == 1126:\n",
    "        break\n",
    "print('1126 additional images have been generated at', pneum_dir)\n",
    "    "
   ]
  },
  {
   "cell_type": "code",
   "execution_count": 35,
   "metadata": {},
   "outputs": [
    {
     "name": "stdout",
     "output_type": "stream",
     "text": [
      "800 additional images have been generated at chest_xray/chest_xray/train/PNEUMONIA\n"
     ]
    }
   ],
   "source": [
    "count = 0\n",
    "for batch in datagen.flow(pneum_img_array, batch_size=100, save_to_dir=pneum_dir, save_prefix='IM', save_format='jpeg'):\n",
    "    count +=1\n",
    "    if count == 800:\n",
    "        break\n",
    "print('800 additional images have been generated at', pneum_dir)\n",
    "    "
   ]
  },
  {
   "cell_type": "markdown",
   "metadata": {},
   "source": [
    "## Preprocessing"
   ]
  },
  {
   "cell_type": "markdown",
   "metadata": {},
   "source": [
    "### Read in & Normalize Images"
   ]
  },
  {
   "cell_type": "code",
   "execution_count": 4,
   "metadata": {},
   "outputs": [
    {
     "name": "stdout",
     "output_type": "stream",
     "text": [
      "Found 11255 images belonging to 2 classes.\n"
     ]
    }
   ],
   "source": [
    "# Resize all 11,200 images in the train directory\n",
    "train_generator = ImageDataGenerator(rescale=1./255).flow_from_directory(train_dir,\n",
    "                                                     target_size=(96,96), batch_size=11200, color_mode='grayscale')"
   ]
  },
  {
   "cell_type": "code",
   "execution_count": 5,
   "metadata": {},
   "outputs": [
    {
     "name": "stdout",
     "output_type": "stream",
     "text": [
      "Found 16 images belonging to 2 classes.\n"
     ]
    }
   ],
   "source": [
    "# Resize all 16 images in the train directory\n",
    "val_generator = ImageDataGenerator(rescale=1./255).flow_from_directory(val_dir,\n",
    "                                                   target_size=(96,96), batch_size=16, color_mode='grayscale')\n"
   ]
  },
  {
   "cell_type": "code",
   "execution_count": 6,
   "metadata": {},
   "outputs": [
    {
     "name": "stdout",
     "output_type": "stream",
     "text": [
      "Found 624 images belonging to 2 classes.\n"
     ]
    }
   ],
   "source": [
    "# Resize all 624 images in the train directory\n",
    "test_generator = ImageDataGenerator(rescale=1./255).flow_from_directory(test_dir,\n",
    "                                                   target_size=(96,96), batch_size=624, color_mode='grayscale')\n",
    "\n"
   ]
  },
  {
   "cell_type": "markdown",
   "metadata": {},
   "source": [
    "### Generate Image and Label Sets"
   ]
  },
  {
   "cell_type": "code",
   "execution_count": 7,
   "metadata": {},
   "outputs": [],
   "source": [
    "# Iterate through all of the images and create image-label datasets\n",
    "train_images, train_labels = next(train_generator)"
   ]
  },
  {
   "cell_type": "code",
   "execution_count": 8,
   "metadata": {},
   "outputs": [],
   "source": [
    "val_images, val_labels = next(val_generator)"
   ]
  },
  {
   "cell_type": "code",
   "execution_count": 9,
   "metadata": {},
   "outputs": [],
   "source": [
    "test_images, test_labels = next(test_generator)"
   ]
  },
  {
   "cell_type": "markdown",
   "metadata": {},
   "source": [
    "### Preview Images"
   ]
  },
  {
   "cell_type": "code",
   "execution_count": 48,
   "metadata": {},
   "outputs": [
    {
     "data": {
      "image/png": "[encoded data removed]",
      "text/plain": [
       "<PIL.Image.Image image mode=L size=96x96 at 0x7F92A74F25C0>"
      ]
     },
     "execution_count": 48,
     "metadata": {},
     "output_type": "execute_result"
    }
   ],
   "source": [
    "# Train\n",
    "array_to_img(train_images[1000])"
   ]
  },
  {
   "cell_type": "code",
   "execution_count": 49,
   "metadata": {},
   "outputs": [
    {
     "data": {
      "image/png": "[encoded data removed]",
      "text/plain": [
       "<PIL.Image.Image image mode=L size=96x96 at 0x7F92A77FAD30>"
      ]
     },
     "execution_count": 49,
     "metadata": {},
     "output_type": "execute_result"
    }
   ],
   "source": [
    "# Validation\n",
    "array_to_img(val_images[8])"
   ]
  },
  {
   "cell_type": "code",
   "execution_count": 50,
   "metadata": {
    "scrolled": true
   },
   "outputs": [
    {
     "data": {
      "image/png": "[encoded data removed]",
      "text/plain": [
       "<PIL.Image.Image image mode=L size=96x96 at 0x7F92A6574A58>"
      ]
     },
     "execution_count": 50,
     "metadata": {},
     "output_type": "execute_result"
    }
   ],
   "source": [
    "# Test\n",
    "array_to_img(test_images[500])"
   ]
  },
  {
   "cell_type": "markdown",
   "metadata": {},
   "source": [
    "### Check the Shape of the Image & Label Arrays"
   ]
  },
  {
   "cell_type": "code",
   "execution_count": 10,
   "metadata": {},
   "outputs": [
    {
     "name": "stdout",
     "output_type": "stream",
     "text": [
      "Shape of Train Images:  (11200, 96, 96, 1)\n",
      "Shape of Train Labels:  (11200, 2)\n",
      "Shape of Validation Images:  (16, 96, 96, 1)\n",
      "Shape of Validation Labels:  (16, 2)\n",
      "Shape of Test Images:  (624, 96, 96, 1)\n",
      "Shape of Test Labels:  (624, 2)\n"
     ]
    }
   ],
   "source": [
    "print('Shape of Train Images: ', np.shape(train_images))\n",
    "print('Shape of Train Labels: ', np.shape(train_labels))\n",
    "print('Shape of Validation Images: ', np.shape(val_images))\n",
    "print('Shape of Validation Labels: ', np.shape(val_labels))\n",
    "print('Shape of Test Images: ', np.shape(test_images))\n",
    "print('Shape of Test Labels: ', np.shape(test_labels))"
   ]
  },
  {
   "cell_type": "markdown",
   "metadata": {},
   "source": [
    "### Transform the labels to (m X 1) matrices"
   ]
  },
  {
   "cell_type": "code",
   "execution_count": 11,
   "metadata": {},
   "outputs": [
    {
     "data": {
      "text/plain": [
       "(11200, 1)"
      ]
     },
     "execution_count": 11,
     "metadata": {},
     "output_type": "execute_result"
    }
   ],
   "source": [
    "train_labels_final = np.reshape(train_labels[:,0], (11200,1))\n",
    "np.shape(train_labels_final)"
   ]
  },
  {
   "cell_type": "code",
   "execution_count": 12,
   "metadata": {},
   "outputs": [
    {
     "data": {
      "text/plain": [
       "(16, 1)"
      ]
     },
     "execution_count": 12,
     "metadata": {},
     "output_type": "execute_result"
    }
   ],
   "source": [
    "val_labels_final = np.reshape(val_labels[:,0], (16,1))\n",
    "np.shape(val_labels_final)"
   ]
  },
  {
   "cell_type": "code",
   "execution_count": 13,
   "metadata": {},
   "outputs": [
    {
     "data": {
      "text/plain": [
       "(624, 1)"
      ]
     },
     "execution_count": 13,
     "metadata": {},
     "output_type": "execute_result"
    }
   ],
   "source": [
    "test_labels_final = np.reshape(test_labels[:,0], (624,1))\n",
    "np.shape(test_labels_final)"
   ]
  },
  {
   "cell_type": "markdown",
   "metadata": {},
   "source": [
    "### Verify the Images and Labels"
   ]
  },
  {
   "cell_type": "code",
   "execution_count": 14,
   "metadata": {},
   "outputs": [
    {
     "data": {
      "text/plain": [
       "{'NORMAL': 0, 'PNEUMONIA': 1}"
      ]
     },
     "execution_count": 14,
     "metadata": {},
     "output_type": "execute_result"
    }
   ],
   "source": [
    "# Verify the class labels\n",
    "train_generator.class_indices"
   ]
  },
  {
   "cell_type": "code",
   "execution_count": 57,
   "metadata": {},
   "outputs": [
    {
     "data": {
      "image/png": "[encoded data removed]",
      "text/plain": [
       "<PIL.Image.Image image mode=L size=96x96 at 0x7F92A86ED668>"
      ]
     },
     "execution_count": 57,
     "metadata": {},
     "output_type": "execute_result"
    }
   ],
   "source": [
    "# Select a random image to verify\n",
    "array_to_img(train_images[7000])"
   ]
  },
  {
   "cell_type": "code",
   "execution_count": 58,
   "metadata": {},
   "outputs": [
    {
     "data": {
      "text/plain": [
       "array([1.], dtype=float32)"
      ]
     },
     "execution_count": 58,
     "metadata": {},
     "output_type": "execute_result"
    }
   ],
   "source": [
    "# Return the respective label and verify that the label matches the image\n",
    "train_labels_final[7000, :]"
   ]
  },
  {
   "cell_type": "markdown",
   "metadata": {},
   "source": [
    "# 4. Modeling\n",
    "Start with Greyscale, goal accuracy 80%"
   ]
  },
  {
   "cell_type": "markdown",
   "metadata": {},
   "source": [
    "## Building the Convolutional Nerual Network"
   ]
  },
  {
   "cell_type": "markdown",
   "metadata": {},
   "source": [
    "### Model 1: Default Settings w/ Early Stopping"
   ]
  },
  {
   "cell_type": "code",
   "execution_count": 66,
   "metadata": {},
   "outputs": [],
   "source": [
    "model1 = Sequential()\n",
    "\n",
    "model1.add(layers.Conv2D(32, (3, 3), activation='relu', input_shape=(96, 96, 1)))\n",
    "model1.add(layers.MaxPooling2D((2, 2)))\n",
    "\n",
    "model1.add(layers.Conv2D(64, (4, 4), activation='relu'))\n",
    "model1.add(layers.MaxPooling2D((2, 2)))\n",
    "\n",
    "model1.add(layers.Conv2D(128, (3, 3), activation='relu'))\n",
    "model1.add(layers.MaxPooling2D((2,2)))\n",
    "\n",
    "model1.add(layers.Conv2D(128, (3, 3), activation='relu'))\n",
    "model1.add(layers.MaxPooling2D((2,2)))\n",
    "\n",
    "# Flattening- Convert 2D matrix to a 1D vector\n",
    "model1.add(layers.Flatten())\n",
    "model1.add(layers.Dense(512, activation = 'relu'))\n",
    "model1.add(layers.Dense(1, activation='sigmoid'))"
   ]
  },
  {
   "cell_type": "code",
   "execution_count": 67,
   "metadata": {},
   "outputs": [
    {
     "name": "stdout",
     "output_type": "stream",
     "text": [
      "_________________________________________________________________\n",
      "Layer (type)                 Output Shape              Param #   \n",
      "=================================================================\n",
      "conv2d_5 (Conv2D)            (None, 94, 94, 32)        320       \n",
      "_________________________________________________________________\n",
      "max_pooling2d_5 (MaxPooling2 (None, 47, 47, 32)        0         \n",
      "_________________________________________________________________\n",
      "conv2d_6 (Conv2D)            (None, 44, 44, 64)        32832     \n",
      "_________________________________________________________________\n",
      "max_pooling2d_6 (MaxPooling2 (None, 22, 22, 64)        0         \n",
      "_________________________________________________________________\n",
      "conv2d_7 (Conv2D)            (None, 20, 20, 128)       73856     \n",
      "_________________________________________________________________\n",
      "max_pooling2d_7 (MaxPooling2 (None, 10, 10, 128)       0         \n",
      "_________________________________________________________________\n",
      "conv2d_8 (Conv2D)            (None, 8, 8, 128)         147584    \n",
      "_________________________________________________________________\n",
      "max_pooling2d_8 (MaxPooling2 (None, 4, 4, 128)         0         \n",
      "_________________________________________________________________\n",
      "flatten_2 (Flatten)          (None, 2048)              0         \n",
      "_________________________________________________________________\n",
      "dense_3 (Dense)              (None, 512)               1049088   \n",
      "_________________________________________________________________\n",
      "dense_4 (Dense)              (None, 1)                 513       \n",
      "=================================================================\n",
      "Total params: 1,304,193\n",
      "Trainable params: 1,304,193\n",
      "Non-trainable params: 0\n",
      "_________________________________________________________________\n"
     ]
    }
   ],
   "source": [
    "# Return the summary of the model\n",
    "model1.summary()"
   ]
  },
  {
   "cell_type": "code",
   "execution_count": 68,
   "metadata": {},
   "outputs": [],
   "source": [
    "# Compile the model\n",
    "model1.compile(loss='binary_crossentropy', optimizer='adam', metrics=['accuracy'])"
   ]
  },
  {
   "cell_type": "code",
   "execution_count": 69,
   "metadata": {},
   "outputs": [],
   "source": [
    "# Execute \"early stopping\" to stop the model when the loss has stopped improving\n",
    "early_stopping = [EarlyStopping(monitor='val_loss', patience=10)]"
   ]
  },
  {
   "cell_type": "code",
   "execution_count": 70,
   "metadata": {},
   "outputs": [
    {
     "name": "stdout",
     "output_type": "stream",
     "text": [
      "Train on 11198 samples, validate on 16 samples\n",
      "Epoch 1/100\n",
      "11198/11198 [==============================] - 576s 51ms/step - loss: 0.5838 - acc: 0.6984 - val_loss: 0.6218 - val_acc: 0.5000\n",
      "Epoch 2/100\n",
      "11198/11198 [==============================] - 444s 40ms/step - loss: 0.2141 - acc: 0.9119 - val_loss: 1.0069 - val_acc: 0.6250\n",
      "Epoch 3/100\n",
      "11198/11198 [==============================] - 462s 41ms/step - loss: 0.1261 - acc: 0.9478 - val_loss: 1.5317 - val_acc: 0.6250\n",
      "Epoch 4/100\n",
      "11198/11198 [==============================] - 569s 51ms/step - loss: 0.0868 - acc: 0.9666 - val_loss: 0.7330 - val_acc: 0.5625\n",
      "Epoch 5/100\n",
      "11198/11198 [==============================] - 519s 46ms/step - loss: 0.0531 - acc: 0.9821 - val_loss: 0.9174 - val_acc: 0.6250\n",
      "Epoch 6/100\n",
      "11198/11198 [==============================] - 458s 41ms/step - loss: 0.0522 - acc: 0.9799 - val_loss: 0.8224 - val_acc: 0.6250\n",
      "Epoch 7/100\n",
      "11198/11198 [==============================] - 482s 43ms/step - loss: 0.0477 - acc: 0.9825 - val_loss: 0.3196 - val_acc: 0.8750\n",
      "Epoch 8/100\n",
      "11198/11198 [==============================] - 460s 41ms/step - loss: 0.0411 - acc: 0.9839 - val_loss: 0.8587 - val_acc: 0.6250\n",
      "Epoch 9/100\n",
      "11198/11198 [==============================] - 490s 44ms/step - loss: 0.0326 - acc: 0.9868 - val_loss: 0.4448 - val_acc: 0.7500\n",
      "Epoch 10/100\n",
      "11198/11198 [==============================] - 528s 47ms/step - loss: 0.0313 - acc: 0.9888 - val_loss: 0.7695 - val_acc: 0.6875\n",
      "Epoch 11/100\n",
      "11198/11198 [==============================] - 466s 42ms/step - loss: 0.0271 - acc: 0.9898 - val_loss: 0.4916 - val_acc: 0.8125\n",
      "Epoch 12/100\n",
      "11198/11198 [==============================] - 512s 46ms/step - loss: 0.0243 - acc: 0.9911 - val_loss: 0.2645 - val_acc: 0.8750\n",
      "Epoch 13/100\n",
      "11198/11198 [==============================] - 592s 53ms/step - loss: 0.0223 - acc: 0.9913 - val_loss: 0.6127 - val_acc: 0.7500\n",
      "Epoch 14/100\n",
      "11198/11198 [==============================] - 545s 49ms/step - loss: 0.0199 - acc: 0.9926 - val_loss: 0.5499 - val_acc: 0.7500\n",
      "Epoch 15/100\n",
      "11198/11198 [==============================] - 682s 61ms/step - loss: 0.0183 - acc: 0.9929 - val_loss: 0.9760 - val_acc: 0.6875\n",
      "Epoch 16/100\n",
      "11198/11198 [==============================] - 540s 48ms/step - loss: 0.0163 - acc: 0.9944 - val_loss: 0.6683 - val_acc: 0.7500\n",
      "Epoch 17/100\n",
      "11198/11198 [==============================] - 469s 42ms/step - loss: 0.0159 - acc: 0.9943 - val_loss: 0.2827 - val_acc: 0.8125\n",
      "Epoch 18/100\n",
      "11198/11198 [==============================] - 502s 45ms/step - loss: 0.0131 - acc: 0.9955 - val_loss: 0.7045 - val_acc: 0.7500\n",
      "Epoch 19/100\n",
      "11198/11198 [==============================] - 473s 42ms/step - loss: 0.0134 - acc: 0.9949 - val_loss: 0.6480 - val_acc: 0.6875\n",
      "Epoch 20/100\n",
      "11198/11198 [==============================] - 478s 43ms/step - loss: 0.0136 - acc: 0.9950 - val_loss: 0.3184 - val_acc: 0.7500\n",
      "Epoch 21/100\n",
      "11198/11198 [==============================] - 475s 42ms/step - loss: 0.0094 - acc: 0.9971 - val_loss: 0.4459 - val_acc: 0.7500\n",
      "Epoch 22/100\n",
      "11198/11198 [==============================] - 399s 36ms/step - loss: 0.0071 - acc: 0.9979 - val_loss: 0.3884 - val_acc: 0.8125\n"
     ]
    }
   ],
   "source": [
    "results1 = model1.fit(train_images, train_labels_final, epochs=100, callbacks=early_stopping, batch_size=750, validation_data=(val_images, val_labels_final))"
   ]
  },
  {
   "cell_type": "markdown",
   "metadata": {},
   "source": [
    "### Save the Model"
   ]
  },
  {
   "cell_type": "code",
   "execution_count": 71,
   "metadata": {},
   "outputs": [
    {
     "name": "stdout",
     "output_type": "stream",
     "text": [
      "saving model to disk \n",
      "\n"
     ]
    }
   ],
   "source": [
    "print('saving model to disk \\n')\n",
    "mod = './/Models/model1_default'\n",
    "model1.save(mod)"
   ]
  },
  {
   "cell_type": "markdown",
   "metadata": {},
   "source": [
    "### Evaluation: Model 1"
   ]
  },
  {
   "cell_type": "code",
   "execution_count": 72,
   "metadata": {},
   "outputs": [
    {
     "name": "stdout",
     "output_type": "stream",
     "text": [
      "11198/11198 [==============================] - 106s 9ms/step\n"
     ]
    },
    {
     "data": {
      "text/plain": [
       "[0.005181240166293904, 0.9988390784068584]"
      ]
     },
     "execution_count": 72,
     "metadata": {},
     "output_type": "execute_result"
    }
   ],
   "source": [
    "results_train1 = model1.evaluate(train_images, train_labels_final)\n",
    "results_train1"
   ]
  },
  {
   "cell_type": "code",
   "execution_count": 73,
   "metadata": {},
   "outputs": [
    {
     "name": "stdout",
     "output_type": "stream",
     "text": [
      "\r",
      "16/16 [==============================] - 0s 19ms/step\n"
     ]
    },
    {
     "data": {
      "text/plain": [
       "[0.38838502764701843, 0.8125]"
      ]
     },
     "execution_count": 73,
     "metadata": {},
     "output_type": "execute_result"
    }
   ],
   "source": [
    "results_val1 = model1.evaluate(val_images, val_labels_final)\n",
    "results_val1"
   ]
  },
  {
   "cell_type": "code",
   "execution_count": 3,
   "metadata": {},
   "outputs": [],
   "source": [
    "def visualize_training_results(results):\n",
    "    \"\"\"\n",
    "   1 Input: The Training and \n",
    "    Validation/Testing Dictionary \n",
    "    of Loss and Accuracy\n",
    "    \n",
    "    Output: 2 Plots of Loss vs. Epochs\n",
    "    and Accuracy vs. Epochs\n",
    "    \"\"\"\n",
    "    history = results.history\n",
    "    plt.figure()\n",
    "    plt.plot(history['val_loss'])\n",
    "    plt.plot(history['loss'])\n",
    "    plt.legend(['Validation Loss', 'Training Loss'])\n",
    "    plt.title('Loss')\n",
    "    plt.xlabel('Epochs')\n",
    "    plt.ylabel('Loss')\n",
    "    plt.show()\n",
    "    \n",
    "    plt.figure()\n",
    "    plt.plot(history['val_acc'])\n",
    "    plt.plot(history['acc'])\n",
    "    plt.legend(['Validation Accuracy', 'Training Accuracy'])\n",
    "    plt.title('Accuracy')\n",
    "    plt.xlabel('Epochs')\n",
    "    plt.ylabel('Accuracy')\n",
    "    plt.show()"
   ]
  },
  {
   "cell_type": "code",
   "execution_count": 75,
   "metadata": {},
   "outputs": [
    {
     "data": {
      "image/png": "[encoded data removed]",
      "text/plain": [
       "<Figure size 432x288 with 1 Axes>"
      ]
     },
     "metadata": {
      "needs_background": "light"
     },
     "output_type": "display_data"
    },
    {
     "data": {
      "image/png": "[encoded data removed]",
      "text/plain": [
       "<Figure size 432x288 with 1 Axes>"
      ]
     },
     "metadata": {
      "needs_background": "light"
     },
     "output_type": "display_data"
    }
   ],
   "source": [
    "visualize_training_results(results1)"
   ]
  },
  {
   "cell_type": "markdown",
   "metadata": {},
   "source": [
    "**Observations:**"
   ]
  },
  {
   "cell_type": "markdown",
   "metadata": {},
   "source": [
    "### Predictions and Metrics"
   ]
  },
  {
   "cell_type": "code",
   "execution_count": 76,
   "metadata": {},
   "outputs": [],
   "source": [
    "# Make Predictions\n",
    "preds1 = model1.predict(val_images)"
   ]
  },
  {
   "cell_type": "code",
   "execution_count": 77,
   "metadata": {},
   "outputs": [
    {
     "ename": "ValueError",
     "evalue": "Classification metrics can't handle a mix of binary and continuous targets",
     "output_type": "error",
     "traceback": [
      "\u001b[0;31m---------------------------------------------------------------------------\u001b[0m",
      "\u001b[0;31mValueError\u001b[0m                                Traceback (most recent call last)",
      "\u001b[0;32m<ipython-input-77-ed76556ea7ce>\u001b[0m in \u001b[0;36m<module>\u001b[0;34m\u001b[0m\n\u001b[0;32m----> 1\u001b[0;31m \u001b[0mclassification_report\u001b[0m \u001b[0;34m=\u001b[0m \u001b[0mclassification_report\u001b[0m\u001b[0;34m(\u001b[0m\u001b[0mval_labels_final\u001b[0m\u001b[0;34m,\u001b[0m \u001b[0mpreds1\u001b[0m\u001b[0;34m)\u001b[0m\u001b[0;34m\u001b[0m\u001b[0;34m\u001b[0m\u001b[0m\n\u001b[0m\u001b[1;32m      2\u001b[0m \u001b[0mclassification_report\u001b[0m\u001b[0;34m\u001b[0m\u001b[0;34m\u001b[0m\u001b[0m\n",
      "\u001b[0;32m/Applications/anaconda3/envs/learn-env/lib/python3.6/site-packages/sklearn/utils/validation.py\u001b[0m in \u001b[0;36minner_f\u001b[0;34m(*args, **kwargs)\u001b[0m\n\u001b[1;32m     71\u001b[0m                           FutureWarning)\n\u001b[1;32m     72\u001b[0m         \u001b[0mkwargs\u001b[0m\u001b[0;34m.\u001b[0m\u001b[0mupdate\u001b[0m\u001b[0;34m(\u001b[0m\u001b[0;34m{\u001b[0m\u001b[0mk\u001b[0m\u001b[0;34m:\u001b[0m \u001b[0marg\u001b[0m \u001b[0;32mfor\u001b[0m \u001b[0mk\u001b[0m\u001b[0;34m,\u001b[0m \u001b[0marg\u001b[0m \u001b[0;32min\u001b[0m \u001b[0mzip\u001b[0m\u001b[0;34m(\u001b[0m\u001b[0msig\u001b[0m\u001b[0;34m.\u001b[0m\u001b[0mparameters\u001b[0m\u001b[0;34m,\u001b[0m \u001b[0margs\u001b[0m\u001b[0;34m)\u001b[0m\u001b[0;34m}\u001b[0m\u001b[0;34m)\u001b[0m\u001b[0;34m\u001b[0m\u001b[0;34m\u001b[0m\u001b[0m\n\u001b[0;32m---> 73\u001b[0;31m         \u001b[0;32mreturn\u001b[0m \u001b[0mf\u001b[0m\u001b[0;34m(\u001b[0m\u001b[0;34m**\u001b[0m\u001b[0mkwargs\u001b[0m\u001b[0;34m)\u001b[0m\u001b[0;34m\u001b[0m\u001b[0;34m\u001b[0m\u001b[0m\n\u001b[0m\u001b[1;32m     74\u001b[0m     \u001b[0;32mreturn\u001b[0m \u001b[0minner_f\u001b[0m\u001b[0;34m\u001b[0m\u001b[0;34m\u001b[0m\u001b[0m\n\u001b[1;32m     75\u001b[0m \u001b[0;34m\u001b[0m\u001b[0m\n",
      "\u001b[0;32m/Applications/anaconda3/envs/learn-env/lib/python3.6/site-packages/sklearn/metrics/_classification.py\u001b[0m in \u001b[0;36mclassification_report\u001b[0;34m(y_true, y_pred, labels, target_names, sample_weight, digits, output_dict, zero_division)\u001b[0m\n\u001b[1;32m   1927\u001b[0m     \"\"\"\n\u001b[1;32m   1928\u001b[0m \u001b[0;34m\u001b[0m\u001b[0m\n\u001b[0;32m-> 1929\u001b[0;31m     \u001b[0my_type\u001b[0m\u001b[0;34m,\u001b[0m \u001b[0my_true\u001b[0m\u001b[0;34m,\u001b[0m \u001b[0my_pred\u001b[0m \u001b[0;34m=\u001b[0m \u001b[0m_check_targets\u001b[0m\u001b[0;34m(\u001b[0m\u001b[0my_true\u001b[0m\u001b[0;34m,\u001b[0m \u001b[0my_pred\u001b[0m\u001b[0;34m)\u001b[0m\u001b[0;34m\u001b[0m\u001b[0;34m\u001b[0m\u001b[0m\n\u001b[0m\u001b[1;32m   1930\u001b[0m \u001b[0;34m\u001b[0m\u001b[0m\n\u001b[1;32m   1931\u001b[0m     \u001b[0mlabels_given\u001b[0m \u001b[0;34m=\u001b[0m \u001b[0;32mTrue\u001b[0m\u001b[0;34m\u001b[0m\u001b[0;34m\u001b[0m\u001b[0m\n",
      "\u001b[0;32m/Applications/anaconda3/envs/learn-env/lib/python3.6/site-packages/sklearn/metrics/_classification.py\u001b[0m in \u001b[0;36m_check_targets\u001b[0;34m(y_true, y_pred)\u001b[0m\n\u001b[1;32m     89\u001b[0m     \u001b[0;32mif\u001b[0m \u001b[0mlen\u001b[0m\u001b[0;34m(\u001b[0m\u001b[0my_type\u001b[0m\u001b[0;34m)\u001b[0m \u001b[0;34m>\u001b[0m \u001b[0;36m1\u001b[0m\u001b[0;34m:\u001b[0m\u001b[0;34m\u001b[0m\u001b[0;34m\u001b[0m\u001b[0m\n\u001b[1;32m     90\u001b[0m         raise ValueError(\"Classification metrics can't handle a mix of {0} \"\n\u001b[0;32m---> 91\u001b[0;31m                          \"and {1} targets\".format(type_true, type_pred))\n\u001b[0m\u001b[1;32m     92\u001b[0m \u001b[0;34m\u001b[0m\u001b[0m\n\u001b[1;32m     93\u001b[0m     \u001b[0;31m# We can't have more than one value on y_type => The set is no more needed\u001b[0m\u001b[0;34m\u001b[0m\u001b[0;34m\u001b[0m\u001b[0;34m\u001b[0m\u001b[0m\n",
      "\u001b[0;31mValueError\u001b[0m: Classification metrics can't handle a mix of binary and continuous targets"
     ]
    }
   ],
   "source": [
    "# Print the classification report showing the metrics Recall, Precision, and F1-Score\n",
    "classification_report = classification_report(val_labels_final, preds1)\n",
    "classification_report"
   ]
  },
  {
   "cell_type": "code",
   "execution_count": 4,
   "metadata": {},
   "outputs": [],
   "source": [
    "# Plot a confusion matrix\n",
    "def plot_confusion_matrix(labels, preds):\n",
    "    \"\"\"\n",
    "    Input: Validation/Testing Labels and\n",
    "    model predictions\n",
    "    \n",
    "    Output: A confusion matrix\n",
    "    \n",
    "    \"\"\"\n",
    "    \n",
    "    cnf_matrix = confusion_matrix(labels, preds)\n",
    "\n",
    "    # Create the basic confusion matrix\n",
    "    plt.imshow(cnf_matrix,  cmap=plt.cm.Blues) \n",
    "\n",
    "    # Add title and axis labels\n",
    "    plt.title('Confusion Matrix')\n",
    "    plt.ylabel('True label')\n",
    "    plt.xlabel('Predicted label')\n",
    "\n",
    "    # Add appropriate axis scales\n",
    "    y = train_generator.class_indices\n",
    "    class_names = set(y) # Get class labels to add to matrix\n",
    "    tick_marks = np.arange(len(class_names))\n",
    "    plt.xticks(tick_marks, class_names, rotation=45)\n",
    "    plt.yticks(tick_marks, class_names)\n",
    "\n",
    "    # Add labels to each cell\n",
    "    thresh = cnf_matrix.max() / 2. # Used for text coloring below\n",
    "    # Here we iterate through the confusion matrix and append labels to our visualization \n",
    "    for i, j in itertools.product(range(cnf_matrix.shape[0]), range(cnf_matrix.shape[1])):\n",
    "            plt.text(j, i, cnf_matrix[i, j],\n",
    "                     horizontalalignment='center',\n",
    "                     color='white' if cnf_matrix[i, j] > thresh else 'black')\n",
    "\n",
    "    # Add a legend\n",
    "    plt.colorbar()\n",
    "    plt.show()"
   ]
  },
  {
   "cell_type": "code",
   "execution_count": 79,
   "metadata": {},
   "outputs": [
    {
     "ename": "ValueError",
     "evalue": "Classification metrics can't handle a mix of binary and continuous targets",
     "output_type": "error",
     "traceback": [
      "\u001b[0;31m---------------------------------------------------------------------------\u001b[0m",
      "\u001b[0;31mValueError\u001b[0m                                Traceback (most recent call last)",
      "\u001b[0;32m<ipython-input-79-b6267cb41c61>\u001b[0m in \u001b[0;36m<module>\u001b[0;34m\u001b[0m\n\u001b[0;32m----> 1\u001b[0;31m \u001b[0mplot_confusion_matrix\u001b[0m\u001b[0;34m(\u001b[0m\u001b[0mval_labels_final\u001b[0m\u001b[0;34m,\u001b[0m \u001b[0mpreds1\u001b[0m\u001b[0;34m)\u001b[0m\u001b[0;34m\u001b[0m\u001b[0;34m\u001b[0m\u001b[0m\n\u001b[0m",
      "\u001b[0;32m<ipython-input-78-1383ff0db56a>\u001b[0m in \u001b[0;36mplot_confusion_matrix\u001b[0;34m(labels, preds)\u001b[0m\n\u001b[1;32m      9\u001b[0m     \"\"\"\n\u001b[1;32m     10\u001b[0m \u001b[0;34m\u001b[0m\u001b[0m\n\u001b[0;32m---> 11\u001b[0;31m     \u001b[0mcnf_matrix\u001b[0m \u001b[0;34m=\u001b[0m \u001b[0mconfusion_matrix\u001b[0m\u001b[0;34m(\u001b[0m\u001b[0mlabels\u001b[0m\u001b[0;34m,\u001b[0m \u001b[0mpreds\u001b[0m\u001b[0;34m)\u001b[0m\u001b[0;34m\u001b[0m\u001b[0;34m\u001b[0m\u001b[0m\n\u001b[0m\u001b[1;32m     12\u001b[0m \u001b[0;34m\u001b[0m\u001b[0m\n\u001b[1;32m     13\u001b[0m     \u001b[0;31m# Create the basic confusion matrix\u001b[0m\u001b[0;34m\u001b[0m\u001b[0;34m\u001b[0m\u001b[0;34m\u001b[0m\u001b[0m\n",
      "\u001b[0;32m/Applications/anaconda3/envs/learn-env/lib/python3.6/site-packages/sklearn/utils/validation.py\u001b[0m in \u001b[0;36minner_f\u001b[0;34m(*args, **kwargs)\u001b[0m\n\u001b[1;32m     71\u001b[0m                           FutureWarning)\n\u001b[1;32m     72\u001b[0m         \u001b[0mkwargs\u001b[0m\u001b[0;34m.\u001b[0m\u001b[0mupdate\u001b[0m\u001b[0;34m(\u001b[0m\u001b[0;34m{\u001b[0m\u001b[0mk\u001b[0m\u001b[0;34m:\u001b[0m \u001b[0marg\u001b[0m \u001b[0;32mfor\u001b[0m \u001b[0mk\u001b[0m\u001b[0;34m,\u001b[0m \u001b[0marg\u001b[0m \u001b[0;32min\u001b[0m \u001b[0mzip\u001b[0m\u001b[0;34m(\u001b[0m\u001b[0msig\u001b[0m\u001b[0;34m.\u001b[0m\u001b[0mparameters\u001b[0m\u001b[0;34m,\u001b[0m \u001b[0margs\u001b[0m\u001b[0;34m)\u001b[0m\u001b[0;34m}\u001b[0m\u001b[0;34m)\u001b[0m\u001b[0;34m\u001b[0m\u001b[0;34m\u001b[0m\u001b[0m\n\u001b[0;32m---> 73\u001b[0;31m         \u001b[0;32mreturn\u001b[0m \u001b[0mf\u001b[0m\u001b[0;34m(\u001b[0m\u001b[0;34m**\u001b[0m\u001b[0mkwargs\u001b[0m\u001b[0;34m)\u001b[0m\u001b[0;34m\u001b[0m\u001b[0;34m\u001b[0m\u001b[0m\n\u001b[0m\u001b[1;32m     74\u001b[0m     \u001b[0;32mreturn\u001b[0m \u001b[0minner_f\u001b[0m\u001b[0;34m\u001b[0m\u001b[0;34m\u001b[0m\u001b[0m\n\u001b[1;32m     75\u001b[0m \u001b[0;34m\u001b[0m\u001b[0m\n",
      "\u001b[0;32m/Applications/anaconda3/envs/learn-env/lib/python3.6/site-packages/sklearn/metrics/_classification.py\u001b[0m in \u001b[0;36mconfusion_matrix\u001b[0;34m(y_true, y_pred, labels, sample_weight, normalize)\u001b[0m\n\u001b[1;32m    274\u001b[0m \u001b[0;34m\u001b[0m\u001b[0m\n\u001b[1;32m    275\u001b[0m     \"\"\"\n\u001b[0;32m--> 276\u001b[0;31m     \u001b[0my_type\u001b[0m\u001b[0;34m,\u001b[0m \u001b[0my_true\u001b[0m\u001b[0;34m,\u001b[0m \u001b[0my_pred\u001b[0m \u001b[0;34m=\u001b[0m \u001b[0m_check_targets\u001b[0m\u001b[0;34m(\u001b[0m\u001b[0my_true\u001b[0m\u001b[0;34m,\u001b[0m \u001b[0my_pred\u001b[0m\u001b[0;34m)\u001b[0m\u001b[0;34m\u001b[0m\u001b[0;34m\u001b[0m\u001b[0m\n\u001b[0m\u001b[1;32m    277\u001b[0m     \u001b[0;32mif\u001b[0m \u001b[0my_type\u001b[0m \u001b[0;32mnot\u001b[0m \u001b[0;32min\u001b[0m \u001b[0;34m(\u001b[0m\u001b[0;34m\"binary\"\u001b[0m\u001b[0;34m,\u001b[0m \u001b[0;34m\"multiclass\"\u001b[0m\u001b[0;34m)\u001b[0m\u001b[0;34m:\u001b[0m\u001b[0;34m\u001b[0m\u001b[0;34m\u001b[0m\u001b[0m\n\u001b[1;32m    278\u001b[0m         \u001b[0;32mraise\u001b[0m \u001b[0mValueError\u001b[0m\u001b[0;34m(\u001b[0m\u001b[0;34m\"%s is not supported\"\u001b[0m \u001b[0;34m%\u001b[0m \u001b[0my_type\u001b[0m\u001b[0;34m)\u001b[0m\u001b[0;34m\u001b[0m\u001b[0;34m\u001b[0m\u001b[0m\n",
      "\u001b[0;32m/Applications/anaconda3/envs/learn-env/lib/python3.6/site-packages/sklearn/metrics/_classification.py\u001b[0m in \u001b[0;36m_check_targets\u001b[0;34m(y_true, y_pred)\u001b[0m\n\u001b[1;32m     89\u001b[0m     \u001b[0;32mif\u001b[0m \u001b[0mlen\u001b[0m\u001b[0;34m(\u001b[0m\u001b[0my_type\u001b[0m\u001b[0;34m)\u001b[0m \u001b[0;34m>\u001b[0m \u001b[0;36m1\u001b[0m\u001b[0;34m:\u001b[0m\u001b[0;34m\u001b[0m\u001b[0;34m\u001b[0m\u001b[0m\n\u001b[1;32m     90\u001b[0m         raise ValueError(\"Classification metrics can't handle a mix of {0} \"\n\u001b[0;32m---> 91\u001b[0;31m                          \"and {1} targets\".format(type_true, type_pred))\n\u001b[0m\u001b[1;32m     92\u001b[0m \u001b[0;34m\u001b[0m\u001b[0m\n\u001b[1;32m     93\u001b[0m     \u001b[0;31m# We can't have more than one value on y_type => The set is no more needed\u001b[0m\u001b[0;34m\u001b[0m\u001b[0;34m\u001b[0m\u001b[0;34m\u001b[0m\u001b[0m\n",
      "\u001b[0;31mValueError\u001b[0m: Classification metrics can't handle a mix of binary and continuous targets"
     ]
    }
   ],
   "source": [
    "plot_confusion_matrix(val_labels_final, preds1)"
   ]
  },
  {
   "cell_type": "markdown",
   "metadata": {},
   "source": [
    "## Model 2: Add L2 Regularizer. Increase Batch Size to 1000"
   ]
  },
  {
   "cell_type": "code",
   "execution_count": 81,
   "metadata": {},
   "outputs": [],
   "source": [
    "model2 = Sequential()\n",
    "\n",
    "model2.add(layers.Conv2D(32, (3, 3), activation='relu', input_shape=(96, 96, 1)))\n",
    "model2.add(layers.MaxPooling2D((2, 2)))\n",
    "\n",
    "model2.add(layers.Conv2D(64, (4, 4), activation='relu', kernel_regularizer=regularizers.l2(l=0.01)))\n",
    "model2.add(layers.MaxPooling2D((2, 2)))\n",
    "\n",
    "model2.add(layers.Conv2D(128, (3, 3), activation='relu', kernel_regularizer=regularizers.l2(l=0.01)))\n",
    "model2.add(layers.MaxPooling2D((2,2)))\n",
    "\n",
    "model2.add(layers.Conv2D(128, (3, 3), activation='relu'))\n",
    "model2.add(layers.MaxPooling2D((2,2)))\n",
    "\n",
    "# Flattening- Convert 2D matrix to a 1D vector\n",
    "model2.add(layers.Flatten())\n",
    "model2.add(layers.Dense(512, activation = 'relu', kernel_regularizer=regularizers.l2(l=0.01)))\n",
    "model2.add(layers.Dense(1, activation='sigmoid'))\n"
   ]
  },
  {
   "cell_type": "code",
   "execution_count": 82,
   "metadata": {},
   "outputs": [
    {
     "name": "stdout",
     "output_type": "stream",
     "text": [
      "_________________________________________________________________\n",
      "Layer (type)                 Output Shape              Param #   \n",
      "=================================================================\n",
      "conv2d_9 (Conv2D)            (None, 94, 94, 32)        320       \n",
      "_________________________________________________________________\n",
      "max_pooling2d_9 (MaxPooling2 (None, 47, 47, 32)        0         \n",
      "_________________________________________________________________\n",
      "conv2d_10 (Conv2D)           (None, 44, 44, 64)        32832     \n",
      "_________________________________________________________________\n",
      "max_pooling2d_10 (MaxPooling (None, 22, 22, 64)        0         \n",
      "_________________________________________________________________\n",
      "conv2d_11 (Conv2D)           (None, 20, 20, 128)       73856     \n",
      "_________________________________________________________________\n",
      "max_pooling2d_11 (MaxPooling (None, 10, 10, 128)       0         \n",
      "_________________________________________________________________\n",
      "conv2d_12 (Conv2D)           (None, 8, 8, 128)         147584    \n",
      "_________________________________________________________________\n",
      "max_pooling2d_12 (MaxPooling (None, 4, 4, 128)         0         \n",
      "_________________________________________________________________\n",
      "flatten_3 (Flatten)          (None, 2048)              0         \n",
      "_________________________________________________________________\n",
      "dense_5 (Dense)              (None, 512)               1049088   \n",
      "_________________________________________________________________\n",
      "dense_6 (Dense)              (None, 1)                 513       \n",
      "=================================================================\n",
      "Total params: 1,304,193\n",
      "Trainable params: 1,304,193\n",
      "Non-trainable params: 0\n",
      "_________________________________________________________________\n"
     ]
    }
   ],
   "source": [
    "model2.summary()"
   ]
  },
  {
   "cell_type": "code",
   "execution_count": 83,
   "metadata": {},
   "outputs": [],
   "source": [
    "model2.compile(loss='binary_crossentropy', optimizer='adam', metrics=['accuracy'])"
   ]
  },
  {
   "cell_type": "code",
   "execution_count": 85,
   "metadata": {
    "scrolled": true
   },
   "outputs": [
    {
     "name": "stdout",
     "output_type": "stream",
     "text": [
      "Train on 11198 samples, validate on 16 samples\n",
      "Epoch 1/22\n",
      "11198/11198 [==============================] - 460s 41ms/step - loss: 1.0833 - acc: 0.9225 - val_loss: 1.5553 - val_acc: 0.6250\n",
      "Epoch 2/22\n",
      "11198/11198 [==============================] - 471s 42ms/step - loss: 0.7202 - acc: 0.9521 - val_loss: 0.9928 - val_acc: 0.8125\n",
      "Epoch 3/22\n",
      "11198/11198 [==============================] - 475s 42ms/step - loss: 0.5718 - acc: 0.9544 - val_loss: 1.2657 - val_acc: 0.6250\n",
      "Epoch 4/22\n",
      "11198/11198 [==============================] - 595s 53ms/step - loss: 0.4595 - acc: 0.9703 - val_loss: 0.8531 - val_acc: 0.6250\n",
      "Epoch 5/22\n",
      "11198/11198 [==============================] - 431s 38ms/step - loss: 0.3883 - acc: 0.9750 - val_loss: 0.9902 - val_acc: 0.5625\n",
      "Epoch 6/22\n",
      "11198/11198 [==============================] - 408s 36ms/step - loss: 0.3359 - acc: 0.9776 - val_loss: 1.3470 - val_acc: 0.5625\n",
      "Epoch 7/22\n",
      "11198/11198 [==============================] - 396s 35ms/step - loss: 0.3172 - acc: 0.9681 - val_loss: 0.7292 - val_acc: 0.6250\n",
      "Epoch 8/22\n",
      "11198/11198 [==============================] - 415s 37ms/step - loss: 0.2717 - acc: 0.9774 - val_loss: 0.7562 - val_acc: 0.6250\n",
      "Epoch 9/22\n",
      "11198/11198 [==============================] - 385s 34ms/step - loss: 0.2404 - acc: 0.9802 - val_loss: 1.0540 - val_acc: 0.5625\n",
      "Epoch 10/22\n",
      "11198/11198 [==============================] - 373s 33ms/step - loss: 0.2350 - acc: 0.9727 - val_loss: 0.8184 - val_acc: 0.5625\n",
      "Epoch 11/22\n",
      "11198/11198 [==============================] - 385s 34ms/step - loss: 0.2042 - acc: 0.9804 - val_loss: 0.5320 - val_acc: 0.8125\n",
      "Epoch 12/22\n",
      "11198/11198 [==============================] - 384s 34ms/step - loss: 0.1897 - acc: 0.9792 - val_loss: 0.5602 - val_acc: 0.7500\n",
      "Epoch 13/22\n",
      "11198/11198 [==============================] - 403s 36ms/step - loss: 0.1717 - acc: 0.9812 - val_loss: 0.4287 - val_acc: 0.8750\n",
      "Epoch 14/22\n",
      "11198/11198 [==============================] - 411s 37ms/step - loss: 0.1680 - acc: 0.9783 - val_loss: 0.8205 - val_acc: 0.6250\n",
      "Epoch 15/22\n",
      "11198/11198 [==============================] - 457s 41ms/step - loss: 0.1695 - acc: 0.9757 - val_loss: 1.0024 - val_acc: 0.5625\n",
      "Epoch 16/22\n",
      "11198/11198 [==============================] - 565s 50ms/step - loss: 0.4887 - acc: 0.8569 - val_loss: 1.4649 - val_acc: 0.5625\n",
      "Epoch 17/22\n",
      "11198/11198 [==============================] - 396s 35ms/step - loss: 0.3271 - acc: 0.9434 - val_loss: 1.3017 - val_acc: 0.6250\n",
      "Epoch 18/22\n",
      "11198/11198 [==============================] - 410s 37ms/step - loss: 0.2959 - acc: 0.9665 - val_loss: 1.4341 - val_acc: 0.6250\n",
      "Epoch 19/22\n",
      "11198/11198 [==============================] - 458s 41ms/step - loss: 0.2559 - acc: 0.9723 - val_loss: 1.1956 - val_acc: 0.5625\n",
      "Epoch 20/22\n",
      "11198/11198 [==============================] - 506s 45ms/step - loss: 0.2266 - acc: 0.9741 - val_loss: 0.8067 - val_acc: 0.6875\n",
      "Epoch 21/22\n",
      "11198/11198 [==============================] - 404s 36ms/step - loss: 0.2001 - acc: 0.9783 - val_loss: 0.9534 - val_acc: 0.5625\n",
      "Epoch 22/22\n",
      "11198/11198 [==============================] - 470s 42ms/step - loss: 0.1845 - acc: 0.9766 - val_loss: 1.0746 - val_acc: 0.5625\n"
     ]
    }
   ],
   "source": [
    "results2 = model2.fit(train_images, train_labels_final, epochs=22, batch_size=1000, validation_data=(val_images, val_labels_final))"
   ]
  },
  {
   "cell_type": "markdown",
   "metadata": {},
   "source": [
    "### Save the Model"
   ]
  },
  {
   "cell_type": "code",
   "execution_count": 86,
   "metadata": {},
   "outputs": [
    {
     "name": "stdout",
     "output_type": "stream",
     "text": [
      "saving model to disk \n",
      "\n"
     ]
    }
   ],
   "source": [
    "print('saving model to disk \\n')\n",
    "mod = './/Models/model2_l2reg'\n",
    "model2.save(mod)"
   ]
  },
  {
   "cell_type": "markdown",
   "metadata": {},
   "source": [
    "### Evaluation: Model 2"
   ]
  },
  {
   "cell_type": "code",
   "execution_count": 88,
   "metadata": {},
   "outputs": [
    {
     "name": "stdout",
     "output_type": "stream",
     "text": [
      "11198/11198 [==============================] - 93s 8ms/step\n"
     ]
    },
    {
     "data": {
      "text/plain": [
       "[0.18246977923065025, 0.9741025183068405]"
      ]
     },
     "execution_count": 88,
     "metadata": {},
     "output_type": "execute_result"
    }
   ],
   "source": [
    "# Training Results\n",
    "model2.evaluate(train_images, train_labels_final)"
   ]
  },
  {
   "cell_type": "code",
   "execution_count": 89,
   "metadata": {},
   "outputs": [
    {
     "name": "stdout",
     "output_type": "stream",
     "text": [
      "\r",
      "16/16 [==============================] - 0s 9ms/step\n"
     ]
    },
    {
     "data": {
      "text/plain": [
       "[1.074610948562622, 0.5625]"
      ]
     },
     "execution_count": 89,
     "metadata": {},
     "output_type": "execute_result"
    }
   ],
   "source": [
    "# Validation Results\n",
    "model2.evaluate(val_images, val_labels_final)"
   ]
  },
  {
   "cell_type": "code",
   "execution_count": 90,
   "metadata": {},
   "outputs": [
    {
     "data": {
      "image/png": "[encoded data removed]",
      "text/plain": [
       "<Figure size 432x288 with 1 Axes>"
      ]
     },
     "metadata": {
      "needs_background": "light"
     },
     "output_type": "display_data"
    },
    {
     "data": {
      "image/png": "[encoded data removed]",
      "text/plain": [
       "<Figure size 432x288 with 1 Axes>"
      ]
     },
     "metadata": {
      "needs_background": "light"
     },
     "output_type": "display_data"
    }
   ],
   "source": [
    "visualize_training_results(results2)"
   ]
  },
  {
   "cell_type": "markdown",
   "metadata": {},
   "source": [
    "**Observations:**"
   ]
  },
  {
   "cell_type": "markdown",
   "metadata": {},
   "source": [
    "### Predictions"
   ]
  },
  {
   "cell_type": "code",
   "execution_count": 91,
   "metadata": {},
   "outputs": [],
   "source": [
    "preds2 = model2.predict(val_images)"
   ]
  },
  {
   "cell_type": "code",
   "execution_count": 94,
   "metadata": {},
   "outputs": [],
   "source": [
    "# Print the classification report showing the metrics Recall, Precision, and F1-Score\n",
    "classification_report = classification_report(val_labels_final, preds2)\n",
    "classification_report\n",
    "# Troubleshoot Error"
   ]
  },
  {
   "cell_type": "code",
   "execution_count": 95,
   "metadata": {},
   "outputs": [],
   "source": [
    "plot_confusion_matrix(val_labels_final, preds2)\n",
    "# Troubleshoot Error"
   ]
  },
  {
   "cell_type": "markdown",
   "metadata": {},
   "source": [
    "## Model 3: Weight Initialization"
   ]
  },
  {
   "cell_type": "code",
   "execution_count": 99,
   "metadata": {},
   "outputs": [],
   "source": [
    "model3 = Sequential()\n",
    "\n",
    "model3.add(layers.Conv2D(32, (3, 3), activation='relu', kernel_initializer='he_normal', input_shape=(96, 96, 1)))\n",
    "model3.add(layers.MaxPooling2D((2, 2)))\n",
    "\n",
    "model3.add(layers.Conv2D(64, (4, 4), activation='relu'))\n",
    "model3.add(layers.MaxPooling2D((2, 2)))\n",
    "\n",
    "model3.add(layers.Conv2D(128, (3, 3), activation='relu'))\n",
    "model3.add(layers.MaxPooling2D((2,2)))\n",
    "\n",
    "model3.add(layers.Conv2D(128, (3, 3), activation='relu'))\n",
    "model3.add(layers.MaxPooling2D((2,2)))\n",
    "\n",
    "# Flattening- Convert 2D matrix to a 1D vector\n",
    "model3.add(layers.Flatten())\n",
    "model3.add(layers.Dense(512, activation = 'relu'))\n",
    "model3.add(layers.Dense(1, activation='sigmoid'))"
   ]
  },
  {
   "cell_type": "code",
   "execution_count": 100,
   "metadata": {},
   "outputs": [
    {
     "name": "stdout",
     "output_type": "stream",
     "text": [
      "_________________________________________________________________\n",
      "Layer (type)                 Output Shape              Param #   \n",
      "=================================================================\n",
      "conv2d_15 (Conv2D)           (None, 94, 94, 32)        320       \n",
      "_________________________________________________________________\n",
      "max_pooling2d_13 (MaxPooling (None, 47, 47, 32)        0         \n",
      "_________________________________________________________________\n",
      "conv2d_16 (Conv2D)           (None, 44, 44, 64)        32832     \n",
      "_________________________________________________________________\n",
      "max_pooling2d_14 (MaxPooling (None, 22, 22, 64)        0         \n",
      "_________________________________________________________________\n",
      "conv2d_17 (Conv2D)           (None, 20, 20, 128)       73856     \n",
      "_________________________________________________________________\n",
      "max_pooling2d_15 (MaxPooling (None, 10, 10, 128)       0         \n",
      "_________________________________________________________________\n",
      "conv2d_18 (Conv2D)           (None, 8, 8, 128)         147584    \n",
      "_________________________________________________________________\n",
      "max_pooling2d_16 (MaxPooling (None, 4, 4, 128)         0         \n",
      "_________________________________________________________________\n",
      "flatten_4 (Flatten)          (None, 2048)              0         \n",
      "_________________________________________________________________\n",
      "dense_7 (Dense)              (None, 512)               1049088   \n",
      "_________________________________________________________________\n",
      "dense_8 (Dense)              (None, 1)                 513       \n",
      "=================================================================\n",
      "Total params: 1,304,193\n",
      "Trainable params: 1,304,193\n",
      "Non-trainable params: 0\n",
      "_________________________________________________________________\n"
     ]
    }
   ],
   "source": [
    "model3.summary()"
   ]
  },
  {
   "cell_type": "code",
   "execution_count": 102,
   "metadata": {},
   "outputs": [],
   "source": [
    "model3.compile(loss='binary_crossentropy', optimizer='adam', metrics=['accuracy'])"
   ]
  },
  {
   "cell_type": "code",
   "execution_count": 103,
   "metadata": {},
   "outputs": [
    {
     "name": "stdout",
     "output_type": "stream",
     "text": [
      "Train on 11198 samples, validate on 16 samples\n",
      "Epoch 1/22\n",
      "11198/11198 [==============================] - 410s 37ms/step - loss: 0.7211 - acc: 0.5872 - val_loss: 0.6789 - val_acc: 0.5625\n",
      "Epoch 2/22\n",
      "11198/11198 [==============================] - 359s 32ms/step - loss: 0.3912 - acc: 0.8726 - val_loss: 1.3017 - val_acc: 0.6250\n",
      "Epoch 3/22\n",
      "11198/11198 [==============================] - 369s 33ms/step - loss: 0.1871 - acc: 0.9189 - val_loss: 1.7288 - val_acc: 0.6250\n",
      "Epoch 4/22\n",
      "11198/11198 [==============================] - 383s 34ms/step - loss: 0.1383 - acc: 0.9432 - val_loss: 0.6683 - val_acc: 0.6250\n",
      "Epoch 5/22\n",
      "11198/11198 [==============================] - 422s 38ms/step - loss: 0.0817 - acc: 0.9704 - val_loss: 1.0569 - val_acc: 0.6250\n",
      "Epoch 6/22\n",
      "11198/11198 [==============================] - 390s 35ms/step - loss: 0.0615 - acc: 0.9767 - val_loss: 1.2035 - val_acc: 0.5625\n",
      "Epoch 7/22\n",
      "11198/11198 [==============================] - 398s 36ms/step - loss: 0.0490 - acc: 0.9812 - val_loss: 0.3476 - val_acc: 0.8750\n",
      "Epoch 8/22\n",
      "11198/11198 [==============================] - 362s 32ms/step - loss: 0.0446 - acc: 0.9829 - val_loss: 1.6153 - val_acc: 0.5625\n",
      "Epoch 9/22\n",
      "11198/11198 [==============================] - 373s 33ms/step - loss: 0.0555 - acc: 0.9771 - val_loss: 0.5711 - val_acc: 0.6875\n",
      "Epoch 10/22\n",
      "11198/11198 [==============================] - 368s 33ms/step - loss: 0.0402 - acc: 0.9848 - val_loss: 0.8083 - val_acc: 0.6250\n",
      "Epoch 11/22\n",
      "11198/11198 [==============================] - 366s 33ms/step - loss: 0.0311 - acc: 0.9879 - val_loss: 0.2674 - val_acc: 0.8750\n",
      "Epoch 12/22\n",
      "11198/11198 [==============================] - 370s 33ms/step - loss: 0.0345 - acc: 0.9861 - val_loss: 0.3385 - val_acc: 0.8750\n",
      "Epoch 13/22\n",
      "11198/11198 [==============================] - 372s 33ms/step - loss: 0.0273 - acc: 0.9898 - val_loss: 0.4327 - val_acc: 0.8125\n",
      "Epoch 14/22\n",
      "11198/11198 [==============================] - 383s 34ms/step - loss: 0.0238 - acc: 0.9919 - val_loss: 0.4190 - val_acc: 0.8125\n",
      "Epoch 15/22\n",
      "11198/11198 [==============================] - 396s 35ms/step - loss: 0.0222 - acc: 0.9922 - val_loss: 0.3205 - val_acc: 0.8125\n",
      "Epoch 16/22\n",
      "11198/11198 [==============================] - 383s 34ms/step - loss: 0.0194 - acc: 0.9934 - val_loss: 0.6925 - val_acc: 0.6250\n",
      "Epoch 17/22\n",
      "11198/11198 [==============================] - 378s 34ms/step - loss: 0.0198 - acc: 0.9929 - val_loss: 0.7709 - val_acc: 0.6250\n",
      "Epoch 18/22\n",
      "11198/11198 [==============================] - 369s 33ms/step - loss: 0.0202 - acc: 0.9921 - val_loss: 0.2809 - val_acc: 0.8125\n",
      "Epoch 19/22\n",
      "11198/11198 [==============================] - 374s 33ms/step - loss: 0.0149 - acc: 0.9946 - val_loss: 0.4891 - val_acc: 0.8125\n",
      "Epoch 20/22\n",
      "11198/11198 [==============================] - 374s 33ms/step - loss: 0.0126 - acc: 0.9957 - val_loss: 0.3605 - val_acc: 0.7500\n",
      "Epoch 21/22\n",
      "11198/11198 [==============================] - 380s 34ms/step - loss: 0.0108 - acc: 0.9967 - val_loss: 0.4119 - val_acc: 0.7500\n",
      "Epoch 22/22\n",
      "11198/11198 [==============================] - 388s 35ms/step - loss: 0.0096 - acc: 0.9967 - val_loss: 0.9287 - val_acc: 0.6250\n"
     ]
    }
   ],
   "source": [
    "results3 = model3.fit(train_images, train_labels_final, epochs=22, batch_size=1000, validation_data=(val_images, val_labels_final))"
   ]
  },
  {
   "cell_type": "markdown",
   "metadata": {},
   "source": [
    "### Save the Model"
   ]
  },
  {
   "cell_type": "code",
   "execution_count": 104,
   "metadata": {},
   "outputs": [
    {
     "name": "stdout",
     "output_type": "stream",
     "text": [
      "saving model to disk \n",
      "\n"
     ]
    }
   ],
   "source": [
    "print('saving model to disk \\n')\n",
    "mod = './/Models/model3_weight'\n",
    "model3.save(mod)"
   ]
  },
  {
   "cell_type": "markdown",
   "metadata": {},
   "source": [
    "### Evaluation: Model 3"
   ]
  },
  {
   "cell_type": "code",
   "execution_count": 105,
   "metadata": {},
   "outputs": [
    {
     "name": "stdout",
     "output_type": "stream",
     "text": [
      "11198/11198 [==============================] - 78s 7ms/step\n"
     ]
    },
    {
     "data": {
      "text/plain": [
       "[0.018050767593563152, 0.9930344704411502]"
      ]
     },
     "execution_count": 105,
     "metadata": {},
     "output_type": "execute_result"
    }
   ],
   "source": [
    "# Training Results\n",
    "model3.evaluate(train_images, train_labels_final)"
   ]
  },
  {
   "cell_type": "code",
   "execution_count": 106,
   "metadata": {},
   "outputs": [
    {
     "name": "stdout",
     "output_type": "stream",
     "text": [
      "\r",
      "16/16 [==============================] - 0s 8ms/step\n"
     ]
    },
    {
     "data": {
      "text/plain": [
       "[0.9287206530570984, 0.625]"
      ]
     },
     "execution_count": 106,
     "metadata": {},
     "output_type": "execute_result"
    }
   ],
   "source": [
    "# Validation Results\n",
    "model3.evaluate(val_images, val_labels_final)"
   ]
  },
  {
   "cell_type": "code",
   "execution_count": 107,
   "metadata": {},
   "outputs": [
    {
     "data": {
      "image/png": "[encoded data removed]",
      "text/plain": [
       "<Figure size 432x288 with 1 Axes>"
      ]
     },
     "metadata": {
      "needs_background": "light"
     },
     "output_type": "display_data"
    },
    {
     "data": {
      "image/png": "[encoded data removed]",
      "text/plain": [
       "<Figure size 432x288 with 1 Axes>"
      ]
     },
     "metadata": {
      "needs_background": "light"
     },
     "output_type": "display_data"
    }
   ],
   "source": [
    "visualize_training_results(results3)"
   ]
  },
  {
   "cell_type": "markdown",
   "metadata": {},
   "source": [
    "**Observations:**"
   ]
  },
  {
   "cell_type": "markdown",
   "metadata": {},
   "source": [
    "### Predictions"
   ]
  },
  {
   "cell_type": "code",
   "execution_count": 108,
   "metadata": {},
   "outputs": [],
   "source": [
    "preds3 = model3.predict(val_images)"
   ]
  },
  {
   "cell_type": "code",
   "execution_count": 109,
   "metadata": {},
   "outputs": [],
   "source": [
    "# # Print the classification report showing the metrics Recall, Precision, and F1-Score\n",
    "# classification_report = classification_report(val_labels_final, preds3)\n",
    "# classification_report\n",
    "# # Troubleshoot Error"
   ]
  },
  {
   "cell_type": "code",
   "execution_count": 110,
   "metadata": {},
   "outputs": [],
   "source": [
    "# plot_confusion_matrix(val_labels_final, preds3)\n",
    "# # Troubleshoot Error"
   ]
  },
  {
   "cell_type": "code",
   "execution_count": null,
   "metadata": {},
   "outputs": [],
   "source": []
  },
  {
   "cell_type": "code",
   "execution_count": null,
   "metadata": {},
   "outputs": [],
   "source": []
  },
  {
   "cell_type": "markdown",
   "metadata": {},
   "source": [
    "## Model 4: Dropout Regularization\n"
   ]
  },
  {
   "cell_type": "code",
   "execution_count": 114,
   "metadata": {},
   "outputs": [],
   "source": [
    "model4 = Sequential()\n",
    "\n",
    "model4.add(layers.Conv2D(32, (3, 3), activation='relu', input_shape=(96, 96, 1)))\n",
    "model4.add(layers.MaxPooling2D((2, 2)))\n",
    "\n",
    "model4.add(layers.Conv2D(64, (4, 4), activation='relu'))\n",
    "model4.add(layers.MaxPooling2D((2, 2)))\n",
    "\n",
    "model4.add(layers.Conv2D(128, (3, 3), activation='relu'))\n",
    "model4.add(layers.MaxPooling2D((2,2)))\n",
    "model4.add(Dropout(0.3))\n",
    "\n",
    "model4.add(layers.Conv2D(128, (3, 3), activation='relu'))\n",
    "model4.add(layers.MaxPooling2D((2,2)))\n",
    "model4.add(Dropout(0.3))\n",
    "\n",
    "# Flattening- Convert 2D matrix to a 1D vector\n",
    "model4.add(layers.Flatten())\n",
    "model4.add(layers.Dense(512, activation = 'relu'))\n",
    "model4.add(layers.Dense(1, activation='sigmoid'))"
   ]
  },
  {
   "cell_type": "code",
   "execution_count": 117,
   "metadata": {},
   "outputs": [],
   "source": [
    "model4.compile(loss='binary_crossentropy', optimizer='adam', metrics=['accuracy'])"
   ]
  },
  {
   "cell_type": "code",
   "execution_count": 118,
   "metadata": {
    "scrolled": false
   },
   "outputs": [
    {
     "name": "stdout",
     "output_type": "stream",
     "text": [
      "Train on 11198 samples, validate on 16 samples\n",
      "Epoch 1/22\n",
      "11198/11198 [==============================] - 419s 37ms/step - loss: 0.6761 - acc: 0.5352 - val_loss: 0.7522 - val_acc: 0.5000\n",
      "Epoch 2/22\n",
      "11198/11198 [==============================] - 450s 40ms/step - loss: 0.3719 - acc: 0.8279 - val_loss: 0.9393 - val_acc: 0.5625\n",
      "Epoch 3/22\n",
      "11198/11198 [==============================] - 398s 36ms/step - loss: 0.2336 - acc: 0.9053 - val_loss: 0.9305 - val_acc: 0.6250\n",
      "Epoch 4/22\n",
      "11198/11198 [==============================] - 379s 34ms/step - loss: 0.1611 - acc: 0.9339 - val_loss: 0.7548 - val_acc: 0.6250\n",
      "Epoch 5/22\n",
      "11198/11198 [==============================] - 393s 35ms/step - loss: 0.1137 - acc: 0.9550 - val_loss: 0.9073 - val_acc: 0.6250\n",
      "Epoch 6/22\n",
      "11198/11198 [==============================] - 466s 42ms/step - loss: 0.0856 - acc: 0.9674 - val_loss: 0.4734 - val_acc: 0.8750\n",
      "Epoch 7/22\n",
      "11198/11198 [==============================] - 492s 44ms/step - loss: 0.0739 - acc: 0.9723 - val_loss: 0.8815 - val_acc: 0.6250\n",
      "Epoch 8/22\n",
      "11198/11198 [==============================] - 467s 42ms/step - loss: 0.0624 - acc: 0.9767 - val_loss: 0.4554 - val_acc: 0.8125\n",
      "Epoch 9/22\n",
      "11198/11198 [==============================] - 472s 42ms/step - loss: 0.0490 - acc: 0.9826 - val_loss: 0.6733 - val_acc: 0.7500\n",
      "Epoch 10/22\n",
      "11198/11198 [==============================] - 610s 54ms/step - loss: 0.0472 - acc: 0.9816 - val_loss: 0.5722 - val_acc: 0.8125\n",
      "Epoch 11/22\n",
      "11198/11198 [==============================] - 511s 46ms/step - loss: 0.0387 - acc: 0.9856 - val_loss: 0.4074 - val_acc: 0.8750\n",
      "Epoch 12/22\n",
      "11198/11198 [==============================] - 520s 46ms/step - loss: 0.0463 - acc: 0.9830 - val_loss: 1.1081 - val_acc: 0.5000\n",
      "Epoch 13/22\n",
      "11198/11198 [==============================] - 479s 43ms/step - loss: 0.0481 - acc: 0.9815 - val_loss: 0.4525 - val_acc: 0.8750\n",
      "Epoch 14/22\n",
      "11198/11198 [==============================] - 474s 42ms/step - loss: 0.0356 - acc: 0.9873 - val_loss: 0.4737 - val_acc: 0.8125\n",
      "Epoch 15/22\n",
      "11198/11198 [==============================] - 462s 41ms/step - loss: 0.0334 - acc: 0.9876 - val_loss: 0.3550 - val_acc: 0.8750\n",
      "Epoch 16/22\n",
      "11198/11198 [==============================] - 500s 45ms/step - loss: 0.0349 - acc: 0.9870 - val_loss: 0.4136 - val_acc: 0.8750\n",
      "Epoch 17/22\n",
      "11198/11198 [==============================] - 587s 52ms/step - loss: 0.0326 - acc: 0.9881 - val_loss: 0.1902 - val_acc: 0.8750\n",
      "Epoch 18/22\n",
      "11198/11198 [==============================] - 612s 55ms/step - loss: 0.0348 - acc: 0.9862 - val_loss: 0.1571 - val_acc: 0.9375\n",
      "Epoch 19/22\n",
      "11198/11198 [==============================] - 514s 46ms/step - loss: 0.0372 - acc: 0.9863 - val_loss: 0.6278 - val_acc: 0.7500\n",
      "Epoch 20/22\n",
      "11198/11198 [==============================] - 400s 36ms/step - loss: 0.0293 - acc: 0.9888 - val_loss: 0.4916 - val_acc: 0.8125\n",
      "Epoch 21/22\n",
      "11198/11198 [==============================] - 498s 44ms/step - loss: 0.0254 - acc: 0.9910 - val_loss: 0.2616 - val_acc: 0.8750\n",
      "Epoch 22/22\n",
      "11198/11198 [==============================] - 487s 44ms/step - loss: 0.0262 - acc: 0.9900 - val_loss: 0.5687 - val_acc: 0.8125\n"
     ]
    }
   ],
   "source": [
    "results4 = model4.fit(train_images, train_labels_final, epochs=22, batch_size=1000, validation_data=(val_images, val_labels_final))"
   ]
  },
  {
   "cell_type": "markdown",
   "metadata": {},
   "source": [
    "### Save the Model"
   ]
  },
  {
   "cell_type": "code",
   "execution_count": 131,
   "metadata": {},
   "outputs": [
    {
     "name": "stdout",
     "output_type": "stream",
     "text": [
      "saving model to disk \n",
      "\n"
     ]
    }
   ],
   "source": [
    "print('saving model to disk \\n')\n",
    "mod = './/Models/model4_dropout'\n",
    "model4.save(mod)"
   ]
  },
  {
   "cell_type": "markdown",
   "metadata": {},
   "source": [
    "### Evaluation: Model 4"
   ]
  },
  {
   "cell_type": "code",
   "execution_count": 132,
   "metadata": {},
   "outputs": [
    {
     "name": "stdout",
     "output_type": "stream",
     "text": [
      "11198/11198 [==============================] - 93s 8ms/step\n"
     ]
    },
    {
     "data": {
      "text/plain": [
       "[0.016523739754249447, 0.9942846936953027]"
      ]
     },
     "execution_count": 132,
     "metadata": {},
     "output_type": "execute_result"
    }
   ],
   "source": [
    "model4.evaluate(train_images, train_labels_final)"
   ]
  },
  {
   "cell_type": "code",
   "execution_count": 133,
   "metadata": {},
   "outputs": [
    {
     "name": "stdout",
     "output_type": "stream",
     "text": [
      "\r",
      "16/16 [==============================] - 0s 13ms/step\n"
     ]
    },
    {
     "data": {
      "text/plain": [
       "[0.5687496662139893, 0.8125]"
      ]
     },
     "execution_count": 133,
     "metadata": {},
     "output_type": "execute_result"
    }
   ],
   "source": [
    "model4.evaluate(val_images, val_labels_final)"
   ]
  },
  {
   "cell_type": "code",
   "execution_count": 134,
   "metadata": {},
   "outputs": [
    {
     "data": {
      "image/png": "[encoded data removed]",
      "text/plain": [
       "<Figure size 432x288 with 1 Axes>"
      ]
     },
     "metadata": {
      "needs_background": "light"
     },
     "output_type": "display_data"
    },
    {
     "data": {
      "image/png": "[encoded data removed]",
      "text/plain": [
       "<Figure size 432x288 with 1 Axes>"
      ]
     },
     "metadata": {
      "needs_background": "light"
     },
     "output_type": "display_data"
    }
   ],
   "source": [
    "visualize_training_results(results4)"
   ]
  },
  {
   "cell_type": "markdown",
   "metadata": {},
   "source": [
    "**Observations:**"
   ]
  },
  {
   "cell_type": "markdown",
   "metadata": {},
   "source": [
    "### Predictions"
   ]
  },
  {
   "cell_type": "code",
   "execution_count": 135,
   "metadata": {},
   "outputs": [],
   "source": [
    "preds4 = model4.predict(val_images)"
   ]
  },
  {
   "cell_type": "code",
   "execution_count": 115,
   "metadata": {},
   "outputs": [],
   "source": [
    "# # Print the classification report showing the metrics Recall, Precision, and F1-Score\n",
    "# classification_report = classification_report(val_labels_final, preds4)\n",
    "# classification_report\n",
    "# # Troubleshoot Error"
   ]
  },
  {
   "cell_type": "code",
   "execution_count": 116,
   "metadata": {},
   "outputs": [],
   "source": [
    "# plot_confusion_matrix(val_labels_final, preds4)\n",
    "# # Troubleshoot Error"
   ]
  },
  {
   "cell_type": "code",
   "execution_count": null,
   "metadata": {},
   "outputs": [],
   "source": []
  },
  {
   "cell_type": "markdown",
   "metadata": {},
   "source": [
    "## Model 5: Weight Constraint, unit_norm"
   ]
  },
  {
   "cell_type": "code",
   "execution_count": 17,
   "metadata": {},
   "outputs": [],
   "source": [
    "model5 = Sequential()\n",
    "\n",
    "model5.add(layers.Conv2D(32, (3, 3), activation='relu', kernel_constraint=unit_norm(), input_shape=(96, 96, 1)))\n",
    "model5.add(layers.MaxPooling2D((2, 2)))\n",
    "\n",
    "model5.add(layers.Conv2D(64, (4, 4), activation='relu'))\n",
    "model5.add(layers.MaxPooling2D((2, 2)))\n",
    "\n",
    "model5.add(layers.Conv2D(128, (3, 3), activation='relu'))\n",
    "model5.add(layers.MaxPooling2D((2,2)))\n",
    "\n",
    "\n",
    "model5.add(layers.Conv2D(128, (3, 3), activation='relu'))\n",
    "model5.add(layers.MaxPooling2D((2,2)))\n",
    "\n",
    "\n",
    "# Flattening- Convert 2D matrix to a 1D vector\n",
    "model5.add(layers.Flatten())\n",
    "model5.add(layers.Dense(512, activation = 'relu'))\n",
    "model5.add(layers.Dense(1, activation='sigmoid'))"
   ]
  },
  {
   "cell_type": "code",
   "execution_count": 18,
   "metadata": {},
   "outputs": [],
   "source": [
    "model5.compile(loss='binary_crossentropy', optimizer='adam', metrics=['accuracy'])"
   ]
  },
  {
   "cell_type": "code",
   "execution_count": 19,
   "metadata": {
    "scrolled": true
   },
   "outputs": [
    {
     "name": "stdout",
     "output_type": "stream",
     "text": [
      "Train on 11200 samples, validate on 16 samples\n",
      "Epoch 1/22\n",
      "11200/11200 [==============================] - 385s 34ms/step - loss: 0.7447 - acc: 0.6003 - val_loss: 0.7283 - val_acc: 0.5625\n",
      "Epoch 2/22\n",
      "11200/11200 [==============================] - 295s 26ms/step - loss: 0.3332 - acc: 0.8809 - val_loss: 1.3568 - val_acc: 0.6250\n",
      "Epoch 3/22\n",
      "11200/11200 [==============================] - 273s 24ms/step - loss: 0.1738 - acc: 0.9288 - val_loss: 0.7301 - val_acc: 0.6875\n",
      "Epoch 4/22\n",
      "11200/11200 [==============================] - 279s 25ms/step - loss: 0.1190 - acc: 0.9517 - val_loss: 0.6118 - val_acc: 0.6875\n",
      "Epoch 5/22\n",
      "11200/11200 [==============================] - 311s 28ms/step - loss: 0.0835 - acc: 0.9661 - val_loss: 0.7003 - val_acc: 0.6875\n",
      "Epoch 6/22\n",
      "11200/11200 [==============================] - 282s 25ms/step - loss: 0.0620 - acc: 0.9765 - val_loss: 0.7955 - val_acc: 0.6875\n",
      "Epoch 7/22\n",
      "11200/11200 [==============================] - 315s 28ms/step - loss: 0.0548 - acc: 0.9794 - val_loss: 0.4713 - val_acc: 0.7500\n",
      "Epoch 8/22\n",
      "11200/11200 [==============================] - 340s 30ms/step - loss: 0.0556 - acc: 0.9784 - val_loss: 0.3252 - val_acc: 0.8125\n",
      "Epoch 9/22\n",
      "11200/11200 [==============================] - 320s 29ms/step - loss: 0.0472 - acc: 0.9829 - val_loss: 0.5174 - val_acc: 0.7500\n",
      "Epoch 10/22\n",
      "11200/11200 [==============================] - 377s 34ms/step - loss: 0.0397 - acc: 0.9851 - val_loss: 0.4279 - val_acc: 0.7500\n",
      "Epoch 11/22\n",
      "11200/11200 [==============================] - 362s 32ms/step - loss: 0.0345 - acc: 0.9877 - val_loss: 0.2305 - val_acc: 0.8750\n",
      "Epoch 12/22\n",
      "11200/11200 [==============================] - 351s 31ms/step - loss: 0.0308 - acc: 0.9883 - val_loss: 0.1812 - val_acc: 0.8750\n",
      "Epoch 13/22\n",
      "11200/11200 [==============================] - 370s 33ms/step - loss: 0.0346 - acc: 0.9869 - val_loss: 0.3000 - val_acc: 0.8125\n",
      "Epoch 14/22\n",
      "11200/11200 [==============================] - 352s 31ms/step - loss: 0.0297 - acc: 0.9894 - val_loss: 0.2581 - val_acc: 0.8750\n",
      "Epoch 15/22\n",
      "11200/11200 [==============================] - 363s 32ms/step - loss: 0.0294 - acc: 0.9888 - val_loss: 0.1943 - val_acc: 0.8750\n",
      "Epoch 16/22\n",
      "11200/11200 [==============================] - 424s 38ms/step - loss: 0.0216 - acc: 0.9929 - val_loss: 0.1299 - val_acc: 0.9375\n",
      "Epoch 17/22\n",
      "11200/11200 [==============================] - 375s 34ms/step - loss: 0.0215 - acc: 0.9923 - val_loss: 0.3052 - val_acc: 0.8750\n",
      "Epoch 18/22\n",
      "11200/11200 [==============================] - 370s 33ms/step - loss: 0.0169 - acc: 0.9951 - val_loss: 0.5086 - val_acc: 0.7500\n",
      "Epoch 19/22\n",
      "11200/11200 [==============================] - 413s 37ms/step - loss: 0.0164 - acc: 0.9946 - val_loss: 0.3641 - val_acc: 0.8125\n",
      "Epoch 20/22\n",
      "11200/11200 [==============================] - 542s 48ms/step - loss: 0.0133 - acc: 0.9961 - val_loss: 0.0858 - val_acc: 1.0000\n",
      "Epoch 21/22\n",
      "11200/11200 [==============================] - 375s 33ms/step - loss: 0.0128 - acc: 0.9956 - val_loss: 0.0707 - val_acc: 1.0000\n",
      "Epoch 22/22\n",
      "11200/11200 [==============================] - 401s 36ms/step - loss: 0.0134 - acc: 0.9957 - val_loss: 0.2049 - val_acc: 0.8750\n"
     ]
    }
   ],
   "source": [
    "results5 = model5.fit(train_images, train_labels_final, epochs=22, batch_size=1000, validation_data=(val_images, val_labels_final))"
   ]
  },
  {
   "cell_type": "markdown",
   "metadata": {},
   "source": [
    "### Save the Model"
   ]
  },
  {
   "cell_type": "code",
   "execution_count": 20,
   "metadata": {},
   "outputs": [
    {
     "name": "stdout",
     "output_type": "stream",
     "text": [
      "saving model to disk \n",
      "\n"
     ]
    }
   ],
   "source": [
    "print('saving model to disk \\n')\n",
    "mod = './/Models/model5_wtconstraint'\n",
    "model5.save(mod)"
   ]
  },
  {
   "cell_type": "markdown",
   "metadata": {},
   "source": [
    "### Evaluation: Model 5"
   ]
  },
  {
   "cell_type": "code",
   "execution_count": 21,
   "metadata": {},
   "outputs": [
    {
     "name": "stdout",
     "output_type": "stream",
     "text": [
      "11200/11200 [==============================] - 152s 14ms/step\n"
     ]
    },
    {
     "data": {
      "text/plain": [
       "[0.009911390975570871, 0.99625]"
      ]
     },
     "execution_count": 21,
     "metadata": {},
     "output_type": "execute_result"
    }
   ],
   "source": [
    "model5.evaluate(train_images, train_labels_final)"
   ]
  },
  {
   "cell_type": "code",
   "execution_count": 22,
   "metadata": {},
   "outputs": [
    {
     "name": "stdout",
     "output_type": "stream",
     "text": [
      "\r",
      "16/16 [==============================] - 0s 11ms/step\n"
     ]
    },
    {
     "data": {
      "text/plain": [
       "[0.20488885045051575, 0.875]"
      ]
     },
     "execution_count": 22,
     "metadata": {},
     "output_type": "execute_result"
    }
   ],
   "source": [
    "model5.evaluate(val_images, val_labels_final)"
   ]
  },
  {
   "cell_type": "code",
   "execution_count": 26,
   "metadata": {},
   "outputs": [
    {
     "data": {
      "image/png": "[encoded data removed]",
      "text/plain": [
       "<Figure size 432x288 with 1 Axes>"
      ]
     },
     "metadata": {
      "needs_background": "light"
     },
     "output_type": "display_data"
    },
    {
     "data": {
      "image/png": "[encoded data removed]",
      "text/plain": [
       "<Figure size 432x288 with 1 Axes>"
      ]
     },
     "metadata": {
      "needs_background": "light"
     },
     "output_type": "display_data"
    }
   ],
   "source": [
    "visualize_training_results(results5)"
   ]
  },
  {
   "cell_type": "markdown",
   "metadata": {},
   "source": [
    "**Observation:**"
   ]
  },
  {
   "cell_type": "markdown",
   "metadata": {},
   "source": [
    "### Predictions"
   ]
  },
  {
   "cell_type": "code",
   "execution_count": 27,
   "metadata": {},
   "outputs": [],
   "source": [
    "preds5 = model5.predict(val_images)"
   ]
  },
  {
   "cell_type": "code",
   "execution_count": null,
   "metadata": {},
   "outputs": [],
   "source": [
    "# # Print the classification report showing the metrics Recall, Precision, and F1-Score\n",
    "# classification_report = classification_report(val_labels_final, preds5)\n",
    "# classification_report\n",
    "# # Troubleshoot Error"
   ]
  },
  {
   "cell_type": "code",
   "execution_count": null,
   "metadata": {},
   "outputs": [],
   "source": [
    "# plot_confusion_matrix(val_labels_final, preds5)\n",
    "# # Troubleshoot Error"
   ]
  },
  {
   "cell_type": "code",
   "execution_count": null,
   "metadata": {},
   "outputs": [],
   "source": []
  },
  {
   "cell_type": "markdown",
   "metadata": {},
   "source": [
    "## Model 6: Weight Constraints, Min-Max Value [0.5,  2]"
   ]
  },
  {
   "cell_type": "code",
   "execution_count": 15,
   "metadata": {},
   "outputs": [],
   "source": [
    "model6 = Sequential()\n",
    "\n",
    "model6.add(layers.Conv2D(32, (3, 3), activation='relu', kernel_constraint=min_max_norm(min_value=0.5, max_value=2.0), input_shape=(96, 96, 1)))\n",
    "model6.add(layers.MaxPooling2D((2, 2)))\n",
    "\n",
    "model6.add(layers.Conv2D(64, (4, 4), activation='relu'))\n",
    "model6.add(layers.MaxPooling2D((2, 2)))\n",
    "\n",
    "model6.add(layers.Conv2D(128, (3, 3), activation='relu'))\n",
    "model6.add(layers.MaxPooling2D((2,2)))\n",
    "\n",
    "\n",
    "model6.add(layers.Conv2D(128, (3, 3), activation='relu'))\n",
    "model6.add(layers.MaxPooling2D((2,2)))\n",
    "\n",
    "\n",
    "# Flattening- Convert 2D matrix to a 1D vector\n",
    "model6.add(layers.Flatten())\n",
    "model6.add(layers.Dense(512, activation = 'relu'))\n",
    "model6.add(layers.Dense(1, activation='sigmoid'))"
   ]
  },
  {
   "cell_type": "code",
   "execution_count": 16,
   "metadata": {
    "scrolled": true
   },
   "outputs": [
    {
     "name": "stdout",
     "output_type": "stream",
     "text": [
      "_________________________________________________________________\n",
      "Layer (type)                 Output Shape              Param #   \n",
      "=================================================================\n",
      "conv2d_1 (Conv2D)            (None, 94, 94, 32)        320       \n",
      "_________________________________________________________________\n",
      "max_pooling2d_1 (MaxPooling2 (None, 47, 47, 32)        0         \n",
      "_________________________________________________________________\n",
      "conv2d_2 (Conv2D)            (None, 44, 44, 64)        32832     \n",
      "_________________________________________________________________\n",
      "max_pooling2d_2 (MaxPooling2 (None, 22, 22, 64)        0         \n",
      "_________________________________________________________________\n",
      "conv2d_3 (Conv2D)            (None, 20, 20, 128)       73856     \n",
      "_________________________________________________________________\n",
      "max_pooling2d_3 (MaxPooling2 (None, 10, 10, 128)       0         \n",
      "_________________________________________________________________\n",
      "conv2d_4 (Conv2D)            (None, 8, 8, 128)         147584    \n",
      "_________________________________________________________________\n",
      "max_pooling2d_4 (MaxPooling2 (None, 4, 4, 128)         0         \n",
      "_________________________________________________________________\n",
      "flatten_1 (Flatten)          (None, 2048)              0         \n",
      "_________________________________________________________________\n",
      "dense_1 (Dense)              (None, 512)               1049088   \n",
      "_________________________________________________________________\n",
      "dense_2 (Dense)              (None, 1)                 513       \n",
      "=================================================================\n",
      "Total params: 1,304,193\n",
      "Trainable params: 1,304,193\n",
      "Non-trainable params: 0\n",
      "_________________________________________________________________\n"
     ]
    }
   ],
   "source": [
    "model6.summary()"
   ]
  },
  {
   "cell_type": "code",
   "execution_count": 18,
   "metadata": {},
   "outputs": [],
   "source": [
    "model6.compile(loss='binary_crossentropy', optimizer='adam', metrics=['accuracy'])"
   ]
  },
  {
   "cell_type": "code",
   "execution_count": 20,
   "metadata": {},
   "outputs": [
    {
     "name": "stdout",
     "output_type": "stream",
     "text": [
      "Train on 11200 samples, validate on 16 samples\n",
      "Epoch 1/22\n",
      "11200/11200 [==============================] - 316s 28ms/step - loss: 0.6539 - acc: 0.6481 - val_loss: 0.7998 - val_acc: 0.5625\n",
      "Epoch 2/22\n",
      "11200/11200 [==============================] - 331s 30ms/step - loss: 0.2879 - acc: 0.8837 - val_loss: 0.7229 - val_acc: 0.5000\n",
      "Epoch 3/22\n",
      "11200/11200 [==============================] - 333s 30ms/step - loss: 0.1893 - acc: 0.9207 - val_loss: 0.7743 - val_acc: 0.6250\n",
      "Epoch 4/22\n",
      "11200/11200 [==============================] - 327s 29ms/step - loss: 0.0969 - acc: 0.9639 - val_loss: 0.8433 - val_acc: 0.6250\n",
      "Epoch 5/22\n",
      "11200/11200 [==============================] - 331s 30ms/step - loss: 0.0666 - acc: 0.9749 - val_loss: 0.5910 - val_acc: 0.6875\n",
      "Epoch 6/22\n",
      "11200/11200 [==============================] - 336s 30ms/step - loss: 0.0520 - acc: 0.9798 - val_loss: 0.6651 - val_acc: 0.6875\n",
      "Epoch 7/22\n",
      "11200/11200 [==============================] - 306s 27ms/step - loss: 0.0473 - acc: 0.9811 - val_loss: 0.4199 - val_acc: 0.8125\n",
      "Epoch 8/22\n",
      "11200/11200 [==============================] - 315s 28ms/step - loss: 0.0394 - acc: 0.9850 - val_loss: 0.9310 - val_acc: 0.5625\n",
      "Epoch 9/22\n",
      "11200/11200 [==============================] - 297s 27ms/step - loss: 0.0370 - acc: 0.9868 - val_loss: 0.4476 - val_acc: 0.8750\n",
      "Epoch 10/22\n",
      "11200/11200 [==============================] - 307s 27ms/step - loss: 0.0358 - acc: 0.9878 - val_loss: 0.4544 - val_acc: 0.8750\n",
      "Epoch 11/22\n",
      "11200/11200 [==============================] - 310s 28ms/step - loss: 0.0294 - acc: 0.9891 - val_loss: 0.5842 - val_acc: 0.8125\n",
      "Epoch 12/22\n",
      "11200/11200 [==============================] - 285s 25ms/step - loss: 0.0272 - acc: 0.9902 - val_loss: 0.8005 - val_acc: 0.6875\n",
      "Epoch 13/22\n",
      "11200/11200 [==============================] - 288s 26ms/step - loss: 0.0241 - acc: 0.9911 - val_loss: 0.8198 - val_acc: 0.6250\n",
      "Epoch 14/22\n",
      "11200/11200 [==============================] - 281s 25ms/step - loss: 0.0233 - acc: 0.9914 - val_loss: 1.0010 - val_acc: 0.6250\n",
      "Epoch 15/22\n",
      "11200/11200 [==============================] - 284s 25ms/step - loss: 0.0194 - acc: 0.9935 - val_loss: 1.1228 - val_acc: 0.6250\n",
      "Epoch 16/22\n",
      "11200/11200 [==============================] - 314s 28ms/step - loss: 0.0236 - acc: 0.9914 - val_loss: 1.2233 - val_acc: 0.5625\n",
      "Epoch 17/22\n",
      "11200/11200 [==============================] - 299s 27ms/step - loss: 0.0239 - acc: 0.9914 - val_loss: 0.9812 - val_acc: 0.6875\n",
      "Epoch 18/22\n",
      "11200/11200 [==============================] - 311s 28ms/step - loss: 0.0184 - acc: 0.9925 - val_loss: 0.8971 - val_acc: 0.6250\n",
      "Epoch 19/22\n",
      "11200/11200 [==============================] - 313s 28ms/step - loss: 0.0204 - acc: 0.9927 - val_loss: 0.6456 - val_acc: 0.7500\n",
      "Epoch 20/22\n",
      "11200/11200 [==============================] - 316s 28ms/step - loss: 0.0226 - acc: 0.9914 - val_loss: 0.2779 - val_acc: 0.8750\n",
      "Epoch 21/22\n",
      "11200/11200 [==============================] - 321s 29ms/step - loss: 0.0136 - acc: 0.9951 - val_loss: 0.8185 - val_acc: 0.6875\n",
      "Epoch 22/22\n",
      "11200/11200 [==============================] - 326s 29ms/step - loss: 0.0118 - acc: 0.9961 - val_loss: 0.7135 - val_acc: 0.6875\n"
     ]
    }
   ],
   "source": [
    "results6 = model6.fit(train_images, train_labels_final, epochs=22, batch_size=1000, validation_data=(val_images, val_labels_final))"
   ]
  },
  {
   "cell_type": "markdown",
   "metadata": {},
   "source": [
    "### Save the Model"
   ]
  },
  {
   "cell_type": "code",
   "execution_count": 21,
   "metadata": {},
   "outputs": [
    {
     "name": "stdout",
     "output_type": "stream",
     "text": [
      "saving model to disk \n",
      "\n"
     ]
    }
   ],
   "source": [
    "print('saving model to disk \\n')\n",
    "mod = './/Models/model6_minmax_constraint'\n",
    "model6.save(mod)"
   ]
  },
  {
   "cell_type": "markdown",
   "metadata": {},
   "source": [
    "### Evaluation: Model 6"
   ]
  },
  {
   "cell_type": "code",
   "execution_count": 22,
   "metadata": {},
   "outputs": [
    {
     "name": "stdout",
     "output_type": "stream",
     "text": [
      "11200/11200 [==============================] - 64s 6ms/step\n"
     ]
    },
    {
     "data": {
      "text/plain": [
       "[0.010318034317788261, 0.99625]"
      ]
     },
     "execution_count": 22,
     "metadata": {},
     "output_type": "execute_result"
    }
   ],
   "source": [
    "model6.evaluate(train_images, train_labels_final)"
   ]
  },
  {
   "cell_type": "code",
   "execution_count": 23,
   "metadata": {},
   "outputs": [
    {
     "name": "stdout",
     "output_type": "stream",
     "text": [
      "\r",
      "16/16 [==============================] - 0s 8ms/step\n"
     ]
    },
    {
     "data": {
      "text/plain": [
       "[0.7135301232337952, 0.6875]"
      ]
     },
     "execution_count": 23,
     "metadata": {},
     "output_type": "execute_result"
    }
   ],
   "source": [
    "model6.evaluate(val_images, val_labels_final)"
   ]
  },
  {
   "cell_type": "code",
   "execution_count": 27,
   "metadata": {},
   "outputs": [
    {
     "data": {
      "image/png": "[encoded data removed]",
      "text/plain": [
       "<Figure size 432x288 with 1 Axes>"
      ]
     },
     "metadata": {
      "needs_background": "light"
     },
     "output_type": "display_data"
    },
    {
     "data": {
      "image/png": "[encoded data removed]",
      "text/plain": [
       "<Figure size 432x288 with 1 Axes>"
      ]
     },
     "metadata": {
      "needs_background": "light"
     },
     "output_type": "display_data"
    }
   ],
   "source": [
    "visualize_training_results(results6)"
   ]
  },
  {
   "cell_type": "markdown",
   "metadata": {},
   "source": [
    "**Observations:**"
   ]
  },
  {
   "cell_type": "markdown",
   "metadata": {},
   "source": [
    "### Predictions"
   ]
  },
  {
   "cell_type": "code",
   "execution_count": 28,
   "metadata": {},
   "outputs": [],
   "source": [
    "preds6 = model6.predict(val_images)"
   ]
  },
  {
   "cell_type": "code",
   "execution_count": null,
   "metadata": {},
   "outputs": [],
   "source": [
    "# # Print the classification report showing the metrics Recall, Precision, and F1-Score\n",
    "# classification_report = classification_report(val_labels_final, preds6)\n",
    "# classification_report\n",
    "# # Troubleshoot Error"
   ]
  },
  {
   "cell_type": "code",
   "execution_count": null,
   "metadata": {},
   "outputs": [],
   "source": [
    "# plot_confusion_matrix(val_labels_final, preds6)\n",
    "# # Troubleshoot Error"
   ]
  },
  {
   "cell_type": "markdown",
   "metadata": {},
   "source": [
    "# Increase Testing Accuracy by Adding 4000 Training Images "
   ]
  },
  {
   "cell_type": "markdown",
   "metadata": {},
   "source": [
    "## Add 2000 Normal Images"
   ]
  },
  {
   "cell_type": "code",
   "execution_count": 45,
   "metadata": {},
   "outputs": [
    {
     "name": "stdout",
     "output_type": "stream",
     "text": [
      "2000 images have been generated at chest_xray/chest_xray/train/NORMAL/\n"
     ]
    }
   ],
   "source": [
    "count = 0\n",
    "for batch in datagen.flow(norm_img_array, batch_size=100, save_to_dir=norm_dir, save_prefix='IM', save_format='jpeg'):\n",
    "    count +=1\n",
    "    if count == 500:\n",
    "        break\n",
    "print('2000 images have been generated at', norm_dir)\n",
    "\n"
   ]
  },
  {
   "cell_type": "markdown",
   "metadata": {},
   "source": [
    "## Add 2000 Pneumonia Images"
   ]
  },
  {
   "cell_type": "code",
   "execution_count": 48,
   "metadata": {},
   "outputs": [
    {
     "name": "stdout",
     "output_type": "stream",
     "text": [
      "2000 additional images have been generated at chest_xray/chest_xray/train/PNEUMONIA\n"
     ]
    }
   ],
   "source": [
    "count = 0\n",
    "for batch in datagen.flow(pneum_img_array, batch_size=50, save_to_dir=pneum_dir, save_prefix='IM', save_format='jpeg'):\n",
    "    count +=1\n",
    "    if count == 200:\n",
    "        break\n",
    "print('2000 additional images have been generated at', pneum_dir)\n",
    "    "
   ]
  },
  {
   "cell_type": "markdown",
   "metadata": {},
   "source": [
    "## Preprocessing: Part 2"
   ]
  },
  {
   "cell_type": "code",
   "execution_count": 5,
   "metadata": {},
   "outputs": [
    {
     "name": "stdout",
     "output_type": "stream",
     "text": [
      "Found 15198 images belonging to 2 classes.\n"
     ]
    }
   ],
   "source": [
    "# Resize all 15,200 images in the train directory\n",
    "# Use default color mode so the image arrays have 3 channels (n x m x 3) as required for Pretrained Models\n",
    "train_gen = ImageDataGenerator(rescale=1./255).flow_from_directory(train_dir,\n",
    "                                                     target_size=(96,96), batch_size=15200)"
   ]
  },
  {
   "cell_type": "code",
   "execution_count": 7,
   "metadata": {},
   "outputs": [
    {
     "name": "stdout",
     "output_type": "stream",
     "text": [
      "Found 16 images belonging to 2 classes.\n"
     ]
    }
   ],
   "source": [
    "# Resize all 16 images in the train directory\n",
    "val_gen = ImageDataGenerator(rescale=1./255).flow_from_directory(val_dir,\n",
    "                                                   target_size=(96,96), batch_size=16)"
   ]
  },
  {
   "cell_type": "code",
   "execution_count": 8,
   "metadata": {},
   "outputs": [
    {
     "name": "stdout",
     "output_type": "stream",
     "text": [
      "Found 624 images belonging to 2 classes.\n"
     ]
    }
   ],
   "source": [
    "# Resize all 624 images in the train directory\n",
    "test_gen = ImageDataGenerator(rescale=1./255).flow_from_directory(test_dir,\n",
    "                                                   target_size=(96,96), batch_size=624)"
   ]
  },
  {
   "cell_type": "markdown",
   "metadata": {},
   "source": [
    "### Generate Image and Label Sets"
   ]
  },
  {
   "cell_type": "code",
   "execution_count": 9,
   "metadata": {},
   "outputs": [],
   "source": [
    "# Iterate through all of the images and create image-label datasets\n",
    "pretrain_images, pretrain_labels = next(train_gen)"
   ]
  },
  {
   "cell_type": "code",
   "execution_count": 10,
   "metadata": {},
   "outputs": [],
   "source": [
    "# Iterate through all of the images and create image-label datasets\n",
    "preval_images, preval_labels = next(val_gen)"
   ]
  },
  {
   "cell_type": "code",
   "execution_count": 11,
   "metadata": {},
   "outputs": [],
   "source": [
    "# Iterate through all of the images and create image-label datasets\n",
    "pretest_images, pretest_labels = next(test_gen)"
   ]
  },
  {
   "cell_type": "markdown",
   "metadata": {},
   "source": [
    "### Check the Shape of the Images and Labels"
   ]
  },
  {
   "cell_type": "code",
   "execution_count": 12,
   "metadata": {},
   "outputs": [
    {
     "name": "stdout",
     "output_type": "stream",
     "text": [
      "Shape of Train Images:  (15198, 96, 96, 3)\n",
      "Shape of Train Labels:  (15198, 2)\n",
      "Shape of Validation Images:  (16, 96, 96, 3)\n",
      "Shape of Validation Labels:  (16, 2)\n",
      "Shape of Test Images:  (624, 96, 96, 3)\n",
      "Shape of Test Labels:  (624, 2)\n"
     ]
    }
   ],
   "source": [
    "print('Shape of Train Images: ', np.shape(pretrain_images))\n",
    "print('Shape of Train Labels: ', np.shape(pretrain_labels))\n",
    "print('Shape of Validation Images: ', np.shape(preval_images))\n",
    "print('Shape of Validation Labels: ', np.shape(preval_labels))\n",
    "print('Shape of Test Images: ', np.shape(pretest_images))\n",
    "print('Shape of Test Labels: ', np.shape(pretest_labels))"
   ]
  },
  {
   "cell_type": "markdown",
   "metadata": {},
   "source": [
    "### Transform the labels to (m X 1) matrices\n",
    "\n"
   ]
  },
  {
   "cell_type": "code",
   "execution_count": 13,
   "metadata": {},
   "outputs": [
    {
     "data": {
      "text/plain": [
       "(15198, 1)"
      ]
     },
     "execution_count": 13,
     "metadata": {},
     "output_type": "execute_result"
    }
   ],
   "source": [
    "pretrain_labels_final = np.reshape(pretrain_labels[:,0], (15198,1))\n",
    "np.shape(pretrain_labels_final)"
   ]
  },
  {
   "cell_type": "code",
   "execution_count": 14,
   "metadata": {},
   "outputs": [
    {
     "data": {
      "text/plain": [
       "(16, 1)"
      ]
     },
     "execution_count": 14,
     "metadata": {},
     "output_type": "execute_result"
    }
   ],
   "source": [
    "preval_labels_final = np.reshape(preval_labels[:,0], (16,1))\n",
    "np.shape(preval_labels_final)"
   ]
  },
  {
   "cell_type": "code",
   "execution_count": 15,
   "metadata": {},
   "outputs": [
    {
     "data": {
      "text/plain": [
       "(624, 1)"
      ]
     },
     "execution_count": 15,
     "metadata": {},
     "output_type": "execute_result"
    }
   ],
   "source": [
    "pretest_labels_final = np.reshape(pretest_labels[:,0], (624,1))\n",
    "np.shape(pretest_labels_final)"
   ]
  },
  {
   "cell_type": "markdown",
   "metadata": {},
   "source": [
    "### Verify the Image and Label Pairs"
   ]
  },
  {
   "cell_type": "code",
   "execution_count": 66,
   "metadata": {},
   "outputs": [
    {
     "data": {
      "image/png": "[encoded data removed]",
      "text/plain": [
       "<PIL.Image.Image image mode=RGB size=96x96 at 0x7FE11D032F28>"
      ]
     },
     "execution_count": 66,
     "metadata": {},
     "output_type": "execute_result"
    }
   ],
   "source": [
    "# Select a random image to verify\n",
    "array_to_img(pretrain_images[14000])"
   ]
  },
  {
   "cell_type": "code",
   "execution_count": 67,
   "metadata": {},
   "outputs": [
    {
     "data": {
      "text/plain": [
       "array([0.], dtype=float32)"
      ]
     },
     "execution_count": 67,
     "metadata": {},
     "output_type": "execute_result"
    }
   ],
   "source": [
    "# Return the respective label and verify that the label matches the image\n",
    "pretrain_labels_final[14000, :]"
   ]
  },
  {
   "cell_type": "markdown",
   "metadata": {},
   "source": [
    "## Model 7: Pretrained, VGG16"
   ]
  },
  {
   "cell_type": "code",
   "execution_count": 13,
   "metadata": {},
   "outputs": [],
   "source": [
    "# Update the input shape from the default settings of the VGG16\n",
    "# model to (96, 96, 1) the input shape of the training images\n",
    "pretrain_mod1 = VGG16(include_top=False, input_shape=(96,96,3))"
   ]
  },
  {
   "cell_type": "code",
   "execution_count": 15,
   "metadata": {},
   "outputs": [
    {
     "name": "stdout",
     "output_type": "stream",
     "text": [
      "_________________________________________________________________\n",
      "Layer (type)                 Output Shape              Param #   \n",
      "=================================================================\n",
      "input_1 (InputLayer)         (None, 96, 96, 3)         0         \n",
      "_________________________________________________________________\n",
      "block1_conv1 (Conv2D)        (None, 96, 96, 64)        1792      \n",
      "_________________________________________________________________\n",
      "block1_conv2 (Conv2D)        (None, 96, 96, 64)        36928     \n",
      "_________________________________________________________________\n",
      "block1_pool (MaxPooling2D)   (None, 48, 48, 64)        0         \n",
      "_________________________________________________________________\n",
      "block2_conv1 (Conv2D)        (None, 48, 48, 128)       73856     \n",
      "_________________________________________________________________\n",
      "block2_conv2 (Conv2D)        (None, 48, 48, 128)       147584    \n",
      "_________________________________________________________________\n",
      "block2_pool (MaxPooling2D)   (None, 24, 24, 128)       0         \n",
      "_________________________________________________________________\n",
      "block3_conv1 (Conv2D)        (None, 24, 24, 256)       295168    \n",
      "_________________________________________________________________\n",
      "block3_conv2 (Conv2D)        (None, 24, 24, 256)       590080    \n",
      "_________________________________________________________________\n",
      "block3_conv3 (Conv2D)        (None, 24, 24, 256)       590080    \n",
      "_________________________________________________________________\n",
      "block3_pool (MaxPooling2D)   (None, 12, 12, 256)       0         \n",
      "_________________________________________________________________\n",
      "block4_conv1 (Conv2D)        (None, 12, 12, 512)       1180160   \n",
      "_________________________________________________________________\n",
      "block4_conv2 (Conv2D)        (None, 12, 12, 512)       2359808   \n",
      "_________________________________________________________________\n",
      "block4_conv3 (Conv2D)        (None, 12, 12, 512)       2359808   \n",
      "_________________________________________________________________\n",
      "block4_pool (MaxPooling2D)   (None, 6, 6, 512)         0         \n",
      "_________________________________________________________________\n",
      "block5_conv1 (Conv2D)        (None, 6, 6, 512)         2359808   \n",
      "_________________________________________________________________\n",
      "block5_conv2 (Conv2D)        (None, 6, 6, 512)         2359808   \n",
      "_________________________________________________________________\n",
      "block5_conv3 (Conv2D)        (None, 6, 6, 512)         2359808   \n",
      "_________________________________________________________________\n",
      "block5_pool (MaxPooling2D)   (None, 3, 3, 512)         0         \n",
      "=================================================================\n",
      "Total params: 14,714,688\n",
      "Trainable params: 14,714,688\n",
      "Non-trainable params: 0\n",
      "_________________________________________________________________\n"
     ]
    }
   ],
   "source": [
    "# Review the summary of the model\n",
    "pretrain_mod1.summary()"
   ]
  },
  {
   "cell_type": "code",
   "execution_count": 14,
   "metadata": {},
   "outputs": [],
   "source": [
    "model7 = Sequential()\n",
    "\n",
    "# Import trhe pretrained model (layers)\n",
    "model7.add(pretrain_mod1)\n",
    "\n",
    "# Add the 1D Layer\n",
    "model7.add(layers.Flatten())\n",
    "model7.add(layers.Dense(512, activation='relu'))\n",
    "model7.add(layers.Dense(1, activation='sigmoid'))"
   ]
  },
  {
   "cell_type": "markdown",
   "metadata": {},
   "source": [
    "### Freeze The Convolutional Base "
   ]
  },
  {
   "cell_type": "code",
   "execution_count": 15,
   "metadata": {
    "scrolled": true
   },
   "outputs": [
    {
     "name": "stdout",
     "output_type": "stream",
     "text": [
      "vgg16 True\n",
      "flatten_1 True\n",
      "dense_1 True\n",
      "dense_2 True\n",
      "30\n"
     ]
    }
   ],
   "source": [
    "# Check whether the layer is trainable (or alter its setting)\n",
    "for layer in model7.layers:\n",
    "    print(layer.name, layer.trainable)\n",
    "    \n",
    "# Check how many trainable weights are in the model\n",
    "print(len(model7.trainable_weights))"
   ]
  },
  {
   "cell_type": "code",
   "execution_count": 16,
   "metadata": {},
   "outputs": [],
   "source": [
    "# Freeze the convoultional base all of the weights associated\n",
    "# with that layer(s) will remain unchanged through the optimization process\n",
    "pretrain_mod1.trainable = False"
   ]
  },
  {
   "cell_type": "code",
   "execution_count": 17,
   "metadata": {},
   "outputs": [
    {
     "name": "stdout",
     "output_type": "stream",
     "text": [
      "vgg16 False\n",
      "flatten_1 True\n",
      "dense_1 True\n",
      "dense_2 True\n",
      "4\n"
     ]
    }
   ],
   "source": [
    "# Do a sanity check to make sure the layers are actually frozen\n",
    "for layer in model7.layers:\n",
    "    print(layer.name, layer.trainable)\n",
    "    \n",
    "print(len(model7.trainable_weights))"
   ]
  },
  {
   "cell_type": "code",
   "execution_count": 18,
   "metadata": {},
   "outputs": [],
   "source": [
    "model7.compile(loss='binary_crossentropy', optimizer='adam', metrics=['accuracy'])"
   ]
  },
  {
   "cell_type": "code",
   "execution_count": 19,
   "metadata": {
    "scrolled": true
   },
   "outputs": [
    {
     "name": "stdout",
     "output_type": "stream",
     "text": [
      "Train on 15198 samples, validate on 16 samples\n",
      "Epoch 1/22\n",
      "15198/15198 [==============================] - 5829s 384ms/step - loss: 0.2018 - acc: 0.9039 - val_loss: 0.2540 - val_acc: 0.8125\n",
      "Epoch 2/22\n",
      "15198/15198 [==============================] - 4916s 323ms/step - loss: 0.0575 - acc: 0.9772 - val_loss: 0.1984 - val_acc: 0.9375\n",
      "Epoch 3/22\n",
      "15198/15198 [==============================] - 4842s 319ms/step - loss: 0.0419 - acc: 0.9835 - val_loss: 0.3400 - val_acc: 0.8125\n",
      "Epoch 4/22\n",
      "15198/15198 [==============================] - 5242s 345ms/step - loss: 0.0348 - acc: 0.9863 - val_loss: 0.3297 - val_acc: 0.8125\n",
      "Epoch 5/22\n",
      "15198/15198 [==============================] - 4709s 310ms/step - loss: 0.0295 - acc: 0.9901 - val_loss: 0.2814 - val_acc: 0.8125\n",
      "Epoch 6/22\n",
      "15198/15198 [==============================] - 4752s 313ms/step - loss: 0.0264 - acc: 0.9910 - val_loss: 0.2313 - val_acc: 0.8750\n",
      "Epoch 7/22\n",
      "15198/15198 [==============================] - 4818s 317ms/step - loss: 0.0256 - acc: 0.9911 - val_loss: 0.2258 - val_acc: 0.8750\n",
      "Epoch 8/22\n",
      "15198/15198 [==============================] - 4749s 312ms/step - loss: 0.0231 - acc: 0.9918 - val_loss: 0.3568 - val_acc: 0.8125\n",
      "Epoch 9/22\n",
      "15198/15198 [==============================] - 4623s 304ms/step - loss: 0.0208 - acc: 0.9932 - val_loss: 0.2641 - val_acc: 0.8750\n",
      "Epoch 10/22\n",
      "15198/15198 [==============================] - 4870s 320ms/step - loss: 0.0201 - acc: 0.9928 - val_loss: 0.2852 - val_acc: 0.8125\n",
      "Epoch 11/22\n",
      "15198/15198 [==============================] - 4991s 328ms/step - loss: 0.0187 - acc: 0.9940 - val_loss: 0.2895 - val_acc: 0.8125\n",
      "Epoch 12/22\n",
      "15198/15198 [==============================] - 4726s 311ms/step - loss: 0.0167 - acc: 0.9947 - val_loss: 0.2467 - val_acc: 0.8750\n",
      "Epoch 13/22\n",
      "15198/15198 [==============================] - 4821s 317ms/step - loss: 0.0157 - acc: 0.9950 - val_loss: 0.3400 - val_acc: 0.8125\n",
      "Epoch 14/22\n",
      "15198/15198 [==============================] - 4940s 325ms/step - loss: 0.0155 - acc: 0.9950 - val_loss: 0.2237 - val_acc: 0.8125\n",
      "Epoch 15/22\n",
      "15198/15198 [==============================] - 4806s 316ms/step - loss: 0.0137 - acc: 0.9959 - val_loss: 0.3608 - val_acc: 0.8125\n",
      "Epoch 16/22\n",
      "15198/15198 [==============================] - 4845s 319ms/step - loss: 0.0132 - acc: 0.9963 - val_loss: 0.2971 - val_acc: 0.8125\n",
      "Epoch 17/22\n",
      "15198/15198 [==============================] - 4658s 306ms/step - loss: 0.0122 - acc: 0.9962 - val_loss: 0.2755 - val_acc: 0.8750\n",
      "Epoch 18/22\n",
      "15198/15198 [==============================] - 4816s 317ms/step - loss: 0.0118 - acc: 0.9967 - val_loss: 0.4089 - val_acc: 0.7500\n",
      "Epoch 19/22\n",
      "15198/15198 [==============================] - 4774s 314ms/step - loss: 0.0114 - acc: 0.9963 - val_loss: 0.2387 - val_acc: 0.8750\n",
      "Epoch 20/22\n",
      "15198/15198 [==============================] - 4933s 325ms/step - loss: 0.0102 - acc: 0.9972 - val_loss: 0.3467 - val_acc: 0.7500\n",
      "Epoch 21/22\n",
      "15198/15198 [==============================] - 4680s 308ms/step - loss: 0.0096 - acc: 0.9976 - val_loss: 0.2480 - val_acc: 0.8125\n",
      "Epoch 22/22\n",
      "15198/15198 [==============================] - 4842s 319ms/step - loss: 0.0090 - acc: 0.9979 - val_loss: 0.2172 - val_acc: 0.8750\n"
     ]
    }
   ],
   "source": [
    "results7 = model7.fit(pretrain_images, pretrain_labels_final, epochs=22, batch_size=1000, validation_data=(preval_images, preval_labels_final))"
   ]
  },
  {
   "cell_type": "markdown",
   "metadata": {},
   "source": [
    "### Save the Model"
   ]
  },
  {
   "cell_type": "code",
   "execution_count": 20,
   "metadata": {},
   "outputs": [
    {
     "name": "stdout",
     "output_type": "stream",
     "text": [
      "saving model to disk \n",
      "\n"
     ]
    }
   ],
   "source": [
    "print('saving model to disk \\n')\n",
    "mod = './/Models/model7_VGG16'\n",
    "model7.save(mod)"
   ]
  },
  {
   "cell_type": "markdown",
   "metadata": {},
   "source": [
    "### Evaluation: Model 7"
   ]
  },
  {
   "cell_type": "code",
   "execution_count": 21,
   "metadata": {},
   "outputs": [
    {
     "name": "stdout",
     "output_type": "stream",
     "text": [
      "15198/15198 [==============================] - 1505s 99ms/step\n"
     ]
    },
    {
     "data": {
      "text/plain": [
       "[0.00868526582451958, 0.9978944597973417]"
      ]
     },
     "execution_count": 21,
     "metadata": {},
     "output_type": "execute_result"
    }
   ],
   "source": [
    "model7.evaluate(pretrain_images, pretrain_labels_final)"
   ]
  },
  {
   "cell_type": "code",
   "execution_count": 22,
   "metadata": {},
   "outputs": [
    {
     "name": "stdout",
     "output_type": "stream",
     "text": [
      "\r",
      "16/16 [==============================] - 1s 82ms/step\n"
     ]
    },
    {
     "data": {
      "text/plain": [
       "[0.2172488570213318, 0.875]"
      ]
     },
     "execution_count": 22,
     "metadata": {},
     "output_type": "execute_result"
    }
   ],
   "source": [
    "model7.evaluate(preval_images, preval_labels_final)"
   ]
  },
  {
   "cell_type": "code",
   "execution_count": 26,
   "metadata": {},
   "outputs": [
    {
     "data": {
      "image/png": "[encoded data removed]",
      "text/plain": [
       "<Figure size 432x288 with 1 Axes>"
      ]
     },
     "metadata": {
      "needs_background": "light"
     },
     "output_type": "display_data"
    },
    {
     "data": {
      "image/png": "[encoded data removed]",
      "text/plain": [
       "<Figure size 432x288 with 1 Axes>"
      ]
     },
     "metadata": {
      "needs_background": "light"
     },
     "output_type": "display_data"
    }
   ],
   "source": [
    "visualize_training_results(results7)"
   ]
  },
  {
   "cell_type": "markdown",
   "metadata": {},
   "source": [
    "**Observations:**"
   ]
  },
  {
   "cell_type": "markdown",
   "metadata": {},
   "source": [
    "### Predictions"
   ]
  },
  {
   "cell_type": "code",
   "execution_count": 27,
   "metadata": {},
   "outputs": [],
   "source": [
    "preds7 = model7.predict(preval_images)"
   ]
  },
  {
   "cell_type": "code",
   "execution_count": 32,
   "metadata": {},
   "outputs": [],
   "source": [
    "# # Print the classification report showing the metrics Recall, Precision, and F1-Score\n",
    "# classification_report = classification_report(preval_labels_final, preds7)\n",
    "# classification_report\n",
    "# # # Troubleshoot Error"
   ]
  },
  {
   "cell_type": "code",
   "execution_count": 31,
   "metadata": {},
   "outputs": [],
   "source": [
    "# plot_confusion_matrix(preval_labels_final, preds7)\n",
    "# # # Troubleshoot Error"
   ]
  },
  {
   "cell_type": "code",
   "execution_count": null,
   "metadata": {},
   "outputs": [],
   "source": []
  },
  {
   "cell_type": "markdown",
   "metadata": {},
   "source": [
    "## Model 8: Pretrained Model, Inception - try Later"
   ]
  },
  {
   "cell_type": "code",
   "execution_count": null,
   "metadata": {},
   "outputs": [],
   "source": [
    "inception_mod = InceptionV3(input_shape = (96, 96, 3), include_top = False, weights = None)"
   ]
  },
  {
   "cell_type": "code",
   "execution_count": null,
   "metadata": {},
   "outputs": [],
   "source": [
    "for layer in inception_mod.layers:\n",
    "    layer.trainable = False"
   ]
  },
  {
   "cell_type": "code",
   "execution_count": null,
   "metadata": {},
   "outputs": [],
   "source": []
  },
  {
   "cell_type": "code",
   "execution_count": null,
   "metadata": {},
   "outputs": [],
   "source": []
  },
  {
   "cell_type": "code",
   "execution_count": null,
   "metadata": {},
   "outputs": [],
   "source": []
  },
  {
   "cell_type": "code",
   "execution_count": null,
   "metadata": {},
   "outputs": [],
   "source": []
  },
  {
   "cell_type": "markdown",
   "metadata": {},
   "source": [
    "# 5. Evaluation\n",
    "Train Images using the Test Data and the best performing model."
   ]
  },
  {
   "cell_type": "code",
   "execution_count": 34,
   "metadata": {},
   "outputs": [],
   "source": [
    "best_model5 = Sequential()\n",
    "\n",
    "best_model5.add(layers.Conv2D(32, (3, 3), activation='relu', kernel_constraint=unit_norm(), input_shape=(96, 96, 3)))\n",
    "best_model5.add(layers.MaxPooling2D((2, 2)))\n",
    "\n",
    "best_model5.add(layers.Conv2D(64, (4, 4), activation='relu'))\n",
    "best_model5.add(layers.MaxPooling2D((2, 2)))\n",
    "\n",
    "best_model5.add(layers.Conv2D(128, (3, 3), activation='relu'))\n",
    "best_model5.add(layers.MaxPooling2D((2,2)))\n",
    "\n",
    "\n",
    "best_model5.add(layers.Conv2D(128, (3, 3), activation='relu'))\n",
    "best_model5.add(layers.MaxPooling2D((2,2)))\n",
    "\n",
    "\n",
    "# Flattening- Convert 2D matrix to a 1D vector\n",
    "best_model5.add(layers.Flatten())\n",
    "best_model5.add(layers.Dense(512, activation = 'relu'))\n",
    "best_model5.add(layers.Dense(1, activation='sigmoid'))"
   ]
  },
  {
   "cell_type": "code",
   "execution_count": 35,
   "metadata": {},
   "outputs": [
    {
     "name": "stdout",
     "output_type": "stream",
     "text": [
      "_________________________________________________________________\n",
      "Layer (type)                 Output Shape              Param #   \n",
      "=================================================================\n",
      "conv2d_3 (Conv2D)            (None, 94, 94, 32)        896       \n",
      "_________________________________________________________________\n",
      "max_pooling2d_2 (MaxPooling2 (None, 47, 47, 32)        0         \n",
      "_________________________________________________________________\n",
      "conv2d_4 (Conv2D)            (None, 44, 44, 64)        32832     \n",
      "_________________________________________________________________\n",
      "max_pooling2d_3 (MaxPooling2 (None, 22, 22, 64)        0         \n",
      "_________________________________________________________________\n",
      "conv2d_5 (Conv2D)            (None, 20, 20, 128)       73856     \n",
      "_________________________________________________________________\n",
      "max_pooling2d_4 (MaxPooling2 (None, 10, 10, 128)       0         \n",
      "_________________________________________________________________\n",
      "conv2d_6 (Conv2D)            (None, 8, 8, 128)         147584    \n",
      "_________________________________________________________________\n",
      "max_pooling2d_5 (MaxPooling2 (None, 4, 4, 128)         0         \n",
      "_________________________________________________________________\n",
      "flatten_2 (Flatten)          (None, 2048)              0         \n",
      "_________________________________________________________________\n",
      "dense_3 (Dense)              (None, 512)               1049088   \n",
      "_________________________________________________________________\n",
      "dense_4 (Dense)              (None, 1)                 513       \n",
      "=================================================================\n",
      "Total params: 1,304,769\n",
      "Trainable params: 1,304,769\n",
      "Non-trainable params: 0\n",
      "_________________________________________________________________\n"
     ]
    }
   ],
   "source": [
    "best_model5.summary()"
   ]
  },
  {
   "cell_type": "code",
   "execution_count": 36,
   "metadata": {},
   "outputs": [],
   "source": [
    "best_model5.compile(loss='binary_crossentropy', optimizer='adam', metrics=['accuracy'])"
   ]
  },
  {
   "cell_type": "code",
   "execution_count": 37,
   "metadata": {},
   "outputs": [
    {
     "name": "stdout",
     "output_type": "stream",
     "text": [
      "Train on 15198 samples, validate on 624 samples\n",
      "Epoch 1/22\n",
      "15198/15198 [==============================] - 397s 26ms/step - loss: 0.7462 - acc: 0.6796 - val_loss: 0.7444 - val_acc: 0.6891\n",
      "Epoch 2/22\n",
      "15198/15198 [==============================] - 394s 26ms/step - loss: 0.1772 - acc: 0.9224 - val_loss: 0.5760 - val_acc: 0.7628\n",
      "Epoch 3/22\n",
      "15198/15198 [==============================] - 391s 26ms/step - loss: 0.0961 - acc: 0.9615 - val_loss: 0.5410 - val_acc: 0.7740\n",
      "Epoch 4/22\n",
      "15198/15198 [==============================] - 392s 26ms/step - loss: 0.0582 - acc: 0.9774 - val_loss: 0.5573 - val_acc: 0.7804\n",
      "Epoch 5/22\n",
      "15198/15198 [==============================] - 395s 26ms/step - loss: 0.0409 - acc: 0.9852 - val_loss: 0.5675 - val_acc: 0.7837\n",
      "Epoch 6/22\n",
      "15198/15198 [==============================] - 400s 26ms/step - loss: 0.0318 - acc: 0.9880 - val_loss: 0.8169 - val_acc: 0.7292\n",
      "Epoch 7/22\n",
      "15198/15198 [==============================] - 389s 26ms/step - loss: 0.0268 - acc: 0.9896 - val_loss: 0.9270 - val_acc: 0.7179\n",
      "Epoch 8/22\n",
      "15198/15198 [==============================] - 384s 25ms/step - loss: 0.0232 - acc: 0.9914 - val_loss: 0.4883 - val_acc: 0.8157\n",
      "Epoch 9/22\n",
      "15198/15198 [==============================] - 379s 25ms/step - loss: 0.0228 - acc: 0.9917 - val_loss: 0.5504 - val_acc: 0.8109\n",
      "Epoch 10/22\n",
      "15198/15198 [==============================] - 381s 25ms/step - loss: 0.0170 - acc: 0.9939 - val_loss: 0.6762 - val_acc: 0.7965\n",
      "Epoch 11/22\n",
      "15198/15198 [==============================] - 380s 25ms/step - loss: 0.0185 - acc: 0.9934 - val_loss: 0.4350 - val_acc: 0.8526\n",
      "Epoch 12/22\n",
      "15198/15198 [==============================] - 392s 26ms/step - loss: 0.0196 - acc: 0.9925 - val_loss: 1.7269 - val_acc: 0.6747\n",
      "Epoch 13/22\n",
      "15198/15198 [==============================] - 398s 26ms/step - loss: 0.0323 - acc: 0.9881 - val_loss: 0.5733 - val_acc: 0.7997\n",
      "Epoch 14/22\n",
      "15198/15198 [==============================] - 405s 27ms/step - loss: 0.0153 - acc: 0.9943 - val_loss: 0.8868 - val_acc: 0.7708\n",
      "Epoch 15/22\n",
      "15198/15198 [==============================] - 397s 26ms/step - loss: 0.0117 - acc: 0.9959 - val_loss: 1.5001 - val_acc: 0.7244\n",
      "Epoch 16/22\n",
      "15198/15198 [==============================] - 425s 28ms/step - loss: 0.0123 - acc: 0.9955 - val_loss: 0.7377 - val_acc: 0.8013\n",
      "Epoch 17/22\n",
      "15198/15198 [==============================] - 404s 27ms/step - loss: 0.0114 - acc: 0.9954 - val_loss: 0.7484 - val_acc: 0.8141\n",
      "Epoch 18/22\n",
      "15198/15198 [==============================] - 398s 26ms/step - loss: 0.0091 - acc: 0.9968 - val_loss: 0.9758 - val_acc: 0.7837\n",
      "Epoch 19/22\n",
      "15198/15198 [==============================] - 390s 26ms/step - loss: 0.0059 - acc: 0.9982 - val_loss: 1.1534 - val_acc: 0.7708\n",
      "Epoch 20/22\n",
      "15198/15198 [==============================] - 393s 26ms/step - loss: 0.0043 - acc: 0.9985 - val_loss: 1.1134 - val_acc: 0.7853\n",
      "Epoch 21/22\n",
      "15198/15198 [==============================] - 397s 26ms/step - loss: 0.0041 - acc: 0.9989 - val_loss: 0.8701 - val_acc: 0.8109\n",
      "Epoch 22/22\n",
      "15198/15198 [==============================] - 399s 26ms/step - loss: 0.0042 - acc: 0.9989 - val_loss: 1.5169 - val_acc: 0.7452\n"
     ]
    }
   ],
   "source": [
    "test_results1 = best_model5.fit(pretrain_images, pretrain_labels_final, epochs=22, batch_size=1000, validation_data=(pretest_images, pretest_labels_final))"
   ]
  },
  {
   "cell_type": "markdown",
   "metadata": {},
   "source": [
    "### Save the Model"
   ]
  },
  {
   "cell_type": "code",
   "execution_count": 38,
   "metadata": {},
   "outputs": [
    {
     "name": "stdout",
     "output_type": "stream",
     "text": [
      "saving model to disk \n",
      "\n"
     ]
    }
   ],
   "source": [
    "print('saving model to disk \\n')\n",
    "mod = './/Models/model1_testdata'\n",
    "best_model5.save(mod)"
   ]
  },
  {
   "cell_type": "markdown",
   "metadata": {},
   "source": [
    "### Evaluate: Best_Model5"
   ]
  },
  {
   "cell_type": "code",
   "execution_count": 40,
   "metadata": {},
   "outputs": [
    {
     "name": "stdout",
     "output_type": "stream",
     "text": [
      "15198/15198 [==============================] - 99s 7ms/step\n"
     ]
    },
    {
     "data": {
      "text/plain": [
       "[0.0025485888845824607, 0.9994078168180024]"
      ]
     },
     "execution_count": 40,
     "metadata": {},
     "output_type": "execute_result"
    }
   ],
   "source": [
    "best_model5.evaluate(pretrain_images, pretrain_labels_final)"
   ]
  },
  {
   "cell_type": "code",
   "execution_count": 42,
   "metadata": {},
   "outputs": [
    {
     "name": "stdout",
     "output_type": "stream",
     "text": [
      "624/624 [==============================] - 4s 6ms/step\n"
     ]
    },
    {
     "data": {
      "text/plain": [
       "[1.5169109442295172, 0.7451923076923077]"
      ]
     },
     "execution_count": 42,
     "metadata": {},
     "output_type": "execute_result"
    }
   ],
   "source": [
    "best_model5.evaluate(pretest_images, pretest_labels_final)"
   ]
  },
  {
   "cell_type": "code",
   "execution_count": 44,
   "metadata": {},
   "outputs": [
    {
     "data": {
      "image/png": "[encoded data removed]",
      "text/plain": [
       "<Figure size 432x288 with 1 Axes>"
      ]
     },
     "metadata": {
      "needs_background": "light"
     },
     "output_type": "display_data"
    },
    {
     "data": {
      "image/png": "[encoded data removed]",
      "text/plain": [
       "<Figure size 432x288 with 1 Axes>"
      ]
     },
     "metadata": {
      "needs_background": "light"
     },
     "output_type": "display_data"
    }
   ],
   "source": [
    "visualize_training_results(test_results1)"
   ]
  },
  {
   "cell_type": "markdown",
   "metadata": {},
   "source": [
    "**Observations:**"
   ]
  },
  {
   "cell_type": "markdown",
   "metadata": {},
   "source": [
    "### Predictions"
   ]
  },
  {
   "cell_type": "code",
   "execution_count": 45,
   "metadata": {},
   "outputs": [],
   "source": [
    "predictions1 = best_model5.predict(pretest_images)"
   ]
  },
  {
   "cell_type": "code",
   "execution_count": null,
   "metadata": {},
   "outputs": [],
   "source": [
    "# # Print the classification report showing the metrics Recall, Precision, and F1-Score\n",
    "# classification_report = classification_report(preval_labels_final, preds7)\n",
    "# classification_report\n",
    "# # # Troubleshoot Error"
   ]
  },
  {
   "cell_type": "code",
   "execution_count": null,
   "metadata": {},
   "outputs": [],
   "source": [
    "# plot_confusion_matrix(preval_labels_final, preds7)\n",
    "# # # Troubleshoot Error"
   ]
  },
  {
   "cell_type": "markdown",
   "metadata": {},
   "source": [
    "# Increasing Learning rate to 0.005 increased loss to 7.7 and decreased accuarcy to 0.5."
   ]
  },
  {
   "cell_type": "markdown",
   "metadata": {},
   "source": [
    "## Add 1 additional layer with 256 units and Increase Batch size to 1500"
   ]
  },
  {
   "cell_type": "code",
   "execution_count": 17,
   "metadata": {},
   "outputs": [],
   "source": [
    "best_model51 = Sequential()\n",
    "\n",
    "best_model51.add(layers.Conv2D(32, (3, 3), activation='relu', kernel_constraint=unit_norm(), input_shape=(96, 96, 3)))\n",
    "best_model51.add(layers.MaxPooling2D((2, 2)))\n",
    "\n",
    "best_model51.add(layers.Conv2D(64, (4, 4), activation='relu'))\n",
    "best_model51.add(layers.MaxPooling2D((2, 2)))\n",
    "\n",
    "best_model51.add(layers.Conv2D(128, (3, 3), activation='relu'))\n",
    "best_model51.add(layers.MaxPooling2D((2,2)))\n",
    "\n",
    "best_model51.add(layers.Conv2D(128, (3, 3), activation='relu'))\n",
    "best_model51.add(layers.MaxPooling2D((2,2)))\n",
    "\n",
    "best_model51.add(layers.Conv2D(256, (3, 3), activation='relu'))\n",
    "best_model51.add(layers.MaxPooling2D((2,2)))\n",
    "\n",
    "\n",
    "# Flattening- Convert 2D matrix to a 1D vector\n",
    "best_model51.add(layers.Flatten())\n",
    "best_model51.add(layers.Dense(512, activation = 'relu'))\n",
    "best_model51.add(layers.Dense(1, activation='sigmoid'))"
   ]
  },
  {
   "cell_type": "code",
   "execution_count": 18,
   "metadata": {},
   "outputs": [],
   "source": [
    "best_model51.compile(optimizer='adam',loss='binary_crossentropy', metrics=['accuracy'])"
   ]
  },
  {
   "cell_type": "code",
   "execution_count": 19,
   "metadata": {},
   "outputs": [
    {
     "name": "stdout",
     "output_type": "stream",
     "text": [
      "Train on 15198 samples, validate on 624 samples\n",
      "Epoch 1/22\n",
      "15198/15198 [==============================] - 1337s 88ms/step - loss: 0.7556 - acc: 0.4921 - val_loss: 0.6613 - val_acc: 0.6266\n",
      "Epoch 2/22\n",
      "15198/15198 [==============================] - 1275s 84ms/step - loss: 0.6133 - acc: 0.6049 - val_loss: 0.8659 - val_acc: 0.3750\n",
      "Epoch 3/22\n",
      "15198/15198 [==============================] - 1387s 91ms/step - loss: 0.5883 - acc: 0.6424 - val_loss: 0.4994 - val_acc: 0.7516\n",
      "Epoch 4/22\n",
      "15198/15198 [==============================] - 1340s 88ms/step - loss: 0.2507 - acc: 0.8989 - val_loss: 0.5013 - val_acc: 0.7516\n",
      "Epoch 5/22\n",
      "15198/15198 [==============================] - 1351s 89ms/step - loss: 0.1526 - acc: 0.9330 - val_loss: 0.4660 - val_acc: 0.7869\n",
      "Epoch 6/22\n",
      "15198/15198 [==============================] - 1422s 94ms/step - loss: 0.1226 - acc: 0.9478 - val_loss: 0.3989 - val_acc: 0.8205\n",
      "Epoch 7/22\n",
      "15198/15198 [==============================] - 1365s 90ms/step - loss: 0.1004 - acc: 0.9592 - val_loss: 0.3711 - val_acc: 0.8285\n",
      "Epoch 8/22\n",
      "15198/15198 [==============================] - 1380s 91ms/step - loss: 0.0866 - acc: 0.9656 - val_loss: 0.4221 - val_acc: 0.8045\n",
      "Epoch 9/22\n",
      "15198/15198 [==============================] - 1439s 95ms/step - loss: 0.0714 - acc: 0.9712 - val_loss: 0.3261 - val_acc: 0.8462\n",
      "Epoch 10/22\n",
      "15198/15198 [==============================] - 1432s 94ms/step - loss: 0.0706 - acc: 0.9721 - val_loss: 0.3006 - val_acc: 0.8686\n",
      "Epoch 11/22\n",
      "15198/15198 [==============================] - 1441s 95ms/step - loss: 0.0570 - acc: 0.9772 - val_loss: 0.8638 - val_acc: 0.7035\n",
      "Epoch 12/22\n",
      "15198/15198 [==============================] - 1445s 95ms/step - loss: 0.0638 - acc: 0.9739 - val_loss: 0.9228 - val_acc: 0.7163\n",
      "Epoch 13/22\n",
      "15198/15198 [==============================] - 1436s 95ms/step - loss: 0.0710 - acc: 0.9734 - val_loss: 0.4972 - val_acc: 0.8013\n",
      "Epoch 14/22\n",
      "15198/15198 [==============================] - 1453s 96ms/step - loss: 0.0464 - acc: 0.9832 - val_loss: 0.5862 - val_acc: 0.7965\n",
      "Epoch 15/22\n",
      "15198/15198 [==============================] - 1453s 96ms/step - loss: 0.0343 - acc: 0.9874 - val_loss: 0.4377 - val_acc: 0.8253\n",
      "Epoch 16/22\n",
      "15198/15198 [==============================] - 1499s 99ms/step - loss: 0.0337 - acc: 0.9869 - val_loss: 0.7526 - val_acc: 0.7628\n",
      "Epoch 17/22\n",
      "15198/15198 [==============================] - 621s 41ms/step - loss: 0.0295 - acc: 0.9893 - val_loss: 0.5110 - val_acc: 0.8173\n",
      "Epoch 18/22\n",
      "15198/15198 [==============================] - 559s 37ms/step - loss: 0.0341 - acc: 0.9870 - val_loss: 0.9347 - val_acc: 0.7340\n",
      "Epoch 19/22\n",
      "15198/15198 [==============================] - 543s 36ms/step - loss: 0.0292 - acc: 0.9895 - val_loss: 0.3095 - val_acc: 0.8846\n",
      "Epoch 20/22\n",
      "15198/15198 [==============================] - 550s 36ms/step - loss: 0.0432 - acc: 0.9830 - val_loss: 0.6034 - val_acc: 0.8109\n",
      "Epoch 21/22\n",
      "15198/15198 [==============================] - 552s 36ms/step - loss: 0.0253 - acc: 0.9905 - val_loss: 0.7034 - val_acc: 0.7965\n",
      "Epoch 22/22\n",
      "15198/15198 [==============================] - 582s 38ms/step - loss: 0.0239 - acc: 0.9908 - val_loss: 0.8406 - val_acc: 0.7772\n"
     ]
    }
   ],
   "source": [
    "test_results2 = best_model51.fit(pretrain_images, pretrain_labels_final, epochs=22, batch_size=1500, validation_data=(pretest_images, pretest_labels_final))"
   ]
  },
  {
   "cell_type": "markdown",
   "metadata": {},
   "source": [
    "### Save the Model"
   ]
  },
  {
   "cell_type": "code",
   "execution_count": 23,
   "metadata": {},
   "outputs": [
    {
     "name": "stdout",
     "output_type": "stream",
     "text": [
      "saving model to disk \n",
      "\n"
     ]
    }
   ],
   "source": [
    "print('saving model to disk \\n')\n",
    "mod = './/Models/model2_testdata'\n",
    "best_model51.save(mod)"
   ]
  },
  {
   "cell_type": "code",
   "execution_count": 21,
   "metadata": {},
   "outputs": [
    {
     "name": "stdout",
     "output_type": "stream",
     "text": [
      "15198/15198 [==============================] - 109s 7ms/step\n"
     ]
    },
    {
     "data": {
      "text/plain": [
       "[0.022186800957746743, 0.9922358205026978]"
      ]
     },
     "execution_count": 21,
     "metadata": {},
     "output_type": "execute_result"
    }
   ],
   "source": [
    "best_model51.evaluate(pretrain_images, pretrain_labels_final)"
   ]
  },
  {
   "cell_type": "code",
   "execution_count": 22,
   "metadata": {},
   "outputs": [
    {
     "name": "stdout",
     "output_type": "stream",
     "text": [
      "624/624 [==============================] - 4s 7ms/step\n"
     ]
    },
    {
     "data": {
      "text/plain": [
       "[0.8405851706480368, 0.7772435897435898]"
      ]
     },
     "execution_count": 22,
     "metadata": {},
     "output_type": "execute_result"
    }
   ],
   "source": [
    "best_model51.evaluate(pretest_images, pretest_labels_final)"
   ]
  },
  {
   "cell_type": "code",
   "execution_count": 27,
   "metadata": {},
   "outputs": [
    {
     "data": {
      "image/png": "[encoded data removed]",
      "text/plain": [
       "<Figure size 432x288 with 1 Axes>"
      ]
     },
     "metadata": {
      "needs_background": "light"
     },
     "output_type": "display_data"
    },
    {
     "data": {
      "image/png": "[encoded data removed]",
      "text/plain": [
       "<Figure size 432x288 with 1 Axes>"
      ]
     },
     "metadata": {
      "needs_background": "light"
     },
     "output_type": "display_data"
    }
   ],
   "source": [
    "visualize_training_results(test_results2)"
   ]
  },
  {
   "cell_type": "markdown",
   "metadata": {},
   "source": [
    "**Observations:**"
   ]
  },
  {
   "cell_type": "code",
   "execution_count": null,
   "metadata": {},
   "outputs": [],
   "source": []
  },
  {
   "cell_type": "code",
   "execution_count": null,
   "metadata": {},
   "outputs": [],
   "source": []
  },
  {
   "cell_type": "code",
   "execution_count": null,
   "metadata": {},
   "outputs": [],
   "source": []
  },
  {
   "cell_type": "code",
   "execution_count": null,
   "metadata": {},
   "outputs": [],
   "source": []
  },
  {
   "cell_type": "markdown",
   "metadata": {},
   "source": [
    "# Try Softmax output function- Yielded loss starting loss of 7.95. Stopped function early"
   ]
  },
  {
   "cell_type": "markdown",
   "metadata": {},
   "source": [
    "# Try lr 0.1. Had loss of 6.95\n"
   ]
  },
  {
   "cell_type": "markdown",
   "metadata": {},
   "source": [
    "## Prepreproessing: Part 3, Try Images size 128x128"
   ]
  },
  {
   "cell_type": "markdown",
   "metadata": {},
   "source": [
    "### Rezise all Images to 128x128"
   ]
  },
  {
   "cell_type": "code",
   "execution_count": 5,
   "metadata": {},
   "outputs": [
    {
     "name": "stdout",
     "output_type": "stream",
     "text": [
      "Found 15198 images belonging to 2 classes.\n"
     ]
    }
   ],
   "source": [
    "# Resize all 15,200 images in the train directory\n",
    "# Use default color mode so the image arrays have 3 channels (n x m x 3) as required for Pretrained Models\n",
    "train_gen2 = ImageDataGenerator(rescale=1./255).flow_from_directory(train_dir,\n",
    "                                                     target_size=(128,128), batch_size=15200)"
   ]
  },
  {
   "cell_type": "code",
   "execution_count": 6,
   "metadata": {},
   "outputs": [
    {
     "name": "stdout",
     "output_type": "stream",
     "text": [
      "Found 16 images belonging to 2 classes.\n"
     ]
    }
   ],
   "source": [
    "val_gen2 = ImageDataGenerator(rescale=1./255).flow_from_directory(val_dir,\n",
    "                                                     target_size=(128,128), batch_size=16)"
   ]
  },
  {
   "cell_type": "code",
   "execution_count": 7,
   "metadata": {},
   "outputs": [
    {
     "name": "stdout",
     "output_type": "stream",
     "text": [
      "Found 624 images belonging to 2 classes.\n"
     ]
    }
   ],
   "source": [
    "test_gen2 = ImageDataGenerator(rescale=1./255).flow_from_directory(test_dir,\n",
    "                                                     target_size=(128,128), batch_size=624)"
   ]
  },
  {
   "cell_type": "markdown",
   "metadata": {},
   "source": [
    "### Generate Image and Label Sets"
   ]
  },
  {
   "cell_type": "code",
   "execution_count": 8,
   "metadata": {},
   "outputs": [],
   "source": [
    "# Iterate through all of the images and create image-label datasets\n",
    "train_images2, train_labels2 = next(train_gen2)"
   ]
  },
  {
   "cell_type": "code",
   "execution_count": 10,
   "metadata": {},
   "outputs": [],
   "source": [
    "val_images2, val_labels2 = next(val_gen2)"
   ]
  },
  {
   "cell_type": "code",
   "execution_count": 9,
   "metadata": {},
   "outputs": [],
   "source": [
    "test_images2, test_labels2 = next(test_gen2)"
   ]
  },
  {
   "cell_type": "markdown",
   "metadata": {},
   "source": [
    "### Check the Shape of the Images and Labels"
   ]
  },
  {
   "cell_type": "code",
   "execution_count": 11,
   "metadata": {},
   "outputs": [
    {
     "name": "stdout",
     "output_type": "stream",
     "text": [
      "Shape of Train Images:  (15198, 128, 128, 3)\n",
      "Shape of Train Labels:  (15198, 2)\n",
      "Shape of Validation Images:  (16, 128, 128, 3)\n",
      "Shape of Validation Labels:  (16, 2)\n",
      "Shape of Test Images:  (624, 128, 128, 3)\n",
      "Shape of Test Labels:  (624, 2)\n"
     ]
    }
   ],
   "source": [
    "print('Shape of Train Images: ', np.shape(train_images2))\n",
    "print('Shape of Train Labels: ', np.shape(train_labels2))\n",
    "print('Shape of Validation Images: ', np.shape(val_images2))\n",
    "print('Shape of Validation Labels: ', np.shape(val_labels2))\n",
    "print('Shape of Test Images: ', np.shape(test_images2))\n",
    "print('Shape of Test Labels: ', np.shape(test_labels2))"
   ]
  },
  {
   "cell_type": "markdown",
   "metadata": {},
   "source": [
    "### Transform the labels to (m X 1) matrices\n",
    "\n"
   ]
  },
  {
   "cell_type": "code",
   "execution_count": 12,
   "metadata": {},
   "outputs": [
    {
     "data": {
      "text/plain": [
       "(15198, 1)"
      ]
     },
     "execution_count": 12,
     "metadata": {},
     "output_type": "execute_result"
    }
   ],
   "source": [
    "train_labels_final2 = np.reshape(train_labels2[:,0], (15198,1))\n",
    "np.shape(train_labels_final2)"
   ]
  },
  {
   "cell_type": "code",
   "execution_count": 13,
   "metadata": {},
   "outputs": [
    {
     "data": {
      "text/plain": [
       "(16, 1)"
      ]
     },
     "execution_count": 13,
     "metadata": {},
     "output_type": "execute_result"
    }
   ],
   "source": [
    "val_labels_final2 = np.reshape(val_labels2[:,0], (16,1))\n",
    "np.shape(val_labels_final2)"
   ]
  },
  {
   "cell_type": "code",
   "execution_count": 14,
   "metadata": {},
   "outputs": [
    {
     "data": {
      "text/plain": [
       "(624, 1)"
      ]
     },
     "execution_count": 14,
     "metadata": {},
     "output_type": "execute_result"
    }
   ],
   "source": [
    "test_labels_final2 = np.reshape(test_labels2[:,0], (624,1))\n",
    "np.shape(test_labels_final2)"
   ]
  },
  {
   "cell_type": "markdown",
   "metadata": {},
   "source": [
    "### Verify the Image and Label Pairs\n"
   ]
  },
  {
   "cell_type": "code",
   "execution_count": 47,
   "metadata": {},
   "outputs": [
    {
     "data": {
      "image/png": "[encoded data removed]",
      "text/plain": [
       "<PIL.Image.Image image mode=RGB size=128x128 at 0x7FD1F34AF588>"
      ]
     },
     "execution_count": 47,
     "metadata": {},
     "output_type": "execute_result"
    }
   ],
   "source": [
    "# Select a random image to verify\n",
    "array_to_img(train_images2[15000])"
   ]
  },
  {
   "cell_type": "code",
   "execution_count": 48,
   "metadata": {},
   "outputs": [
    {
     "data": {
      "text/plain": [
       "array([1.], dtype=float32)"
      ]
     },
     "execution_count": 48,
     "metadata": {},
     "output_type": "execute_result"
    }
   ],
   "source": [
    "# Return the respective label and verify that the label matches the image\n",
    "train_labels_final2[15000, :]"
   ]
  },
  {
   "cell_type": "markdown",
   "metadata": {},
   "source": [
    "## Model128 : 128x128 Images "
   ]
  },
  {
   "cell_type": "code",
   "execution_count": 16,
   "metadata": {},
   "outputs": [],
   "source": [
    "model128 = Sequential()\n",
    "\n",
    "model128.add(layers.Conv2D(32, (3, 3), activation='relu', kernel_constraint=unit_norm(), input_shape=(128, 128, 3)))\n",
    "model128.add(layers.MaxPooling2D((2, 2)))\n",
    "\n",
    "model128.add(layers.Conv2D(64, (4, 4), activation='relu'))\n",
    "model128.add(layers.MaxPooling2D((2, 2)))\n",
    "\n",
    "model128.add(layers.Conv2D(128, (3, 3), activation='relu'))\n",
    "model128.add(layers.MaxPooling2D((2,2)))\n",
    "\n",
    "model128.add(layers.Conv2D(128, (3, 3), activation='relu'))\n",
    "model128.add(layers.MaxPooling2D((2,2)))\n",
    "\n",
    "model128.add(layers.Conv2D(256, (3, 3), activation='relu'))\n",
    "model128.add(layers.MaxPooling2D((2,2)))\n",
    "\n",
    "\n",
    "# Flattening- Convert 2D matrix to a 1D vector\n",
    "model128.add(layers.Flatten())\n",
    "model128.add(layers.Dense(512, activation = 'relu'))\n",
    "model128.add(layers.Dense(1, activation='sigmoid'))"
   ]
  },
  {
   "cell_type": "code",
   "execution_count": 17,
   "metadata": {
    "scrolled": true
   },
   "outputs": [
    {
     "name": "stdout",
     "output_type": "stream",
     "text": [
      "_________________________________________________________________\n",
      "Layer (type)                 Output Shape              Param #   \n",
      "=================================================================\n",
      "conv2d_1 (Conv2D)            (None, 126, 126, 32)      896       \n",
      "_________________________________________________________________\n",
      "max_pooling2d_1 (MaxPooling2 (None, 63, 63, 32)        0         \n",
      "_________________________________________________________________\n",
      "conv2d_2 (Conv2D)            (None, 60, 60, 64)        32832     \n",
      "_________________________________________________________________\n",
      "max_pooling2d_2 (MaxPooling2 (None, 30, 30, 64)        0         \n",
      "_________________________________________________________________\n",
      "conv2d_3 (Conv2D)            (None, 28, 28, 128)       73856     \n",
      "_________________________________________________________________\n",
      "max_pooling2d_3 (MaxPooling2 (None, 14, 14, 128)       0         \n",
      "_________________________________________________________________\n",
      "conv2d_4 (Conv2D)            (None, 12, 12, 128)       147584    \n",
      "_________________________________________________________________\n",
      "max_pooling2d_4 (MaxPooling2 (None, 6, 6, 128)         0         \n",
      "_________________________________________________________________\n",
      "conv2d_5 (Conv2D)            (None, 4, 4, 256)         295168    \n",
      "_________________________________________________________________\n",
      "max_pooling2d_5 (MaxPooling2 (None, 2, 2, 256)         0         \n",
      "_________________________________________________________________\n",
      "flatten_1 (Flatten)          (None, 1024)              0         \n",
      "_________________________________________________________________\n",
      "dense_1 (Dense)              (None, 512)               524800    \n",
      "_________________________________________________________________\n",
      "dense_2 (Dense)              (None, 1)                 513       \n",
      "=================================================================\n",
      "Total params: 1,075,649\n",
      "Trainable params: 1,075,649\n",
      "Non-trainable params: 0\n",
      "_________________________________________________________________\n"
     ]
    }
   ],
   "source": [
    "model128.summary()"
   ]
  },
  {
   "cell_type": "code",
   "execution_count": 18,
   "metadata": {},
   "outputs": [],
   "source": [
    "model128.compile(optimizer='adam',loss='binary_crossentropy', metrics=['accuracy'])"
   ]
  },
  {
   "cell_type": "code",
   "execution_count": 19,
   "metadata": {
    "scrolled": false
   },
   "outputs": [
    {
     "name": "stdout",
     "output_type": "stream",
     "text": [
      "Train on 15198 samples, validate on 624 samples\n",
      "Epoch 1/22\n",
      "15198/15198 [==============================] - 1472s 97ms/step - loss: 1.5629 - acc: 0.5003 - val_loss: 0.7341 - val_acc: 0.3750\n",
      "Epoch 2/22\n",
      "15198/15198 [==============================] - 1438s 95ms/step - loss: 0.6808 - acc: 0.5042 - val_loss: 0.7053 - val_acc: 0.3750\n",
      "Epoch 3/22\n",
      "15198/15198 [==============================] - 1661s 109ms/step - loss: 0.5902 - acc: 0.8381 - val_loss: 0.7653 - val_acc: 0.3782\n",
      "Epoch 4/22\n",
      "15198/15198 [==============================] - 1455s 96ms/step - loss: 0.2988 - acc: 0.8877 - val_loss: 0.5834 - val_acc: 0.7196\n",
      "Epoch 5/22\n",
      "15198/15198 [==============================] - 1387s 91ms/step - loss: 0.1636 - acc: 0.9326 - val_loss: 0.4224 - val_acc: 0.7821\n",
      "Epoch 6/22\n",
      "15198/15198 [==============================] - 1418s 93ms/step - loss: 0.1279 - acc: 0.9504 - val_loss: 0.3470 - val_acc: 0.8413\n",
      "Epoch 7/22\n",
      "15198/15198 [==============================] - 1644s 108ms/step - loss: 0.0996 - acc: 0.9607 - val_loss: 0.4389 - val_acc: 0.8189\n",
      "Epoch 8/22\n",
      "15198/15198 [==============================] - 1460s 96ms/step - loss: 0.0625 - acc: 0.9757 - val_loss: 0.3185 - val_acc: 0.8718\n",
      "Epoch 9/22\n",
      "15198/15198 [==============================] - 1455s 96ms/step - loss: 0.0620 - acc: 0.9768 - val_loss: 0.3299 - val_acc: 0.8622\n",
      "Epoch 10/22\n",
      "15198/15198 [==============================] - 1404s 92ms/step - loss: 0.0491 - acc: 0.9816 - val_loss: 0.7256 - val_acc: 0.7468\n",
      "Epoch 11/22\n",
      "15198/15198 [==============================] - 1384s 91ms/step - loss: 0.0385 - acc: 0.9852 - val_loss: 0.5527 - val_acc: 0.7837\n",
      "Epoch 12/22\n",
      "15198/15198 [==============================] - 1368s 90ms/step - loss: 0.0346 - acc: 0.9874 - val_loss: 0.7855 - val_acc: 0.7356\n",
      "Epoch 13/22\n",
      "15198/15198 [==============================] - 1379s 91ms/step - loss: 0.0316 - acc: 0.9874 - val_loss: 0.6402 - val_acc: 0.7788\n",
      "Epoch 14/22\n",
      "15198/15198 [==============================] - 1389s 91ms/step - loss: 0.0284 - acc: 0.9887 - val_loss: 0.4689 - val_acc: 0.8365\n",
      "Epoch 15/22\n",
      "15198/15198 [==============================] - 1392s 92ms/step - loss: 0.0263 - acc: 0.9906 - val_loss: 0.4991 - val_acc: 0.8365\n",
      "Epoch 16/22\n",
      "15198/15198 [==============================] - 1361s 90ms/step - loss: 0.0243 - acc: 0.9901 - val_loss: 0.5538 - val_acc: 0.8221\n",
      "Epoch 17/22\n",
      "15198/15198 [==============================] - 1385s 91ms/step - loss: 0.0211 - acc: 0.9914 - val_loss: 1.0446 - val_acc: 0.7372\n",
      "Epoch 18/22\n",
      "15198/15198 [==============================] - 1454s 96ms/step - loss: 0.0227 - acc: 0.9918 - val_loss: 1.3215 - val_acc: 0.7051\n",
      "Epoch 19/22\n",
      "15198/15198 [==============================] - 1411s 93ms/step - loss: 0.0275 - acc: 0.9895 - val_loss: 0.4438 - val_acc: 0.8574\n",
      "Epoch 20/22\n",
      "15198/15198 [==============================] - 1431s 94ms/step - loss: 0.0223 - acc: 0.9912 - val_loss: 1.1920 - val_acc: 0.7420\n",
      "Epoch 21/22\n",
      "15198/15198 [==============================] - 1472s 97ms/step - loss: 0.0177 - acc: 0.9937 - val_loss: 1.0374 - val_acc: 0.7404\n",
      "Epoch 22/22\n",
      "15198/15198 [==============================] - 1477s 97ms/step - loss: 0.0164 - acc: 0.9939 - val_loss: 0.8119 - val_acc: 0.7853\n"
     ]
    }
   ],
   "source": [
    "test_results3 = model128.fit(train_images2, train_labels_final2, epochs=22, batch_size=1500, validation_data=(test_images2, test_labels_final2))"
   ]
  },
  {
   "cell_type": "markdown",
   "metadata": {},
   "source": [
    "### Save the Model"
   ]
  },
  {
   "cell_type": "code",
   "execution_count": 20,
   "metadata": {},
   "outputs": [
    {
     "name": "stdout",
     "output_type": "stream",
     "text": [
      "saving model to disk \n",
      "\n"
     ]
    }
   ],
   "source": [
    "print('saving model to disk \\n')\n",
    "mod = './/Models/model3_testdata'\n",
    "model128.save(mod)"
   ]
  },
  {
   "cell_type": "markdown",
   "metadata": {},
   "source": [
    "### Evaluate: Model128"
   ]
  },
  {
   "cell_type": "code",
   "execution_count": 21,
   "metadata": {},
   "outputs": [
    {
     "name": "stdout",
     "output_type": "stream",
     "text": [
      "15198/15198 [==============================] - 226s 15ms/step\n"
     ]
    },
    {
     "data": {
      "text/plain": [
       "[0.01325287516084542, 0.9949993420186867]"
      ]
     },
     "execution_count": 21,
     "metadata": {},
     "output_type": "execute_result"
    }
   ],
   "source": [
    "model128.evaluate(train_images2, train_labels_final2)"
   ]
  },
  {
   "cell_type": "code",
   "execution_count": 22,
   "metadata": {},
   "outputs": [
    {
     "name": "stdout",
     "output_type": "stream",
     "text": [
      "624/624 [==============================] - 9s 14ms/step\n"
     ]
    },
    {
     "data": {
      "text/plain": [
       "[0.8119240196851584, 0.7852564102564102]"
      ]
     },
     "execution_count": 22,
     "metadata": {},
     "output_type": "execute_result"
    }
   ],
   "source": [
    "model128.evaluate(test_images2, test_labels_final2)"
   ]
  },
  {
   "cell_type": "code",
   "execution_count": 23,
   "metadata": {},
   "outputs": [
    {
     "data": {
      "image/png": "[encoded data removed]",
      "text/plain": [
       "<Figure size 432x288 with 1 Axes>"
      ]
     },
     "metadata": {
      "needs_background": "light"
     },
     "output_type": "display_data"
    },
    {
     "data": {
      "image/png": "[encoded data removed]",
      "text/plain": [
       "<Figure size 432x288 with 1 Axes>"
      ]
     },
     "metadata": {
      "needs_background": "light"
     },
     "output_type": "display_data"
    }
   ],
   "source": [
    "visualize_training_results(test_results3)"
   ]
  },
  {
   "cell_type": "markdown",
   "metadata": {},
   "source": [
    "**Observations:**"
   ]
  },
  {
   "cell_type": "markdown",
   "metadata": {},
   "source": [
    "### Predictions"
   ]
  },
  {
   "cell_type": "code",
   "execution_count": 24,
   "metadata": {},
   "outputs": [],
   "source": [
    "pred128 = model128.predict(test_images2)"
   ]
  },
  {
   "cell_type": "code",
   "execution_count": null,
   "metadata": {},
   "outputs": [],
   "source": []
  },
  {
   "cell_type": "code",
   "execution_count": null,
   "metadata": {},
   "outputs": [],
   "source": []
  },
  {
   "cell_type": "code",
   "execution_count": null,
   "metadata": {},
   "outputs": [],
   "source": []
  },
  {
   "cell_type": "code",
   "execution_count": null,
   "metadata": {},
   "outputs": [],
   "source": []
  },
  {
   "cell_type": "code",
   "execution_count": null,
   "metadata": {},
   "outputs": [],
   "source": []
  },
  {
   "cell_type": "markdown",
   "metadata": {},
   "source": [
    "## Try dropout + unit norm + 128"
   ]
  },
  {
   "cell_type": "code",
   "execution_count": 15,
   "metadata": {},
   "outputs": [],
   "source": [
    "model128_drop = Sequential()\n",
    "\n",
    "model128_drop.add(layers.Conv2D(32, (3, 3), activation='relu', kernel_constraint=unit_norm(), input_shape=(128, 128, 3)))\n",
    "model128_drop.add(layers.MaxPooling2D((2, 2)))\n",
    "\n",
    "model128_drop.add(layers.Conv2D(64, (4, 4), activation='relu'))\n",
    "model128_drop.add(layers.MaxPooling2D((2, 2)))\n",
    "\n",
    "model128_drop.add(layers.Conv2D(128, (3, 3), activation='relu'))\n",
    "model128_drop.add(layers.MaxPooling2D((2,2)))\n",
    "model128_drop.add(Dropout(0.3))\n",
    "\n",
    "model128_drop.add(layers.Conv2D(128, (3, 3), activation='relu'))\n",
    "model128_drop.add(layers.MaxPooling2D((2,2)))\n",
    "\n",
    "model128_drop.add(layers.Conv2D(256, (3, 3), activation='relu'))\n",
    "model128_drop.add(layers.MaxPooling2D((2,2)))\n",
    "model128_drop.add(Dropout(0.3))\n",
    "\n",
    "# Flattening- Convert 2D matrix to a 1D vector\n",
    "model128_drop.add(layers.Flatten())\n",
    "model128_drop.add(layers.Dense(512, activation = 'relu'))\n",
    "model128_drop.add(layers.Dense(1, activation='sigmoid'))"
   ]
  },
  {
   "cell_type": "code",
   "execution_count": 16,
   "metadata": {},
   "outputs": [
    {
     "name": "stdout",
     "output_type": "stream",
     "text": [
      "_________________________________________________________________\n",
      "Layer (type)                 Output Shape              Param #   \n",
      "=================================================================\n",
      "conv2d_1 (Conv2D)            (None, 126, 126, 32)      896       \n",
      "_________________________________________________________________\n",
      "max_pooling2d_1 (MaxPooling2 (None, 63, 63, 32)        0         \n",
      "_________________________________________________________________\n",
      "conv2d_2 (Conv2D)            (None, 60, 60, 64)        32832     \n",
      "_________________________________________________________________\n",
      "max_pooling2d_2 (MaxPooling2 (None, 30, 30, 64)        0         \n",
      "_________________________________________________________________\n",
      "conv2d_3 (Conv2D)            (None, 28, 28, 128)       73856     \n",
      "_________________________________________________________________\n",
      "max_pooling2d_3 (MaxPooling2 (None, 14, 14, 128)       0         \n",
      "_________________________________________________________________\n",
      "dropout_1 (Dropout)          (None, 14, 14, 128)       0         \n",
      "_________________________________________________________________\n",
      "conv2d_4 (Conv2D)            (None, 12, 12, 128)       147584    \n",
      "_________________________________________________________________\n",
      "max_pooling2d_4 (MaxPooling2 (None, 6, 6, 128)         0         \n",
      "_________________________________________________________________\n",
      "conv2d_5 (Conv2D)            (None, 4, 4, 256)         295168    \n",
      "_________________________________________________________________\n",
      "max_pooling2d_5 (MaxPooling2 (None, 2, 2, 256)         0         \n",
      "_________________________________________________________________\n",
      "dropout_2 (Dropout)          (None, 2, 2, 256)         0         \n",
      "_________________________________________________________________\n",
      "flatten_1 (Flatten)          (None, 1024)              0         \n",
      "_________________________________________________________________\n",
      "dense_1 (Dense)              (None, 512)               524800    \n",
      "_________________________________________________________________\n",
      "dense_2 (Dense)              (None, 1)                 513       \n",
      "=================================================================\n",
      "Total params: 1,075,649\n",
      "Trainable params: 1,075,649\n",
      "Non-trainable params: 0\n",
      "_________________________________________________________________\n"
     ]
    }
   ],
   "source": [
    "model128_drop.summary()"
   ]
  },
  {
   "cell_type": "code",
   "execution_count": 17,
   "metadata": {},
   "outputs": [],
   "source": [
    "model128_drop.compile(optimizer='adam',loss='binary_crossentropy', metrics=['accuracy'])"
   ]
  },
  {
   "cell_type": "code",
   "execution_count": null,
   "metadata": {},
   "outputs": [
    {
     "name": "stdout",
     "output_type": "stream",
     "text": [
      "Train on 15198 samples, validate on 624 samples\n",
      "Epoch 1/22\n",
      "15198/15198 [==============================] - 1798s 118ms/step - loss: 1.3012 - acc: 0.5026 - val_loss: 0.6778 - val_acc: 0.6250\n",
      "Epoch 2/22\n",
      " 9000/15198 [================>.............] - ETA: 15:58 - loss: 0.6605 - acc: 0.6293"
     ]
    }
   ],
   "source": [
    "test_results4 = model128_drop.fit(train_images2, train_labels_final2, epochs=22, batch_size=1500, validation_data=(test_images2, test_labels_final2))"
   ]
  },
  {
   "cell_type": "code",
   "execution_count": null,
   "metadata": {},
   "outputs": [],
   "source": []
  },
  {
   "cell_type": "code",
   "execution_count": null,
   "metadata": {},
   "outputs": [],
   "source": []
  }
 ],
 "metadata": {
  "kernelspec": {
   "display_name": "learn-env",
   "language": "python",
   "name": "learn-env"
  },
  "language_info": {
   "codemirror_mode": {
    "name": "ipython",
    "version": 3
   },
   "file_extension": ".py",
   "mimetype": "text/x-python",
   "name": "python",
   "nbconvert_exporter": "python",
   "pygments_lexer": "ipython3",
   "version": "3.6.9"
  }
 },
 "nbformat": 4,
 "nbformat_minor": 2
}
